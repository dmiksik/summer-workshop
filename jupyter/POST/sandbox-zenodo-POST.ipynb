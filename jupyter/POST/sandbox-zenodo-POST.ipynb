{
 "cells": [
  {
   "cell_type": "markdown",
   "id": "588e8ce4-dce3-4e67-bb9d-2e9811db833e",
   "metadata": {},
   "source": [
    "# Workshop: Vložení datasetu do sandboxu Zenodo přes REST API\n",
    "**Tento notebook demonstruje celý proces vytvoření záznamu a vložení dat do sandbox.zenodo.org**"
   ]
  },
  {
   "cell_type": "code",
   "execution_count": null,
   "id": "4fdbfb20-0e71-4386-a6f5-f07e9d97cad1",
   "metadata": {},
   "outputs": [],
   "source": [
    "import requests\n",
    "import json\n",
    "import yaml\n",
    "import time\n",
    "from pathlib import Path\n",
    "\n",
    "# Nastavení API\n",
    "ZENODO_API_URL = \"https://sandbox.zenodo.org/api\"\n",
    "ACCESS_TOKEN = \"your_access_token_here\"  # Nahraďte svým tokenem\n",
    "\n",
    "headers = {\n",
    "    'Content-Type': 'application/json',\n",
    "    'Authorization': f'Bearer {ACCESS_TOKEN}'\n",
    "}\n",
    "\n",
    "print(f\"🔧 Zenodo API: nastaveno!\")"
   ]
  },
  {
   "cell_type": "markdown",
   "id": "291348a9-75a8-43ad-9682-1eefc4475055",
   "metadata": {},
   "source": [
    "## Krok 1: Načtení metadat ze YAML souboru"
   ]
  },
  {
   "cell_type": "code",
   "execution_count": null,
   "id": "df68cb2d-e2d8-4037-9f81-b720e4d369fe",
   "metadata": {
    "scrolled": true
   },
   "outputs": [],
   "source": [
    "with open(\"sandbox-zenodo-metadata.yaml\", 'r', encoding='utf-8') as f:\n",
    "    metadata = yaml.safe_load(f)\n",
    "\n",
    "# Opravíme datum (YAML ho parsuje jako date objekt)\n",
    "if hasattr(metadata['publication_date'], 'strftime'):\n",
    "    metadata['publication_date'] = metadata['publication_date'].strftime('%Y-%m-%d')\n",
    "\n",
    "print(\"📄 Načtená metadata:\")\n",
    "metadata"
   ]
  },
  {
   "cell_type": "markdown",
   "id": "febb6ca7-1760-4c4c-8037-161895d3a263",
   "metadata": {},
   "source": [
    "## Krok 2: Vytvoření nového záznamu (deposition)"
   ]
  },
  {
   "cell_type": "code",
   "execution_count": null,
   "id": "82cae382-744b-4351-a57a-0e5424921544",
   "metadata": {},
   "outputs": [],
   "source": [
    "response = requests.post(f\"{ZENODO_API_URL}/deposit/depositions\", \n",
    "                        headers=headers, json={})\n",
    "\n",
    "deposition = response.json()\n",
    "deposition_id = deposition['id']\n",
    "bucket_url = deposition['links']['bucket']\n",
    "\n",
    "print(f\"✅ Záznam vytvořen: ID {deposition_id}\")\n",
    "print(f\"Celá odpověď serveru:\")\n",
    "deposition"
   ]
  },
  {
   "cell_type": "markdown",
   "id": "d26a39ec-2011-4f18-b5fe-9730dbfa5470",
   "metadata": {},
   "source": [
    "## Krok 3: Transformace YAML -> JSON"
   ]
  },
  {
   "cell_type": "code",
   "execution_count": null,
   "id": "14a8e5db-ade4-4cd2-acdb-1025ea6dd7fa",
   "metadata": {},
   "outputs": [],
   "source": [
    "def convert_to_zenodo(yaml_data):\n",
    "    \"\"\"Jednoduchá konverze do Zenodo formátu\"\"\"\n",
    "    \n",
    "    # Konverze data\n",
    "    pub_date = yaml_data['publication_date']\n",
    "    if hasattr(pub_date, 'strftime'):\n",
    "        pub_date = pub_date.strftime('%Y-%m-%d')\n",
    "    \n",
    "    # Základní metadata (víme že fungují)\n",
    "    zenodo_metadata = {\n",
    "        'title': yaml_data['title'],\n",
    "        'upload_type': yaml_data['upload_type'],\n",
    "        'description': yaml_data['description'],\n",
    "        'publication_date': pub_date,\n",
    "        'language': yaml_data['language'],\n",
    "        'creators': yaml_data['creators'],\n",
    "        'keywords': yaml_data['keywords'],\n",
    "        'license': yaml_data['license']\n",
    "    }\n",
    "    \n",
    "    # Přidáme pouze pole která víme že fungují\n",
    "    if 'subjects' in yaml_data:\n",
    "        zenodo_metadata['subjects'] = yaml_data['subjects']\n",
    "    \n",
    "    if 'grants' in yaml_data:\n",
    "        zenodo_metadata['grants'] = yaml_data['grants']\n",
    "    \n",
    "    if 'related_identifiers' in yaml_data:\n",
    "        zenodo_metadata['related_identifiers'] = yaml_data['related_identifiers']\n",
    "    \n",
    "    if 'contributors' in yaml_data:\n",
    "        zenodo_metadata['contributors'] = yaml_data['contributors']\n",
    "    \n",
    "    if 'communities' in yaml_data:\n",
    "        zenodo_metadata['communities'] = yaml_data['communities']\n",
    "    \n",
    "    return zenodo_metadata\n",
    "\n",
    "# Konvertujeme metadata\n",
    "zenodo_metadata = convert_to_zenodo(metadata)\n",
    "\n",
    "data = {'metadata': zenodo_metadata}\n",
    "\n",
    "print(\"📤 Odesíláme JSON pro aktualizaci metadat:\")\n",
    "print(json.dumps(data, indent=2, ensure_ascii=False))"
   ]
  },
  {
   "cell_type": "markdown",
   "id": "c3f54c7e-4064-44b2-9ca3-48e7c82a1017",
   "metadata": {},
   "source": [
    "## Krok 4: Aktualizace metadat záznamu"
   ]
  },
  {
   "cell_type": "code",
   "execution_count": null,
   "id": "a767fd58-2e39-4d6d-b244-856b174b3783",
   "metadata": {},
   "outputs": [],
   "source": [
    "data = {'metadata': zenodo_metadata}\n",
    "\n",
    "response = requests.put(f\"{ZENODO_API_URL}/deposit/depositions/{deposition_id}\",\n",
    "                       headers=headers, json=data)\n",
    "\n",
    "if response.status_code == 200:\n",
    "    print(f\"✅ Metadata aktualizována\")\n",
    "else:\n",
    "    print(f\"❌ Chyba při aktualizaci: {response.status_code}\")\n",
    "    print(f\"Odpověď: {response.text}\")"
   ]
  },
  {
   "cell_type": "markdown",
   "id": "ecd3d61e-9a93-4fdd-89b1-712df8ea4402",
   "metadata": {},
   "source": [
    "## Krok 5: Vytvoření ukázkových dat pro upload"
   ]
  },
  {
   "cell_type": "code",
   "execution_count": null,
   "id": "69e637a4-af15-41d2-a0d3-28004ab66c72",
   "metadata": {},
   "outputs": [],
   "source": [
    "data_dir = Path(\"data\")\n",
    "data_dir.mkdir(exist_ok=True)\n",
    "\n",
    "# CSV soubor\n",
    "csv_content = \"\"\"id,name,value,category\n",
    "1,Sample A,10.5,machine_learning\n",
    "2,Sample B,15.2,image_classification\n",
    "3,Sample C,8.7,shiba_inu\"\"\"\n",
    "\n",
    "with open(data_dir / \"dataset.csv\", 'w') as f:\n",
    "    f.write(csv_content)\n",
    "\n",
    "# README\n",
    "readme_content = \"\"\"# Dataset pro workshop\n",
    "\n",
    "Ukázkový dataset pro demonstraci Zenodo API.\n",
    "\n",
    "## Soubory\n",
    "- dataset.csv: Hlavní data\n",
    "- README.md: Tento popis\n",
    "\"\"\"\n",
    "\n",
    "with open(data_dir / \"README.md\", 'w') as f:\n",
    "    f.write(readme_content)\n",
    "\n",
    "files_to_upload = [data_dir / \"dataset.csv\", data_dir / \"README.md\"]\n",
    "print(f\"📁 Vytvořeno {len(files_to_upload)} souborů\")"
   ]
  },
  {
   "cell_type": "markdown",
   "id": "dc6b4963-d0ce-4be2-b609-5fe6e10d73a3",
   "metadata": {},
   "source": [
    "## Krok 6: Upload souborů"
   ]
  },
  {
   "cell_type": "code",
   "execution_count": null,
   "id": "bf82217c-cb9c-4f65-818b-8df5f43e3aa4",
   "metadata": {},
   "outputs": [],
   "source": [
    "upload_headers = {'Authorization': f'Bearer {ACCESS_TOKEN}'}\n",
    "uploaded_files = []\n",
    "\n",
    "for file_path in files_to_upload:\n",
    "    filename = file_path.name\n",
    "    \n",
    "    print(f\"📤 Nahrávám: {filename}\")\n",
    "    \n",
    "    with open(file_path, 'rb') as f:\n",
    "        response = requests.put(f\"{bucket_url}/{filename}\", \n",
    "                               headers=upload_headers, data=f)\n",
    "    \n",
    "    if response.status_code in [200, 201]:\n",
    "        file_info = response.json()\n",
    "        uploaded_files.append(file_info)\n",
    "        print(f\"✅ {filename}: {file_info['size']} bytů\")\n",
    "    \n",
    "    time.sleep(0.5)\n",
    "\n",
    "print(f\"\\n📊 Nahráno celkem: {len(uploaded_files)} souborů\")"
   ]
  },
  {
   "cell_type": "markdown",
   "id": "491c78ed-ceb7-4dce-8974-5cb0c44211c5",
   "metadata": {},
   "source": [
    "## Krok 8: Publikování záznamu"
   ]
  },
  {
   "cell_type": "code",
   "execution_count": null,
   "id": "cfe0a18c-db6b-4c14-bd22-348736caf9b0",
   "metadata": {},
   "outputs": [],
   "source": [
    "response = requests.post(f\"{ZENODO_API_URL}/deposit/depositions/{deposition_id}/actions/publish\",\n",
    "                        headers=headers)\n",
    "\n",
    "if response.status_code == 202:\n",
    "    published_record = response.json()\n",
    "    print(\"🎉 ZÁZNAM PUBLIKOVÁN!\")\n",
    "    print(f\"DOI: {published_record['doi']}\")\n",
    "    print(f\"URL: {published_record['links']['record_html']}\")\n",
    "else:\n",
    "    print(f\"❌ Chyba při publikování: {response.status_code}\")"
   ]
  },
  {
   "cell_type": "markdown",
   "id": "b07ff096-e800-4a0c-9367-6b5ff4e43ba2",
   "metadata": {},
   "source": [
    "## Shrnutí"
   ]
  },
  {
   "cell_type": "code",
   "execution_count": null,
   "id": "5549c889-a343-4921-9df0-f3b4bb456c90",
   "metadata": {},
   "outputs": [],
   "source": [
    "print(\"📋 HOTOVO!\")\n",
    "print(\"=\" * 30)\n",
    "print(f\"✅ Záznam: {deposition_id}\")\n",
    "print(f\"✅ Soubory: {len(uploaded_files)}\")\n",
    "print(f\"✅ DOI: {published_record.get('doi', 'N/A')}\")\n",
    "print(f\"✅ Communities: Žádost odeslána\")\n",
    "print()\n",
    "print(\"🔗 Zkontrolujte záznam na:\")\n",
    "print(f\"https://sandbox.zenodo.org/records/{published_record.get('id', deposition_id)}\")"
   ]
  }
 ],
 "metadata": {
  "kernelspec": {
   "display_name": "Python 3 (ipykernel)",
   "language": "python",
   "name": "python3"
  },
  "language_info": {
   "codemirror_mode": {
    "name": "ipython",
    "version": 3
   },
   "file_extension": ".py",
   "mimetype": "text/x-python",
   "name": "python",
   "nbconvert_exporter": "python",
   "pygments_lexer": "ipython3",
   "version": "3.10.12"
  }
 },
 "nbformat": 4,
 "nbformat_minor": 5
}
