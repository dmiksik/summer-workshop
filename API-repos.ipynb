{
 "cells": [
  {
   "cell_type": "markdown",
   "id": "63423309-9f9b-4769-9ef6-ac0783223f47",
   "metadata": {
    "panel-layout": {
     "height": 51.140625,
     "visible": true,
     "width": 100
    }
   },
   "source": [
    "Tady nastavujeme základní URL a osobní token"
   ]
  },
  {
   "cell_type": "code",
   "execution_count": 1,
   "id": "4a847008-4e3e-41a7-a82c-be9ffdb6d04b",
   "metadata": {},
   "outputs": [],
   "source": [
    "# 1) Import a základní nastavení\n",
    "import requests\n",
    "API_BASE = \"https://inveniordm.web.cern.ch/api/records\"\n",
    "TOKEN    = \"8JQgV4xJIjJ71ojfY01OlRfV9VSGWYXjPkEFmHxE5qLoN03OSpkcqyJVTXG5\"\n",
    "\n",
    "headers = {\n",
    "    \"Content-Type\": \"application/json\",\n",
    "    \"Authorization\": f\"Bearer {TOKEN}\"\n",
    "}"
   ]
  },
  {
   "cell_type": "markdown",
   "id": "e01575a0-6876-49da-9e57-535b0ad6aadb",
   "metadata": {
    "panel-layout": {
     "height": 51.140625,
     "visible": true,
     "width": 100
    }
   },
   "source": [
    "Tady si řekneme o seznam záznamů z repzoitáře"
   ]
  },
  {
   "cell_type": "code",
   "execution_count": 2,
   "id": "9709de59-bb7b-42fa-814c-f2bab5a0b71b",
   "metadata": {
    "collapsed": true,
    "jupyter": {
     "outputs_hidden": true
    },
    "panel-layout": {
     "height": 0,
     "visible": true,
     "width": 100
    },
    "scrolled": true
   },
   "outputs": [
    {
     "name": "stdout",
     "output_type": "stream",
     "text": [
      "GET /records → 200\n",
      "{'hits': {'hits': [{'id': '18nv3-1pk11', 'created': '2025-07-12T19:04:38.571647+00:00', 'updated': '2025-07-12T19:04:38.677187+00:00', 'links': {'self': 'https://inveniordm.web.cern.ch/api/records/18nv3-1pk11', 'self_html': 'https://inveniordm.web.cern.ch/records/18nv3-1pk11', 'self_doi': 'https://inveniordm.web.cern.ch/doi/10.81088/18nv3-1pk11', 'doi': 'https://handle.stage.datacite.org/10.81088/18nv3-1pk11', 'parent': 'https://inveniordm.web.cern.ch/api/records/8af8w-3bs86', 'parent_html': 'https://inveniordm.web.cern.ch/records/8af8w-3bs86', 'parent_doi': 'https://inveniordm.web.cern.ch/doi/10.81088/8af8w-3bs86', 'self_iiif_manifest': 'https://inveniordm.web.cern.ch/api/iiif/record:18nv3-1pk11/manifest', 'self_iiif_sequence': 'https://inveniordm.web.cern.ch/api/iiif/record:18nv3-1pk11/sequence/default', 'files': 'https://inveniordm.web.cern.ch/api/records/18nv3-1pk11/files', 'media_files': 'https://inveniordm.web.cern.ch/api/records/18nv3-1pk11/media-files', 'archive': 'https://inveniordm.web.cern.ch/api/records/18nv3-1pk11/files-archive', 'archive_media': 'https://inveniordm.web.cern.ch/api/records/18nv3-1pk11/media-files-archive', 'latest': 'https://inveniordm.web.cern.ch/api/records/18nv3-1pk11/versions/latest', 'latest_html': 'https://inveniordm.web.cern.ch/records/18nv3-1pk11/latest', 'draft': 'https://inveniordm.web.cern.ch/api/records/18nv3-1pk11/draft', 'versions': 'https://inveniordm.web.cern.ch/api/records/18nv3-1pk11/versions', 'access_links': 'https://inveniordm.web.cern.ch/api/records/18nv3-1pk11/access/links', 'access_grants': 'https://inveniordm.web.cern.ch/api/records/18nv3-1pk11/access/grants', 'access_users': 'https://inveniordm.web.cern.ch/api/records/18nv3-1pk11/access/users', 'access_groups': 'https://inveniordm.web.cern.ch/api/records/18nv3-1pk11/access/groups', 'access_request': 'https://inveniordm.web.cern.ch/api/records/18nv3-1pk11/access/request', 'access': 'https://inveniordm.web.cern.ch/api/records/18nv3-1pk11/access', 'reserve_doi': 'https://inveniordm.web.cern.ch/api/records/18nv3-1pk11/draft/pids/doi', 'communities': 'https://inveniordm.web.cern.ch/api/records/18nv3-1pk11/communities', 'communities-suggestions': 'https://inveniordm.web.cern.ch/api/records/18nv3-1pk11/communities-suggestions', 'requests': 'https://inveniordm.web.cern.ch/api/records/18nv3-1pk11/requests'}, 'revision_id': 4, 'parent': {'id': '8af8w-3bs86', 'access': {'owned_by': {'user': '119'}, 'settings': {'allow_user_requests': False, 'allow_guest_requests': False, 'accept_conditions_text': None, 'secret_link_expiration': 0}}, 'communities': {}, 'pids': {'doi': {'identifier': '10.81088/8af8w-3bs86', 'provider': 'datacite', 'client': 'datacite'}}}, 'versions': {'is_latest': True, 'index': 1}, 'is_published': True, 'is_draft': False, 'pids': {'doi': {'identifier': '10.81088/18nv3-1pk11', 'provider': 'datacite', 'client': 'datacite'}, 'oai': {'identifier': 'oai:inveniordm.web.cern.ch:18nv3-1pk11', 'provider': 'oai'}}, 'metadata': {'resource_type': {'id': 'lesson', 'title': {'de': 'Unterrichtseinheit', 'en': 'Lesson', 'sv': 'Lektion'}}, 'creators': [{'person_or_org': {'type': 'personal', 'name': 'quo', 'family_name': 'quo'}}], 'title': 'Suscipio patruus spiculum quo spero paulatim desidero demoror charisma maxime.', 'publisher': 'CERN', 'publication_date': '2025-07-12', 'rights': [{'id': 'cc-by-4.0', 'title': {'en': 'Creative Commons Attribution 4.0 International'}, 'description': {'en': 'The Creative Commons Attribution license allows re-distribution and re-use of a licensed work on the condition that the creator is appropriately credited.'}, 'icon': 'cc-by-icon', 'props': {'url': 'https://creativecommons.org/licenses/by/4.0/', 'scheme': 'spdx'}}]}, 'custom_fields': {}, 'access': {'record': 'public', 'files': 'public', 'embargo': {'active': False, 'reason': None}, 'status': 'open'}, 'files': {'enabled': True, 'order': [], 'count': 1, 'total_bytes': 23940, 'entries': {'Anon4.jpg': {'id': 'b8a9bc31-ba3f-4336-88ee-b75c3c11a806', 'checksum': 'md5:cbc1e72173faf56f8bea2276db0c636a', 'ext': 'jpg', 'size': 23940, 'mimetype': 'image/jpeg', 'key': 'Anon4.jpg', 'metadata': {}, 'access': {'hidden': False}}}}, 'media_files': {'enabled': False, 'order': [], 'count': 0, 'total_bytes': 0, 'entries': {}}, 'status': 'published', 'deletion_status': {'is_deleted': False, 'status': 'P'}, 'stats': {'this_version': {'views': 0, 'unique_views': 0, 'downloads': 0, 'unique_downloads': 0, 'data_volume': 0.0}, 'all_versions': {'views': 0, 'unique_views': 0, 'downloads': 0, 'unique_downloads': 0, 'data_volume': 0.0}}}, {'id': 'dh9h9-3bb25', 'created': '2025-07-12T18:59:18.869432+00:00', 'updated': '2025-07-12T18:59:18.971794+00:00', 'links': {'self': 'https://inveniordm.web.cern.ch/api/records/dh9h9-3bb25', 'self_html': 'https://inveniordm.web.cern.ch/records/dh9h9-3bb25', 'self_doi': 'https://inveniordm.web.cern.ch/doi/10.81088/dh9h9-3bb25', 'doi': 'https://handle.stage.datacite.org/10.81088/dh9h9-3bb25', 'parent': 'https://inveniordm.web.cern.ch/api/records/b5ps0-c4t55', 'parent_html': 'https://inveniordm.web.cern.ch/records/b5ps0-c4t55', 'parent_doi': 'https://inveniordm.web.cern.ch/doi/10.81088/b5ps0-c4t55', 'self_iiif_manifest': 'https://inveniordm.web.cern.ch/api/iiif/record:dh9h9-3bb25/manifest', 'self_iiif_sequence': 'https://inveniordm.web.cern.ch/api/iiif/record:dh9h9-3bb25/sequence/default', 'files': 'https://inveniordm.web.cern.ch/api/records/dh9h9-3bb25/files', 'media_files': 'https://inveniordm.web.cern.ch/api/records/dh9h9-3bb25/media-files', 'archive': 'https://inveniordm.web.cern.ch/api/records/dh9h9-3bb25/files-archive', 'archive_media': 'https://inveniordm.web.cern.ch/api/records/dh9h9-3bb25/media-files-archive', 'latest': 'https://inveniordm.web.cern.ch/api/records/dh9h9-3bb25/versions/latest', 'latest_html': 'https://inveniordm.web.cern.ch/records/dh9h9-3bb25/latest', 'draft': 'https://inveniordm.web.cern.ch/api/records/dh9h9-3bb25/draft', 'versions': 'https://inveniordm.web.cern.ch/api/records/dh9h9-3bb25/versions', 'access_links': 'https://inveniordm.web.cern.ch/api/records/dh9h9-3bb25/access/links', 'access_grants': 'https://inveniordm.web.cern.ch/api/records/dh9h9-3bb25/access/grants', 'access_users': 'https://inveniordm.web.cern.ch/api/records/dh9h9-3bb25/access/users', 'access_groups': 'https://inveniordm.web.cern.ch/api/records/dh9h9-3bb25/access/groups', 'access_request': 'https://inveniordm.web.cern.ch/api/records/dh9h9-3bb25/access/request', 'access': 'https://inveniordm.web.cern.ch/api/records/dh9h9-3bb25/access', 'reserve_doi': 'https://inveniordm.web.cern.ch/api/records/dh9h9-3bb25/draft/pids/doi', 'communities': 'https://inveniordm.web.cern.ch/api/records/dh9h9-3bb25/communities', 'communities-suggestions': 'https://inveniordm.web.cern.ch/api/records/dh9h9-3bb25/communities-suggestions', 'requests': 'https://inveniordm.web.cern.ch/api/records/dh9h9-3bb25/requests'}, 'revision_id': 4, 'parent': {'id': 'b5ps0-c4t55', 'access': {'owned_by': {'user': '119'}, 'settings': {'allow_user_requests': False, 'allow_guest_requests': False, 'accept_conditions_text': None, 'secret_link_expiration': 0}}, 'communities': {}, 'pids': {'doi': {'identifier': '10.81088/b5ps0-c4t55', 'provider': 'datacite', 'client': 'datacite'}}}, 'versions': {'is_latest': True, 'index': 1}, 'is_published': True, 'is_draft': False, 'pids': {'doi': {'identifier': '10.81088/dh9h9-3bb25', 'provider': 'datacite', 'client': 'datacite'}, 'oai': {'identifier': 'oai:inveniordm.web.cern.ch:dh9h9-3bb25', 'provider': 'oai'}}, 'metadata': {'resource_type': {'id': 'workflow', 'title': {'de': 'Workflow', 'en': 'Workflow', 'sv': 'Workflow'}}, 'creators': [{'person_or_org': {'type': 'personal', 'name': 'vallum', 'family_name': 'vallum'}}], 'title': 'Nesciunt atqui catena venia tactus tondeo.', 'publisher': 'CERN', 'publication_date': '2025-07-12', 'rights': [{'id': 'cc-by-4.0', 'title': {'en': 'Creative Commons Attribution 4.0 International'}, 'description': {'en': 'The Creative Commons Attribution license allows re-distribution and re-use of a licensed work on the condition that the creator is appropriately credited.'}, 'icon': 'cc-by-icon', 'props': {'url': 'https://creativecommons.org/licenses/by/4.0/', 'scheme': 'spdx'}}]}, 'custom_fields': {}, 'access': {'record': 'public', 'files': 'public', 'embargo': {'active': False, 'reason': None}, 'status': 'open'}, 'files': {'enabled': True, 'order': [], 'count': 1, 'total_bytes': 105042, 'entries': {'Anon6.jpg': {'id': 'e60111f8-c55a-4280-8d77-d541b47dea0c', 'checksum': 'md5:7e41b92644f0a69caf5ad13b780a141c', 'ext': 'jpg', 'size': 105042, 'mimetype': 'image/jpeg', 'key': 'Anon6.jpg', 'metadata': {}, 'access': {'hidden': False}}}}, 'media_files': {'enabled': False, 'order': [], 'count': 0, 'total_bytes': 0, 'entries': {}}, 'status': 'published', 'deletion_status': {'is_deleted': False, 'status': 'P'}, 'stats': {'this_version': {'views': 0, 'unique_views': 0, 'downloads': 0, 'unique_downloads': 0, 'data_volume': 0.0}, 'all_versions': {'views': 0, 'unique_views': 0, 'downloads': 0, 'unique_downloads': 0, 'data_volume': 0.0}}}, {'id': 'kympj-zm433', 'created': '2025-07-12T18:44:02.485410+00:00', 'updated': '2025-07-12T18:44:02.605168+00:00', 'links': {'self': 'https://inveniordm.web.cern.ch/api/records/kympj-zm433', 'self_html': 'https://inveniordm.web.cern.ch/records/kympj-zm433', 'self_doi': 'https://inveniordm.web.cern.ch/doi/10.81088/kympj-zm433', 'doi': 'https://handle.stage.datacite.org/10.81088/kympj-zm433', 'parent': 'https://inveniordm.web.cern.ch/api/records/pj1dm-vwx20', 'parent_html': 'https://inveniordm.web.cern.ch/records/pj1dm-vwx20', 'parent_doi': 'https://inveniordm.web.cern.ch/doi/10.81088/pj1dm-vwx20', 'self_iiif_manifest': 'https://inveniordm.web.cern.ch/api/iiif/record:kympj-zm433/manifest', 'self_iiif_sequence': 'https://inveniordm.web.cern.ch/api/iiif/record:kympj-zm433/sequence/default', 'files': 'https://inveniordm.web.cern.ch/api/records/kympj-zm433/files', 'media_files': 'https://inveniordm.web.cern.ch/api/records/kympj-zm433/media-files', 'archive': 'https://inveniordm.web.cern.ch/api/records/kympj-zm433/files-archive', 'archive_media': 'https://inveniordm.web.cern.ch/api/records/kympj-zm433/media-files-archive', 'latest': 'https://inveniordm.web.cern.ch/api/records/kympj-zm433/versions/latest', 'latest_html': 'https://inveniordm.web.cern.ch/records/kympj-zm433/latest', 'draft': 'https://inveniordm.web.cern.ch/api/records/kympj-zm433/draft', 'versions': 'https://inveniordm.web.cern.ch/api/records/kympj-zm433/versions', 'access_links': 'https://inveniordm.web.cern.ch/api/records/kympj-zm433/access/links', 'access_grants': 'https://inveniordm.web.cern.ch/api/records/kympj-zm433/access/grants', 'access_users': 'https://inveniordm.web.cern.ch/api/records/kympj-zm433/access/users', 'access_groups': 'https://inveniordm.web.cern.ch/api/records/kympj-zm433/access/groups', 'access_request': 'https://inveniordm.web.cern.ch/api/records/kympj-zm433/access/request', 'access': 'https://inveniordm.web.cern.ch/api/records/kympj-zm433/access', 'reserve_doi': 'https://inveniordm.web.cern.ch/api/records/kympj-zm433/draft/pids/doi', 'communities': 'https://inveniordm.web.cern.ch/api/records/kympj-zm433/communities', 'communities-suggestions': 'https://inveniordm.web.cern.ch/api/records/kympj-zm433/communities-suggestions', 'requests': 'https://inveniordm.web.cern.ch/api/records/kympj-zm433/requests'}, 'revision_id': 4, 'parent': {'id': 'pj1dm-vwx20', 'access': {'owned_by': {'user': '122'}, 'settings': {'allow_user_requests': False, 'allow_guest_requests': False, 'accept_conditions_text': None, 'secret_link_expiration': 0}}, 'communities': {}, 'pids': {'doi': {'identifier': '10.81088/pj1dm-vwx20', 'provider': 'datacite', 'client': 'datacite'}}}, 'versions': {'is_latest': True, 'index': 1}, 'is_published': True, 'is_draft': False, 'pids': {'oai': {'identifier': 'oai:inveniordm.web.cern.ch:kympj-zm433', 'provider': 'oai'}, 'doi': {'identifier': '10.81088/kympj-zm433', 'provider': 'datacite', 'client': 'datacite'}}, 'metadata': {'resource_type': {'id': 'audio', 'title': {'de': 'Audio', 'en': 'Audio', 'sv': 'Audio'}}, 'creators': [{'person_or_org': {'type': 'personal', 'name': 'vado', 'family_name': 'vado'}}], 'title': 'Caritas terra volva tabesco cognomen una ustulo delicate conventus.', 'publisher': 'CERN', 'publication_date': '2025-07-12', 'rights': [{'id': 'cc-by-4.0', 'title': {'en': 'Creative Commons Attribution 4.0 International'}, 'description': {'en': 'The Creative Commons Attribution license allows re-distribution and re-use of a licensed work on the condition that the creator is appropriately credited.'}, 'icon': 'cc-by-icon', 'props': {'url': 'https://creativecommons.org/licenses/by/4.0/', 'scheme': 'spdx'}}]}, 'custom_fields': {}, 'access': {'record': 'public', 'files': 'public', 'embargo': {'active': False, 'reason': None}, 'status': 'open'}, 'files': {'enabled': True, 'order': [], 'count': 1, 'total_bytes': 51227, 'entries': {'Anon2.jpg': {'id': 'c7a99f31-65ff-435e-8c21-c7b4dfed22af', 'checksum': 'md5:ffa2a7b9c71c139aacc781d158fffa8b', 'ext': 'jpg', 'size': 51227, 'mimetype': 'image/jpeg', 'key': 'Anon2.jpg', 'metadata': {}, 'access': {'hidden': False}}}}, 'media_files': {'enabled': False, 'order': [], 'count': 0, 'total_bytes': 0, 'entries': {}}, 'status': 'published', 'deletion_status': {'is_deleted': False, 'status': 'P'}, 'stats': {'this_version': {'views': 0, 'unique_views': 0, 'downloads': 0, 'unique_downloads': 0, 'data_volume': 0.0}, 'all_versions': {'views': 0, 'unique_views': 0, 'downloads': 0, 'unique_downloads': 0, 'data_volume': 0.0}}}, {'id': 'jvedq-q6726', 'created': '2025-07-12T18:35:28.266721+00:00', 'updated': '2025-07-12T18:35:28.388149+00:00', 'links': {'self': 'https://inveniordm.web.cern.ch/api/records/jvedq-q6726', 'self_html': 'https://inveniordm.web.cern.ch/records/jvedq-q6726', 'self_doi': 'https://inveniordm.web.cern.ch/doi/10.81088/jvedq-q6726', 'doi': 'https://handle.stage.datacite.org/10.81088/jvedq-q6726', 'parent': 'https://inveniordm.web.cern.ch/api/records/gy4wa-xb595', 'parent_html': 'https://inveniordm.web.cern.ch/records/gy4wa-xb595', 'parent_doi': 'https://inveniordm.web.cern.ch/doi/10.81088/gy4wa-xb595', 'self_iiif_manifest': 'https://inveniordm.web.cern.ch/api/iiif/record:jvedq-q6726/manifest', 'self_iiif_sequence': 'https://inveniordm.web.cern.ch/api/iiif/record:jvedq-q6726/sequence/default', 'files': 'https://inveniordm.web.cern.ch/api/records/jvedq-q6726/files', 'media_files': 'https://inveniordm.web.cern.ch/api/records/jvedq-q6726/media-files', 'archive': 'https://inveniordm.web.cern.ch/api/records/jvedq-q6726/files-archive', 'archive_media': 'https://inveniordm.web.cern.ch/api/records/jvedq-q6726/media-files-archive', 'latest': 'https://inveniordm.web.cern.ch/api/records/jvedq-q6726/versions/latest', 'latest_html': 'https://inveniordm.web.cern.ch/records/jvedq-q6726/latest', 'draft': 'https://inveniordm.web.cern.ch/api/records/jvedq-q6726/draft', 'versions': 'https://inveniordm.web.cern.ch/api/records/jvedq-q6726/versions', 'access_links': 'https://inveniordm.web.cern.ch/api/records/jvedq-q6726/access/links', 'access_grants': 'https://inveniordm.web.cern.ch/api/records/jvedq-q6726/access/grants', 'access_users': 'https://inveniordm.web.cern.ch/api/records/jvedq-q6726/access/users', 'access_groups': 'https://inveniordm.web.cern.ch/api/records/jvedq-q6726/access/groups', 'access_request': 'https://inveniordm.web.cern.ch/api/records/jvedq-q6726/access/request', 'access': 'https://inveniordm.web.cern.ch/api/records/jvedq-q6726/access', 'reserve_doi': 'https://inveniordm.web.cern.ch/api/records/jvedq-q6726/draft/pids/doi', 'communities': 'https://inveniordm.web.cern.ch/api/records/jvedq-q6726/communities', 'communities-suggestions': 'https://inveniordm.web.cern.ch/api/records/jvedq-q6726/communities-suggestions', 'requests': 'https://inveniordm.web.cern.ch/api/records/jvedq-q6726/requests'}, 'revision_id': 4, 'parent': {'id': 'gy4wa-xb595', 'access': {'owned_by': {'user': '122'}, 'settings': {'allow_user_requests': False, 'allow_guest_requests': False, 'accept_conditions_text': None, 'secret_link_expiration': 0}}, 'communities': {}, 'pids': {'doi': {'identifier': '10.81088/gy4wa-xb595', 'provider': 'datacite', 'client': 'datacite'}}}, 'versions': {'is_latest': True, 'index': 1}, 'is_published': True, 'is_draft': False, 'pids': {'oai': {'identifier': 'oai:inveniordm.web.cern.ch:jvedq-q6726', 'provider': 'oai'}, 'doi': {'identifier': '10.81088/jvedq-q6726', 'provider': 'datacite', 'client': 'datacite'}}, 'metadata': {'resource_type': {'id': 'software', 'title': {'de': 'Software', 'en': 'Software', 'sv': 'Mjukvara'}}, 'creators': [{'person_or_org': {'type': 'personal', 'name': 'tolero', 'family_name': 'tolero'}}], 'title': 'Abbas tam spoliatio canonicus trans aedificium.', 'publisher': 'CERN', 'publication_date': '2025-07-12', 'rights': [{'id': 'cc-by-4.0', 'title': {'en': 'Creative Commons Attribution 4.0 International'}, 'description': {'en': 'The Creative Commons Attribution license allows re-distribution and re-use of a licensed work on the condition that the creator is appropriately credited.'}, 'icon': 'cc-by-icon', 'props': {'url': 'https://creativecommons.org/licenses/by/4.0/', 'scheme': 'spdx'}}]}, 'custom_fields': {}, 'access': {'record': 'public', 'files': 'public', 'embargo': {'active': False, 'reason': None}, 'status': 'open'}, 'files': {'enabled': True, 'order': [], 'count': 1, 'total_bytes': 20969, 'entries': {'Anon9.jpg': {'id': 'a1bc382e-4f7e-429f-a924-e6101ab150d2', 'checksum': 'md5:462f1833adf7dfb991d6e0e58c0e7f7d', 'ext': 'jpg', 'size': 20969, 'mimetype': 'image/jpeg', 'key': 'Anon9.jpg', 'metadata': {}, 'access': {'hidden': False}}}}, 'media_files': {'enabled': False, 'order': [], 'count': 0, 'total_bytes': 0, 'entries': {}}, 'status': 'published', 'deletion_status': {'is_deleted': False, 'status': 'P'}, 'stats': {'this_version': {'views': 0, 'unique_views': 0, 'downloads': 0, 'unique_downloads': 0, 'data_volume': 0.0}, 'all_versions': {'views': 0, 'unique_views': 0, 'downloads': 0, 'unique_downloads': 0, 'data_volume': 0.0}}}, {'id': 'p8fyf-5wg47', 'created': '2025-07-11T12:51:48.189972+00:00', 'updated': '2025-07-11T12:51:48.295737+00:00', 'links': {'self': 'https://inveniordm.web.cern.ch/api/records/p8fyf-5wg47', 'self_html': 'https://inveniordm.web.cern.ch/records/p8fyf-5wg47', 'self_doi': 'https://inveniordm.web.cern.ch/doi/10.81088/p8fyf-5wg47', 'doi': 'https://handle.stage.datacite.org/10.81088/p8fyf-5wg47', 'parent': 'https://inveniordm.web.cern.ch/api/records/t9d1g-rrx45', 'parent_html': 'https://inveniordm.web.cern.ch/records/t9d1g-rrx45', 'parent_doi': 'https://inveniordm.web.cern.ch/doi/10.81088/t9d1g-rrx45', 'self_iiif_manifest': 'https://inveniordm.web.cern.ch/api/iiif/record:p8fyf-5wg47/manifest', 'self_iiif_sequence': 'https://inveniordm.web.cern.ch/api/iiif/record:p8fyf-5wg47/sequence/default', 'files': 'https://inveniordm.web.cern.ch/api/records/p8fyf-5wg47/files', 'media_files': 'https://inveniordm.web.cern.ch/api/records/p8fyf-5wg47/media-files', 'archive': 'https://inveniordm.web.cern.ch/api/records/p8fyf-5wg47/files-archive', 'archive_media': 'https://inveniordm.web.cern.ch/api/records/p8fyf-5wg47/media-files-archive', 'latest': 'https://inveniordm.web.cern.ch/api/records/p8fyf-5wg47/versions/latest', 'latest_html': 'https://inveniordm.web.cern.ch/records/p8fyf-5wg47/latest', 'draft': 'https://inveniordm.web.cern.ch/api/records/p8fyf-5wg47/draft', 'versions': 'https://inveniordm.web.cern.ch/api/records/p8fyf-5wg47/versions', 'access_links': 'https://inveniordm.web.cern.ch/api/records/p8fyf-5wg47/access/links', 'access_grants': 'https://inveniordm.web.cern.ch/api/records/p8fyf-5wg47/access/grants', 'access_users': 'https://inveniordm.web.cern.ch/api/records/p8fyf-5wg47/access/users', 'access_groups': 'https://inveniordm.web.cern.ch/api/records/p8fyf-5wg47/access/groups', 'access_request': 'https://inveniordm.web.cern.ch/api/records/p8fyf-5wg47/access/request', 'access': 'https://inveniordm.web.cern.ch/api/records/p8fyf-5wg47/access', 'reserve_doi': 'https://inveniordm.web.cern.ch/api/records/p8fyf-5wg47/draft/pids/doi', 'communities': 'https://inveniordm.web.cern.ch/api/records/p8fyf-5wg47/communities', 'communities-suggestions': 'https://inveniordm.web.cern.ch/api/records/p8fyf-5wg47/communities-suggestions', 'requests': 'https://inveniordm.web.cern.ch/api/records/p8fyf-5wg47/requests'}, 'revision_id': 4, 'parent': {'id': 't9d1g-rrx45', 'access': {'owned_by': {'user': '122'}, 'settings': {'allow_user_requests': False, 'allow_guest_requests': False, 'accept_conditions_text': None, 'secret_link_expiration': 0}}, 'communities': {}, 'pids': {'doi': {'identifier': '10.81088/t9d1g-rrx45', 'provider': 'datacite', 'client': 'datacite'}}}, 'versions': {'is_latest': True, 'index': 1}, 'is_published': True, 'is_draft': False, 'pids': {'doi': {'identifier': '10.81088/p8fyf-5wg47', 'provider': 'datacite', 'client': 'datacite'}, 'oai': {'identifier': 'oai:inveniordm.web.cern.ch:p8fyf-5wg47', 'provider': 'oai'}}, 'metadata': {'resource_type': {'id': 'video', 'title': {'de': 'Video', 'en': 'Video', 'sv': 'Video'}}, 'creators': [{'person_or_org': {'type': 'personal', 'name': 'tamdiu', 'family_name': 'tamdiu'}}], 'title': 'Asporto theatrum defleo votum adulatio auxilium atrocitas venia curis conqueror.', 'publisher': 'CERN', 'publication_date': '2025-07-11', 'rights': [{'id': 'cc-by-4.0', 'title': {'en': 'Creative Commons Attribution 4.0 International'}, 'description': {'en': 'The Creative Commons Attribution license allows re-distribution and re-use of a licensed work on the condition that the creator is appropriately credited.'}, 'icon': 'cc-by-icon', 'props': {'url': 'https://creativecommons.org/licenses/by/4.0/', 'scheme': 'spdx'}}]}, 'custom_fields': {}, 'access': {'record': 'public', 'files': 'public', 'embargo': {'active': False, 'reason': None}, 'status': 'open'}, 'files': {'enabled': True, 'order': [], 'count': 1, 'total_bytes': 105042, 'entries': {'Anon6.jpg': {'id': '8b050bc5-128a-480e-ac86-8caf7b7b969b', 'checksum': 'md5:7e41b92644f0a69caf5ad13b780a141c', 'ext': 'jpg', 'size': 105042, 'mimetype': 'image/jpeg', 'key': 'Anon6.jpg', 'metadata': {}, 'access': {'hidden': False}}}}, 'media_files': {'enabled': False, 'order': [], 'count': 0, 'total_bytes': 0, 'entries': {}}, 'status': 'published', 'deletion_status': {'is_deleted': False, 'status': 'P'}, 'stats': {'this_version': {'views': 0, 'unique_views': 0, 'downloads': 0, 'unique_downloads': 0, 'data_volume': 0.0}, 'all_versions': {'views': 0, 'unique_views': 0, 'downloads': 0, 'unique_downloads': 0, 'data_volume': 0.0}}}, {'id': '2cevn-nav18', 'created': '2025-07-11T12:49:46.940495+00:00', 'updated': '2025-07-11T12:49:47.056882+00:00', 'links': {'self': 'https://inveniordm.web.cern.ch/api/records/2cevn-nav18', 'self_html': 'https://inveniordm.web.cern.ch/records/2cevn-nav18', 'self_doi': 'https://inveniordm.web.cern.ch/doi/10.81088/2cevn-nav18', 'doi': 'https://handle.stage.datacite.org/10.81088/2cevn-nav18', 'parent': 'https://inveniordm.web.cern.ch/api/records/rr2av-fgk49', 'parent_html': 'https://inveniordm.web.cern.ch/records/rr2av-fgk49', 'parent_doi': 'https://inveniordm.web.cern.ch/doi/10.81088/rr2av-fgk49', 'self_iiif_manifest': 'https://inveniordm.web.cern.ch/api/iiif/record:2cevn-nav18/manifest', 'self_iiif_sequence': 'https://inveniordm.web.cern.ch/api/iiif/record:2cevn-nav18/sequence/default', 'files': 'https://inveniordm.web.cern.ch/api/records/2cevn-nav18/files', 'media_files': 'https://inveniordm.web.cern.ch/api/records/2cevn-nav18/media-files', 'archive': 'https://inveniordm.web.cern.ch/api/records/2cevn-nav18/files-archive', 'archive_media': 'https://inveniordm.web.cern.ch/api/records/2cevn-nav18/media-files-archive', 'latest': 'https://inveniordm.web.cern.ch/api/records/2cevn-nav18/versions/latest', 'latest_html': 'https://inveniordm.web.cern.ch/records/2cevn-nav18/latest', 'draft': 'https://inveniordm.web.cern.ch/api/records/2cevn-nav18/draft', 'versions': 'https://inveniordm.web.cern.ch/api/records/2cevn-nav18/versions', 'access_links': 'https://inveniordm.web.cern.ch/api/records/2cevn-nav18/access/links', 'access_grants': 'https://inveniordm.web.cern.ch/api/records/2cevn-nav18/access/grants', 'access_users': 'https://inveniordm.web.cern.ch/api/records/2cevn-nav18/access/users', 'access_groups': 'https://inveniordm.web.cern.ch/api/records/2cevn-nav18/access/groups', 'access_request': 'https://inveniordm.web.cern.ch/api/records/2cevn-nav18/access/request', 'access': 'https://inveniordm.web.cern.ch/api/records/2cevn-nav18/access', 'reserve_doi': 'https://inveniordm.web.cern.ch/api/records/2cevn-nav18/draft/pids/doi', 'communities': 'https://inveniordm.web.cern.ch/api/records/2cevn-nav18/communities', 'communities-suggestions': 'https://inveniordm.web.cern.ch/api/records/2cevn-nav18/communities-suggestions', 'requests': 'https://inveniordm.web.cern.ch/api/records/2cevn-nav18/requests'}, 'revision_id': 4, 'parent': {'id': 'rr2av-fgk49', 'access': {'owned_by': {'user': '122'}, 'settings': {'allow_user_requests': False, 'allow_guest_requests': False, 'accept_conditions_text': None, 'secret_link_expiration': 0}}, 'communities': {}, 'pids': {'doi': {'identifier': '10.81088/rr2av-fgk49', 'provider': 'datacite', 'client': 'datacite'}}}, 'versions': {'is_latest': True, 'index': 1}, 'is_published': True, 'is_draft': False, 'pids': {'doi': {'identifier': '10.81088/2cevn-nav18', 'provider': 'datacite', 'client': 'datacite'}, 'oai': {'identifier': 'oai:inveniordm.web.cern.ch:2cevn-nav18', 'provider': 'oai'}}, 'metadata': {'resource_type': {'id': 'software', 'title': {'de': 'Software', 'en': 'Software', 'sv': 'Mjukvara'}}, 'creators': [{'person_or_org': {'type': 'personal', 'name': 'cervus', 'family_name': 'cervus'}}], 'title': 'Adulatio antiquus deripio curso delinquo deprimo cibo.', 'publisher': 'CERN', 'publication_date': '2025-07-11', 'rights': [{'id': 'cc-by-4.0', 'title': {'en': 'Creative Commons Attribution 4.0 International'}, 'description': {'en': 'The Creative Commons Attribution license allows re-distribution and re-use of a licensed work on the condition that the creator is appropriately credited.'}, 'icon': 'cc-by-icon', 'props': {'url': 'https://creativecommons.org/licenses/by/4.0/', 'scheme': 'spdx'}}]}, 'custom_fields': {}, 'access': {'record': 'public', 'files': 'public', 'embargo': {'active': False, 'reason': None}, 'status': 'open'}, 'files': {'enabled': True, 'order': [], 'count': 1, 'total_bytes': 34260, 'entries': {'Anon3.jpg': {'id': '500e2847-af4e-4b31-afc5-f31def7c332c', 'checksum': 'md5:27d09e71282af9261a9307ee69e8f3ba', 'ext': 'jpg', 'size': 34260, 'mimetype': 'image/jpeg', 'key': 'Anon3.jpg', 'metadata': {}, 'access': {'hidden': False}}}}, 'media_files': {'enabled': False, 'order': [], 'count': 0, 'total_bytes': 0, 'entries': {}}, 'status': 'published', 'deletion_status': {'is_deleted': False, 'status': 'P'}, 'stats': {'this_version': {'views': 0, 'unique_views': 0, 'downloads': 0, 'unique_downloads': 0, 'data_volume': 0.0}, 'all_versions': {'views': 0, 'unique_views': 0, 'downloads': 0, 'unique_downloads': 0, 'data_volume': 0.0}}}, {'id': 'nf65d-ddh41', 'created': '2025-07-11T12:31:16.515893+00:00', 'updated': '2025-07-11T12:31:16.634599+00:00', 'links': {'self': 'https://inveniordm.web.cern.ch/api/records/nf65d-ddh41', 'self_html': 'https://inveniordm.web.cern.ch/records/nf65d-ddh41', 'self_doi': 'https://inveniordm.web.cern.ch/doi/10.81088/nf65d-ddh41', 'doi': 'https://handle.stage.datacite.org/10.81088/nf65d-ddh41', 'parent': 'https://inveniordm.web.cern.ch/api/records/p90s8-c2y17', 'parent_html': 'https://inveniordm.web.cern.ch/records/p90s8-c2y17', 'parent_doi': 'https://inveniordm.web.cern.ch/doi/10.81088/p90s8-c2y17', 'self_iiif_manifest': 'https://inveniordm.web.cern.ch/api/iiif/record:nf65d-ddh41/manifest', 'self_iiif_sequence': 'https://inveniordm.web.cern.ch/api/iiif/record:nf65d-ddh41/sequence/default', 'files': 'https://inveniordm.web.cern.ch/api/records/nf65d-ddh41/files', 'media_files': 'https://inveniordm.web.cern.ch/api/records/nf65d-ddh41/media-files', 'archive': 'https://inveniordm.web.cern.ch/api/records/nf65d-ddh41/files-archive', 'archive_media': 'https://inveniordm.web.cern.ch/api/records/nf65d-ddh41/media-files-archive', 'latest': 'https://inveniordm.web.cern.ch/api/records/nf65d-ddh41/versions/latest', 'latest_html': 'https://inveniordm.web.cern.ch/records/nf65d-ddh41/latest', 'draft': 'https://inveniordm.web.cern.ch/api/records/nf65d-ddh41/draft', 'versions': 'https://inveniordm.web.cern.ch/api/records/nf65d-ddh41/versions', 'access_links': 'https://inveniordm.web.cern.ch/api/records/nf65d-ddh41/access/links', 'access_grants': 'https://inveniordm.web.cern.ch/api/records/nf65d-ddh41/access/grants', 'access_users': 'https://inveniordm.web.cern.ch/api/records/nf65d-ddh41/access/users', 'access_groups': 'https://inveniordm.web.cern.ch/api/records/nf65d-ddh41/access/groups', 'access_request': 'https://inveniordm.web.cern.ch/api/records/nf65d-ddh41/access/request', 'access': 'https://inveniordm.web.cern.ch/api/records/nf65d-ddh41/access', 'reserve_doi': 'https://inveniordm.web.cern.ch/api/records/nf65d-ddh41/draft/pids/doi', 'communities': 'https://inveniordm.web.cern.ch/api/records/nf65d-ddh41/communities', 'communities-suggestions': 'https://inveniordm.web.cern.ch/api/records/nf65d-ddh41/communities-suggestions', 'requests': 'https://inveniordm.web.cern.ch/api/records/nf65d-ddh41/requests'}, 'revision_id': 4, 'parent': {'id': 'p90s8-c2y17', 'access': {'owned_by': {'user': '122'}, 'settings': {'allow_user_requests': False, 'allow_guest_requests': False, 'accept_conditions_text': None, 'secret_link_expiration': 0}}, 'communities': {}, 'pids': {'doi': {'identifier': '10.81088/p90s8-c2y17', 'provider': 'datacite', 'client': 'datacite'}}}, 'versions': {'is_latest': True, 'index': 1}, 'is_published': True, 'is_draft': False, 'pids': {'doi': {'identifier': '10.81088/nf65d-ddh41', 'provider': 'datacite', 'client': 'datacite'}, 'oai': {'identifier': 'oai:inveniordm.web.cern.ch:nf65d-ddh41', 'provider': 'oai'}}, 'metadata': {'resource_type': {'id': 'audio', 'title': {'de': 'Audio', 'en': 'Audio', 'sv': 'Audio'}}, 'creators': [{'person_or_org': {'type': 'personal', 'name': 'succedo', 'family_name': 'succedo'}}], 'title': 'Vulariter omnis amissio.', 'publisher': 'CERN', 'publication_date': '2025-07-11', 'rights': [{'id': 'cc-by-4.0', 'title': {'en': 'Creative Commons Attribution 4.0 International'}, 'description': {'en': 'The Creative Commons Attribution license allows re-distribution and re-use of a licensed work on the condition that the creator is appropriately credited.'}, 'icon': 'cc-by-icon', 'props': {'url': 'https://creativecommons.org/licenses/by/4.0/', 'scheme': 'spdx'}}]}, 'custom_fields': {}, 'access': {'record': 'public', 'files': 'public', 'embargo': {'active': False, 'reason': None}, 'status': 'open'}, 'files': {'enabled': True, 'order': [], 'count': 1, 'total_bytes': 9080, 'entries': {'Anon.jpg': {'id': '0f2246aa-bc8f-4aac-89e3-96ce5cd36551', 'checksum': 'md5:71a117a38b56abe7e765a6705f146d34', 'ext': 'jpg', 'size': 9080, 'mimetype': 'image/jpeg', 'key': 'Anon.jpg', 'metadata': {}, 'access': {'hidden': False}}}}, 'media_files': {'enabled': False, 'order': [], 'count': 0, 'total_bytes': 0, 'entries': {}}, 'status': 'published', 'deletion_status': {'is_deleted': False, 'status': 'P'}, 'stats': {'this_version': {'views': 0, 'unique_views': 0, 'downloads': 0, 'unique_downloads': 0, 'data_volume': 0.0}, 'all_versions': {'views': 0, 'unique_views': 0, 'downloads': 0, 'unique_downloads': 0, 'data_volume': 0.0}}}, {'id': 'etzwa-8rf92', 'created': '2025-07-10T14:17:12.171491+00:00', 'updated': '2025-07-10T14:17:12.271642+00:00', 'links': {'self': 'https://inveniordm.web.cern.ch/api/records/etzwa-8rf92', 'self_html': 'https://inveniordm.web.cern.ch/records/etzwa-8rf92', 'self_doi': 'https://inveniordm.web.cern.ch/doi/10.81088/etzwa-8rf92', 'doi': 'https://handle.stage.datacite.org/10.81088/etzwa-8rf92', 'parent': 'https://inveniordm.web.cern.ch/api/records/bpmtx-jfm32', 'parent_html': 'https://inveniordm.web.cern.ch/records/bpmtx-jfm32', 'parent_doi': 'https://inveniordm.web.cern.ch/doi/10.81088/bpmtx-jfm32', 'self_iiif_manifest': 'https://inveniordm.web.cern.ch/api/iiif/record:etzwa-8rf92/manifest', 'self_iiif_sequence': 'https://inveniordm.web.cern.ch/api/iiif/record:etzwa-8rf92/sequence/default', 'files': 'https://inveniordm.web.cern.ch/api/records/etzwa-8rf92/files', 'media_files': 'https://inveniordm.web.cern.ch/api/records/etzwa-8rf92/media-files', 'archive': 'https://inveniordm.web.cern.ch/api/records/etzwa-8rf92/files-archive', 'archive_media': 'https://inveniordm.web.cern.ch/api/records/etzwa-8rf92/media-files-archive', 'latest': 'https://inveniordm.web.cern.ch/api/records/etzwa-8rf92/versions/latest', 'latest_html': 'https://inveniordm.web.cern.ch/records/etzwa-8rf92/latest', 'draft': 'https://inveniordm.web.cern.ch/api/records/etzwa-8rf92/draft', 'versions': 'https://inveniordm.web.cern.ch/api/records/etzwa-8rf92/versions', 'access_links': 'https://inveniordm.web.cern.ch/api/records/etzwa-8rf92/access/links', 'access_grants': 'https://inveniordm.web.cern.ch/api/records/etzwa-8rf92/access/grants', 'access_users': 'https://inveniordm.web.cern.ch/api/records/etzwa-8rf92/access/users', 'access_groups': 'https://inveniordm.web.cern.ch/api/records/etzwa-8rf92/access/groups', 'access_request': 'https://inveniordm.web.cern.ch/api/records/etzwa-8rf92/access/request', 'access': 'https://inveniordm.web.cern.ch/api/records/etzwa-8rf92/access', 'reserve_doi': 'https://inveniordm.web.cern.ch/api/records/etzwa-8rf92/draft/pids/doi', 'communities': 'https://inveniordm.web.cern.ch/api/records/etzwa-8rf92/communities', 'communities-suggestions': 'https://inveniordm.web.cern.ch/api/records/etzwa-8rf92/communities-suggestions', 'requests': 'https://inveniordm.web.cern.ch/api/records/etzwa-8rf92/requests'}, 'revision_id': 4, 'parent': {'id': 'bpmtx-jfm32', 'access': {'grants': [], 'owned_by': {'user': '492'}, 'links': [], 'settings': {'allow_user_requests': False, 'allow_guest_requests': False, 'accept_conditions_text': None, 'secret_link_expiration': 0}}, 'communities': {}, 'pids': {'doi': {'identifier': '10.81088/bpmtx-jfm32', 'provider': 'datacite', 'client': 'datacite'}}}, 'versions': {'is_latest': True, 'is_latest_draft': True, 'index': 2}, 'is_published': True, 'is_draft': False, 'pids': {'doi': {'identifier': '10.81088/etzwa-8rf92', 'provider': 'datacite', 'client': 'datacite'}, 'oai': {'identifier': 'oai:inveniordm.web.cern.ch:etzwa-8rf92', 'provider': 'oai'}}, 'metadata': {'resource_type': {'id': 'image-photo', 'title': {'de': 'Foto', 'en': 'Photo', 'sv': 'Foto'}}, 'creators': [{'person_or_org': {'type': 'personal', 'name': 'Hufnágl, Pišta', 'given_name': 'Pišta', 'family_name': 'Hufnágl'}, 'role': {'id': 'other', 'title': {'de': 'Andere', 'en': 'Other', 'sv': 'Övriga'}}}], 'title': 'Pištův testovací záznam', 'publisher': 'DMiksik', 'publication_date': '2025-07-10', 'description': '<p>fotočka</p>'}, 'custom_fields': {}, 'access': {'record': 'public', 'files': 'public', 'embargo': {'active': False, 'reason': None}, 'status': 'open'}, 'files': {'enabled': True, 'default_preview': 'jaycee-xie-unsplash-shiba.png', 'order': [], 'count': 1, 'total_bytes': 914231, 'entries': {'jaycee-xie-unsplash-shiba.png': {'id': '2c74d7cb-de54-4c15-a162-3d14dc15f2a9', 'checksum': 'md5:b96a0e6d3fafd0c7961df26988f11cd9', 'ext': 'png', 'size': 914231, 'mimetype': 'image/png', 'key': 'jaycee-xie-unsplash-shiba.png', 'metadata': {'width': 960, 'height': 640}, 'access': {'hidden': False}}}}, 'media_files': {'enabled': False, 'order': [], 'count': 0, 'total_bytes': 0, 'entries': {}}, 'status': 'published', 'deletion_status': {'is_deleted': False, 'status': 'P'}, 'stats': {'this_version': {'views': 0, 'unique_views': 0, 'downloads': 0, 'unique_downloads': 0, 'data_volume': 0.0}, 'all_versions': {'views': 0, 'unique_views': 0, 'downloads': 0, 'unique_downloads': 0, 'data_volume': 0.0}}}, {'id': 'r0wqf-w1120', 'created': '2025-07-07T18:56:06.135517+00:00', 'updated': '2025-07-07T18:56:06.224606+00:00', 'links': {'self': 'https://inveniordm.web.cern.ch/api/records/r0wqf-w1120', 'self_html': 'https://inveniordm.web.cern.ch/records/r0wqf-w1120', 'self_doi': 'https://inveniordm.web.cern.ch/doi/10.81088/r0wqf-w1120', 'doi': 'https://handle.stage.datacite.org/10.81088/r0wqf-w1120', 'parent': 'https://inveniordm.web.cern.ch/api/records/ppc00-vkx96', 'parent_html': 'https://inveniordm.web.cern.ch/records/ppc00-vkx96', 'parent_doi': 'https://inveniordm.web.cern.ch/doi/10.81088/ppc00-vkx96', 'self_iiif_manifest': 'https://inveniordm.web.cern.ch/api/iiif/record:r0wqf-w1120/manifest', 'self_iiif_sequence': 'https://inveniordm.web.cern.ch/api/iiif/record:r0wqf-w1120/sequence/default', 'files': 'https://inveniordm.web.cern.ch/api/records/r0wqf-w1120/files', 'media_files': 'https://inveniordm.web.cern.ch/api/records/r0wqf-w1120/media-files', 'archive': 'https://inveniordm.web.cern.ch/api/records/r0wqf-w1120/files-archive', 'archive_media': 'https://inveniordm.web.cern.ch/api/records/r0wqf-w1120/media-files-archive', 'latest': 'https://inveniordm.web.cern.ch/api/records/r0wqf-w1120/versions/latest', 'latest_html': 'https://inveniordm.web.cern.ch/records/r0wqf-w1120/latest', 'draft': 'https://inveniordm.web.cern.ch/api/records/r0wqf-w1120/draft', 'versions': 'https://inveniordm.web.cern.ch/api/records/r0wqf-w1120/versions', 'access_links': 'https://inveniordm.web.cern.ch/api/records/r0wqf-w1120/access/links', 'access_grants': 'https://inveniordm.web.cern.ch/api/records/r0wqf-w1120/access/grants', 'access_users': 'https://inveniordm.web.cern.ch/api/records/r0wqf-w1120/access/users', 'access_groups': 'https://inveniordm.web.cern.ch/api/records/r0wqf-w1120/access/groups', 'access_request': 'https://inveniordm.web.cern.ch/api/records/r0wqf-w1120/access/request', 'access': 'https://inveniordm.web.cern.ch/api/records/r0wqf-w1120/access', 'reserve_doi': 'https://inveniordm.web.cern.ch/api/records/r0wqf-w1120/draft/pids/doi', 'communities': 'https://inveniordm.web.cern.ch/api/records/r0wqf-w1120/communities', 'communities-suggestions': 'https://inveniordm.web.cern.ch/api/records/r0wqf-w1120/communities-suggestions', 'requests': 'https://inveniordm.web.cern.ch/api/records/r0wqf-w1120/requests'}, 'revision_id': 4, 'parent': {'id': 'ppc00-vkx96', 'access': {'grants': [], 'owned_by': {'user': '492'}, 'links': [], 'settings': {'allow_user_requests': False, 'allow_guest_requests': False, 'accept_conditions_text': None, 'secret_link_expiration': 0}}, 'communities': {'ids': ['0c61b61c-4300-4b4b-b8ac-12a2c783845e'], 'default': '0c61b61c-4300-4b4b-b8ac-12a2c783845e', 'entries': [{'id': '0c61b61c-4300-4b4b-b8ac-12a2c783845e', 'created': '2025-07-07T18:38:27.352149+00:00', 'updated': '2025-07-07T18:38:27.491428+00:00', 'links': {}, 'revision_id': 2, 'slug': 'eosc-cz-demo-repo', 'metadata': {'title': 'EOSC CZ Demo Repo Community'}, 'access': {'visibility': 'public', 'members_visibility': 'public', 'member_policy': 'open', 'record_policy': 'open', 'review_policy': 'closed'}, 'deletion_status': {'is_deleted': False, 'status': 'P'}, 'children': {'allow': False}}]}, 'pids': {'doi': {'identifier': '10.81088/ppc00-vkx96', 'provider': 'datacite', 'client': 'datacite'}}}, 'versions': {'is_latest': True, 'is_latest_draft': True, 'index': 2}, 'is_published': True, 'is_draft': False, 'pids': {'doi': {'identifier': '10.81088/r0wqf-w1120', 'provider': 'datacite', 'client': 'datacite'}, 'oai': {'identifier': 'oai:inveniordm.web.cern.ch:r0wqf-w1120', 'provider': 'oai'}}, 'metadata': {'resource_type': {'id': 'dataset', 'title': {'de': 'Datensatz', 'en': 'Dataset', 'sv': 'Dataset'}}, 'creators': [{'person_or_org': {'type': 'personal', 'name': 'Daniel, Miksik', 'given_name': 'Miksik', 'family_name': 'Daniel', 'identifiers': [{'identifier': '0009-0008-6214-4356', 'scheme': 'orcid'}]}, 'role': {'id': 'producer', 'title': {'de': 'ProduzentIn', 'en': 'Producer', 'sv': 'Producent'}}, 'affiliations': [{'name': 'Masaryk University'}]}], 'title': 'Socio Economic Diversity in Eastern Moravia', 'additional_titles': [{'title': 'DMx dataset', 'type': {'id': 'alternative-title', 'title': {'de': 'Alternativer Titel', 'en': 'Alternative title', 'sv': 'Alternativ titel'}}, 'lang': {'id': 'eng', 'title': {'en': 'English'}}}], 'publisher': 'Masaryk University', 'publication_date': '2021-06-01/2025-06-01', 'subjects': [{'id': 'http://www.oecd.org/science/inno/38235147.pdf?5.4', 'subject': 'Sociology', 'scheme': 'FOS'}], 'dates': [{'date': '2021-06-01/2025-06-01', 'type': {'id': 'collected', 'title': {'de': 'Gesammelt', 'en': 'Collected', 'sv': 'Samlade'}}}], 'rights': [{'id': 'cc-by-4.0', 'title': {'en': 'Creative Commons Attribution 4.0 International'}, 'description': {'en': 'The Creative Commons Attribution license allows re-distribution and re-use of a licensed work on the condition that the creator is appropriately credited.'}, 'icon': 'cc-by-icon', 'props': {'url': 'https://creativecommons.org/licenses/by/4.0/', 'scheme': 'spdx'}}]}, 'custom_fields': {}, 'access': {'record': 'public', 'files': 'public', 'embargo': {'active': False, 'reason': None}, 'status': 'open'}, 'files': {'enabled': True, 'order': [], 'count': 1, 'total_bytes': 523398, 'entries': {'Residents_SocioEconomic_Data_Eastern_Moravia.csv': {'id': '8224b616-53b6-4b3c-9cd1-137db1219eed', 'checksum': 'md5:1f55ae694c29573b41b8a931b6262bb1', 'ext': 'csv', 'size': 523398, 'mimetype': 'text/csv', 'key': 'Residents_SocioEconomic_Data_Eastern_Moravia.csv', 'metadata': {}, 'access': {'hidden': False}}}}, 'media_files': {'enabled': False, 'order': [], 'count': 0, 'total_bytes': 0, 'entries': {}}, 'status': 'published', 'deletion_status': {'is_deleted': False, 'status': 'P'}, 'stats': {'this_version': {'views': 0, 'unique_views': 0, 'downloads': 0, 'unique_downloads': 0, 'data_volume': 0.0}, 'all_versions': {'views': 0, 'unique_views': 0, 'downloads': 0, 'unique_downloads': 0, 'data_volume': 0.0}}}, {'id': '68gcd-a2990', 'created': '2025-07-07T07:02:27.517172+00:00', 'updated': '2025-07-07T07:06:57.055388+00:00', 'links': {'self': 'https://inveniordm.web.cern.ch/api/records/68gcd-a2990', 'self_html': 'https://inveniordm.web.cern.ch/records/68gcd-a2990', 'self_doi': 'https://inveniordm.web.cern.ch/doi/10.6084/m9.%20figshare.25939312.v1', 'doi': 'https://handle.stage.datacite.org/10.6084/m9.%20figshare.25939312.v1', 'parent': 'https://inveniordm.web.cern.ch/api/records/kgscd-08949', 'parent_html': 'https://inveniordm.web.cern.ch/records/kgscd-08949', 'self_iiif_manifest': 'https://inveniordm.web.cern.ch/api/iiif/record:68gcd-a2990/manifest', 'self_iiif_sequence': 'https://inveniordm.web.cern.ch/api/iiif/record:68gcd-a2990/sequence/default', 'files': 'https://inveniordm.web.cern.ch/api/records/68gcd-a2990/files', 'media_files': 'https://inveniordm.web.cern.ch/api/records/68gcd-a2990/media-files', 'archive': 'https://inveniordm.web.cern.ch/api/records/68gcd-a2990/files-archive', 'archive_media': 'https://inveniordm.web.cern.ch/api/records/68gcd-a2990/media-files-archive', 'latest': 'https://inveniordm.web.cern.ch/api/records/68gcd-a2990/versions/latest', 'latest_html': 'https://inveniordm.web.cern.ch/records/68gcd-a2990/latest', 'draft': 'https://inveniordm.web.cern.ch/api/records/68gcd-a2990/draft', 'versions': 'https://inveniordm.web.cern.ch/api/records/68gcd-a2990/versions', 'access_links': 'https://inveniordm.web.cern.ch/api/records/68gcd-a2990/access/links', 'access_grants': 'https://inveniordm.web.cern.ch/api/records/68gcd-a2990/access/grants', 'access_users': 'https://inveniordm.web.cern.ch/api/records/68gcd-a2990/access/users', 'access_groups': 'https://inveniordm.web.cern.ch/api/records/68gcd-a2990/access/groups', 'access_request': 'https://inveniordm.web.cern.ch/api/records/68gcd-a2990/access/request', 'access': 'https://inveniordm.web.cern.ch/api/records/68gcd-a2990/access', 'reserve_doi': 'https://inveniordm.web.cern.ch/api/records/68gcd-a2990/draft/pids/doi', 'communities': 'https://inveniordm.web.cern.ch/api/records/68gcd-a2990/communities', 'communities-suggestions': 'https://inveniordm.web.cern.ch/api/records/68gcd-a2990/communities-suggestions', 'requests': 'https://inveniordm.web.cern.ch/api/records/68gcd-a2990/requests'}, 'revision_id': 6, 'parent': {'id': 'kgscd-08949', 'access': {'owned_by': {'user': '491'}, 'settings': {'allow_user_requests': False, 'allow_guest_requests': False, 'accept_conditions_text': None, 'secret_link_expiration': 0}}, 'communities': {}, 'pids': {}}, 'versions': {'is_latest': True, 'index': 2}, 'is_published': True, 'is_draft': False, 'pids': {'doi': {'identifier': '10.6084/m9. figshare.25939312.v1', 'provider': 'external'}, 'oai': {'identifier': 'oai:inveniordm.web.cern.ch:68gcd-a2990', 'provider': 'oai'}}, 'metadata': {'resource_type': {'id': 'publication-report', 'title': {'de': 'Bericht', 'en': 'Report', 'sv': 'Rapport'}}, 'creators': [{'person_or_org': {'type': 'personal', 'name': 'Sean Pikulin', 'family_name': 'Sean Pikulin'}}, {'person_or_org': {'type': 'personal', 'name': 'Irad Yehezkel', 'family_name': 'Irad Yehezkel'}}], 'title': 'Glucdict', 'publisher': 'CERN', 'publication_date': '2024-07-18', 'rights': [{'id': 'cc-by-4.0', 'title': {'en': 'Creative Commons Attribution 4.0 International'}, 'description': {'en': 'The Creative Commons Attribution license allows re-distribution and re-use of a licensed work on the condition that the creator is appropriately credited.'}, 'icon': 'cc-by-icon', 'props': {'url': 'https://creativecommons.org/licenses/by/4.0/', 'scheme': 'spdx'}}]}, 'custom_fields': {}, 'access': {'record': 'public', 'files': 'public', 'embargo': {'active': False, 'reason': None}, 'status': 'open'}, 'files': {'enabled': True, 'order': [], 'count': 1, 'total_bytes': 2615303, 'entries': {'glucdict.pdf': {'id': '98836115-35a5-4894-9dad-1e76ceb893c2', 'checksum': 'md5:1a95cc406c53ac87f7c6653c30f96a60', 'ext': 'pdf', 'size': 2615303, 'mimetype': 'application/pdf', 'key': 'glucdict.pdf', 'metadata': {}, 'access': {'hidden': False}}}}, 'media_files': {'enabled': False, 'order': [], 'count': 0, 'total_bytes': 0, 'entries': {}}, 'status': 'published', 'deletion_status': {'is_deleted': False, 'status': 'P'}, 'stats': {'this_version': {'views': 0, 'unique_views': 0, 'downloads': 0, 'unique_downloads': 0, 'data_volume': 0.0}, 'all_versions': {'views': 0, 'unique_views': 0, 'downloads': 0, 'unique_downloads': 0, 'data_volume': 0.0}}}, {'id': 'a39v8-mn404', 'created': '2025-07-03T15:52:26.840871+00:00', 'updated': '2025-07-03T15:52:26.920370+00:00', 'links': {'self': 'https://inveniordm.web.cern.ch/api/records/a39v8-mn404', 'self_html': 'https://inveniordm.web.cern.ch/records/a39v8-mn404', 'self_doi': 'https://inveniordm.web.cern.ch/doi/10.81088/a39v8-mn404', 'doi': 'https://handle.stage.datacite.org/10.81088/a39v8-mn404', 'parent': 'https://inveniordm.web.cern.ch/api/records/5nbxc-7r661', 'parent_html': 'https://inveniordm.web.cern.ch/records/5nbxc-7r661', 'parent_doi': 'https://inveniordm.web.cern.ch/doi/10.81088/5nbxc-7r661', 'self_iiif_manifest': 'https://inveniordm.web.cern.ch/api/iiif/record:a39v8-mn404/manifest', 'self_iiif_sequence': 'https://inveniordm.web.cern.ch/api/iiif/record:a39v8-mn404/sequence/default', 'files': 'https://inveniordm.web.cern.ch/api/records/a39v8-mn404/files', 'media_files': 'https://inveniordm.web.cern.ch/api/records/a39v8-mn404/media-files', 'archive': 'https://inveniordm.web.cern.ch/api/records/a39v8-mn404/files-archive', 'archive_media': 'https://inveniordm.web.cern.ch/api/records/a39v8-mn404/media-files-archive', 'latest': 'https://inveniordm.web.cern.ch/api/records/a39v8-mn404/versions/latest', 'latest_html': 'https://inveniordm.web.cern.ch/records/a39v8-mn404/latest', 'draft': 'https://inveniordm.web.cern.ch/api/records/a39v8-mn404/draft', 'versions': 'https://inveniordm.web.cern.ch/api/records/a39v8-mn404/versions', 'access_links': 'https://inveniordm.web.cern.ch/api/records/a39v8-mn404/access/links', 'access_grants': 'https://inveniordm.web.cern.ch/api/records/a39v8-mn404/access/grants', 'access_users': 'https://inveniordm.web.cern.ch/api/records/a39v8-mn404/access/users', 'access_groups': 'https://inveniordm.web.cern.ch/api/records/a39v8-mn404/access/groups', 'access_request': 'https://inveniordm.web.cern.ch/api/records/a39v8-mn404/access/request', 'access': 'https://inveniordm.web.cern.ch/api/records/a39v8-mn404/access', 'reserve_doi': 'https://inveniordm.web.cern.ch/api/records/a39v8-mn404/draft/pids/doi', 'communities': 'https://inveniordm.web.cern.ch/api/records/a39v8-mn404/communities', 'communities-suggestions': 'https://inveniordm.web.cern.ch/api/records/a39v8-mn404/communities-suggestions', 'requests': 'https://inveniordm.web.cern.ch/api/records/a39v8-mn404/requests'}, 'revision_id': 4, 'parent': {'id': '5nbxc-7r661', 'access': {'owned_by': {'user': '122'}, 'settings': {'allow_user_requests': False, 'allow_guest_requests': False, 'accept_conditions_text': None, 'secret_link_expiration': 0}}, 'communities': {}, 'pids': {'doi': {'identifier': '10.81088/5nbxc-7r661', 'provider': 'datacite', 'client': 'datacite'}}}, 'versions': {'is_latest': True, 'index': 1}, 'is_published': True, 'is_draft': False, 'pids': {'doi': {'identifier': '10.81088/a39v8-mn404', 'provider': 'datacite', 'client': 'datacite'}, 'oai': {'identifier': 'oai:inveniordm.web.cern.ch:a39v8-mn404', 'provider': 'oai'}}, 'metadata': {'resource_type': {'id': 'audio', 'title': {'de': 'Audio', 'en': 'Audio', 'sv': 'Audio'}}, 'creators': [{'person_or_org': {'type': 'personal', 'name': 'adsuesco', 'family_name': 'adsuesco'}}], 'title': 'Cornu vergo adipisci vinculum callide amissio.', 'publisher': 'CERN', 'publication_date': '2025-07-03', 'rights': [{'id': 'cc-by-4.0', 'title': {'en': 'Creative Commons Attribution 4.0 International'}, 'description': {'en': 'The Creative Commons Attribution license allows re-distribution and re-use of a licensed work on the condition that the creator is appropriately credited.'}, 'icon': 'cc-by-icon', 'props': {'url': 'https://creativecommons.org/licenses/by/4.0/', 'scheme': 'spdx'}}]}, 'custom_fields': {}, 'access': {'record': 'public', 'files': 'public', 'embargo': {'active': False, 'reason': None}, 'status': 'open'}, 'files': {'enabled': True, 'order': [], 'count': 1, 'total_bytes': 32316, 'entries': {'Anon8.jpg': {'id': '56b02ea1-328d-4d02-a1aa-eb0ed0d62b68', 'checksum': 'md5:23fe3c3d417a4bbd110fc25a2e7220bc', 'ext': 'jpg', 'size': 32316, 'mimetype': 'image/jpeg', 'key': 'Anon8.jpg', 'metadata': {}, 'access': {'hidden': False}}}}, 'media_files': {'enabled': False, 'order': [], 'count': 0, 'total_bytes': 0, 'entries': {}}, 'status': 'published', 'deletion_status': {'is_deleted': False, 'status': 'P'}, 'stats': {'this_version': {'views': 0, 'unique_views': 0, 'downloads': 0, 'unique_downloads': 0, 'data_volume': 0.0}, 'all_versions': {'views': 0, 'unique_views': 0, 'downloads': 0, 'unique_downloads': 0, 'data_volume': 0.0}}}, {'id': '5gkpb-nen02', 'created': '2025-07-03T15:51:42.864332+00:00', 'updated': '2025-07-03T15:51:57.753707+00:00', 'links': {'self': 'https://inveniordm.web.cern.ch/api/records/5gkpb-nen02', 'self_html': 'https://inveniordm.web.cern.ch/records/5gkpb-nen02', 'self_doi': 'https://inveniordm.web.cern.ch/doi/10.81088/5gkpb-nen02', 'doi': 'https://handle.stage.datacite.org/10.81088/5gkpb-nen02', 'parent': 'https://inveniordm.web.cern.ch/api/records/4sr0v-hxz31', 'parent_html': 'https://inveniordm.web.cern.ch/records/4sr0v-hxz31', 'parent_doi': 'https://inveniordm.web.cern.ch/doi/10.81088/4sr0v-hxz31', 'self_iiif_manifest': 'https://inveniordm.web.cern.ch/api/iiif/record:5gkpb-nen02/manifest', 'self_iiif_sequence': 'https://inveniordm.web.cern.ch/api/iiif/record:5gkpb-nen02/sequence/default', 'files': 'https://inveniordm.web.cern.ch/api/records/5gkpb-nen02/files', 'media_files': 'https://inveniordm.web.cern.ch/api/records/5gkpb-nen02/media-files', 'archive': 'https://inveniordm.web.cern.ch/api/records/5gkpb-nen02/files-archive', 'archive_media': 'https://inveniordm.web.cern.ch/api/records/5gkpb-nen02/media-files-archive', 'latest': 'https://inveniordm.web.cern.ch/api/records/5gkpb-nen02/versions/latest', 'latest_html': 'https://inveniordm.web.cern.ch/records/5gkpb-nen02/latest', 'draft': 'https://inveniordm.web.cern.ch/api/records/5gkpb-nen02/draft', 'versions': 'https://inveniordm.web.cern.ch/api/records/5gkpb-nen02/versions', 'access_links': 'https://inveniordm.web.cern.ch/api/records/5gkpb-nen02/access/links', 'access_grants': 'https://inveniordm.web.cern.ch/api/records/5gkpb-nen02/access/grants', 'access_users': 'https://inveniordm.web.cern.ch/api/records/5gkpb-nen02/access/users', 'access_groups': 'https://inveniordm.web.cern.ch/api/records/5gkpb-nen02/access/groups', 'access_request': 'https://inveniordm.web.cern.ch/api/records/5gkpb-nen02/access/request', 'access': 'https://inveniordm.web.cern.ch/api/records/5gkpb-nen02/access', 'reserve_doi': 'https://inveniordm.web.cern.ch/api/records/5gkpb-nen02/draft/pids/doi', 'communities': 'https://inveniordm.web.cern.ch/api/records/5gkpb-nen02/communities', 'communities-suggestions': 'https://inveniordm.web.cern.ch/api/records/5gkpb-nen02/communities-suggestions', 'requests': 'https://inveniordm.web.cern.ch/api/records/5gkpb-nen02/requests'}, 'revision_id': 6, 'parent': {'id': '4sr0v-hxz31', 'access': {'owned_by': {'user': '122'}, 'settings': {'allow_user_requests': False, 'allow_guest_requests': False, 'accept_conditions_text': None, 'secret_link_expiration': 0}}, 'communities': {}, 'pids': {'doi': {'identifier': '10.81088/4sr0v-hxz31', 'provider': 'datacite', 'client': 'datacite'}}}, 'versions': {'is_latest': True, 'index': 1}, 'is_published': True, 'is_draft': False, 'pids': {'doi': {'identifier': '10.81088/5gkpb-nen02', 'provider': 'datacite', 'client': 'datacite'}, 'oai': {'identifier': 'oai:inveniordm.web.cern.ch:5gkpb-nen02', 'provider': 'oai'}}, 'metadata': {'resource_type': {'id': 'audio', 'title': {'de': 'Audio', 'en': 'Audio', 'sv': 'Audio'}}, 'creators': [{'person_or_org': {'type': 'personal', 'name': 'vitiosus', 'family_name': 'vitiosus'}}], 'title': 'Quae depopulo iusto exercitationem aurum sufficio.', 'publisher': 'CERN', 'publication_date': '2025-07-03', 'rights': [{'id': 'cc-by-4.0', 'title': {'en': 'Creative Commons Attribution 4.0 International'}, 'description': {'en': 'The Creative Commons Attribution license allows re-distribution and re-use of a licensed work on the condition that the creator is appropriately credited.'}, 'icon': 'cc-by-icon', 'props': {'url': 'https://creativecommons.org/licenses/by/4.0/', 'scheme': 'spdx'}}], 'description': '<p>Alo a quis aperio ventosus cohaero dens attonbitus cresco celo. Arbor tandem compono eos desipio ambitus caelum. Cruentus ciminatio depereo delibero thesaurus apostolus tribuo.</p>'}, 'custom_fields': {}, 'access': {'record': 'public', 'files': 'public', 'embargo': {'active': False, 'reason': None}, 'status': 'open'}, 'files': {'enabled': True, 'order': [], 'count': 1, 'total_bytes': 105042, 'entries': {'Anon6.jpg': {'id': 'dad25a5d-0b25-4002-8f1d-436d687571bb', 'checksum': 'md5:7e41b92644f0a69caf5ad13b780a141c', 'ext': 'jpg', 'size': 105042, 'mimetype': 'image/jpeg', 'key': 'Anon6.jpg', 'metadata': {'width': 427, 'height': 240}, 'access': {'hidden': False}}}}, 'media_files': {'enabled': False, 'order': [], 'count': 0, 'total_bytes': 0, 'entries': {}}, 'status': 'published', 'deletion_status': {'is_deleted': False, 'status': 'P'}, 'stats': {'this_version': {'views': 0, 'unique_views': 0, 'downloads': 0, 'unique_downloads': 0, 'data_volume': 0.0}, 'all_versions': {'views': 0, 'unique_views': 0, 'downloads': 0, 'unique_downloads': 0, 'data_volume': 0.0}}}, {'id': '4kemv-dd057', 'created': '2025-07-03T15:51:12.850283+00:00', 'updated': '2025-07-03T15:51:12.939807+00:00', 'links': {'self': 'https://inveniordm.web.cern.ch/api/records/4kemv-dd057', 'self_html': 'https://inveniordm.web.cern.ch/records/4kemv-dd057', 'self_doi': 'https://inveniordm.web.cern.ch/doi/10.81088/4kemv-dd057', 'doi': 'https://handle.stage.datacite.org/10.81088/4kemv-dd057', 'parent': 'https://inveniordm.web.cern.ch/api/records/0a3bx-b0f25', 'parent_html': 'https://inveniordm.web.cern.ch/records/0a3bx-b0f25', 'parent_doi': 'https://inveniordm.web.cern.ch/doi/10.81088/0a3bx-b0f25', 'self_iiif_manifest': 'https://inveniordm.web.cern.ch/api/iiif/record:4kemv-dd057/manifest', 'self_iiif_sequence': 'https://inveniordm.web.cern.ch/api/iiif/record:4kemv-dd057/sequence/default', 'files': 'https://inveniordm.web.cern.ch/api/records/4kemv-dd057/files', 'media_files': 'https://inveniordm.web.cern.ch/api/records/4kemv-dd057/media-files', 'archive': 'https://inveniordm.web.cern.ch/api/records/4kemv-dd057/files-archive', 'archive_media': 'https://inveniordm.web.cern.ch/api/records/4kemv-dd057/media-files-archive', 'latest': 'https://inveniordm.web.cern.ch/api/records/4kemv-dd057/versions/latest', 'latest_html': 'https://inveniordm.web.cern.ch/records/4kemv-dd057/latest', 'draft': 'https://inveniordm.web.cern.ch/api/records/4kemv-dd057/draft', 'versions': 'https://inveniordm.web.cern.ch/api/records/4kemv-dd057/versions', 'access_links': 'https://inveniordm.web.cern.ch/api/records/4kemv-dd057/access/links', 'access_grants': 'https://inveniordm.web.cern.ch/api/records/4kemv-dd057/access/grants', 'access_users': 'https://inveniordm.web.cern.ch/api/records/4kemv-dd057/access/users', 'access_groups': 'https://inveniordm.web.cern.ch/api/records/4kemv-dd057/access/groups', 'access_request': 'https://inveniordm.web.cern.ch/api/records/4kemv-dd057/access/request', 'access': 'https://inveniordm.web.cern.ch/api/records/4kemv-dd057/access', 'reserve_doi': 'https://inveniordm.web.cern.ch/api/records/4kemv-dd057/draft/pids/doi', 'communities': 'https://inveniordm.web.cern.ch/api/records/4kemv-dd057/communities', 'communities-suggestions': 'https://inveniordm.web.cern.ch/api/records/4kemv-dd057/communities-suggestions', 'requests': 'https://inveniordm.web.cern.ch/api/records/4kemv-dd057/requests'}, 'revision_id': 4, 'parent': {'id': '0a3bx-b0f25', 'access': {'owned_by': {'user': '122'}, 'settings': {'allow_user_requests': False, 'allow_guest_requests': False, 'accept_conditions_text': None, 'secret_link_expiration': 0}}, 'communities': {}, 'pids': {'doi': {'identifier': '10.81088/0a3bx-b0f25', 'provider': 'datacite', 'client': 'datacite'}}}, 'versions': {'is_latest': True, 'index': 1}, 'is_published': True, 'is_draft': False, 'pids': {'doi': {'identifier': '10.81088/4kemv-dd057', 'provider': 'datacite', 'client': 'datacite'}, 'oai': {'identifier': 'oai:inveniordm.web.cern.ch:4kemv-dd057', 'provider': 'oai'}}, 'metadata': {'resource_type': {'id': 'workflow', 'title': {'de': 'Workflow', 'en': 'Workflow', 'sv': 'Workflow'}}, 'creators': [{'person_or_org': {'type': 'personal', 'name': 'mollitia', 'family_name': 'mollitia'}}], 'title': 'Cultura creta vere.', 'publisher': 'CERN', 'publication_date': '2025-07-03', 'rights': [{'id': 'cc-by-4.0', 'title': {'en': 'Creative Commons Attribution 4.0 International'}, 'description': {'en': 'The Creative Commons Attribution license allows re-distribution and re-use of a licensed work on the condition that the creator is appropriately credited.'}, 'icon': 'cc-by-icon', 'props': {'url': 'https://creativecommons.org/licenses/by/4.0/', 'scheme': 'spdx'}}]}, 'custom_fields': {}, 'access': {'record': 'public', 'files': 'public', 'embargo': {'active': False, 'reason': None}, 'status': 'open'}, 'files': {'enabled': True, 'order': [], 'count': 1, 'total_bytes': 23940, 'entries': {'Anon4.jpg': {'id': 'fe16d60b-edf0-4520-a8ea-1398522642c9', 'checksum': 'md5:cbc1e72173faf56f8bea2276db0c636a', 'ext': 'jpg', 'size': 23940, 'mimetype': 'image/jpeg', 'key': 'Anon4.jpg', 'metadata': {'width': 360, 'height': 240}, 'access': {'hidden': False}}}}, 'media_files': {'enabled': False, 'order': [], 'count': 0, 'total_bytes': 0, 'entries': {}}, 'status': 'published', 'deletion_status': {'is_deleted': False, 'status': 'P'}, 'stats': {'this_version': {'views': 0, 'unique_views': 0, 'downloads': 0, 'unique_downloads': 0, 'data_volume': 0.0}, 'all_versions': {'views': 0, 'unique_views': 0, 'downloads': 0, 'unique_downloads': 0, 'data_volume': 0.0}}}, {'id': '0ra7c-m2p44', 'created': '2025-07-03T15:50:38.171914+00:00', 'updated': '2025-07-03T15:50:38.280768+00:00', 'links': {'self': 'https://inveniordm.web.cern.ch/api/records/0ra7c-m2p44', 'self_html': 'https://inveniordm.web.cern.ch/records/0ra7c-m2p44', 'self_doi': 'https://inveniordm.web.cern.ch/doi/10.81088/0ra7c-m2p44', 'doi': 'https://handle.stage.datacite.org/10.81088/0ra7c-m2p44', 'parent': 'https://inveniordm.web.cern.ch/api/records/51b00-0js76', 'parent_html': 'https://inveniordm.web.cern.ch/records/51b00-0js76', 'parent_doi': 'https://inveniordm.web.cern.ch/doi/10.81088/51b00-0js76', 'self_iiif_manifest': 'https://inveniordm.web.cern.ch/api/iiif/record:0ra7c-m2p44/manifest', 'self_iiif_sequence': 'https://inveniordm.web.cern.ch/api/iiif/record:0ra7c-m2p44/sequence/default', 'files': 'https://inveniordm.web.cern.ch/api/records/0ra7c-m2p44/files', 'media_files': 'https://inveniordm.web.cern.ch/api/records/0ra7c-m2p44/media-files', 'archive': 'https://inveniordm.web.cern.ch/api/records/0ra7c-m2p44/files-archive', 'archive_media': 'https://inveniordm.web.cern.ch/api/records/0ra7c-m2p44/media-files-archive', 'latest': 'https://inveniordm.web.cern.ch/api/records/0ra7c-m2p44/versions/latest', 'latest_html': 'https://inveniordm.web.cern.ch/records/0ra7c-m2p44/latest', 'draft': 'https://inveniordm.web.cern.ch/api/records/0ra7c-m2p44/draft', 'versions': 'https://inveniordm.web.cern.ch/api/records/0ra7c-m2p44/versions', 'access_links': 'https://inveniordm.web.cern.ch/api/records/0ra7c-m2p44/access/links', 'access_grants': 'https://inveniordm.web.cern.ch/api/records/0ra7c-m2p44/access/grants', 'access_users': 'https://inveniordm.web.cern.ch/api/records/0ra7c-m2p44/access/users', 'access_groups': 'https://inveniordm.web.cern.ch/api/records/0ra7c-m2p44/access/groups', 'access_request': 'https://inveniordm.web.cern.ch/api/records/0ra7c-m2p44/access/request', 'access': 'https://inveniordm.web.cern.ch/api/records/0ra7c-m2p44/access', 'reserve_doi': 'https://inveniordm.web.cern.ch/api/records/0ra7c-m2p44/draft/pids/doi', 'communities': 'https://inveniordm.web.cern.ch/api/records/0ra7c-m2p44/communities', 'communities-suggestions': 'https://inveniordm.web.cern.ch/api/records/0ra7c-m2p44/communities-suggestions', 'requests': 'https://inveniordm.web.cern.ch/api/records/0ra7c-m2p44/requests'}, 'revision_id': 4, 'parent': {'id': '51b00-0js76', 'access': {'owned_by': {'user': '122'}, 'settings': {'allow_user_requests': False, 'allow_guest_requests': False, 'accept_conditions_text': None, 'secret_link_expiration': 0}}, 'communities': {}, 'pids': {'doi': {'identifier': '10.81088/51b00-0js76', 'provider': 'datacite', 'client': 'datacite'}}}, 'versions': {'is_latest': True, 'index': 1}, 'is_published': True, 'is_draft': False, 'pids': {'doi': {'identifier': '10.81088/0ra7c-m2p44', 'provider': 'datacite', 'client': 'datacite'}, 'oai': {'identifier': 'oai:inveniordm.web.cern.ch:0ra7c-m2p44', 'provider': 'oai'}}, 'metadata': {'resource_type': {'id': 'other', 'title': {'de': 'Sonstige', 'en': 'Other', 'sv': 'Övrig'}}, 'creators': [{'person_or_org': {'type': 'personal', 'name': 'perspiciatis', 'family_name': 'perspiciatis'}}], 'title': 'Caterva stultus vado ait valeo libero arcus fugiat ulciscor.', 'publisher': 'CERN', 'publication_date': '2025-07-03', 'rights': [{'id': 'cc-by-4.0', 'title': {'en': 'Creative Commons Attribution 4.0 International'}, 'description': {'en': 'The Creative Commons Attribution license allows re-distribution and re-use of a licensed work on the condition that the creator is appropriately credited.'}, 'icon': 'cc-by-icon', 'props': {'url': 'https://creativecommons.org/licenses/by/4.0/', 'scheme': 'spdx'}}]}, 'custom_fields': {}, 'access': {'record': 'public', 'files': 'public', 'embargo': {'active': False, 'reason': None}, 'status': 'open'}, 'files': {'enabled': True, 'order': [], 'count': 1, 'total_bytes': 51227, 'entries': {'Anon2.jpg': {'id': '397a6af7-b42e-4748-8275-a2b0e98612db', 'checksum': 'md5:ffa2a7b9c71c139aacc781d158fffa8b', 'ext': 'jpg', 'size': 51227, 'mimetype': 'image/jpeg', 'key': 'Anon2.jpg', 'metadata': {'width': 445, 'height': 240}, 'access': {'hidden': False}}}}, 'media_files': {'enabled': False, 'order': [], 'count': 0, 'total_bytes': 0, 'entries': {}}, 'status': 'published', 'deletion_status': {'is_deleted': False, 'status': 'P'}, 'stats': {'this_version': {'views': 0, 'unique_views': 0, 'downloads': 0, 'unique_downloads': 0, 'data_volume': 0.0}, 'all_versions': {'views': 0, 'unique_views': 0, 'downloads': 0, 'unique_downloads': 0, 'data_volume': 0.0}}}, {'id': '9hk6z-feb77', 'created': '2025-07-02T10:32:31.201476+00:00', 'updated': '2025-07-02T10:32:31.266512+00:00', 'links': {'self': 'https://inveniordm.web.cern.ch/api/records/9hk6z-feb77', 'self_html': 'https://inveniordm.web.cern.ch/records/9hk6z-feb77', 'self_doi': 'https://inveniordm.web.cern.ch/doi/10.81088/9hk6z-feb77', 'doi': 'https://handle.stage.datacite.org/10.81088/9hk6z-feb77', 'parent': 'https://inveniordm.web.cern.ch/api/records/vvdsv-0bm32', 'parent_html': 'https://inveniordm.web.cern.ch/records/vvdsv-0bm32', 'parent_doi': 'https://inveniordm.web.cern.ch/doi/10.81088/vvdsv-0bm32', 'self_iiif_manifest': 'https://inveniordm.web.cern.ch/api/iiif/record:9hk6z-feb77/manifest', 'self_iiif_sequence': 'https://inveniordm.web.cern.ch/api/iiif/record:9hk6z-feb77/sequence/default', 'files': 'https://inveniordm.web.cern.ch/api/records/9hk6z-feb77/files', 'media_files': 'https://inveniordm.web.cern.ch/api/records/9hk6z-feb77/media-files', 'archive': 'https://inveniordm.web.cern.ch/api/records/9hk6z-feb77/files-archive', 'archive_media': 'https://inveniordm.web.cern.ch/api/records/9hk6z-feb77/media-files-archive', 'latest': 'https://inveniordm.web.cern.ch/api/records/9hk6z-feb77/versions/latest', 'latest_html': 'https://inveniordm.web.cern.ch/records/9hk6z-feb77/latest', 'draft': 'https://inveniordm.web.cern.ch/api/records/9hk6z-feb77/draft', 'versions': 'https://inveniordm.web.cern.ch/api/records/9hk6z-feb77/versions', 'access_links': 'https://inveniordm.web.cern.ch/api/records/9hk6z-feb77/access/links', 'access_grants': 'https://inveniordm.web.cern.ch/api/records/9hk6z-feb77/access/grants', 'access_users': 'https://inveniordm.web.cern.ch/api/records/9hk6z-feb77/access/users', 'access_groups': 'https://inveniordm.web.cern.ch/api/records/9hk6z-feb77/access/groups', 'access_request': 'https://inveniordm.web.cern.ch/api/records/9hk6z-feb77/access/request', 'access': 'https://inveniordm.web.cern.ch/api/records/9hk6z-feb77/access', 'reserve_doi': 'https://inveniordm.web.cern.ch/api/records/9hk6z-feb77/draft/pids/doi', 'communities': 'https://inveniordm.web.cern.ch/api/records/9hk6z-feb77/communities', 'communities-suggestions': 'https://inveniordm.web.cern.ch/api/records/9hk6z-feb77/communities-suggestions', 'requests': 'https://inveniordm.web.cern.ch/api/records/9hk6z-feb77/requests'}, 'revision_id': 4, 'parent': {'id': 'vvdsv-0bm32', 'access': {'owned_by': {'user': '122'}, 'settings': {'allow_user_requests': False, 'allow_guest_requests': False, 'accept_conditions_text': None, 'secret_link_expiration': 0}}, 'communities': {}, 'pids': {'doi': {'identifier': '10.81088/vvdsv-0bm32', 'provider': 'datacite', 'client': 'datacite'}}}, 'versions': {'is_latest': True, 'index': 2}, 'is_published': True, 'is_draft': False, 'pids': {'doi': {'identifier': '10.81088/9hk6z-feb77', 'provider': 'datacite', 'client': 'datacite'}, 'oai': {'identifier': 'oai:inveniordm.web.cern.ch:9hk6z-feb77', 'provider': 'oai'}}, 'metadata': {'resource_type': {'id': 'software', 'title': {'de': 'Software', 'en': 'Software', 'sv': 'Mjukvara'}}, 'creators': [{'person_or_org': {'type': 'personal', 'name': 'virga', 'family_name': 'virga'}}], 'title': 'Aequus tripudio valeo comparo terminatio aptus charisma voluptate angustus.', 'publisher': 'CERN', 'publication_date': '2025-07-02', 'rights': [{'id': 'cc-by-4.0', 'title': {'en': 'Creative Commons Attribution 4.0 International'}, 'description': {'en': 'The Creative Commons Attribution license allows re-distribution and re-use of a licensed work on the condition that the creator is appropriately credited.'}, 'icon': 'cc-by-icon', 'props': {'url': 'https://creativecommons.org/licenses/by/4.0/', 'scheme': 'spdx'}}]}, 'custom_fields': {}, 'access': {'record': 'public', 'files': 'public', 'embargo': {'active': False, 'reason': None}, 'status': 'open'}, 'files': {'enabled': True, 'order': [], 'count': 1, 'total_bytes': 22908, 'entries': {'Anon7.jpg': {'id': 'db274fba-ff7b-4076-8f7e-02ef654c9854', 'checksum': 'md5:0e90e1b1d9afeef09e0bc4937f21e3f3', 'ext': 'jpg', 'size': 22908, 'mimetype': 'image/jpeg', 'key': 'Anon7.jpg', 'metadata': {'width': 361, 'height': 240}, 'access': {'hidden': False}}}}, 'media_files': {'enabled': False, 'order': [], 'count': 0, 'total_bytes': 0, 'entries': {}}, 'status': 'published', 'deletion_status': {'is_deleted': False, 'status': 'P'}, 'stats': {'this_version': {'views': 0, 'unique_views': 0, 'downloads': 0, 'unique_downloads': 0, 'data_volume': 0.0}, 'all_versions': {'views': 0, 'unique_views': 0, 'downloads': 0, 'unique_downloads': 0, 'data_volume': 0.0}}}, {'id': '791wv-wnk94', 'created': '2025-07-02T10:32:06.762172+00:00', 'updated': '2025-07-02T10:32:06.838708+00:00', 'links': {'self': 'https://inveniordm.web.cern.ch/api/records/791wv-wnk94', 'self_html': 'https://inveniordm.web.cern.ch/records/791wv-wnk94', 'self_doi': 'https://inveniordm.web.cern.ch/doi/10.81088/791wv-wnk94', 'doi': 'https://handle.stage.datacite.org/10.81088/791wv-wnk94', 'parent': 'https://inveniordm.web.cern.ch/api/records/pj5xm-gfw73', 'parent_html': 'https://inveniordm.web.cern.ch/records/pj5xm-gfw73', 'parent_doi': 'https://inveniordm.web.cern.ch/doi/10.81088/pj5xm-gfw73', 'self_iiif_manifest': 'https://inveniordm.web.cern.ch/api/iiif/record:791wv-wnk94/manifest', 'self_iiif_sequence': 'https://inveniordm.web.cern.ch/api/iiif/record:791wv-wnk94/sequence/default', 'files': 'https://inveniordm.web.cern.ch/api/records/791wv-wnk94/files', 'media_files': 'https://inveniordm.web.cern.ch/api/records/791wv-wnk94/media-files', 'archive': 'https://inveniordm.web.cern.ch/api/records/791wv-wnk94/files-archive', 'archive_media': 'https://inveniordm.web.cern.ch/api/records/791wv-wnk94/media-files-archive', 'latest': 'https://inveniordm.web.cern.ch/api/records/791wv-wnk94/versions/latest', 'latest_html': 'https://inveniordm.web.cern.ch/records/791wv-wnk94/latest', 'draft': 'https://inveniordm.web.cern.ch/api/records/791wv-wnk94/draft', 'versions': 'https://inveniordm.web.cern.ch/api/records/791wv-wnk94/versions', 'access_links': 'https://inveniordm.web.cern.ch/api/records/791wv-wnk94/access/links', 'access_grants': 'https://inveniordm.web.cern.ch/api/records/791wv-wnk94/access/grants', 'access_users': 'https://inveniordm.web.cern.ch/api/records/791wv-wnk94/access/users', 'access_groups': 'https://inveniordm.web.cern.ch/api/records/791wv-wnk94/access/groups', 'access_request': 'https://inveniordm.web.cern.ch/api/records/791wv-wnk94/access/request', 'access': 'https://inveniordm.web.cern.ch/api/records/791wv-wnk94/access', 'reserve_doi': 'https://inveniordm.web.cern.ch/api/records/791wv-wnk94/draft/pids/doi', 'communities': 'https://inveniordm.web.cern.ch/api/records/791wv-wnk94/communities', 'communities-suggestions': 'https://inveniordm.web.cern.ch/api/records/791wv-wnk94/communities-suggestions', 'requests': 'https://inveniordm.web.cern.ch/api/records/791wv-wnk94/requests'}, 'revision_id': 4, 'parent': {'id': 'pj5xm-gfw73', 'access': {'owned_by': {'user': '122'}, 'settings': {'allow_user_requests': False, 'allow_guest_requests': False, 'accept_conditions_text': None, 'secret_link_expiration': 0}}, 'communities': {}, 'pids': {'doi': {'identifier': '10.81088/pj5xm-gfw73', 'provider': 'datacite', 'client': 'datacite'}}}, 'versions': {'is_latest': True, 'index': 1}, 'is_published': True, 'is_draft': False, 'pids': {'doi': {'identifier': '10.81088/791wv-wnk94', 'provider': 'datacite', 'client': 'datacite'}, 'oai': {'identifier': 'oai:inveniordm.web.cern.ch:791wv-wnk94', 'provider': 'oai'}}, 'metadata': {'resource_type': {'id': 'poster', 'title': {'de': 'Poster', 'en': 'Poster', 'sv': 'Poster'}}, 'creators': [{'person_or_org': {'type': 'personal', 'name': 'cariosus', 'family_name': 'cariosus'}}], 'title': 'Pauci cultura clementia accedo artificiose adulescens confido velut viduo avarus.', 'publisher': 'CERN', 'publication_date': '2025-07-02', 'rights': [{'id': 'cc-by-4.0', 'title': {'en': 'Creative Commons Attribution 4.0 International'}, 'description': {'en': 'The Creative Commons Attribution license allows re-distribution and re-use of a licensed work on the condition that the creator is appropriately credited.'}, 'icon': 'cc-by-icon', 'props': {'url': 'https://creativecommons.org/licenses/by/4.0/', 'scheme': 'spdx'}}]}, 'custom_fields': {}, 'access': {'record': 'public', 'files': 'public', 'embargo': {'active': False, 'reason': None}, 'status': 'open'}, 'files': {'enabled': True, 'order': [], 'count': 1, 'total_bytes': 18465, 'entries': {'Anon5.jpg': {'id': '75e7f540-1b09-4893-93c3-7df0e9939595', 'checksum': 'md5:2bf1bb14f205b6dde6de8553e0270a57', 'ext': 'jpg', 'size': 18465, 'mimetype': 'image/jpeg', 'key': 'Anon5.jpg', 'metadata': {}, 'access': {'hidden': False}}}}, 'media_files': {'enabled': False, 'order': [], 'count': 0, 'total_bytes': 0, 'entries': {}}, 'status': 'published', 'deletion_status': {'is_deleted': False, 'status': 'P'}, 'stats': {'this_version': {'views': 0, 'unique_views': 0, 'downloads': 0, 'unique_downloads': 0, 'data_volume': 0.0}, 'all_versions': {'views': 0, 'unique_views': 0, 'downloads': 0, 'unique_downloads': 0, 'data_volume': 0.0}}}, {'id': 'vyykv-17227', 'created': '2025-07-02T10:31:29.432126+00:00', 'updated': '2025-07-02T10:31:29.513839+00:00', 'links': {'self': 'https://inveniordm.web.cern.ch/api/records/vyykv-17227', 'self_html': 'https://inveniordm.web.cern.ch/records/vyykv-17227', 'self_doi': 'https://inveniordm.web.cern.ch/doi/10.81088/vyykv-17227', 'doi': 'https://handle.stage.datacite.org/10.81088/vyykv-17227', 'parent': 'https://inveniordm.web.cern.ch/api/records/1qsyt-kkz81', 'parent_html': 'https://inveniordm.web.cern.ch/records/1qsyt-kkz81', 'parent_doi': 'https://inveniordm.web.cern.ch/doi/10.81088/1qsyt-kkz81', 'self_iiif_manifest': 'https://inveniordm.web.cern.ch/api/iiif/record:vyykv-17227/manifest', 'self_iiif_sequence': 'https://inveniordm.web.cern.ch/api/iiif/record:vyykv-17227/sequence/default', 'files': 'https://inveniordm.web.cern.ch/api/records/vyykv-17227/files', 'media_files': 'https://inveniordm.web.cern.ch/api/records/vyykv-17227/media-files', 'archive': 'https://inveniordm.web.cern.ch/api/records/vyykv-17227/files-archive', 'archive_media': 'https://inveniordm.web.cern.ch/api/records/vyykv-17227/media-files-archive', 'latest': 'https://inveniordm.web.cern.ch/api/records/vyykv-17227/versions/latest', 'latest_html': 'https://inveniordm.web.cern.ch/records/vyykv-17227/latest', 'draft': 'https://inveniordm.web.cern.ch/api/records/vyykv-17227/draft', 'versions': 'https://inveniordm.web.cern.ch/api/records/vyykv-17227/versions', 'access_links': 'https://inveniordm.web.cern.ch/api/records/vyykv-17227/access/links', 'access_grants': 'https://inveniordm.web.cern.ch/api/records/vyykv-17227/access/grants', 'access_users': 'https://inveniordm.web.cern.ch/api/records/vyykv-17227/access/users', 'access_groups': 'https://inveniordm.web.cern.ch/api/records/vyykv-17227/access/groups', 'access_request': 'https://inveniordm.web.cern.ch/api/records/vyykv-17227/access/request', 'access': 'https://inveniordm.web.cern.ch/api/records/vyykv-17227/access', 'reserve_doi': 'https://inveniordm.web.cern.ch/api/records/vyykv-17227/draft/pids/doi', 'communities': 'https://inveniordm.web.cern.ch/api/records/vyykv-17227/communities', 'communities-suggestions': 'https://inveniordm.web.cern.ch/api/records/vyykv-17227/communities-suggestions', 'requests': 'https://inveniordm.web.cern.ch/api/records/vyykv-17227/requests'}, 'revision_id': 4, 'parent': {'id': '1qsyt-kkz81', 'access': {'owned_by': {'user': '122'}, 'settings': {'allow_user_requests': False, 'allow_guest_requests': False, 'accept_conditions_text': None, 'secret_link_expiration': 0}}, 'communities': {'ids': ['dff5c0fc-f8c3-4677-a99f-1e9912a44552'], 'default': 'dff5c0fc-f8c3-4677-a99f-1e9912a44552', 'entries': [{'id': 'dff5c0fc-f8c3-4677-a99f-1e9912a44552', 'created': '2025-07-02T10:31:11.889296+00:00', 'updated': '2025-07-02T10:31:12.103132+00:00', 'links': {}, 'revision_id': 2, 'slug': 'utilis_60185', 'metadata': {'title': 'solium'}, 'access': {'visibility': 'public', 'members_visibility': 'public', 'member_policy': 'open', 'record_policy': 'open', 'review_policy': 'closed'}, 'deletion_status': {'is_deleted': False, 'status': 'P'}, 'children': {'allow': False}}]}, 'pids': {'doi': {'identifier': '10.81088/1qsyt-kkz81', 'provider': 'datacite', 'client': 'datacite'}}}, 'versions': {'is_latest': True, 'index': 1}, 'is_published': True, 'is_draft': False, 'pids': {'doi': {'identifier': '10.81088/vyykv-17227', 'provider': 'datacite', 'client': 'datacite'}, 'oai': {'identifier': 'oai:inveniordm.web.cern.ch:vyykv-17227', 'provider': 'oai'}}, 'metadata': {'resource_type': {'id': 'audio', 'title': {'de': 'Audio', 'en': 'Audio', 'sv': 'Audio'}}, 'creators': [{'person_or_org': {'type': 'personal', 'name': 'defero', 'family_name': 'defero'}}], 'title': 'Adopto maxime temperantia vilicus.', 'publisher': 'CERN', 'publication_date': '2025-07-02', 'rights': [{'id': 'cc-by-4.0', 'title': {'en': 'Creative Commons Attribution 4.0 International'}, 'description': {'en': 'The Creative Commons Attribution license allows re-distribution and re-use of a licensed work on the condition that the creator is appropriately credited.'}, 'icon': 'cc-by-icon', 'props': {'url': 'https://creativecommons.org/licenses/by/4.0/', 'scheme': 'spdx'}}]}, 'custom_fields': {}, 'access': {'record': 'public', 'files': 'public', 'embargo': {'active': False, 'reason': None}, 'status': 'open'}, 'files': {'enabled': True, 'order': [], 'count': 1, 'total_bytes': 105042, 'entries': {'Anon6.jpg': {'id': '1ea070d0-0ab5-489a-8eff-3335050ad40a', 'checksum': 'md5:7e41b92644f0a69caf5ad13b780a141c', 'ext': 'jpg', 'size': 105042, 'mimetype': 'image/jpeg', 'key': 'Anon6.jpg', 'metadata': {'width': 427, 'height': 240}, 'access': {'hidden': False}}}}, 'media_files': {'enabled': False, 'order': [], 'count': 0, 'total_bytes': 0, 'entries': {}}, 'status': 'published', 'deletion_status': {'is_deleted': False, 'status': 'P'}, 'stats': {'this_version': {'views': 0, 'unique_views': 0, 'downloads': 0, 'unique_downloads': 0, 'data_volume': 0.0}, 'all_versions': {'views': 0, 'unique_views': 0, 'downloads': 0, 'unique_downloads': 0, 'data_volume': 0.0}}}, {'id': 'ycyz2-et492', 'created': '2025-07-02T10:30:42.843563+00:00', 'updated': '2025-07-03T00:02:01.279601+00:00', 'links': {'self': 'https://inveniordm.web.cern.ch/api/records/ycyz2-et492', 'self_html': 'https://inveniordm.web.cern.ch/records/ycyz2-et492', 'self_doi': 'https://inveniordm.web.cern.ch/doi/10.81088/ycyz2-et492', 'doi': 'https://handle.stage.datacite.org/10.81088/ycyz2-et492', 'parent': 'https://inveniordm.web.cern.ch/api/records/m67d1-nyt68', 'parent_html': 'https://inveniordm.web.cern.ch/records/m67d1-nyt68', 'parent_doi': 'https://inveniordm.web.cern.ch/doi/10.81088/m67d1-nyt68', 'self_iiif_manifest': 'https://inveniordm.web.cern.ch/api/iiif/record:ycyz2-et492/manifest', 'self_iiif_sequence': 'https://inveniordm.web.cern.ch/api/iiif/record:ycyz2-et492/sequence/default', 'files': 'https://inveniordm.web.cern.ch/api/records/ycyz2-et492/files', 'media_files': 'https://inveniordm.web.cern.ch/api/records/ycyz2-et492/media-files', 'archive': 'https://inveniordm.web.cern.ch/api/records/ycyz2-et492/files-archive', 'archive_media': 'https://inveniordm.web.cern.ch/api/records/ycyz2-et492/media-files-archive', 'latest': 'https://inveniordm.web.cern.ch/api/records/ycyz2-et492/versions/latest', 'latest_html': 'https://inveniordm.web.cern.ch/records/ycyz2-et492/latest', 'draft': 'https://inveniordm.web.cern.ch/api/records/ycyz2-et492/draft', 'versions': 'https://inveniordm.web.cern.ch/api/records/ycyz2-et492/versions', 'access_links': 'https://inveniordm.web.cern.ch/api/records/ycyz2-et492/access/links', 'access_grants': 'https://inveniordm.web.cern.ch/api/records/ycyz2-et492/access/grants', 'access_users': 'https://inveniordm.web.cern.ch/api/records/ycyz2-et492/access/users', 'access_groups': 'https://inveniordm.web.cern.ch/api/records/ycyz2-et492/access/groups', 'access_request': 'https://inveniordm.web.cern.ch/api/records/ycyz2-et492/access/request', 'access': 'https://inveniordm.web.cern.ch/api/records/ycyz2-et492/access', 'reserve_doi': 'https://inveniordm.web.cern.ch/api/records/ycyz2-et492/draft/pids/doi', 'communities': 'https://inveniordm.web.cern.ch/api/records/ycyz2-et492/communities', 'communities-suggestions': 'https://inveniordm.web.cern.ch/api/records/ycyz2-et492/communities-suggestions', 'requests': 'https://inveniordm.web.cern.ch/api/records/ycyz2-et492/requests'}, 'revision_id': 6, 'parent': {'id': 'm67d1-nyt68', 'access': {'owned_by': {'user': '122'}, 'settings': {'allow_user_requests': False, 'allow_guest_requests': False, 'accept_conditions_text': None, 'secret_link_expiration': 0}}, 'communities': {'ids': ['fa25b11e-4310-4176-82f9-1f12002a67db'], 'default': 'fa25b11e-4310-4176-82f9-1f12002a67db', 'entries': [{'id': 'fa25b11e-4310-4176-82f9-1f12002a67db', 'created': '2025-07-02T10:29:53.806431+00:00', 'updated': '2025-07-02T10:29:53.952935+00:00', 'links': {}, 'revision_id': 2, 'slug': 'vulticulus_163783', 'metadata': {'title': 'constans'}, 'access': {'visibility': 'public', 'members_visibility': 'public', 'member_policy': 'open', 'record_policy': 'open', 'review_policy': 'closed'}, 'deletion_status': {'is_deleted': False, 'status': 'P'}, 'children': {'allow': False}}]}, 'pids': {'doi': {'identifier': '10.81088/m67d1-nyt68', 'provider': 'datacite', 'client': 'datacite'}}}, 'versions': {'is_latest': True, 'index': 1}, 'is_published': True, 'is_draft': False, 'pids': {'doi': {'identifier': '10.81088/ycyz2-et492', 'provider': 'datacite', 'client': 'datacite'}}, 'metadata': {'resource_type': {'id': 'image', 'title': {'de': 'Bild', 'en': 'Image', 'sv': 'Bild'}}, 'creators': [{'person_or_org': {'type': 'personal', 'name': 'deinde', 'family_name': 'deinde'}}], 'title': 'Cibus voro cunabula supplanto curia.', 'publisher': 'CERN', 'publication_date': '2025-07-02', 'rights': [{'id': 'cc-by-4.0', 'title': {'en': 'Creative Commons Attribution 4.0 International'}, 'description': {'en': 'The Creative Commons Attribution license allows re-distribution and re-use of a licensed work on the condition that the creator is appropriately credited.'}, 'icon': 'cc-by-icon', 'props': {'url': 'https://creativecommons.org/licenses/by/4.0/', 'scheme': 'spdx'}}]}, 'custom_fields': {}, 'access': {'record': 'public', 'files': 'public', 'embargo': {'active': False, 'until': '2025-07-03', 'reason': 'Nemo sui sumo vallum.'}, 'status': 'open'}, 'files': {'enabled': True, 'order': [], 'count': 1, 'total_bytes': 9080, 'entries': {'Anon.jpg': {'id': '4a437f0b-b4ed-4da2-9468-9b46df1cf8d5', 'checksum': 'md5:71a117a38b56abe7e765a6705f146d34', 'ext': 'jpg', 'size': 9080, 'mimetype': 'image/jpeg', 'key': 'Anon.jpg', 'metadata': {'width': 360, 'height': 240}, 'access': {'hidden': False}}}}, 'media_files': {'enabled': False, 'order': [], 'count': 0, 'total_bytes': 0, 'entries': {}}, 'status': 'published', 'deletion_status': {'is_deleted': False, 'status': 'P'}, 'stats': {'this_version': {'views': 0, 'unique_views': 0, 'downloads': 0, 'unique_downloads': 0, 'data_volume': 0.0}, 'all_versions': {'views': 0, 'unique_views': 0, 'downloads': 0, 'unique_downloads': 0, 'data_volume': 0.0}}}, {'id': '7w1rx-0rr07', 'created': '2025-07-02T10:30:26.583436+00:00', 'updated': '2025-07-02T10:30:26.636417+00:00', 'links': {'self': 'https://inveniordm.web.cern.ch/api/records/7w1rx-0rr07', 'self_html': 'https://inveniordm.web.cern.ch/records/7w1rx-0rr07', 'self_doi': 'https://inveniordm.web.cern.ch/doi/10.81088/7w1rx-0rr07', 'doi': 'https://handle.stage.datacite.org/10.81088/7w1rx-0rr07', 'parent': 'https://inveniordm.web.cern.ch/api/records/v75np-xwv71', 'parent_html': 'https://inveniordm.web.cern.ch/records/v75np-xwv71', 'parent_doi': 'https://inveniordm.web.cern.ch/doi/10.81088/v75np-xwv71', 'self_iiif_manifest': 'https://inveniordm.web.cern.ch/api/iiif/record:7w1rx-0rr07/manifest', 'self_iiif_sequence': 'https://inveniordm.web.cern.ch/api/iiif/record:7w1rx-0rr07/sequence/default', 'files': 'https://inveniordm.web.cern.ch/api/records/7w1rx-0rr07/files', 'media_files': 'https://inveniordm.web.cern.ch/api/records/7w1rx-0rr07/media-files', 'archive': 'https://inveniordm.web.cern.ch/api/records/7w1rx-0rr07/files-archive', 'archive_media': 'https://inveniordm.web.cern.ch/api/records/7w1rx-0rr07/media-files-archive', 'latest': 'https://inveniordm.web.cern.ch/api/records/7w1rx-0rr07/versions/latest', 'latest_html': 'https://inveniordm.web.cern.ch/records/7w1rx-0rr07/latest', 'draft': 'https://inveniordm.web.cern.ch/api/records/7w1rx-0rr07/draft', 'versions': 'https://inveniordm.web.cern.ch/api/records/7w1rx-0rr07/versions', 'access_links': 'https://inveniordm.web.cern.ch/api/records/7w1rx-0rr07/access/links', 'access_grants': 'https://inveniordm.web.cern.ch/api/records/7w1rx-0rr07/access/grants', 'access_users': 'https://inveniordm.web.cern.ch/api/records/7w1rx-0rr07/access/users', 'access_groups': 'https://inveniordm.web.cern.ch/api/records/7w1rx-0rr07/access/groups', 'access_request': 'https://inveniordm.web.cern.ch/api/records/7w1rx-0rr07/access/request', 'access': 'https://inveniordm.web.cern.ch/api/records/7w1rx-0rr07/access', 'reserve_doi': 'https://inveniordm.web.cern.ch/api/records/7w1rx-0rr07/draft/pids/doi', 'communities': 'https://inveniordm.web.cern.ch/api/records/7w1rx-0rr07/communities', 'communities-suggestions': 'https://inveniordm.web.cern.ch/api/records/7w1rx-0rr07/communities-suggestions', 'requests': 'https://inveniordm.web.cern.ch/api/records/7w1rx-0rr07/requests'}, 'revision_id': 3, 'parent': {'id': 'v75np-xwv71', 'access': {'owned_by': {'user': '122'}, 'settings': {'allow_user_requests': False, 'allow_guest_requests': False, 'accept_conditions_text': None, 'secret_link_expiration': 0}}, 'communities': {'ids': ['fa25b11e-4310-4176-82f9-1f12002a67db'], 'default': 'fa25b11e-4310-4176-82f9-1f12002a67db', 'entries': [{'id': 'fa25b11e-4310-4176-82f9-1f12002a67db', 'created': '2025-07-02T10:29:53.806431+00:00', 'updated': '2025-07-02T10:29:53.952935+00:00', 'links': {}, 'revision_id': 2, 'slug': 'vulticulus_163783', 'metadata': {'title': 'constans'}, 'access': {'visibility': 'public', 'members_visibility': 'public', 'member_policy': 'open', 'record_policy': 'open', 'review_policy': 'closed'}, 'deletion_status': {'is_deleted': False, 'status': 'P'}, 'children': {'allow': False}}]}, 'pids': {'doi': {'identifier': '10.81088/v75np-xwv71', 'provider': 'datacite', 'client': 'datacite'}}}, 'versions': {'is_latest': True, 'index': 1}, 'is_published': True, 'is_draft': False, 'pids': {'doi': {'identifier': '10.81088/7w1rx-0rr07', 'provider': 'datacite', 'client': 'datacite'}, 'oai': {'identifier': 'oai:inveniordm.web.cern.ch:7w1rx-0rr07', 'provider': 'oai'}}, 'metadata': {'resource_type': {'id': 'image', 'title': {'de': 'Bild', 'en': 'Image', 'sv': 'Bild'}}, 'creators': [{'person_or_org': {'type': 'personal', 'name': 'concedo', 'family_name': 'concedo'}}], 'title': 'Antepono vilitas adstringo amiculum debilito.', 'publisher': 'CERN', 'publication_date': '2025-07-02', 'rights': [{'id': 'cc-by-4.0', 'title': {'en': 'Creative Commons Attribution 4.0 International'}, 'description': {'en': 'The Creative Commons Attribution license allows re-distribution and re-use of a licensed work on the condition that the creator is appropriately credited.'}, 'icon': 'cc-by-icon', 'props': {'url': 'https://creativecommons.org/licenses/by/4.0/', 'scheme': 'spdx'}}]}, 'custom_fields': {}, 'access': {'record': 'public', 'files': 'public', 'embargo': {'active': False, 'reason': None}, 'status': 'metadata-only'}, 'files': {'enabled': False, 'order': [], 'count': 0, 'total_bytes': 0, 'entries': {}}, 'media_files': {'enabled': False, 'order': [], 'count': 0, 'total_bytes': 0, 'entries': {}}, 'status': 'published', 'deletion_status': {'is_deleted': False, 'status': 'P'}, 'stats': {'this_version': {'views': 0, 'unique_views': 0, 'downloads': 0, 'unique_downloads': 0, 'data_volume': 0.0}, 'all_versions': {'views': 0, 'unique_views': 0, 'downloads': 0, 'unique_downloads': 0, 'data_volume': 0.0}}}, {'id': 'bzn1v-hq980', 'created': '2025-07-02T10:30:12.381188+00:00', 'updated': '2025-07-02T10:30:12.465816+00:00', 'links': {'self': 'https://inveniordm.web.cern.ch/api/records/bzn1v-hq980', 'self_html': 'https://inveniordm.web.cern.ch/records/bzn1v-hq980', 'self_doi': 'https://inveniordm.web.cern.ch/doi/10.81088/bzn1v-hq980', 'doi': 'https://handle.stage.datacite.org/10.81088/bzn1v-hq980', 'parent': 'https://inveniordm.web.cern.ch/api/records/8m8ba-7fd39', 'parent_html': 'https://inveniordm.web.cern.ch/records/8m8ba-7fd39', 'parent_doi': 'https://inveniordm.web.cern.ch/doi/10.81088/8m8ba-7fd39', 'self_iiif_manifest': 'https://inveniordm.web.cern.ch/api/iiif/record:bzn1v-hq980/manifest', 'self_iiif_sequence': 'https://inveniordm.web.cern.ch/api/iiif/record:bzn1v-hq980/sequence/default', 'files': 'https://inveniordm.web.cern.ch/api/records/bzn1v-hq980/files', 'media_files': 'https://inveniordm.web.cern.ch/api/records/bzn1v-hq980/media-files', 'archive': 'https://inveniordm.web.cern.ch/api/records/bzn1v-hq980/files-archive', 'archive_media': 'https://inveniordm.web.cern.ch/api/records/bzn1v-hq980/media-files-archive', 'latest': 'https://inveniordm.web.cern.ch/api/records/bzn1v-hq980/versions/latest', 'latest_html': 'https://inveniordm.web.cern.ch/records/bzn1v-hq980/latest', 'draft': 'https://inveniordm.web.cern.ch/api/records/bzn1v-hq980/draft', 'versions': 'https://inveniordm.web.cern.ch/api/records/bzn1v-hq980/versions', 'access_links': 'https://inveniordm.web.cern.ch/api/records/bzn1v-hq980/access/links', 'access_grants': 'https://inveniordm.web.cern.ch/api/records/bzn1v-hq980/access/grants', 'access_users': 'https://inveniordm.web.cern.ch/api/records/bzn1v-hq980/access/users', 'access_groups': 'https://inveniordm.web.cern.ch/api/records/bzn1v-hq980/access/groups', 'access_request': 'https://inveniordm.web.cern.ch/api/records/bzn1v-hq980/access/request', 'access': 'https://inveniordm.web.cern.ch/api/records/bzn1v-hq980/access', 'reserve_doi': 'https://inveniordm.web.cern.ch/api/records/bzn1v-hq980/draft/pids/doi', 'communities': 'https://inveniordm.web.cern.ch/api/records/bzn1v-hq980/communities', 'communities-suggestions': 'https://inveniordm.web.cern.ch/api/records/bzn1v-hq980/communities-suggestions', 'requests': 'https://inveniordm.web.cern.ch/api/records/bzn1v-hq980/requests'}, 'revision_id': 4, 'parent': {'id': '8m8ba-7fd39', 'access': {'owned_by': {'user': '122'}, 'settings': {'allow_user_requests': False, 'allow_guest_requests': False, 'accept_conditions_text': None, 'secret_link_expiration': 0}}, 'communities': {'ids': ['fa25b11e-4310-4176-82f9-1f12002a67db'], 'default': 'fa25b11e-4310-4176-82f9-1f12002a67db', 'entries': [{'id': 'fa25b11e-4310-4176-82f9-1f12002a67db', 'created': '2025-07-02T10:29:53.806431+00:00', 'updated': '2025-07-02T10:29:53.952935+00:00', 'links': {}, 'revision_id': 2, 'slug': 'vulticulus_163783', 'metadata': {'title': 'constans'}, 'access': {'visibility': 'public', 'members_visibility': 'public', 'member_policy': 'open', 'record_policy': 'open', 'review_policy': 'closed'}, 'deletion_status': {'is_deleted': False, 'status': 'P'}, 'children': {'allow': False}}]}, 'pids': {'doi': {'identifier': '10.81088/8m8ba-7fd39', 'provider': 'datacite', 'client': 'datacite'}}}, 'versions': {'is_latest': True, 'index': 1}, 'is_published': True, 'is_draft': False, 'pids': {'doi': {'identifier': '10.81088/bzn1v-hq980', 'provider': 'datacite', 'client': 'datacite'}, 'oai': {'identifier': 'oai:inveniordm.web.cern.ch:bzn1v-hq980', 'provider': 'oai'}}, 'metadata': {'resource_type': {'id': 'image', 'title': {'de': 'Bild', 'en': 'Image', 'sv': 'Bild'}}, 'creators': [{'person_or_org': {'type': 'personal', 'name': 'caste', 'family_name': 'caste'}}], 'title': 'Depraedor curis cuppedia abbas deleniti ullam.', 'publisher': 'CERN', 'publication_date': '2025-07-02', 'rights': [{'id': 'cc-by-4.0', 'title': {'en': 'Creative Commons Attribution 4.0 International'}, 'description': {'en': 'The Creative Commons Attribution license allows re-distribution and re-use of a licensed work on the condition that the creator is appropriately credited.'}, 'icon': 'cc-by-icon', 'props': {'url': 'https://creativecommons.org/licenses/by/4.0/', 'scheme': 'spdx'}}]}, 'custom_fields': {}, 'access': {'record': 'public', 'files': 'public', 'embargo': {'active': False, 'reason': None}, 'status': 'open'}, 'files': {'enabled': True, 'order': [], 'count': 1, 'total_bytes': 18465, 'entries': {'Anon5.jpg': {'id': '4059549a-d245-4ab2-b1b0-f0d17507fff7', 'checksum': 'md5:2bf1bb14f205b6dde6de8553e0270a57', 'ext': 'jpg', 'size': 18465, 'mimetype': 'image/jpeg', 'key': 'Anon5.jpg', 'metadata': {'width': 429, 'height': 240}, 'access': {'hidden': False}}}}, 'media_files': {'enabled': False, 'order': [], 'count': 0, 'total_bytes': 0, 'entries': {}}, 'status': 'published', 'deletion_status': {'is_deleted': False, 'status': 'P'}, 'stats': {'this_version': {'views': 0, 'unique_views': 0, 'downloads': 0, 'unique_downloads': 0, 'data_volume': 0.0}, 'all_versions': {'views': 0, 'unique_views': 0, 'downloads': 0, 'unique_downloads': 0, 'data_volume': 0.0}}}, {'id': 'd774v-xfs93', 'created': '2025-07-02T10:29:18.937189+00:00', 'updated': '2025-07-02T10:29:19.013279+00:00', 'links': {'self': 'https://inveniordm.web.cern.ch/api/records/d774v-xfs93', 'self_html': 'https://inveniordm.web.cern.ch/records/d774v-xfs93', 'self_doi': 'https://inveniordm.web.cern.ch/doi/10.81088/d774v-xfs93', 'doi': 'https://handle.stage.datacite.org/10.81088/d774v-xfs93', 'parent': 'https://inveniordm.web.cern.ch/api/records/b0pqj-vgq22', 'parent_html': 'https://inveniordm.web.cern.ch/records/b0pqj-vgq22', 'parent_doi': 'https://inveniordm.web.cern.ch/doi/10.81088/b0pqj-vgq22', 'self_iiif_manifest': 'https://inveniordm.web.cern.ch/api/iiif/record:d774v-xfs93/manifest', 'self_iiif_sequence': 'https://inveniordm.web.cern.ch/api/iiif/record:d774v-xfs93/sequence/default', 'files': 'https://inveniordm.web.cern.ch/api/records/d774v-xfs93/files', 'media_files': 'https://inveniordm.web.cern.ch/api/records/d774v-xfs93/media-files', 'archive': 'https://inveniordm.web.cern.ch/api/records/d774v-xfs93/files-archive', 'archive_media': 'https://inveniordm.web.cern.ch/api/records/d774v-xfs93/media-files-archive', 'latest': 'https://inveniordm.web.cern.ch/api/records/d774v-xfs93/versions/latest', 'latest_html': 'https://inveniordm.web.cern.ch/records/d774v-xfs93/latest', 'draft': 'https://inveniordm.web.cern.ch/api/records/d774v-xfs93/draft', 'versions': 'https://inveniordm.web.cern.ch/api/records/d774v-xfs93/versions', 'access_links': 'https://inveniordm.web.cern.ch/api/records/d774v-xfs93/access/links', 'access_grants': 'https://inveniordm.web.cern.ch/api/records/d774v-xfs93/access/grants', 'access_users': 'https://inveniordm.web.cern.ch/api/records/d774v-xfs93/access/users', 'access_groups': 'https://inveniordm.web.cern.ch/api/records/d774v-xfs93/access/groups', 'access_request': 'https://inveniordm.web.cern.ch/api/records/d774v-xfs93/access/request', 'access': 'https://inveniordm.web.cern.ch/api/records/d774v-xfs93/access', 'reserve_doi': 'https://inveniordm.web.cern.ch/api/records/d774v-xfs93/draft/pids/doi', 'communities': 'https://inveniordm.web.cern.ch/api/records/d774v-xfs93/communities', 'communities-suggestions': 'https://inveniordm.web.cern.ch/api/records/d774v-xfs93/communities-suggestions', 'requests': 'https://inveniordm.web.cern.ch/api/records/d774v-xfs93/requests'}, 'revision_id': 4, 'parent': {'id': 'b0pqj-vgq22', 'access': {'owned_by': {'user': '122'}, 'settings': {'allow_user_requests': False, 'allow_guest_requests': False, 'accept_conditions_text': None, 'secret_link_expiration': 0}}, 'communities': {'ids': ['d26d0ec2-c52a-41cd-b163-3eaef936f5cc'], 'default': 'd26d0ec2-c52a-41cd-b163-3eaef936f5cc', 'entries': [{'id': 'd26d0ec2-c52a-41cd-b163-3eaef936f5cc', 'created': '2025-07-02T10:29:01.675509+00:00', 'updated': '2025-07-02T10:29:01.782152+00:00', 'links': {}, 'revision_id': 2, 'slug': 'repellat_803843', 'metadata': {'title': 'ex'}, 'access': {'visibility': 'public', 'members_visibility': 'public', 'member_policy': 'open', 'record_policy': 'open', 'review_policy': 'closed'}, 'deletion_status': {'is_deleted': False, 'status': 'P'}, 'children': {'allow': False}}]}, 'pids': {'doi': {'identifier': '10.81088/b0pqj-vgq22', 'provider': 'datacite', 'client': 'datacite'}}}, 'versions': {'is_latest': True, 'index': 1}, 'is_published': True, 'is_draft': False, 'pids': {'doi': {'identifier': '10.81088/d774v-xfs93', 'provider': 'datacite', 'client': 'datacite'}, 'oai': {'identifier': 'oai:inveniordm.web.cern.ch:d774v-xfs93', 'provider': 'oai'}}, 'metadata': {'resource_type': {'id': 'poster', 'title': {'de': 'Poster', 'en': 'Poster', 'sv': 'Poster'}}, 'creators': [{'person_or_org': {'type': 'personal', 'name': 'vilitas', 'family_name': 'vilitas'}}], 'title': 'Tumultus tersus alter carmen alii tempore verecundia coadunatio dolores culpa.', 'publisher': 'CERN', 'publication_date': '2025-07-02', 'rights': [{'id': 'cc-by-4.0', 'title': {'en': 'Creative Commons Attribution 4.0 International'}, 'description': {'en': 'The Creative Commons Attribution license allows re-distribution and re-use of a licensed work on the condition that the creator is appropriately credited.'}, 'icon': 'cc-by-icon', 'props': {'url': 'https://creativecommons.org/licenses/by/4.0/', 'scheme': 'spdx'}}]}, 'custom_fields': {}, 'access': {'record': 'public', 'files': 'public', 'embargo': {'active': False, 'reason': None}, 'status': 'open'}, 'files': {'enabled': True, 'order': [], 'count': 1, 'total_bytes': 105042, 'entries': {'Anon6.jpg': {'id': 'a6dcdff0-025c-4cae-a44a-747c11e9f1d6', 'checksum': 'md5:7e41b92644f0a69caf5ad13b780a141c', 'ext': 'jpg', 'size': 105042, 'mimetype': 'image/jpeg', 'key': 'Anon6.jpg', 'metadata': {'width': 427, 'height': 240}, 'access': {'hidden': False}}}}, 'media_files': {'enabled': False, 'order': [], 'count': 0, 'total_bytes': 0, 'entries': {}}, 'status': 'published', 'deletion_status': {'is_deleted': False, 'status': 'P'}, 'stats': {'this_version': {'views': 0, 'unique_views': 0, 'downloads': 0, 'unique_downloads': 0, 'data_volume': 0.0}, 'all_versions': {'views': 0, 'unique_views': 0, 'downloads': 0, 'unique_downloads': 0, 'data_volume': 0.0}}}, {'id': 'pyfyd-vdv66', 'created': '2025-07-02T10:28:39.105032+00:00', 'updated': '2025-07-02T10:28:39.187217+00:00', 'links': {'self': 'https://inveniordm.web.cern.ch/api/records/pyfyd-vdv66', 'self_html': 'https://inveniordm.web.cern.ch/records/pyfyd-vdv66', 'self_doi': 'https://inveniordm.web.cern.ch/doi/10.81088/pyfyd-vdv66', 'doi': 'https://handle.stage.datacite.org/10.81088/pyfyd-vdv66', 'parent': 'https://inveniordm.web.cern.ch/api/records/40dbd-r9134', 'parent_html': 'https://inveniordm.web.cern.ch/records/40dbd-r9134', 'parent_doi': 'https://inveniordm.web.cern.ch/doi/10.81088/40dbd-r9134', 'self_iiif_manifest': 'https://inveniordm.web.cern.ch/api/iiif/record:pyfyd-vdv66/manifest', 'self_iiif_sequence': 'https://inveniordm.web.cern.ch/api/iiif/record:pyfyd-vdv66/sequence/default', 'files': 'https://inveniordm.web.cern.ch/api/records/pyfyd-vdv66/files', 'media_files': 'https://inveniordm.web.cern.ch/api/records/pyfyd-vdv66/media-files', 'archive': 'https://inveniordm.web.cern.ch/api/records/pyfyd-vdv66/files-archive', 'archive_media': 'https://inveniordm.web.cern.ch/api/records/pyfyd-vdv66/media-files-archive', 'latest': 'https://inveniordm.web.cern.ch/api/records/pyfyd-vdv66/versions/latest', 'latest_html': 'https://inveniordm.web.cern.ch/records/pyfyd-vdv66/latest', 'draft': 'https://inveniordm.web.cern.ch/api/records/pyfyd-vdv66/draft', 'versions': 'https://inveniordm.web.cern.ch/api/records/pyfyd-vdv66/versions', 'access_links': 'https://inveniordm.web.cern.ch/api/records/pyfyd-vdv66/access/links', 'access_grants': 'https://inveniordm.web.cern.ch/api/records/pyfyd-vdv66/access/grants', 'access_users': 'https://inveniordm.web.cern.ch/api/records/pyfyd-vdv66/access/users', 'access_groups': 'https://inveniordm.web.cern.ch/api/records/pyfyd-vdv66/access/groups', 'access_request': 'https://inveniordm.web.cern.ch/api/records/pyfyd-vdv66/access/request', 'access': 'https://inveniordm.web.cern.ch/api/records/pyfyd-vdv66/access', 'reserve_doi': 'https://inveniordm.web.cern.ch/api/records/pyfyd-vdv66/draft/pids/doi', 'communities': 'https://inveniordm.web.cern.ch/api/records/pyfyd-vdv66/communities', 'communities-suggestions': 'https://inveniordm.web.cern.ch/api/records/pyfyd-vdv66/communities-suggestions', 'requests': 'https://inveniordm.web.cern.ch/api/records/pyfyd-vdv66/requests'}, 'revision_id': 4, 'parent': {'id': '40dbd-r9134', 'access': {'owned_by': {'user': '122'}, 'settings': {'allow_user_requests': False, 'allow_guest_requests': False, 'accept_conditions_text': None, 'secret_link_expiration': 0}}, 'communities': {'ids': ['60cc06bf-9114-42c7-a04f-639fbf36f65f'], 'default': '60cc06bf-9114-42c7-a04f-639fbf36f65f', 'entries': [{'id': '60cc06bf-9114-42c7-a04f-639fbf36f65f', 'created': '2025-07-02T10:28:21.114465+00:00', 'updated': '2025-07-02T10:28:21.230657+00:00', 'links': {}, 'revision_id': 2, 'slug': 'vulgo_235080', 'metadata': {'title': 'strues'}, 'access': {'visibility': 'public', 'members_visibility': 'public', 'member_policy': 'open', 'record_policy': 'open', 'review_policy': 'closed'}, 'deletion_status': {'is_deleted': False, 'status': 'P'}, 'children': {'allow': False}}]}, 'pids': {'doi': {'identifier': '10.81088/40dbd-r9134', 'provider': 'datacite', 'client': 'datacite'}}}, 'versions': {'is_latest': True, 'index': 1}, 'is_published': True, 'is_draft': False, 'pids': {'doi': {'identifier': '10.81088/pyfyd-vdv66', 'provider': 'datacite', 'client': 'datacite'}, 'oai': {'identifier': 'oai:inveniordm.web.cern.ch:pyfyd-vdv66', 'provider': 'oai'}}, 'metadata': {'resource_type': {'id': 'poster', 'title': {'de': 'Poster', 'en': 'Poster', 'sv': 'Poster'}}, 'creators': [{'person_or_org': {'type': 'personal', 'name': 'arca', 'family_name': 'arca'}}], 'title': 'Spoliatio tersus exercitationem aeneus conitor claro repudiandae correptius cohaero.', 'publisher': 'CERN', 'publication_date': '2025-07-02', 'rights': [{'id': 'cc-by-4.0', 'title': {'en': 'Creative Commons Attribution 4.0 International'}, 'description': {'en': 'The Creative Commons Attribution license allows re-distribution and re-use of a licensed work on the condition that the creator is appropriately credited.'}, 'icon': 'cc-by-icon', 'props': {'url': 'https://creativecommons.org/licenses/by/4.0/', 'scheme': 'spdx'}}]}, 'custom_fields': {}, 'access': {'record': 'public', 'files': 'public', 'embargo': {'active': False, 'reason': None}, 'status': 'open'}, 'files': {'enabled': True, 'order': [], 'count': 1, 'total_bytes': 9080, 'entries': {'Anon.jpg': {'id': '62959117-0024-46d0-a476-1263cef019fe', 'checksum': 'md5:71a117a38b56abe7e765a6705f146d34', 'ext': 'jpg', 'size': 9080, 'mimetype': 'image/jpeg', 'key': 'Anon.jpg', 'metadata': {'width': 360, 'height': 240}, 'access': {'hidden': False}}}}, 'media_files': {'enabled': False, 'order': [], 'count': 0, 'total_bytes': 0, 'entries': {}}, 'status': 'published', 'deletion_status': {'is_deleted': False, 'status': 'P'}, 'stats': {'this_version': {'views': 0, 'unique_views': 0, 'downloads': 0, 'unique_downloads': 0, 'data_volume': 0.0}, 'all_versions': {'views': 0, 'unique_views': 0, 'downloads': 0, 'unique_downloads': 0, 'data_volume': 0.0}}}, {'id': 'mwgxm-4t637', 'created': '2025-07-02T10:28:00.700171+00:00', 'updated': '2025-07-02T10:28:00.779538+00:00', 'links': {'self': 'https://inveniordm.web.cern.ch/api/records/mwgxm-4t637', 'self_html': 'https://inveniordm.web.cern.ch/records/mwgxm-4t637', 'self_doi': 'https://inveniordm.web.cern.ch/doi/10.81088/mwgxm-4t637', 'doi': 'https://handle.stage.datacite.org/10.81088/mwgxm-4t637', 'parent': 'https://inveniordm.web.cern.ch/api/records/mkrh0-c3h21', 'parent_html': 'https://inveniordm.web.cern.ch/records/mkrh0-c3h21', 'parent_doi': 'https://inveniordm.web.cern.ch/doi/10.81088/mkrh0-c3h21', 'self_iiif_manifest': 'https://inveniordm.web.cern.ch/api/iiif/record:mwgxm-4t637/manifest', 'self_iiif_sequence': 'https://inveniordm.web.cern.ch/api/iiif/record:mwgxm-4t637/sequence/default', 'files': 'https://inveniordm.web.cern.ch/api/records/mwgxm-4t637/files', 'media_files': 'https://inveniordm.web.cern.ch/api/records/mwgxm-4t637/media-files', 'archive': 'https://inveniordm.web.cern.ch/api/records/mwgxm-4t637/files-archive', 'archive_media': 'https://inveniordm.web.cern.ch/api/records/mwgxm-4t637/media-files-archive', 'latest': 'https://inveniordm.web.cern.ch/api/records/mwgxm-4t637/versions/latest', 'latest_html': 'https://inveniordm.web.cern.ch/records/mwgxm-4t637/latest', 'draft': 'https://inveniordm.web.cern.ch/api/records/mwgxm-4t637/draft', 'versions': 'https://inveniordm.web.cern.ch/api/records/mwgxm-4t637/versions', 'access_links': 'https://inveniordm.web.cern.ch/api/records/mwgxm-4t637/access/links', 'access_grants': 'https://inveniordm.web.cern.ch/api/records/mwgxm-4t637/access/grants', 'access_users': 'https://inveniordm.web.cern.ch/api/records/mwgxm-4t637/access/users', 'access_groups': 'https://inveniordm.web.cern.ch/api/records/mwgxm-4t637/access/groups', 'access_request': 'https://inveniordm.web.cern.ch/api/records/mwgxm-4t637/access/request', 'access': 'https://inveniordm.web.cern.ch/api/records/mwgxm-4t637/access', 'reserve_doi': 'https://inveniordm.web.cern.ch/api/records/mwgxm-4t637/draft/pids/doi', 'communities': 'https://inveniordm.web.cern.ch/api/records/mwgxm-4t637/communities', 'communities-suggestions': 'https://inveniordm.web.cern.ch/api/records/mwgxm-4t637/communities-suggestions', 'requests': 'https://inveniordm.web.cern.ch/api/records/mwgxm-4t637/requests'}, 'revision_id': 4, 'parent': {'id': 'mkrh0-c3h21', 'access': {'owned_by': {'user': '122'}, 'settings': {'allow_user_requests': False, 'allow_guest_requests': False, 'accept_conditions_text': None, 'secret_link_expiration': 0}}, 'communities': {'ids': ['0591562a-5064-4d53-8f46-15477c96bcbe'], 'default': '0591562a-5064-4d53-8f46-15477c96bcbe', 'entries': [{'id': '0591562a-5064-4d53-8f46-15477c96bcbe', 'created': '2025-07-02T10:27:43.511503+00:00', 'updated': '2025-07-02T10:27:43.612206+00:00', 'links': {}, 'revision_id': 2, 'slug': 'suscipit_848686', 'metadata': {'title': 'crustulum'}, 'access': {'visibility': 'public', 'members_visibility': 'public', 'member_policy': 'open', 'record_policy': 'open', 'review_policy': 'closed'}, 'deletion_status': {'is_deleted': False, 'status': 'P'}, 'children': {'allow': False}}]}, 'pids': {'doi': {'identifier': '10.81088/mkrh0-c3h21', 'provider': 'datacite', 'client': 'datacite'}}}, 'versions': {'is_latest': True, 'index': 1}, 'is_published': True, 'is_draft': False, 'pids': {'doi': {'identifier': '10.81088/mwgxm-4t637', 'provider': 'datacite', 'client': 'datacite'}, 'oai': {'identifier': 'oai:inveniordm.web.cern.ch:mwgxm-4t637', 'provider': 'oai'}}, 'metadata': {'resource_type': {'id': 'video', 'title': {'de': 'Video', 'en': 'Video', 'sv': 'Video'}}, 'creators': [{'person_or_org': {'type': 'personal', 'name': 'cerno', 'family_name': 'cerno'}}], 'title': 'Undique cariosus ago suffoco conqueror spiritus quaerat curriculum calcar suggero.', 'publisher': 'CERN', 'publication_date': '2025-07-02', 'rights': [{'id': 'cc-by-4.0', 'title': {'en': 'Creative Commons Attribution 4.0 International'}, 'description': {'en': 'The Creative Commons Attribution license allows re-distribution and re-use of a licensed work on the condition that the creator is appropriately credited.'}, 'icon': 'cc-by-icon', 'props': {'url': 'https://creativecommons.org/licenses/by/4.0/', 'scheme': 'spdx'}}]}, 'custom_fields': {}, 'access': {'record': 'public', 'files': 'public', 'embargo': {'active': False, 'reason': None}, 'status': 'open'}, 'files': {'enabled': True, 'order': [], 'count': 1, 'total_bytes': 22908, 'entries': {'Anon7.jpg': {'id': 'bd92746c-f35a-4ca0-ade8-16df656c69b8', 'checksum': 'md5:0e90e1b1d9afeef09e0bc4937f21e3f3', 'ext': 'jpg', 'size': 22908, 'mimetype': 'image/jpeg', 'key': 'Anon7.jpg', 'metadata': {'width': 361, 'height': 240}, 'access': {'hidden': False}}}}, 'media_files': {'enabled': False, 'order': [], 'count': 0, 'total_bytes': 0, 'entries': {}}, 'status': 'published', 'deletion_status': {'is_deleted': False, 'status': 'P'}, 'stats': {'this_version': {'views': 0, 'unique_views': 0, 'downloads': 0, 'unique_downloads': 0, 'data_volume': 0.0}, 'all_versions': {'views': 0, 'unique_views': 0, 'downloads': 0, 'unique_downloads': 0, 'data_volume': 0.0}}}, {'id': 'zv8fc-fa916', 'created': '2025-07-02T10:27:22.329722+00:00', 'updated': '2025-07-02T10:27:22.408488+00:00', 'links': {'self': 'https://inveniordm.web.cern.ch/api/records/zv8fc-fa916', 'self_html': 'https://inveniordm.web.cern.ch/records/zv8fc-fa916', 'self_doi': 'https://inveniordm.web.cern.ch/doi/10.81088/zv8fc-fa916', 'doi': 'https://handle.stage.datacite.org/10.81088/zv8fc-fa916', 'parent': 'https://inveniordm.web.cern.ch/api/records/39nxk-nz736', 'parent_html': 'https://inveniordm.web.cern.ch/records/39nxk-nz736', 'parent_doi': 'https://inveniordm.web.cern.ch/doi/10.81088/39nxk-nz736', 'self_iiif_manifest': 'https://inveniordm.web.cern.ch/api/iiif/record:zv8fc-fa916/manifest', 'self_iiif_sequence': 'https://inveniordm.web.cern.ch/api/iiif/record:zv8fc-fa916/sequence/default', 'files': 'https://inveniordm.web.cern.ch/api/records/zv8fc-fa916/files', 'media_files': 'https://inveniordm.web.cern.ch/api/records/zv8fc-fa916/media-files', 'archive': 'https://inveniordm.web.cern.ch/api/records/zv8fc-fa916/files-archive', 'archive_media': 'https://inveniordm.web.cern.ch/api/records/zv8fc-fa916/media-files-archive', 'latest': 'https://inveniordm.web.cern.ch/api/records/zv8fc-fa916/versions/latest', 'latest_html': 'https://inveniordm.web.cern.ch/records/zv8fc-fa916/latest', 'draft': 'https://inveniordm.web.cern.ch/api/records/zv8fc-fa916/draft', 'versions': 'https://inveniordm.web.cern.ch/api/records/zv8fc-fa916/versions', 'access_links': 'https://inveniordm.web.cern.ch/api/records/zv8fc-fa916/access/links', 'access_grants': 'https://inveniordm.web.cern.ch/api/records/zv8fc-fa916/access/grants', 'access_users': 'https://inveniordm.web.cern.ch/api/records/zv8fc-fa916/access/users', 'access_groups': 'https://inveniordm.web.cern.ch/api/records/zv8fc-fa916/access/groups', 'access_request': 'https://inveniordm.web.cern.ch/api/records/zv8fc-fa916/access/request', 'access': 'https://inveniordm.web.cern.ch/api/records/zv8fc-fa916/access', 'reserve_doi': 'https://inveniordm.web.cern.ch/api/records/zv8fc-fa916/draft/pids/doi', 'communities': 'https://inveniordm.web.cern.ch/api/records/zv8fc-fa916/communities', 'communities-suggestions': 'https://inveniordm.web.cern.ch/api/records/zv8fc-fa916/communities-suggestions', 'requests': 'https://inveniordm.web.cern.ch/api/records/zv8fc-fa916/requests'}, 'revision_id': 4, 'parent': {'id': '39nxk-nz736', 'access': {'owned_by': {'user': '122'}, 'settings': {'allow_user_requests': False, 'allow_guest_requests': False, 'accept_conditions_text': None, 'secret_link_expiration': 0}}, 'communities': {'ids': ['5eeee3e0-013b-4d32-99d2-811399835bff'], 'default': '5eeee3e0-013b-4d32-99d2-811399835bff', 'entries': [{'id': '5eeee3e0-013b-4d32-99d2-811399835bff', 'created': '2025-07-02T10:27:03.247101+00:00', 'updated': '2025-07-02T10:27:03.380594+00:00', 'links': {}, 'revision_id': 2, 'slug': 'dolor_456166', 'metadata': {'title': 'sodalitas'}, 'access': {'visibility': 'public', 'members_visibility': 'public', 'member_policy': 'open', 'record_policy': 'open', 'review_policy': 'closed'}, 'deletion_status': {'is_deleted': False, 'status': 'P'}, 'children': {'allow': False}}]}, 'pids': {'doi': {'identifier': '10.81088/39nxk-nz736', 'provider': 'datacite', 'client': 'datacite'}}}, 'versions': {'is_latest': True, 'index': 1}, 'is_published': True, 'is_draft': False, 'pids': {'doi': {'identifier': '10.81088/zv8fc-fa916', 'provider': 'datacite', 'client': 'datacite'}, 'oai': {'identifier': 'oai:inveniordm.web.cern.ch:zv8fc-fa916', 'provider': 'oai'}}, 'metadata': {'resource_type': {'id': 'video', 'title': {'de': 'Video', 'en': 'Video', 'sv': 'Video'}}, 'creators': [{'person_or_org': {'type': 'personal', 'name': 'degusto', 'family_name': 'degusto'}}], 'title': 'Vallum adipisci votum ascit voco tenax.', 'publisher': 'CERN', 'publication_date': '2025-07-02', 'rights': [{'id': 'cc-by-4.0', 'title': {'en': 'Creative Commons Attribution 4.0 International'}, 'description': {'en': 'The Creative Commons Attribution license allows re-distribution and re-use of a licensed work on the condition that the creator is appropriately credited.'}, 'icon': 'cc-by-icon', 'props': {'url': 'https://creativecommons.org/licenses/by/4.0/', 'scheme': 'spdx'}}]}, 'custom_fields': {}, 'access': {'record': 'public', 'files': 'public', 'embargo': {'active': False, 'reason': None}, 'status': 'open'}, 'files': {'enabled': True, 'order': [], 'count': 1, 'total_bytes': 34260, 'entries': {'Anon3.jpg': {'id': 'bf09cc6c-2fe6-4516-a6ab-0a5030f069cd', 'checksum': 'md5:27d09e71282af9261a9307ee69e8f3ba', 'ext': 'jpg', 'size': 34260, 'mimetype': 'image/jpeg', 'key': 'Anon3.jpg', 'metadata': {'width': 360, 'height': 240}, 'access': {'hidden': False}}}}, 'media_files': {'enabled': False, 'order': [], 'count': 0, 'total_bytes': 0, 'entries': {}}, 'status': 'published', 'deletion_status': {'is_deleted': False, 'status': 'P'}, 'stats': {'this_version': {'views': 0, 'unique_views': 0, 'downloads': 0, 'unique_downloads': 0, 'data_volume': 0.0}, 'all_versions': {'views': 0, 'unique_views': 0, 'downloads': 0, 'unique_downloads': 0, 'data_volume': 0.0}}}, {'id': '0njjv-j0g80', 'created': '2025-07-02T10:25:51.281928+00:00', 'updated': '2025-07-02T10:25:51.373061+00:00', 'links': {'self': 'https://inveniordm.web.cern.ch/api/records/0njjv-j0g80', 'self_html': 'https://inveniordm.web.cern.ch/records/0njjv-j0g80', 'self_doi': 'https://inveniordm.web.cern.ch/doi/10.81088/0njjv-j0g80', 'doi': 'https://handle.stage.datacite.org/10.81088/0njjv-j0g80', 'parent': 'https://inveniordm.web.cern.ch/api/records/55yx1-zgm40', 'parent_html': 'https://inveniordm.web.cern.ch/records/55yx1-zgm40', 'parent_doi': 'https://inveniordm.web.cern.ch/doi/10.81088/55yx1-zgm40', 'self_iiif_manifest': 'https://inveniordm.web.cern.ch/api/iiif/record:0njjv-j0g80/manifest', 'self_iiif_sequence': 'https://inveniordm.web.cern.ch/api/iiif/record:0njjv-j0g80/sequence/default', 'files': 'https://inveniordm.web.cern.ch/api/records/0njjv-j0g80/files', 'media_files': 'https://inveniordm.web.cern.ch/api/records/0njjv-j0g80/media-files', 'archive': 'https://inveniordm.web.cern.ch/api/records/0njjv-j0g80/files-archive', 'archive_media': 'https://inveniordm.web.cern.ch/api/records/0njjv-j0g80/media-files-archive', 'latest': 'https://inveniordm.web.cern.ch/api/records/0njjv-j0g80/versions/latest', 'latest_html': 'https://inveniordm.web.cern.ch/records/0njjv-j0g80/latest', 'draft': 'https://inveniordm.web.cern.ch/api/records/0njjv-j0g80/draft', 'versions': 'https://inveniordm.web.cern.ch/api/records/0njjv-j0g80/versions', 'access_links': 'https://inveniordm.web.cern.ch/api/records/0njjv-j0g80/access/links', 'access_grants': 'https://inveniordm.web.cern.ch/api/records/0njjv-j0g80/access/grants', 'access_users': 'https://inveniordm.web.cern.ch/api/records/0njjv-j0g80/access/users', 'access_groups': 'https://inveniordm.web.cern.ch/api/records/0njjv-j0g80/access/groups', 'access_request': 'https://inveniordm.web.cern.ch/api/records/0njjv-j0g80/access/request', 'access': 'https://inveniordm.web.cern.ch/api/records/0njjv-j0g80/access', 'reserve_doi': 'https://inveniordm.web.cern.ch/api/records/0njjv-j0g80/draft/pids/doi', 'communities': 'https://inveniordm.web.cern.ch/api/records/0njjv-j0g80/communities', 'communities-suggestions': 'https://inveniordm.web.cern.ch/api/records/0njjv-j0g80/communities-suggestions', 'requests': 'https://inveniordm.web.cern.ch/api/records/0njjv-j0g80/requests'}, 'revision_id': 4, 'parent': {'id': '55yx1-zgm40', 'access': {'owned_by': {'user': '122'}, 'settings': {'allow_user_requests': False, 'allow_guest_requests': False, 'accept_conditions_text': None, 'secret_link_expiration': 0}}, 'communities': {'ids': ['3b9003ed-b6ef-4ea0-8405-1bb51aa85be9'], 'default': '3b9003ed-b6ef-4ea0-8405-1bb51aa85be9', 'entries': [{'id': '3b9003ed-b6ef-4ea0-8405-1bb51aa85be9', 'created': '2025-07-02T10:25:31.702709+00:00', 'updated': '2025-07-02T10:25:31.886456+00:00', 'links': {}, 'revision_id': 2, 'slug': 'cena_515559', 'metadata': {'title': 'bardus'}, 'access': {'visibility': 'public', 'members_visibility': 'public', 'member_policy': 'open', 'record_policy': 'open', 'review_policy': 'closed'}, 'deletion_status': {'is_deleted': False, 'status': 'P'}, 'children': {'allow': False}}]}, 'pids': {'doi': {'identifier': '10.81088/55yx1-zgm40', 'provider': 'datacite', 'client': 'datacite'}}}, 'versions': {'is_latest': True, 'index': 1}, 'is_published': True, 'is_draft': False, 'pids': {'doi': {'identifier': '10.81088/0njjv-j0g80', 'provider': 'datacite', 'client': 'datacite'}, 'oai': {'identifier': 'oai:inveniordm.web.cern.ch:0njjv-j0g80', 'provider': 'oai'}}, 'metadata': {'resource_type': {'id': 'event', 'title': {'de': 'Veranstaltung', 'en': 'Event', 'sv': 'Evenemang'}}, 'creators': [{'person_or_org': {'type': 'personal', 'name': 'cattus', 'family_name': 'cattus'}}], 'title': 'Compello complectus deprimo thesis demergo.', 'publisher': 'CERN', 'publication_date': '2025-07-02', 'rights': [{'id': 'cc-by-4.0', 'title': {'en': 'Creative Commons Attribution 4.0 International'}, 'description': {'en': 'The Creative Commons Attribution license allows re-distribution and re-use of a licensed work on the condition that the creator is appropriately credited.'}, 'icon': 'cc-by-icon', 'props': {'url': 'https://creativecommons.org/licenses/by/4.0/', 'scheme': 'spdx'}}]}, 'custom_fields': {}, 'access': {'record': 'public', 'files': 'public', 'embargo': {'active': False, 'reason': None}, 'status': 'open'}, 'files': {'enabled': True, 'order': [], 'count': 1, 'total_bytes': 22908, 'entries': {'Anon7.jpg': {'id': '7bddc862-485a-425e-b7d9-87ad5e17dac2', 'checksum': 'md5:0e90e1b1d9afeef09e0bc4937f21e3f3', 'ext': 'jpg', 'size': 22908, 'mimetype': 'image/jpeg', 'key': 'Anon7.jpg', 'metadata': {'width': 361, 'height': 240}, 'access': {'hidden': False}}}}, 'media_files': {'enabled': False, 'order': [], 'count': 0, 'total_bytes': 0, 'entries': {}}, 'status': 'published', 'deletion_status': {'is_deleted': False, 'status': 'P'}, 'stats': {'this_version': {'views': 0, 'unique_views': 0, 'downloads': 0, 'unique_downloads': 0, 'data_volume': 0.0}, 'all_versions': {'views': 0, 'unique_views': 0, 'downloads': 0, 'unique_downloads': 0, 'data_volume': 0.0}}}], 'total': 2329}, 'aggregations': {'access_status': {'buckets': [{'key': 'open', 'doc_count': 1878, 'label': 'Open', 'is_selected': False}, {'key': 'metadata-only', 'doc_count': 385, 'label': 'Metadata-only', 'is_selected': False}, {'key': 'restricted', 'doc_count': 66, 'label': 'Restricted', 'is_selected': False}], 'label': 'Access status'}, 'file_type': {'buckets': [{'key': 'jpg', 'doc_count': 1718, 'label': 'JPG', 'is_selected': False}, {'key': 'txt', 'doc_count': 73, 'label': 'TXT', 'is_selected': False}, {'key': 'pdf', 'doc_count': 36, 'label': 'PDF', 'is_selected': False}, {'key': 'png', 'doc_count': 18, 'label': 'PNG', 'is_selected': False}, {'key': 'csv', 'doc_count': 10, 'label': 'CSV', 'is_selected': False}, {'key': 'zip', 'doc_count': 9, 'label': 'ZIP', 'is_selected': False}, {'key': 'bin', 'doc_count': 4, 'label': 'BIN', 'is_selected': False}, {'key': 'docx', 'doc_count': 4, 'label': 'DOCX', 'is_selected': False}, {'key': 'nekg', 'doc_count': 4, 'label': 'NEKG', 'is_selected': False}, {'key': 'xml', 'doc_count': 4, 'label': 'XML', 'is_selected': False}], 'label': 'File type'}, 'resource_type': {'buckets': [{'key': 'image', 'doc_count': 573, 'label': 'Image', 'is_selected': False, 'inner': {'buckets': [{'key': 'image-photo', 'doc_count': 7, 'label': 'Photo', 'is_selected': False}, {'key': 'image-figure', 'doc_count': 6, 'label': 'Figure', 'is_selected': False}, {'key': 'image-diagram', 'doc_count': 5, 'label': 'Diagram', 'is_selected': False}, {'key': 'image-plot', 'doc_count': 4, 'label': 'Plot', 'is_selected': False}, {'key': 'image-drawing', 'doc_count': 3, 'label': 'Drawing', 'is_selected': False}, {'key': 'image-other', 'doc_count': 3, 'label': 'Other', 'is_selected': False}]}}, {'key': 'dataset', 'doc_count': 275, 'label': 'Dataset', 'is_selected': False, 'inner': {'buckets': []}}, {'key': 'poster', 'doc_count': 165, 'label': 'Poster', 'is_selected': False, 'inner': {'buckets': []}}, {'key': 'video', 'doc_count': 162, 'label': 'Video', 'is_selected': False, 'inner': {'buckets': []}}, {'key': 'model', 'doc_count': 159, 'label': 'Model', 'is_selected': False, 'inner': {'buckets': []}}, {'key': 'audio', 'doc_count': 155, 'label': 'Audio', 'is_selected': False, 'inner': {'buckets': []}}, {'key': 'software', 'doc_count': 150, 'label': 'Software', 'is_selected': False, 'inner': {'buckets': [{'key': 'software-computationalnotebook', 'doc_count': 2, 'label': 'Computational notebook', 'is_selected': False}]}}, {'key': 'workflow', 'doc_count': 150, 'label': 'Workflow', 'is_selected': False, 'inner': {'buckets': []}}, {'key': 'other', 'doc_count': 149, 'label': 'Other', 'is_selected': False, 'inner': {'buckets': []}}, {'key': 'lesson', 'doc_count': 146, 'label': 'Lesson', 'is_selected': False, 'inner': {'buckets': []}}], 'label': 'Resource types'}, 'programming_language': {'buckets': [{'key': 'python', 'doc_count': 3, 'label': 'Python', 'is_selected': False}, {'key': 'bash', 'doc_count': 1, 'label': 'Bash', 'is_selected': False}, {'key': 'javascript', 'doc_count': 1, 'label': 'JavaScript', 'is_selected': False}], 'label': 'Programming Languages'}, 'development_status': {'buckets': [{'key': 'wip', 'doc_count': 3, 'label': 'Work In Progress (WIP)', 'is_selected': False}, {'key': 'abandoned', 'doc_count': 2, 'label': 'Abandoned', 'is_selected': False}, {'key': 'active', 'doc_count': 2, 'label': 'Active', 'is_selected': False}, {'key': 'concept', 'doc_count': 1, 'label': 'Concept', 'is_selected': False}, {'key': 'inactive', 'doc_count': 1, 'label': 'Inactive', 'is_selected': False}], 'label': 'Development Status'}}, 'sortBy': 'newest', 'links': {'self': 'https://inveniordm.web.cern.ch/api/records?page=1&size=25&sort=newest', 'next': 'https://inveniordm.web.cern.ch/api/records?page=2&size=25&sort=newest'}}\n"
     ]
    }
   ],
   "source": [
    "# 2) GET – načtení seznamu záznamů\n",
    "resp = requests.get(API_BASE, headers=headers)\n",
    "print(\"GET /records →\", resp.status_code)\n",
    "print(resp.json())  # ukázka výstupu: metadata, id, links…"
   ]
  },
  {
   "cell_type": "code",
   "execution_count": null,
   "id": "4e284584-85fe-447a-9e02-dccecd258274",
   "metadata": {},
   "outputs": [],
   "source": [
    "Tady uděláme totéž, jen si to pěkněji zformátujeme; záznamů se zobrazí prvních 25, celkem jich je v repozitáři tolik, kolik je uvedeno v proměnné **total**"
   ]
  },
  {
   "cell_type": "code",
   "execution_count": 3,
   "id": "2b4f2ca2-63af-48ac-8571-4a0b4a6b45e5",
   "metadata": {
    "collapsed": true,
    "jupyter": {
     "outputs_hidden": true
    },
    "panel-layout": {
     "height": 0,
     "visible": true,
     "width": 100
    },
    "scrolled": true
   },
   "outputs": [
    {
     "name": "stdout",
     "output_type": "stream",
     "text": [
      "GET /records → 200\n",
      "{\n",
      "    \"hits\": {\n",
      "        \"hits\": [\n",
      "            {\n",
      "                \"id\": \"18nv3-1pk11\",\n",
      "                \"created\": \"2025-07-12T19:04:38.571647+00:00\",\n",
      "                \"updated\": \"2025-07-12T19:04:38.677187+00:00\",\n",
      "                \"links\": {\n",
      "                    \"self\": \"https://inveniordm.web.cern.ch/api/records/18nv3-1pk11\",\n",
      "                    \"self_html\": \"https://inveniordm.web.cern.ch/records/18nv3-1pk11\",\n",
      "                    \"self_doi\": \"https://inveniordm.web.cern.ch/doi/10.81088/18nv3-1pk11\",\n",
      "                    \"doi\": \"https://handle.stage.datacite.org/10.81088/18nv3-1pk11\",\n",
      "                    \"parent\": \"https://inveniordm.web.cern.ch/api/records/8af8w-3bs86\",\n",
      "                    \"parent_html\": \"https://inveniordm.web.cern.ch/records/8af8w-3bs86\",\n",
      "                    \"parent_doi\": \"https://inveniordm.web.cern.ch/doi/10.81088/8af8w-3bs86\",\n",
      "                    \"self_iiif_manifest\": \"https://inveniordm.web.cern.ch/api/iiif/record:18nv3-1pk11/manifest\",\n",
      "                    \"self_iiif_sequence\": \"https://inveniordm.web.cern.ch/api/iiif/record:18nv3-1pk11/sequence/default\",\n",
      "                    \"files\": \"https://inveniordm.web.cern.ch/api/records/18nv3-1pk11/files\",\n",
      "                    \"media_files\": \"https://inveniordm.web.cern.ch/api/records/18nv3-1pk11/media-files\",\n",
      "                    \"archive\": \"https://inveniordm.web.cern.ch/api/records/18nv3-1pk11/files-archive\",\n",
      "                    \"archive_media\": \"https://inveniordm.web.cern.ch/api/records/18nv3-1pk11/media-files-archive\",\n",
      "                    \"latest\": \"https://inveniordm.web.cern.ch/api/records/18nv3-1pk11/versions/latest\",\n",
      "                    \"latest_html\": \"https://inveniordm.web.cern.ch/records/18nv3-1pk11/latest\",\n",
      "                    \"draft\": \"https://inveniordm.web.cern.ch/api/records/18nv3-1pk11/draft\",\n",
      "                    \"versions\": \"https://inveniordm.web.cern.ch/api/records/18nv3-1pk11/versions\",\n",
      "                    \"access_links\": \"https://inveniordm.web.cern.ch/api/records/18nv3-1pk11/access/links\",\n",
      "                    \"access_grants\": \"https://inveniordm.web.cern.ch/api/records/18nv3-1pk11/access/grants\",\n",
      "                    \"access_users\": \"https://inveniordm.web.cern.ch/api/records/18nv3-1pk11/access/users\",\n",
      "                    \"access_groups\": \"https://inveniordm.web.cern.ch/api/records/18nv3-1pk11/access/groups\",\n",
      "                    \"access_request\": \"https://inveniordm.web.cern.ch/api/records/18nv3-1pk11/access/request\",\n",
      "                    \"access\": \"https://inveniordm.web.cern.ch/api/records/18nv3-1pk11/access\",\n",
      "                    \"reserve_doi\": \"https://inveniordm.web.cern.ch/api/records/18nv3-1pk11/draft/pids/doi\",\n",
      "                    \"communities\": \"https://inveniordm.web.cern.ch/api/records/18nv3-1pk11/communities\",\n",
      "                    \"communities-suggestions\": \"https://inveniordm.web.cern.ch/api/records/18nv3-1pk11/communities-suggestions\",\n",
      "                    \"requests\": \"https://inveniordm.web.cern.ch/api/records/18nv3-1pk11/requests\"\n",
      "                },\n",
      "                \"revision_id\": 4,\n",
      "                \"parent\": {\n",
      "                    \"id\": \"8af8w-3bs86\",\n",
      "                    \"access\": {\n",
      "                        \"owned_by\": {\n",
      "                            \"user\": \"119\"\n",
      "                        },\n",
      "                        \"settings\": {\n",
      "                            \"allow_user_requests\": false,\n",
      "                            \"allow_guest_requests\": false,\n",
      "                            \"accept_conditions_text\": null,\n",
      "                            \"secret_link_expiration\": 0\n",
      "                        }\n",
      "                    },\n",
      "                    \"communities\": {},\n",
      "                    \"pids\": {\n",
      "                        \"doi\": {\n",
      "                            \"identifier\": \"10.81088/8af8w-3bs86\",\n",
      "                            \"provider\": \"datacite\",\n",
      "                            \"client\": \"datacite\"\n",
      "                        }\n",
      "                    }\n",
      "                },\n",
      "                \"versions\": {\n",
      "                    \"is_latest\": true,\n",
      "                    \"index\": 1\n",
      "                },\n",
      "                \"is_published\": true,\n",
      "                \"is_draft\": false,\n",
      "                \"pids\": {\n",
      "                    \"doi\": {\n",
      "                        \"identifier\": \"10.81088/18nv3-1pk11\",\n",
      "                        \"provider\": \"datacite\",\n",
      "                        \"client\": \"datacite\"\n",
      "                    },\n",
      "                    \"oai\": {\n",
      "                        \"identifier\": \"oai:inveniordm.web.cern.ch:18nv3-1pk11\",\n",
      "                        \"provider\": \"oai\"\n",
      "                    }\n",
      "                },\n",
      "                \"metadata\": {\n",
      "                    \"resource_type\": {\n",
      "                        \"id\": \"lesson\",\n",
      "                        \"title\": {\n",
      "                            \"de\": \"Unterrichtseinheit\",\n",
      "                            \"en\": \"Lesson\",\n",
      "                            \"sv\": \"Lektion\"\n",
      "                        }\n",
      "                    },\n",
      "                    \"creators\": [\n",
      "                        {\n",
      "                            \"person_or_org\": {\n",
      "                                \"type\": \"personal\",\n",
      "                                \"name\": \"quo\",\n",
      "                                \"family_name\": \"quo\"\n",
      "                            }\n",
      "                        }\n",
      "                    ],\n",
      "                    \"title\": \"Suscipio patruus spiculum quo spero paulatim desidero demoror charisma maxime.\",\n",
      "                    \"publisher\": \"CERN\",\n",
      "                    \"publication_date\": \"2025-07-12\",\n",
      "                    \"rights\": [\n",
      "                        {\n",
      "                            \"id\": \"cc-by-4.0\",\n",
      "                            \"title\": {\n",
      "                                \"en\": \"Creative Commons Attribution 4.0 International\"\n",
      "                            },\n",
      "                            \"description\": {\n",
      "                                \"en\": \"The Creative Commons Attribution license allows re-distribution and re-use of a licensed work on the condition that the creator is appropriately credited.\"\n",
      "                            },\n",
      "                            \"icon\": \"cc-by-icon\",\n",
      "                            \"props\": {\n",
      "                                \"url\": \"https://creativecommons.org/licenses/by/4.0/\",\n",
      "                                \"scheme\": \"spdx\"\n",
      "                            }\n",
      "                        }\n",
      "                    ]\n",
      "                },\n",
      "                \"custom_fields\": {},\n",
      "                \"access\": {\n",
      "                    \"record\": \"public\",\n",
      "                    \"files\": \"public\",\n",
      "                    \"embargo\": {\n",
      "                        \"active\": false,\n",
      "                        \"reason\": null\n",
      "                    },\n",
      "                    \"status\": \"open\"\n",
      "                },\n",
      "                \"files\": {\n",
      "                    \"enabled\": true,\n",
      "                    \"order\": [],\n",
      "                    \"count\": 1,\n",
      "                    \"total_bytes\": 23940,\n",
      "                    \"entries\": {\n",
      "                        \"Anon4.jpg\": {\n",
      "                            \"id\": \"b8a9bc31-ba3f-4336-88ee-b75c3c11a806\",\n",
      "                            \"checksum\": \"md5:cbc1e72173faf56f8bea2276db0c636a\",\n",
      "                            \"ext\": \"jpg\",\n",
      "                            \"size\": 23940,\n",
      "                            \"mimetype\": \"image/jpeg\",\n",
      "                            \"key\": \"Anon4.jpg\",\n",
      "                            \"metadata\": {},\n",
      "                            \"access\": {\n",
      "                                \"hidden\": false\n",
      "                            }\n",
      "                        }\n",
      "                    }\n",
      "                },\n",
      "                \"media_files\": {\n",
      "                    \"enabled\": false,\n",
      "                    \"order\": [],\n",
      "                    \"count\": 0,\n",
      "                    \"total_bytes\": 0,\n",
      "                    \"entries\": {}\n",
      "                },\n",
      "                \"status\": \"published\",\n",
      "                \"deletion_status\": {\n",
      "                    \"is_deleted\": false,\n",
      "                    \"status\": \"P\"\n",
      "                },\n",
      "                \"stats\": {\n",
      "                    \"this_version\": {\n",
      "                        \"views\": 0,\n",
      "                        \"unique_views\": 0,\n",
      "                        \"downloads\": 0,\n",
      "                        \"unique_downloads\": 0,\n",
      "                        \"data_volume\": 0.0\n",
      "                    },\n",
      "                    \"all_versions\": {\n",
      "                        \"views\": 0,\n",
      "                        \"unique_views\": 0,\n",
      "                        \"downloads\": 0,\n",
      "                        \"unique_downloads\": 0,\n",
      "                        \"data_volume\": 0.0\n",
      "                    }\n",
      "                }\n",
      "            },\n",
      "            {\n",
      "                \"id\": \"dh9h9-3bb25\",\n",
      "                \"created\": \"2025-07-12T18:59:18.869432+00:00\",\n",
      "                \"updated\": \"2025-07-12T18:59:18.971794+00:00\",\n",
      "                \"links\": {\n",
      "                    \"self\": \"https://inveniordm.web.cern.ch/api/records/dh9h9-3bb25\",\n",
      "                    \"self_html\": \"https://inveniordm.web.cern.ch/records/dh9h9-3bb25\",\n",
      "                    \"self_doi\": \"https://inveniordm.web.cern.ch/doi/10.81088/dh9h9-3bb25\",\n",
      "                    \"doi\": \"https://handle.stage.datacite.org/10.81088/dh9h9-3bb25\",\n",
      "                    \"parent\": \"https://inveniordm.web.cern.ch/api/records/b5ps0-c4t55\",\n",
      "                    \"parent_html\": \"https://inveniordm.web.cern.ch/records/b5ps0-c4t55\",\n",
      "                    \"parent_doi\": \"https://inveniordm.web.cern.ch/doi/10.81088/b5ps0-c4t55\",\n",
      "                    \"self_iiif_manifest\": \"https://inveniordm.web.cern.ch/api/iiif/record:dh9h9-3bb25/manifest\",\n",
      "                    \"self_iiif_sequence\": \"https://inveniordm.web.cern.ch/api/iiif/record:dh9h9-3bb25/sequence/default\",\n",
      "                    \"files\": \"https://inveniordm.web.cern.ch/api/records/dh9h9-3bb25/files\",\n",
      "                    \"media_files\": \"https://inveniordm.web.cern.ch/api/records/dh9h9-3bb25/media-files\",\n",
      "                    \"archive\": \"https://inveniordm.web.cern.ch/api/records/dh9h9-3bb25/files-archive\",\n",
      "                    \"archive_media\": \"https://inveniordm.web.cern.ch/api/records/dh9h9-3bb25/media-files-archive\",\n",
      "                    \"latest\": \"https://inveniordm.web.cern.ch/api/records/dh9h9-3bb25/versions/latest\",\n",
      "                    \"latest_html\": \"https://inveniordm.web.cern.ch/records/dh9h9-3bb25/latest\",\n",
      "                    \"draft\": \"https://inveniordm.web.cern.ch/api/records/dh9h9-3bb25/draft\",\n",
      "                    \"versions\": \"https://inveniordm.web.cern.ch/api/records/dh9h9-3bb25/versions\",\n",
      "                    \"access_links\": \"https://inveniordm.web.cern.ch/api/records/dh9h9-3bb25/access/links\",\n",
      "                    \"access_grants\": \"https://inveniordm.web.cern.ch/api/records/dh9h9-3bb25/access/grants\",\n",
      "                    \"access_users\": \"https://inveniordm.web.cern.ch/api/records/dh9h9-3bb25/access/users\",\n",
      "                    \"access_groups\": \"https://inveniordm.web.cern.ch/api/records/dh9h9-3bb25/access/groups\",\n",
      "                    \"access_request\": \"https://inveniordm.web.cern.ch/api/records/dh9h9-3bb25/access/request\",\n",
      "                    \"access\": \"https://inveniordm.web.cern.ch/api/records/dh9h9-3bb25/access\",\n",
      "                    \"reserve_doi\": \"https://inveniordm.web.cern.ch/api/records/dh9h9-3bb25/draft/pids/doi\",\n",
      "                    \"communities\": \"https://inveniordm.web.cern.ch/api/records/dh9h9-3bb25/communities\",\n",
      "                    \"communities-suggestions\": \"https://inveniordm.web.cern.ch/api/records/dh9h9-3bb25/communities-suggestions\",\n",
      "                    \"requests\": \"https://inveniordm.web.cern.ch/api/records/dh9h9-3bb25/requests\"\n",
      "                },\n",
      "                \"revision_id\": 4,\n",
      "                \"parent\": {\n",
      "                    \"id\": \"b5ps0-c4t55\",\n",
      "                    \"access\": {\n",
      "                        \"owned_by\": {\n",
      "                            \"user\": \"119\"\n",
      "                        },\n",
      "                        \"settings\": {\n",
      "                            \"allow_user_requests\": false,\n",
      "                            \"allow_guest_requests\": false,\n",
      "                            \"accept_conditions_text\": null,\n",
      "                            \"secret_link_expiration\": 0\n",
      "                        }\n",
      "                    },\n",
      "                    \"communities\": {},\n",
      "                    \"pids\": {\n",
      "                        \"doi\": {\n",
      "                            \"identifier\": \"10.81088/b5ps0-c4t55\",\n",
      "                            \"provider\": \"datacite\",\n",
      "                            \"client\": \"datacite\"\n",
      "                        }\n",
      "                    }\n",
      "                },\n",
      "                \"versions\": {\n",
      "                    \"is_latest\": true,\n",
      "                    \"index\": 1\n",
      "                },\n",
      "                \"is_published\": true,\n",
      "                \"is_draft\": false,\n",
      "                \"pids\": {\n",
      "                    \"doi\": {\n",
      "                        \"identifier\": \"10.81088/dh9h9-3bb25\",\n",
      "                        \"provider\": \"datacite\",\n",
      "                        \"client\": \"datacite\"\n",
      "                    },\n",
      "                    \"oai\": {\n",
      "                        \"identifier\": \"oai:inveniordm.web.cern.ch:dh9h9-3bb25\",\n",
      "                        \"provider\": \"oai\"\n",
      "                    }\n",
      "                },\n",
      "                \"metadata\": {\n",
      "                    \"resource_type\": {\n",
      "                        \"id\": \"workflow\",\n",
      "                        \"title\": {\n",
      "                            \"de\": \"Workflow\",\n",
      "                            \"en\": \"Workflow\",\n",
      "                            \"sv\": \"Workflow\"\n",
      "                        }\n",
      "                    },\n",
      "                    \"creators\": [\n",
      "                        {\n",
      "                            \"person_or_org\": {\n",
      "                                \"type\": \"personal\",\n",
      "                                \"name\": \"vallum\",\n",
      "                                \"family_name\": \"vallum\"\n",
      "                            }\n",
      "                        }\n",
      "                    ],\n",
      "                    \"title\": \"Nesciunt atqui catena venia tactus tondeo.\",\n",
      "                    \"publisher\": \"CERN\",\n",
      "                    \"publication_date\": \"2025-07-12\",\n",
      "                    \"rights\": [\n",
      "                        {\n",
      "                            \"id\": \"cc-by-4.0\",\n",
      "                            \"title\": {\n",
      "                                \"en\": \"Creative Commons Attribution 4.0 International\"\n",
      "                            },\n",
      "                            \"description\": {\n",
      "                                \"en\": \"The Creative Commons Attribution license allows re-distribution and re-use of a licensed work on the condition that the creator is appropriately credited.\"\n",
      "                            },\n",
      "                            \"icon\": \"cc-by-icon\",\n",
      "                            \"props\": {\n",
      "                                \"url\": \"https://creativecommons.org/licenses/by/4.0/\",\n",
      "                                \"scheme\": \"spdx\"\n",
      "                            }\n",
      "                        }\n",
      "                    ]\n",
      "                },\n",
      "                \"custom_fields\": {},\n",
      "                \"access\": {\n",
      "                    \"record\": \"public\",\n",
      "                    \"files\": \"public\",\n",
      "                    \"embargo\": {\n",
      "                        \"active\": false,\n",
      "                        \"reason\": null\n",
      "                    },\n",
      "                    \"status\": \"open\"\n",
      "                },\n",
      "                \"files\": {\n",
      "                    \"enabled\": true,\n",
      "                    \"order\": [],\n",
      "                    \"count\": 1,\n",
      "                    \"total_bytes\": 105042,\n",
      "                    \"entries\": {\n",
      "                        \"Anon6.jpg\": {\n",
      "                            \"id\": \"e60111f8-c55a-4280-8d77-d541b47dea0c\",\n",
      "                            \"checksum\": \"md5:7e41b92644f0a69caf5ad13b780a141c\",\n",
      "                            \"ext\": \"jpg\",\n",
      "                            \"size\": 105042,\n",
      "                            \"mimetype\": \"image/jpeg\",\n",
      "                            \"key\": \"Anon6.jpg\",\n",
      "                            \"metadata\": {},\n",
      "                            \"access\": {\n",
      "                                \"hidden\": false\n",
      "                            }\n",
      "                        }\n",
      "                    }\n",
      "                },\n",
      "                \"media_files\": {\n",
      "                    \"enabled\": false,\n",
      "                    \"order\": [],\n",
      "                    \"count\": 0,\n",
      "                    \"total_bytes\": 0,\n",
      "                    \"entries\": {}\n",
      "                },\n",
      "                \"status\": \"published\",\n",
      "                \"deletion_status\": {\n",
      "                    \"is_deleted\": false,\n",
      "                    \"status\": \"P\"\n",
      "                },\n",
      "                \"stats\": {\n",
      "                    \"this_version\": {\n",
      "                        \"views\": 0,\n",
      "                        \"unique_views\": 0,\n",
      "                        \"downloads\": 0,\n",
      "                        \"unique_downloads\": 0,\n",
      "                        \"data_volume\": 0.0\n",
      "                    },\n",
      "                    \"all_versions\": {\n",
      "                        \"views\": 0,\n",
      "                        \"unique_views\": 0,\n",
      "                        \"downloads\": 0,\n",
      "                        \"unique_downloads\": 0,\n",
      "                        \"data_volume\": 0.0\n",
      "                    }\n",
      "                }\n",
      "            },\n",
      "            {\n",
      "                \"id\": \"kympj-zm433\",\n",
      "                \"created\": \"2025-07-12T18:44:02.485410+00:00\",\n",
      "                \"updated\": \"2025-07-12T18:44:02.605168+00:00\",\n",
      "                \"links\": {\n",
      "                    \"self\": \"https://inveniordm.web.cern.ch/api/records/kympj-zm433\",\n",
      "                    \"self_html\": \"https://inveniordm.web.cern.ch/records/kympj-zm433\",\n",
      "                    \"self_doi\": \"https://inveniordm.web.cern.ch/doi/10.81088/kympj-zm433\",\n",
      "                    \"doi\": \"https://handle.stage.datacite.org/10.81088/kympj-zm433\",\n",
      "                    \"parent\": \"https://inveniordm.web.cern.ch/api/records/pj1dm-vwx20\",\n",
      "                    \"parent_html\": \"https://inveniordm.web.cern.ch/records/pj1dm-vwx20\",\n",
      "                    \"parent_doi\": \"https://inveniordm.web.cern.ch/doi/10.81088/pj1dm-vwx20\",\n",
      "                    \"self_iiif_manifest\": \"https://inveniordm.web.cern.ch/api/iiif/record:kympj-zm433/manifest\",\n",
      "                    \"self_iiif_sequence\": \"https://inveniordm.web.cern.ch/api/iiif/record:kympj-zm433/sequence/default\",\n",
      "                    \"files\": \"https://inveniordm.web.cern.ch/api/records/kympj-zm433/files\",\n",
      "                    \"media_files\": \"https://inveniordm.web.cern.ch/api/records/kympj-zm433/media-files\",\n",
      "                    \"archive\": \"https://inveniordm.web.cern.ch/api/records/kympj-zm433/files-archive\",\n",
      "                    \"archive_media\": \"https://inveniordm.web.cern.ch/api/records/kympj-zm433/media-files-archive\",\n",
      "                    \"latest\": \"https://inveniordm.web.cern.ch/api/records/kympj-zm433/versions/latest\",\n",
      "                    \"latest_html\": \"https://inveniordm.web.cern.ch/records/kympj-zm433/latest\",\n",
      "                    \"draft\": \"https://inveniordm.web.cern.ch/api/records/kympj-zm433/draft\",\n",
      "                    \"versions\": \"https://inveniordm.web.cern.ch/api/records/kympj-zm433/versions\",\n",
      "                    \"access_links\": \"https://inveniordm.web.cern.ch/api/records/kympj-zm433/access/links\",\n",
      "                    \"access_grants\": \"https://inveniordm.web.cern.ch/api/records/kympj-zm433/access/grants\",\n",
      "                    \"access_users\": \"https://inveniordm.web.cern.ch/api/records/kympj-zm433/access/users\",\n",
      "                    \"access_groups\": \"https://inveniordm.web.cern.ch/api/records/kympj-zm433/access/groups\",\n",
      "                    \"access_request\": \"https://inveniordm.web.cern.ch/api/records/kympj-zm433/access/request\",\n",
      "                    \"access\": \"https://inveniordm.web.cern.ch/api/records/kympj-zm433/access\",\n",
      "                    \"reserve_doi\": \"https://inveniordm.web.cern.ch/api/records/kympj-zm433/draft/pids/doi\",\n",
      "                    \"communities\": \"https://inveniordm.web.cern.ch/api/records/kympj-zm433/communities\",\n",
      "                    \"communities-suggestions\": \"https://inveniordm.web.cern.ch/api/records/kympj-zm433/communities-suggestions\",\n",
      "                    \"requests\": \"https://inveniordm.web.cern.ch/api/records/kympj-zm433/requests\"\n",
      "                },\n",
      "                \"revision_id\": 4,\n",
      "                \"parent\": {\n",
      "                    \"id\": \"pj1dm-vwx20\",\n",
      "                    \"access\": {\n",
      "                        \"owned_by\": {\n",
      "                            \"user\": \"122\"\n",
      "                        },\n",
      "                        \"settings\": {\n",
      "                            \"allow_user_requests\": false,\n",
      "                            \"allow_guest_requests\": false,\n",
      "                            \"accept_conditions_text\": null,\n",
      "                            \"secret_link_expiration\": 0\n",
      "                        }\n",
      "                    },\n",
      "                    \"communities\": {},\n",
      "                    \"pids\": {\n",
      "                        \"doi\": {\n",
      "                            \"identifier\": \"10.81088/pj1dm-vwx20\",\n",
      "                            \"provider\": \"datacite\",\n",
      "                            \"client\": \"datacite\"\n",
      "                        }\n",
      "                    }\n",
      "                },\n",
      "                \"versions\": {\n",
      "                    \"is_latest\": true,\n",
      "                    \"index\": 1\n",
      "                },\n",
      "                \"is_published\": true,\n",
      "                \"is_draft\": false,\n",
      "                \"pids\": {\n",
      "                    \"oai\": {\n",
      "                        \"identifier\": \"oai:inveniordm.web.cern.ch:kympj-zm433\",\n",
      "                        \"provider\": \"oai\"\n",
      "                    },\n",
      "                    \"doi\": {\n",
      "                        \"identifier\": \"10.81088/kympj-zm433\",\n",
      "                        \"provider\": \"datacite\",\n",
      "                        \"client\": \"datacite\"\n",
      "                    }\n",
      "                },\n",
      "                \"metadata\": {\n",
      "                    \"resource_type\": {\n",
      "                        \"id\": \"audio\",\n",
      "                        \"title\": {\n",
      "                            \"de\": \"Audio\",\n",
      "                            \"en\": \"Audio\",\n",
      "                            \"sv\": \"Audio\"\n",
      "                        }\n",
      "                    },\n",
      "                    \"creators\": [\n",
      "                        {\n",
      "                            \"person_or_org\": {\n",
      "                                \"type\": \"personal\",\n",
      "                                \"name\": \"vado\",\n",
      "                                \"family_name\": \"vado\"\n",
      "                            }\n",
      "                        }\n",
      "                    ],\n",
      "                    \"title\": \"Caritas terra volva tabesco cognomen una ustulo delicate conventus.\",\n",
      "                    \"publisher\": \"CERN\",\n",
      "                    \"publication_date\": \"2025-07-12\",\n",
      "                    \"rights\": [\n",
      "                        {\n",
      "                            \"id\": \"cc-by-4.0\",\n",
      "                            \"title\": {\n",
      "                                \"en\": \"Creative Commons Attribution 4.0 International\"\n",
      "                            },\n",
      "                            \"description\": {\n",
      "                                \"en\": \"The Creative Commons Attribution license allows re-distribution and re-use of a licensed work on the condition that the creator is appropriately credited.\"\n",
      "                            },\n",
      "                            \"icon\": \"cc-by-icon\",\n",
      "                            \"props\": {\n",
      "                                \"url\": \"https://creativecommons.org/licenses/by/4.0/\",\n",
      "                                \"scheme\": \"spdx\"\n",
      "                            }\n",
      "                        }\n",
      "                    ]\n",
      "                },\n",
      "                \"custom_fields\": {},\n",
      "                \"access\": {\n",
      "                    \"record\": \"public\",\n",
      "                    \"files\": \"public\",\n",
      "                    \"embargo\": {\n",
      "                        \"active\": false,\n",
      "                        \"reason\": null\n",
      "                    },\n",
      "                    \"status\": \"open\"\n",
      "                },\n",
      "                \"files\": {\n",
      "                    \"enabled\": true,\n",
      "                    \"order\": [],\n",
      "                    \"count\": 1,\n",
      "                    \"total_bytes\": 51227,\n",
      "                    \"entries\": {\n",
      "                        \"Anon2.jpg\": {\n",
      "                            \"id\": \"c7a99f31-65ff-435e-8c21-c7b4dfed22af\",\n",
      "                            \"checksum\": \"md5:ffa2a7b9c71c139aacc781d158fffa8b\",\n",
      "                            \"ext\": \"jpg\",\n",
      "                            \"size\": 51227,\n",
      "                            \"mimetype\": \"image/jpeg\",\n",
      "                            \"key\": \"Anon2.jpg\",\n",
      "                            \"metadata\": {},\n",
      "                            \"access\": {\n",
      "                                \"hidden\": false\n",
      "                            }\n",
      "                        }\n",
      "                    }\n",
      "                },\n",
      "                \"media_files\": {\n",
      "                    \"enabled\": false,\n",
      "                    \"order\": [],\n",
      "                    \"count\": 0,\n",
      "                    \"total_bytes\": 0,\n",
      "                    \"entries\": {}\n",
      "                },\n",
      "                \"status\": \"published\",\n",
      "                \"deletion_status\": {\n",
      "                    \"is_deleted\": false,\n",
      "                    \"status\": \"P\"\n",
      "                },\n",
      "                \"stats\": {\n",
      "                    \"this_version\": {\n",
      "                        \"views\": 0,\n",
      "                        \"unique_views\": 0,\n",
      "                        \"downloads\": 0,\n",
      "                        \"unique_downloads\": 0,\n",
      "                        \"data_volume\": 0.0\n",
      "                    },\n",
      "                    \"all_versions\": {\n",
      "                        \"views\": 0,\n",
      "                        \"unique_views\": 0,\n",
      "                        \"downloads\": 0,\n",
      "                        \"unique_downloads\": 0,\n",
      "                        \"data_volume\": 0.0\n",
      "                    }\n",
      "                }\n",
      "            },\n",
      "            {\n",
      "                \"id\": \"jvedq-q6726\",\n",
      "                \"created\": \"2025-07-12T18:35:28.266721+00:00\",\n",
      "                \"updated\": \"2025-07-12T18:35:28.388149+00:00\",\n",
      "                \"links\": {\n",
      "                    \"self\": \"https://inveniordm.web.cern.ch/api/records/jvedq-q6726\",\n",
      "                    \"self_html\": \"https://inveniordm.web.cern.ch/records/jvedq-q6726\",\n",
      "                    \"self_doi\": \"https://inveniordm.web.cern.ch/doi/10.81088/jvedq-q6726\",\n",
      "                    \"doi\": \"https://handle.stage.datacite.org/10.81088/jvedq-q6726\",\n",
      "                    \"parent\": \"https://inveniordm.web.cern.ch/api/records/gy4wa-xb595\",\n",
      "                    \"parent_html\": \"https://inveniordm.web.cern.ch/records/gy4wa-xb595\",\n",
      "                    \"parent_doi\": \"https://inveniordm.web.cern.ch/doi/10.81088/gy4wa-xb595\",\n",
      "                    \"self_iiif_manifest\": \"https://inveniordm.web.cern.ch/api/iiif/record:jvedq-q6726/manifest\",\n",
      "                    \"self_iiif_sequence\": \"https://inveniordm.web.cern.ch/api/iiif/record:jvedq-q6726/sequence/default\",\n",
      "                    \"files\": \"https://inveniordm.web.cern.ch/api/records/jvedq-q6726/files\",\n",
      "                    \"media_files\": \"https://inveniordm.web.cern.ch/api/records/jvedq-q6726/media-files\",\n",
      "                    \"archive\": \"https://inveniordm.web.cern.ch/api/records/jvedq-q6726/files-archive\",\n",
      "                    \"archive_media\": \"https://inveniordm.web.cern.ch/api/records/jvedq-q6726/media-files-archive\",\n",
      "                    \"latest\": \"https://inveniordm.web.cern.ch/api/records/jvedq-q6726/versions/latest\",\n",
      "                    \"latest_html\": \"https://inveniordm.web.cern.ch/records/jvedq-q6726/latest\",\n",
      "                    \"draft\": \"https://inveniordm.web.cern.ch/api/records/jvedq-q6726/draft\",\n",
      "                    \"versions\": \"https://inveniordm.web.cern.ch/api/records/jvedq-q6726/versions\",\n",
      "                    \"access_links\": \"https://inveniordm.web.cern.ch/api/records/jvedq-q6726/access/links\",\n",
      "                    \"access_grants\": \"https://inveniordm.web.cern.ch/api/records/jvedq-q6726/access/grants\",\n",
      "                    \"access_users\": \"https://inveniordm.web.cern.ch/api/records/jvedq-q6726/access/users\",\n",
      "                    \"access_groups\": \"https://inveniordm.web.cern.ch/api/records/jvedq-q6726/access/groups\",\n",
      "                    \"access_request\": \"https://inveniordm.web.cern.ch/api/records/jvedq-q6726/access/request\",\n",
      "                    \"access\": \"https://inveniordm.web.cern.ch/api/records/jvedq-q6726/access\",\n",
      "                    \"reserve_doi\": \"https://inveniordm.web.cern.ch/api/records/jvedq-q6726/draft/pids/doi\",\n",
      "                    \"communities\": \"https://inveniordm.web.cern.ch/api/records/jvedq-q6726/communities\",\n",
      "                    \"communities-suggestions\": \"https://inveniordm.web.cern.ch/api/records/jvedq-q6726/communities-suggestions\",\n",
      "                    \"requests\": \"https://inveniordm.web.cern.ch/api/records/jvedq-q6726/requests\"\n",
      "                },\n",
      "                \"revision_id\": 4,\n",
      "                \"parent\": {\n",
      "                    \"id\": \"gy4wa-xb595\",\n",
      "                    \"access\": {\n",
      "                        \"owned_by\": {\n",
      "                            \"user\": \"122\"\n",
      "                        },\n",
      "                        \"settings\": {\n",
      "                            \"allow_user_requests\": false,\n",
      "                            \"allow_guest_requests\": false,\n",
      "                            \"accept_conditions_text\": null,\n",
      "                            \"secret_link_expiration\": 0\n",
      "                        }\n",
      "                    },\n",
      "                    \"communities\": {},\n",
      "                    \"pids\": {\n",
      "                        \"doi\": {\n",
      "                            \"identifier\": \"10.81088/gy4wa-xb595\",\n",
      "                            \"provider\": \"datacite\",\n",
      "                            \"client\": \"datacite\"\n",
      "                        }\n",
      "                    }\n",
      "                },\n",
      "                \"versions\": {\n",
      "                    \"is_latest\": true,\n",
      "                    \"index\": 1\n",
      "                },\n",
      "                \"is_published\": true,\n",
      "                \"is_draft\": false,\n",
      "                \"pids\": {\n",
      "                    \"oai\": {\n",
      "                        \"identifier\": \"oai:inveniordm.web.cern.ch:jvedq-q6726\",\n",
      "                        \"provider\": \"oai\"\n",
      "                    },\n",
      "                    \"doi\": {\n",
      "                        \"identifier\": \"10.81088/jvedq-q6726\",\n",
      "                        \"provider\": \"datacite\",\n",
      "                        \"client\": \"datacite\"\n",
      "                    }\n",
      "                },\n",
      "                \"metadata\": {\n",
      "                    \"resource_type\": {\n",
      "                        \"id\": \"software\",\n",
      "                        \"title\": {\n",
      "                            \"de\": \"Software\",\n",
      "                            \"en\": \"Software\",\n",
      "                            \"sv\": \"Mjukvara\"\n",
      "                        }\n",
      "                    },\n",
      "                    \"creators\": [\n",
      "                        {\n",
      "                            \"person_or_org\": {\n",
      "                                \"type\": \"personal\",\n",
      "                                \"name\": \"tolero\",\n",
      "                                \"family_name\": \"tolero\"\n",
      "                            }\n",
      "                        }\n",
      "                    ],\n",
      "                    \"title\": \"Abbas tam spoliatio canonicus trans aedificium.\",\n",
      "                    \"publisher\": \"CERN\",\n",
      "                    \"publication_date\": \"2025-07-12\",\n",
      "                    \"rights\": [\n",
      "                        {\n",
      "                            \"id\": \"cc-by-4.0\",\n",
      "                            \"title\": {\n",
      "                                \"en\": \"Creative Commons Attribution 4.0 International\"\n",
      "                            },\n",
      "                            \"description\": {\n",
      "                                \"en\": \"The Creative Commons Attribution license allows re-distribution and re-use of a licensed work on the condition that the creator is appropriately credited.\"\n",
      "                            },\n",
      "                            \"icon\": \"cc-by-icon\",\n",
      "                            \"props\": {\n",
      "                                \"url\": \"https://creativecommons.org/licenses/by/4.0/\",\n",
      "                                \"scheme\": \"spdx\"\n",
      "                            }\n",
      "                        }\n",
      "                    ]\n",
      "                },\n",
      "                \"custom_fields\": {},\n",
      "                \"access\": {\n",
      "                    \"record\": \"public\",\n",
      "                    \"files\": \"public\",\n",
      "                    \"embargo\": {\n",
      "                        \"active\": false,\n",
      "                        \"reason\": null\n",
      "                    },\n",
      "                    \"status\": \"open\"\n",
      "                },\n",
      "                \"files\": {\n",
      "                    \"enabled\": true,\n",
      "                    \"order\": [],\n",
      "                    \"count\": 1,\n",
      "                    \"total_bytes\": 20969,\n",
      "                    \"entries\": {\n",
      "                        \"Anon9.jpg\": {\n",
      "                            \"id\": \"a1bc382e-4f7e-429f-a924-e6101ab150d2\",\n",
      "                            \"checksum\": \"md5:462f1833adf7dfb991d6e0e58c0e7f7d\",\n",
      "                            \"ext\": \"jpg\",\n",
      "                            \"size\": 20969,\n",
      "                            \"mimetype\": \"image/jpeg\",\n",
      "                            \"key\": \"Anon9.jpg\",\n",
      "                            \"metadata\": {},\n",
      "                            \"access\": {\n",
      "                                \"hidden\": false\n",
      "                            }\n",
      "                        }\n",
      "                    }\n",
      "                },\n",
      "                \"media_files\": {\n",
      "                    \"enabled\": false,\n",
      "                    \"order\": [],\n",
      "                    \"count\": 0,\n",
      "                    \"total_bytes\": 0,\n",
      "                    \"entries\": {}\n",
      "                },\n",
      "                \"status\": \"published\",\n",
      "                \"deletion_status\": {\n",
      "                    \"is_deleted\": false,\n",
      "                    \"status\": \"P\"\n",
      "                },\n",
      "                \"stats\": {\n",
      "                    \"this_version\": {\n",
      "                        \"views\": 0,\n",
      "                        \"unique_views\": 0,\n",
      "                        \"downloads\": 0,\n",
      "                        \"unique_downloads\": 0,\n",
      "                        \"data_volume\": 0.0\n",
      "                    },\n",
      "                    \"all_versions\": {\n",
      "                        \"views\": 0,\n",
      "                        \"unique_views\": 0,\n",
      "                        \"downloads\": 0,\n",
      "                        \"unique_downloads\": 0,\n",
      "                        \"data_volume\": 0.0\n",
      "                    }\n",
      "                }\n",
      "            },\n",
      "            {\n",
      "                \"id\": \"p8fyf-5wg47\",\n",
      "                \"created\": \"2025-07-11T12:51:48.189972+00:00\",\n",
      "                \"updated\": \"2025-07-11T12:51:48.295737+00:00\",\n",
      "                \"links\": {\n",
      "                    \"self\": \"https://inveniordm.web.cern.ch/api/records/p8fyf-5wg47\",\n",
      "                    \"self_html\": \"https://inveniordm.web.cern.ch/records/p8fyf-5wg47\",\n",
      "                    \"self_doi\": \"https://inveniordm.web.cern.ch/doi/10.81088/p8fyf-5wg47\",\n",
      "                    \"doi\": \"https://handle.stage.datacite.org/10.81088/p8fyf-5wg47\",\n",
      "                    \"parent\": \"https://inveniordm.web.cern.ch/api/records/t9d1g-rrx45\",\n",
      "                    \"parent_html\": \"https://inveniordm.web.cern.ch/records/t9d1g-rrx45\",\n",
      "                    \"parent_doi\": \"https://inveniordm.web.cern.ch/doi/10.81088/t9d1g-rrx45\",\n",
      "                    \"self_iiif_manifest\": \"https://inveniordm.web.cern.ch/api/iiif/record:p8fyf-5wg47/manifest\",\n",
      "                    \"self_iiif_sequence\": \"https://inveniordm.web.cern.ch/api/iiif/record:p8fyf-5wg47/sequence/default\",\n",
      "                    \"files\": \"https://inveniordm.web.cern.ch/api/records/p8fyf-5wg47/files\",\n",
      "                    \"media_files\": \"https://inveniordm.web.cern.ch/api/records/p8fyf-5wg47/media-files\",\n",
      "                    \"archive\": \"https://inveniordm.web.cern.ch/api/records/p8fyf-5wg47/files-archive\",\n",
      "                    \"archive_media\": \"https://inveniordm.web.cern.ch/api/records/p8fyf-5wg47/media-files-archive\",\n",
      "                    \"latest\": \"https://inveniordm.web.cern.ch/api/records/p8fyf-5wg47/versions/latest\",\n",
      "                    \"latest_html\": \"https://inveniordm.web.cern.ch/records/p8fyf-5wg47/latest\",\n",
      "                    \"draft\": \"https://inveniordm.web.cern.ch/api/records/p8fyf-5wg47/draft\",\n",
      "                    \"versions\": \"https://inveniordm.web.cern.ch/api/records/p8fyf-5wg47/versions\",\n",
      "                    \"access_links\": \"https://inveniordm.web.cern.ch/api/records/p8fyf-5wg47/access/links\",\n",
      "                    \"access_grants\": \"https://inveniordm.web.cern.ch/api/records/p8fyf-5wg47/access/grants\",\n",
      "                    \"access_users\": \"https://inveniordm.web.cern.ch/api/records/p8fyf-5wg47/access/users\",\n",
      "                    \"access_groups\": \"https://inveniordm.web.cern.ch/api/records/p8fyf-5wg47/access/groups\",\n",
      "                    \"access_request\": \"https://inveniordm.web.cern.ch/api/records/p8fyf-5wg47/access/request\",\n",
      "                    \"access\": \"https://inveniordm.web.cern.ch/api/records/p8fyf-5wg47/access\",\n",
      "                    \"reserve_doi\": \"https://inveniordm.web.cern.ch/api/records/p8fyf-5wg47/draft/pids/doi\",\n",
      "                    \"communities\": \"https://inveniordm.web.cern.ch/api/records/p8fyf-5wg47/communities\",\n",
      "                    \"communities-suggestions\": \"https://inveniordm.web.cern.ch/api/records/p8fyf-5wg47/communities-suggestions\",\n",
      "                    \"requests\": \"https://inveniordm.web.cern.ch/api/records/p8fyf-5wg47/requests\"\n",
      "                },\n",
      "                \"revision_id\": 4,\n",
      "                \"parent\": {\n",
      "                    \"id\": \"t9d1g-rrx45\",\n",
      "                    \"access\": {\n",
      "                        \"owned_by\": {\n",
      "                            \"user\": \"122\"\n",
      "                        },\n",
      "                        \"settings\": {\n",
      "                            \"allow_user_requests\": false,\n",
      "                            \"allow_guest_requests\": false,\n",
      "                            \"accept_conditions_text\": null,\n",
      "                            \"secret_link_expiration\": 0\n",
      "                        }\n",
      "                    },\n",
      "                    \"communities\": {},\n",
      "                    \"pids\": {\n",
      "                        \"doi\": {\n",
      "                            \"identifier\": \"10.81088/t9d1g-rrx45\",\n",
      "                            \"provider\": \"datacite\",\n",
      "                            \"client\": \"datacite\"\n",
      "                        }\n",
      "                    }\n",
      "                },\n",
      "                \"versions\": {\n",
      "                    \"is_latest\": true,\n",
      "                    \"index\": 1\n",
      "                },\n",
      "                \"is_published\": true,\n",
      "                \"is_draft\": false,\n",
      "                \"pids\": {\n",
      "                    \"doi\": {\n",
      "                        \"identifier\": \"10.81088/p8fyf-5wg47\",\n",
      "                        \"provider\": \"datacite\",\n",
      "                        \"client\": \"datacite\"\n",
      "                    },\n",
      "                    \"oai\": {\n",
      "                        \"identifier\": \"oai:inveniordm.web.cern.ch:p8fyf-5wg47\",\n",
      "                        \"provider\": \"oai\"\n",
      "                    }\n",
      "                },\n",
      "                \"metadata\": {\n",
      "                    \"resource_type\": {\n",
      "                        \"id\": \"video\",\n",
      "                        \"title\": {\n",
      "                            \"de\": \"Video\",\n",
      "                            \"en\": \"Video\",\n",
      "                            \"sv\": \"Video\"\n",
      "                        }\n",
      "                    },\n",
      "                    \"creators\": [\n",
      "                        {\n",
      "                            \"person_or_org\": {\n",
      "                                \"type\": \"personal\",\n",
      "                                \"name\": \"tamdiu\",\n",
      "                                \"family_name\": \"tamdiu\"\n",
      "                            }\n",
      "                        }\n",
      "                    ],\n",
      "                    \"title\": \"Asporto theatrum defleo votum adulatio auxilium atrocitas venia curis conqueror.\",\n",
      "                    \"publisher\": \"CERN\",\n",
      "                    \"publication_date\": \"2025-07-11\",\n",
      "                    \"rights\": [\n",
      "                        {\n",
      "                            \"id\": \"cc-by-4.0\",\n",
      "                            \"title\": {\n",
      "                                \"en\": \"Creative Commons Attribution 4.0 International\"\n",
      "                            },\n",
      "                            \"description\": {\n",
      "                                \"en\": \"The Creative Commons Attribution license allows re-distribution and re-use of a licensed work on the condition that the creator is appropriately credited.\"\n",
      "                            },\n",
      "                            \"icon\": \"cc-by-icon\",\n",
      "                            \"props\": {\n",
      "                                \"url\": \"https://creativecommons.org/licenses/by/4.0/\",\n",
      "                                \"scheme\": \"spdx\"\n",
      "                            }\n",
      "                        }\n",
      "                    ]\n",
      "                },\n",
      "                \"custom_fields\": {},\n",
      "                \"access\": {\n",
      "                    \"record\": \"public\",\n",
      "                    \"files\": \"public\",\n",
      "                    \"embargo\": {\n",
      "                        \"active\": false,\n",
      "                        \"reason\": null\n",
      "                    },\n",
      "                    \"status\": \"open\"\n",
      "                },\n",
      "                \"files\": {\n",
      "                    \"enabled\": true,\n",
      "                    \"order\": [],\n",
      "                    \"count\": 1,\n",
      "                    \"total_bytes\": 105042,\n",
      "                    \"entries\": {\n",
      "                        \"Anon6.jpg\": {\n",
      "                            \"id\": \"8b050bc5-128a-480e-ac86-8caf7b7b969b\",\n",
      "                            \"checksum\": \"md5:7e41b92644f0a69caf5ad13b780a141c\",\n",
      "                            \"ext\": \"jpg\",\n",
      "                            \"size\": 105042,\n",
      "                            \"mimetype\": \"image/jpeg\",\n",
      "                            \"key\": \"Anon6.jpg\",\n",
      "                            \"metadata\": {},\n",
      "                            \"access\": {\n",
      "                                \"hidden\": false\n",
      "                            }\n",
      "                        }\n",
      "                    }\n",
      "                },\n",
      "                \"media_files\": {\n",
      "                    \"enabled\": false,\n",
      "                    \"order\": [],\n",
      "                    \"count\": 0,\n",
      "                    \"total_bytes\": 0,\n",
      "                    \"entries\": {}\n",
      "                },\n",
      "                \"status\": \"published\",\n",
      "                \"deletion_status\": {\n",
      "                    \"is_deleted\": false,\n",
      "                    \"status\": \"P\"\n",
      "                },\n",
      "                \"stats\": {\n",
      "                    \"this_version\": {\n",
      "                        \"views\": 0,\n",
      "                        \"unique_views\": 0,\n",
      "                        \"downloads\": 0,\n",
      "                        \"unique_downloads\": 0,\n",
      "                        \"data_volume\": 0.0\n",
      "                    },\n",
      "                    \"all_versions\": {\n",
      "                        \"views\": 0,\n",
      "                        \"unique_views\": 0,\n",
      "                        \"downloads\": 0,\n",
      "                        \"unique_downloads\": 0,\n",
      "                        \"data_volume\": 0.0\n",
      "                    }\n",
      "                }\n",
      "            },\n",
      "            {\n",
      "                \"id\": \"2cevn-nav18\",\n",
      "                \"created\": \"2025-07-11T12:49:46.940495+00:00\",\n",
      "                \"updated\": \"2025-07-11T12:49:47.056882+00:00\",\n",
      "                \"links\": {\n",
      "                    \"self\": \"https://inveniordm.web.cern.ch/api/records/2cevn-nav18\",\n",
      "                    \"self_html\": \"https://inveniordm.web.cern.ch/records/2cevn-nav18\",\n",
      "                    \"self_doi\": \"https://inveniordm.web.cern.ch/doi/10.81088/2cevn-nav18\",\n",
      "                    \"doi\": \"https://handle.stage.datacite.org/10.81088/2cevn-nav18\",\n",
      "                    \"parent\": \"https://inveniordm.web.cern.ch/api/records/rr2av-fgk49\",\n",
      "                    \"parent_html\": \"https://inveniordm.web.cern.ch/records/rr2av-fgk49\",\n",
      "                    \"parent_doi\": \"https://inveniordm.web.cern.ch/doi/10.81088/rr2av-fgk49\",\n",
      "                    \"self_iiif_manifest\": \"https://inveniordm.web.cern.ch/api/iiif/record:2cevn-nav18/manifest\",\n",
      "                    \"self_iiif_sequence\": \"https://inveniordm.web.cern.ch/api/iiif/record:2cevn-nav18/sequence/default\",\n",
      "                    \"files\": \"https://inveniordm.web.cern.ch/api/records/2cevn-nav18/files\",\n",
      "                    \"media_files\": \"https://inveniordm.web.cern.ch/api/records/2cevn-nav18/media-files\",\n",
      "                    \"archive\": \"https://inveniordm.web.cern.ch/api/records/2cevn-nav18/files-archive\",\n",
      "                    \"archive_media\": \"https://inveniordm.web.cern.ch/api/records/2cevn-nav18/media-files-archive\",\n",
      "                    \"latest\": \"https://inveniordm.web.cern.ch/api/records/2cevn-nav18/versions/latest\",\n",
      "                    \"latest_html\": \"https://inveniordm.web.cern.ch/records/2cevn-nav18/latest\",\n",
      "                    \"draft\": \"https://inveniordm.web.cern.ch/api/records/2cevn-nav18/draft\",\n",
      "                    \"versions\": \"https://inveniordm.web.cern.ch/api/records/2cevn-nav18/versions\",\n",
      "                    \"access_links\": \"https://inveniordm.web.cern.ch/api/records/2cevn-nav18/access/links\",\n",
      "                    \"access_grants\": \"https://inveniordm.web.cern.ch/api/records/2cevn-nav18/access/grants\",\n",
      "                    \"access_users\": \"https://inveniordm.web.cern.ch/api/records/2cevn-nav18/access/users\",\n",
      "                    \"access_groups\": \"https://inveniordm.web.cern.ch/api/records/2cevn-nav18/access/groups\",\n",
      "                    \"access_request\": \"https://inveniordm.web.cern.ch/api/records/2cevn-nav18/access/request\",\n",
      "                    \"access\": \"https://inveniordm.web.cern.ch/api/records/2cevn-nav18/access\",\n",
      "                    \"reserve_doi\": \"https://inveniordm.web.cern.ch/api/records/2cevn-nav18/draft/pids/doi\",\n",
      "                    \"communities\": \"https://inveniordm.web.cern.ch/api/records/2cevn-nav18/communities\",\n",
      "                    \"communities-suggestions\": \"https://inveniordm.web.cern.ch/api/records/2cevn-nav18/communities-suggestions\",\n",
      "                    \"requests\": \"https://inveniordm.web.cern.ch/api/records/2cevn-nav18/requests\"\n",
      "                },\n",
      "                \"revision_id\": 4,\n",
      "                \"parent\": {\n",
      "                    \"id\": \"rr2av-fgk49\",\n",
      "                    \"access\": {\n",
      "                        \"owned_by\": {\n",
      "                            \"user\": \"122\"\n",
      "                        },\n",
      "                        \"settings\": {\n",
      "                            \"allow_user_requests\": false,\n",
      "                            \"allow_guest_requests\": false,\n",
      "                            \"accept_conditions_text\": null,\n",
      "                            \"secret_link_expiration\": 0\n",
      "                        }\n",
      "                    },\n",
      "                    \"communities\": {},\n",
      "                    \"pids\": {\n",
      "                        \"doi\": {\n",
      "                            \"identifier\": \"10.81088/rr2av-fgk49\",\n",
      "                            \"provider\": \"datacite\",\n",
      "                            \"client\": \"datacite\"\n",
      "                        }\n",
      "                    }\n",
      "                },\n",
      "                \"versions\": {\n",
      "                    \"is_latest\": true,\n",
      "                    \"index\": 1\n",
      "                },\n",
      "                \"is_published\": true,\n",
      "                \"is_draft\": false,\n",
      "                \"pids\": {\n",
      "                    \"doi\": {\n",
      "                        \"identifier\": \"10.81088/2cevn-nav18\",\n",
      "                        \"provider\": \"datacite\",\n",
      "                        \"client\": \"datacite\"\n",
      "                    },\n",
      "                    \"oai\": {\n",
      "                        \"identifier\": \"oai:inveniordm.web.cern.ch:2cevn-nav18\",\n",
      "                        \"provider\": \"oai\"\n",
      "                    }\n",
      "                },\n",
      "                \"metadata\": {\n",
      "                    \"resource_type\": {\n",
      "                        \"id\": \"software\",\n",
      "                        \"title\": {\n",
      "                            \"de\": \"Software\",\n",
      "                            \"en\": \"Software\",\n",
      "                            \"sv\": \"Mjukvara\"\n",
      "                        }\n",
      "                    },\n",
      "                    \"creators\": [\n",
      "                        {\n",
      "                            \"person_or_org\": {\n",
      "                                \"type\": \"personal\",\n",
      "                                \"name\": \"cervus\",\n",
      "                                \"family_name\": \"cervus\"\n",
      "                            }\n",
      "                        }\n",
      "                    ],\n",
      "                    \"title\": \"Adulatio antiquus deripio curso delinquo deprimo cibo.\",\n",
      "                    \"publisher\": \"CERN\",\n",
      "                    \"publication_date\": \"2025-07-11\",\n",
      "                    \"rights\": [\n",
      "                        {\n",
      "                            \"id\": \"cc-by-4.0\",\n",
      "                            \"title\": {\n",
      "                                \"en\": \"Creative Commons Attribution 4.0 International\"\n",
      "                            },\n",
      "                            \"description\": {\n",
      "                                \"en\": \"The Creative Commons Attribution license allows re-distribution and re-use of a licensed work on the condition that the creator is appropriately credited.\"\n",
      "                            },\n",
      "                            \"icon\": \"cc-by-icon\",\n",
      "                            \"props\": {\n",
      "                                \"url\": \"https://creativecommons.org/licenses/by/4.0/\",\n",
      "                                \"scheme\": \"spdx\"\n",
      "                            }\n",
      "                        }\n",
      "                    ]\n",
      "                },\n",
      "                \"custom_fields\": {},\n",
      "                \"access\": {\n",
      "                    \"record\": \"public\",\n",
      "                    \"files\": \"public\",\n",
      "                    \"embargo\": {\n",
      "                        \"active\": false,\n",
      "                        \"reason\": null\n",
      "                    },\n",
      "                    \"status\": \"open\"\n",
      "                },\n",
      "                \"files\": {\n",
      "                    \"enabled\": true,\n",
      "                    \"order\": [],\n",
      "                    \"count\": 1,\n",
      "                    \"total_bytes\": 34260,\n",
      "                    \"entries\": {\n",
      "                        \"Anon3.jpg\": {\n",
      "                            \"id\": \"500e2847-af4e-4b31-afc5-f31def7c332c\",\n",
      "                            \"checksum\": \"md5:27d09e71282af9261a9307ee69e8f3ba\",\n",
      "                            \"ext\": \"jpg\",\n",
      "                            \"size\": 34260,\n",
      "                            \"mimetype\": \"image/jpeg\",\n",
      "                            \"key\": \"Anon3.jpg\",\n",
      "                            \"metadata\": {},\n",
      "                            \"access\": {\n",
      "                                \"hidden\": false\n",
      "                            }\n",
      "                        }\n",
      "                    }\n",
      "                },\n",
      "                \"media_files\": {\n",
      "                    \"enabled\": false,\n",
      "                    \"order\": [],\n",
      "                    \"count\": 0,\n",
      "                    \"total_bytes\": 0,\n",
      "                    \"entries\": {}\n",
      "                },\n",
      "                \"status\": \"published\",\n",
      "                \"deletion_status\": {\n",
      "                    \"is_deleted\": false,\n",
      "                    \"status\": \"P\"\n",
      "                },\n",
      "                \"stats\": {\n",
      "                    \"this_version\": {\n",
      "                        \"views\": 0,\n",
      "                        \"unique_views\": 0,\n",
      "                        \"downloads\": 0,\n",
      "                        \"unique_downloads\": 0,\n",
      "                        \"data_volume\": 0.0\n",
      "                    },\n",
      "                    \"all_versions\": {\n",
      "                        \"views\": 0,\n",
      "                        \"unique_views\": 0,\n",
      "                        \"downloads\": 0,\n",
      "                        \"unique_downloads\": 0,\n",
      "                        \"data_volume\": 0.0\n",
      "                    }\n",
      "                }\n",
      "            },\n",
      "            {\n",
      "                \"id\": \"nf65d-ddh41\",\n",
      "                \"created\": \"2025-07-11T12:31:16.515893+00:00\",\n",
      "                \"updated\": \"2025-07-11T12:31:16.634599+00:00\",\n",
      "                \"links\": {\n",
      "                    \"self\": \"https://inveniordm.web.cern.ch/api/records/nf65d-ddh41\",\n",
      "                    \"self_html\": \"https://inveniordm.web.cern.ch/records/nf65d-ddh41\",\n",
      "                    \"self_doi\": \"https://inveniordm.web.cern.ch/doi/10.81088/nf65d-ddh41\",\n",
      "                    \"doi\": \"https://handle.stage.datacite.org/10.81088/nf65d-ddh41\",\n",
      "                    \"parent\": \"https://inveniordm.web.cern.ch/api/records/p90s8-c2y17\",\n",
      "                    \"parent_html\": \"https://inveniordm.web.cern.ch/records/p90s8-c2y17\",\n",
      "                    \"parent_doi\": \"https://inveniordm.web.cern.ch/doi/10.81088/p90s8-c2y17\",\n",
      "                    \"self_iiif_manifest\": \"https://inveniordm.web.cern.ch/api/iiif/record:nf65d-ddh41/manifest\",\n",
      "                    \"self_iiif_sequence\": \"https://inveniordm.web.cern.ch/api/iiif/record:nf65d-ddh41/sequence/default\",\n",
      "                    \"files\": \"https://inveniordm.web.cern.ch/api/records/nf65d-ddh41/files\",\n",
      "                    \"media_files\": \"https://inveniordm.web.cern.ch/api/records/nf65d-ddh41/media-files\",\n",
      "                    \"archive\": \"https://inveniordm.web.cern.ch/api/records/nf65d-ddh41/files-archive\",\n",
      "                    \"archive_media\": \"https://inveniordm.web.cern.ch/api/records/nf65d-ddh41/media-files-archive\",\n",
      "                    \"latest\": \"https://inveniordm.web.cern.ch/api/records/nf65d-ddh41/versions/latest\",\n",
      "                    \"latest_html\": \"https://inveniordm.web.cern.ch/records/nf65d-ddh41/latest\",\n",
      "                    \"draft\": \"https://inveniordm.web.cern.ch/api/records/nf65d-ddh41/draft\",\n",
      "                    \"versions\": \"https://inveniordm.web.cern.ch/api/records/nf65d-ddh41/versions\",\n",
      "                    \"access_links\": \"https://inveniordm.web.cern.ch/api/records/nf65d-ddh41/access/links\",\n",
      "                    \"access_grants\": \"https://inveniordm.web.cern.ch/api/records/nf65d-ddh41/access/grants\",\n",
      "                    \"access_users\": \"https://inveniordm.web.cern.ch/api/records/nf65d-ddh41/access/users\",\n",
      "                    \"access_groups\": \"https://inveniordm.web.cern.ch/api/records/nf65d-ddh41/access/groups\",\n",
      "                    \"access_request\": \"https://inveniordm.web.cern.ch/api/records/nf65d-ddh41/access/request\",\n",
      "                    \"access\": \"https://inveniordm.web.cern.ch/api/records/nf65d-ddh41/access\",\n",
      "                    \"reserve_doi\": \"https://inveniordm.web.cern.ch/api/records/nf65d-ddh41/draft/pids/doi\",\n",
      "                    \"communities\": \"https://inveniordm.web.cern.ch/api/records/nf65d-ddh41/communities\",\n",
      "                    \"communities-suggestions\": \"https://inveniordm.web.cern.ch/api/records/nf65d-ddh41/communities-suggestions\",\n",
      "                    \"requests\": \"https://inveniordm.web.cern.ch/api/records/nf65d-ddh41/requests\"\n",
      "                },\n",
      "                \"revision_id\": 4,\n",
      "                \"parent\": {\n",
      "                    \"id\": \"p90s8-c2y17\",\n",
      "                    \"access\": {\n",
      "                        \"owned_by\": {\n",
      "                            \"user\": \"122\"\n",
      "                        },\n",
      "                        \"settings\": {\n",
      "                            \"allow_user_requests\": false,\n",
      "                            \"allow_guest_requests\": false,\n",
      "                            \"accept_conditions_text\": null,\n",
      "                            \"secret_link_expiration\": 0\n",
      "                        }\n",
      "                    },\n",
      "                    \"communities\": {},\n",
      "                    \"pids\": {\n",
      "                        \"doi\": {\n",
      "                            \"identifier\": \"10.81088/p90s8-c2y17\",\n",
      "                            \"provider\": \"datacite\",\n",
      "                            \"client\": \"datacite\"\n",
      "                        }\n",
      "                    }\n",
      "                },\n",
      "                \"versions\": {\n",
      "                    \"is_latest\": true,\n",
      "                    \"index\": 1\n",
      "                },\n",
      "                \"is_published\": true,\n",
      "                \"is_draft\": false,\n",
      "                \"pids\": {\n",
      "                    \"doi\": {\n",
      "                        \"identifier\": \"10.81088/nf65d-ddh41\",\n",
      "                        \"provider\": \"datacite\",\n",
      "                        \"client\": \"datacite\"\n",
      "                    },\n",
      "                    \"oai\": {\n",
      "                        \"identifier\": \"oai:inveniordm.web.cern.ch:nf65d-ddh41\",\n",
      "                        \"provider\": \"oai\"\n",
      "                    }\n",
      "                },\n",
      "                \"metadata\": {\n",
      "                    \"resource_type\": {\n",
      "                        \"id\": \"audio\",\n",
      "                        \"title\": {\n",
      "                            \"de\": \"Audio\",\n",
      "                            \"en\": \"Audio\",\n",
      "                            \"sv\": \"Audio\"\n",
      "                        }\n",
      "                    },\n",
      "                    \"creators\": [\n",
      "                        {\n",
      "                            \"person_or_org\": {\n",
      "                                \"type\": \"personal\",\n",
      "                                \"name\": \"succedo\",\n",
      "                                \"family_name\": \"succedo\"\n",
      "                            }\n",
      "                        }\n",
      "                    ],\n",
      "                    \"title\": \"Vulariter omnis amissio.\",\n",
      "                    \"publisher\": \"CERN\",\n",
      "                    \"publication_date\": \"2025-07-11\",\n",
      "                    \"rights\": [\n",
      "                        {\n",
      "                            \"id\": \"cc-by-4.0\",\n",
      "                            \"title\": {\n",
      "                                \"en\": \"Creative Commons Attribution 4.0 International\"\n",
      "                            },\n",
      "                            \"description\": {\n",
      "                                \"en\": \"The Creative Commons Attribution license allows re-distribution and re-use of a licensed work on the condition that the creator is appropriately credited.\"\n",
      "                            },\n",
      "                            \"icon\": \"cc-by-icon\",\n",
      "                            \"props\": {\n",
      "                                \"url\": \"https://creativecommons.org/licenses/by/4.0/\",\n",
      "                                \"scheme\": \"spdx\"\n",
      "                            }\n",
      "                        }\n",
      "                    ]\n",
      "                },\n",
      "                \"custom_fields\": {},\n",
      "                \"access\": {\n",
      "                    \"record\": \"public\",\n",
      "                    \"files\": \"public\",\n",
      "                    \"embargo\": {\n",
      "                        \"active\": false,\n",
      "                        \"reason\": null\n",
      "                    },\n",
      "                    \"status\": \"open\"\n",
      "                },\n",
      "                \"files\": {\n",
      "                    \"enabled\": true,\n",
      "                    \"order\": [],\n",
      "                    \"count\": 1,\n",
      "                    \"total_bytes\": 9080,\n",
      "                    \"entries\": {\n",
      "                        \"Anon.jpg\": {\n",
      "                            \"id\": \"0f2246aa-bc8f-4aac-89e3-96ce5cd36551\",\n",
      "                            \"checksum\": \"md5:71a117a38b56abe7e765a6705f146d34\",\n",
      "                            \"ext\": \"jpg\",\n",
      "                            \"size\": 9080,\n",
      "                            \"mimetype\": \"image/jpeg\",\n",
      "                            \"key\": \"Anon.jpg\",\n",
      "                            \"metadata\": {},\n",
      "                            \"access\": {\n",
      "                                \"hidden\": false\n",
      "                            }\n",
      "                        }\n",
      "                    }\n",
      "                },\n",
      "                \"media_files\": {\n",
      "                    \"enabled\": false,\n",
      "                    \"order\": [],\n",
      "                    \"count\": 0,\n",
      "                    \"total_bytes\": 0,\n",
      "                    \"entries\": {}\n",
      "                },\n",
      "                \"status\": \"published\",\n",
      "                \"deletion_status\": {\n",
      "                    \"is_deleted\": false,\n",
      "                    \"status\": \"P\"\n",
      "                },\n",
      "                \"stats\": {\n",
      "                    \"this_version\": {\n",
      "                        \"views\": 0,\n",
      "                        \"unique_views\": 0,\n",
      "                        \"downloads\": 0,\n",
      "                        \"unique_downloads\": 0,\n",
      "                        \"data_volume\": 0.0\n",
      "                    },\n",
      "                    \"all_versions\": {\n",
      "                        \"views\": 0,\n",
      "                        \"unique_views\": 0,\n",
      "                        \"downloads\": 0,\n",
      "                        \"unique_downloads\": 0,\n",
      "                        \"data_volume\": 0.0\n",
      "                    }\n",
      "                }\n",
      "            },\n",
      "            {\n",
      "                \"id\": \"etzwa-8rf92\",\n",
      "                \"created\": \"2025-07-10T14:17:12.171491+00:00\",\n",
      "                \"updated\": \"2025-07-10T14:17:12.271642+00:00\",\n",
      "                \"links\": {\n",
      "                    \"self\": \"https://inveniordm.web.cern.ch/api/records/etzwa-8rf92\",\n",
      "                    \"self_html\": \"https://inveniordm.web.cern.ch/records/etzwa-8rf92\",\n",
      "                    \"self_doi\": \"https://inveniordm.web.cern.ch/doi/10.81088/etzwa-8rf92\",\n",
      "                    \"doi\": \"https://handle.stage.datacite.org/10.81088/etzwa-8rf92\",\n",
      "                    \"parent\": \"https://inveniordm.web.cern.ch/api/records/bpmtx-jfm32\",\n",
      "                    \"parent_html\": \"https://inveniordm.web.cern.ch/records/bpmtx-jfm32\",\n",
      "                    \"parent_doi\": \"https://inveniordm.web.cern.ch/doi/10.81088/bpmtx-jfm32\",\n",
      "                    \"self_iiif_manifest\": \"https://inveniordm.web.cern.ch/api/iiif/record:etzwa-8rf92/manifest\",\n",
      "                    \"self_iiif_sequence\": \"https://inveniordm.web.cern.ch/api/iiif/record:etzwa-8rf92/sequence/default\",\n",
      "                    \"files\": \"https://inveniordm.web.cern.ch/api/records/etzwa-8rf92/files\",\n",
      "                    \"media_files\": \"https://inveniordm.web.cern.ch/api/records/etzwa-8rf92/media-files\",\n",
      "                    \"archive\": \"https://inveniordm.web.cern.ch/api/records/etzwa-8rf92/files-archive\",\n",
      "                    \"archive_media\": \"https://inveniordm.web.cern.ch/api/records/etzwa-8rf92/media-files-archive\",\n",
      "                    \"latest\": \"https://inveniordm.web.cern.ch/api/records/etzwa-8rf92/versions/latest\",\n",
      "                    \"latest_html\": \"https://inveniordm.web.cern.ch/records/etzwa-8rf92/latest\",\n",
      "                    \"draft\": \"https://inveniordm.web.cern.ch/api/records/etzwa-8rf92/draft\",\n",
      "                    \"versions\": \"https://inveniordm.web.cern.ch/api/records/etzwa-8rf92/versions\",\n",
      "                    \"access_links\": \"https://inveniordm.web.cern.ch/api/records/etzwa-8rf92/access/links\",\n",
      "                    \"access_grants\": \"https://inveniordm.web.cern.ch/api/records/etzwa-8rf92/access/grants\",\n",
      "                    \"access_users\": \"https://inveniordm.web.cern.ch/api/records/etzwa-8rf92/access/users\",\n",
      "                    \"access_groups\": \"https://inveniordm.web.cern.ch/api/records/etzwa-8rf92/access/groups\",\n",
      "                    \"access_request\": \"https://inveniordm.web.cern.ch/api/records/etzwa-8rf92/access/request\",\n",
      "                    \"access\": \"https://inveniordm.web.cern.ch/api/records/etzwa-8rf92/access\",\n",
      "                    \"reserve_doi\": \"https://inveniordm.web.cern.ch/api/records/etzwa-8rf92/draft/pids/doi\",\n",
      "                    \"communities\": \"https://inveniordm.web.cern.ch/api/records/etzwa-8rf92/communities\",\n",
      "                    \"communities-suggestions\": \"https://inveniordm.web.cern.ch/api/records/etzwa-8rf92/communities-suggestions\",\n",
      "                    \"requests\": \"https://inveniordm.web.cern.ch/api/records/etzwa-8rf92/requests\"\n",
      "                },\n",
      "                \"revision_id\": 4,\n",
      "                \"parent\": {\n",
      "                    \"id\": \"bpmtx-jfm32\",\n",
      "                    \"access\": {\n",
      "                        \"grants\": [],\n",
      "                        \"owned_by\": {\n",
      "                            \"user\": \"492\"\n",
      "                        },\n",
      "                        \"links\": [],\n",
      "                        \"settings\": {\n",
      "                            \"allow_user_requests\": false,\n",
      "                            \"allow_guest_requests\": false,\n",
      "                            \"accept_conditions_text\": null,\n",
      "                            \"secret_link_expiration\": 0\n",
      "                        }\n",
      "                    },\n",
      "                    \"communities\": {},\n",
      "                    \"pids\": {\n",
      "                        \"doi\": {\n",
      "                            \"identifier\": \"10.81088/bpmtx-jfm32\",\n",
      "                            \"provider\": \"datacite\",\n",
      "                            \"client\": \"datacite\"\n",
      "                        }\n",
      "                    }\n",
      "                },\n",
      "                \"versions\": {\n",
      "                    \"is_latest\": true,\n",
      "                    \"is_latest_draft\": true,\n",
      "                    \"index\": 2\n",
      "                },\n",
      "                \"is_published\": true,\n",
      "                \"is_draft\": false,\n",
      "                \"pids\": {\n",
      "                    \"doi\": {\n",
      "                        \"identifier\": \"10.81088/etzwa-8rf92\",\n",
      "                        \"provider\": \"datacite\",\n",
      "                        \"client\": \"datacite\"\n",
      "                    },\n",
      "                    \"oai\": {\n",
      "                        \"identifier\": \"oai:inveniordm.web.cern.ch:etzwa-8rf92\",\n",
      "                        \"provider\": \"oai\"\n",
      "                    }\n",
      "                },\n",
      "                \"metadata\": {\n",
      "                    \"resource_type\": {\n",
      "                        \"id\": \"image-photo\",\n",
      "                        \"title\": {\n",
      "                            \"de\": \"Foto\",\n",
      "                            \"en\": \"Photo\",\n",
      "                            \"sv\": \"Foto\"\n",
      "                        }\n",
      "                    },\n",
      "                    \"creators\": [\n",
      "                        {\n",
      "                            \"person_or_org\": {\n",
      "                                \"type\": \"personal\",\n",
      "                                \"name\": \"Hufnágl, Pišta\",\n",
      "                                \"given_name\": \"Pišta\",\n",
      "                                \"family_name\": \"Hufnágl\"\n",
      "                            },\n",
      "                            \"role\": {\n",
      "                                \"id\": \"other\",\n",
      "                                \"title\": {\n",
      "                                    \"de\": \"Andere\",\n",
      "                                    \"en\": \"Other\",\n",
      "                                    \"sv\": \"Övriga\"\n",
      "                                }\n",
      "                            }\n",
      "                        }\n",
      "                    ],\n",
      "                    \"title\": \"Pištův testovací záznam\",\n",
      "                    \"publisher\": \"DMiksik\",\n",
      "                    \"publication_date\": \"2025-07-10\",\n",
      "                    \"description\": \"<p>fotočka</p>\"\n",
      "                },\n",
      "                \"custom_fields\": {},\n",
      "                \"access\": {\n",
      "                    \"record\": \"public\",\n",
      "                    \"files\": \"public\",\n",
      "                    \"embargo\": {\n",
      "                        \"active\": false,\n",
      "                        \"reason\": null\n",
      "                    },\n",
      "                    \"status\": \"open\"\n",
      "                },\n",
      "                \"files\": {\n",
      "                    \"enabled\": true,\n",
      "                    \"default_preview\": \"jaycee-xie-unsplash-shiba.png\",\n",
      "                    \"order\": [],\n",
      "                    \"count\": 1,\n",
      "                    \"total_bytes\": 914231,\n",
      "                    \"entries\": {\n",
      "                        \"jaycee-xie-unsplash-shiba.png\": {\n",
      "                            \"id\": \"2c74d7cb-de54-4c15-a162-3d14dc15f2a9\",\n",
      "                            \"checksum\": \"md5:b96a0e6d3fafd0c7961df26988f11cd9\",\n",
      "                            \"ext\": \"png\",\n",
      "                            \"size\": 914231,\n",
      "                            \"mimetype\": \"image/png\",\n",
      "                            \"key\": \"jaycee-xie-unsplash-shiba.png\",\n",
      "                            \"metadata\": {\n",
      "                                \"width\": 960,\n",
      "                                \"height\": 640\n",
      "                            },\n",
      "                            \"access\": {\n",
      "                                \"hidden\": false\n",
      "                            }\n",
      "                        }\n",
      "                    }\n",
      "                },\n",
      "                \"media_files\": {\n",
      "                    \"enabled\": false,\n",
      "                    \"order\": [],\n",
      "                    \"count\": 0,\n",
      "                    \"total_bytes\": 0,\n",
      "                    \"entries\": {}\n",
      "                },\n",
      "                \"status\": \"published\",\n",
      "                \"deletion_status\": {\n",
      "                    \"is_deleted\": false,\n",
      "                    \"status\": \"P\"\n",
      "                },\n",
      "                \"stats\": {\n",
      "                    \"this_version\": {\n",
      "                        \"views\": 0,\n",
      "                        \"unique_views\": 0,\n",
      "                        \"downloads\": 0,\n",
      "                        \"unique_downloads\": 0,\n",
      "                        \"data_volume\": 0.0\n",
      "                    },\n",
      "                    \"all_versions\": {\n",
      "                        \"views\": 0,\n",
      "                        \"unique_views\": 0,\n",
      "                        \"downloads\": 0,\n",
      "                        \"unique_downloads\": 0,\n",
      "                        \"data_volume\": 0.0\n",
      "                    }\n",
      "                }\n",
      "            },\n",
      "            {\n",
      "                \"id\": \"r0wqf-w1120\",\n",
      "                \"created\": \"2025-07-07T18:56:06.135517+00:00\",\n",
      "                \"updated\": \"2025-07-07T18:56:06.224606+00:00\",\n",
      "                \"links\": {\n",
      "                    \"self\": \"https://inveniordm.web.cern.ch/api/records/r0wqf-w1120\",\n",
      "                    \"self_html\": \"https://inveniordm.web.cern.ch/records/r0wqf-w1120\",\n",
      "                    \"self_doi\": \"https://inveniordm.web.cern.ch/doi/10.81088/r0wqf-w1120\",\n",
      "                    \"doi\": \"https://handle.stage.datacite.org/10.81088/r0wqf-w1120\",\n",
      "                    \"parent\": \"https://inveniordm.web.cern.ch/api/records/ppc00-vkx96\",\n",
      "                    \"parent_html\": \"https://inveniordm.web.cern.ch/records/ppc00-vkx96\",\n",
      "                    \"parent_doi\": \"https://inveniordm.web.cern.ch/doi/10.81088/ppc00-vkx96\",\n",
      "                    \"self_iiif_manifest\": \"https://inveniordm.web.cern.ch/api/iiif/record:r0wqf-w1120/manifest\",\n",
      "                    \"self_iiif_sequence\": \"https://inveniordm.web.cern.ch/api/iiif/record:r0wqf-w1120/sequence/default\",\n",
      "                    \"files\": \"https://inveniordm.web.cern.ch/api/records/r0wqf-w1120/files\",\n",
      "                    \"media_files\": \"https://inveniordm.web.cern.ch/api/records/r0wqf-w1120/media-files\",\n",
      "                    \"archive\": \"https://inveniordm.web.cern.ch/api/records/r0wqf-w1120/files-archive\",\n",
      "                    \"archive_media\": \"https://inveniordm.web.cern.ch/api/records/r0wqf-w1120/media-files-archive\",\n",
      "                    \"latest\": \"https://inveniordm.web.cern.ch/api/records/r0wqf-w1120/versions/latest\",\n",
      "                    \"latest_html\": \"https://inveniordm.web.cern.ch/records/r0wqf-w1120/latest\",\n",
      "                    \"draft\": \"https://inveniordm.web.cern.ch/api/records/r0wqf-w1120/draft\",\n",
      "                    \"versions\": \"https://inveniordm.web.cern.ch/api/records/r0wqf-w1120/versions\",\n",
      "                    \"access_links\": \"https://inveniordm.web.cern.ch/api/records/r0wqf-w1120/access/links\",\n",
      "                    \"access_grants\": \"https://inveniordm.web.cern.ch/api/records/r0wqf-w1120/access/grants\",\n",
      "                    \"access_users\": \"https://inveniordm.web.cern.ch/api/records/r0wqf-w1120/access/users\",\n",
      "                    \"access_groups\": \"https://inveniordm.web.cern.ch/api/records/r0wqf-w1120/access/groups\",\n",
      "                    \"access_request\": \"https://inveniordm.web.cern.ch/api/records/r0wqf-w1120/access/request\",\n",
      "                    \"access\": \"https://inveniordm.web.cern.ch/api/records/r0wqf-w1120/access\",\n",
      "                    \"reserve_doi\": \"https://inveniordm.web.cern.ch/api/records/r0wqf-w1120/draft/pids/doi\",\n",
      "                    \"communities\": \"https://inveniordm.web.cern.ch/api/records/r0wqf-w1120/communities\",\n",
      "                    \"communities-suggestions\": \"https://inveniordm.web.cern.ch/api/records/r0wqf-w1120/communities-suggestions\",\n",
      "                    \"requests\": \"https://inveniordm.web.cern.ch/api/records/r0wqf-w1120/requests\"\n",
      "                },\n",
      "                \"revision_id\": 4,\n",
      "                \"parent\": {\n",
      "                    \"id\": \"ppc00-vkx96\",\n",
      "                    \"access\": {\n",
      "                        \"grants\": [],\n",
      "                        \"owned_by\": {\n",
      "                            \"user\": \"492\"\n",
      "                        },\n",
      "                        \"links\": [],\n",
      "                        \"settings\": {\n",
      "                            \"allow_user_requests\": false,\n",
      "                            \"allow_guest_requests\": false,\n",
      "                            \"accept_conditions_text\": null,\n",
      "                            \"secret_link_expiration\": 0\n",
      "                        }\n",
      "                    },\n",
      "                    \"communities\": {\n",
      "                        \"ids\": [\n",
      "                            \"0c61b61c-4300-4b4b-b8ac-12a2c783845e\"\n",
      "                        ],\n",
      "                        \"default\": \"0c61b61c-4300-4b4b-b8ac-12a2c783845e\",\n",
      "                        \"entries\": [\n",
      "                            {\n",
      "                                \"id\": \"0c61b61c-4300-4b4b-b8ac-12a2c783845e\",\n",
      "                                \"created\": \"2025-07-07T18:38:27.352149+00:00\",\n",
      "                                \"updated\": \"2025-07-07T18:38:27.491428+00:00\",\n",
      "                                \"links\": {},\n",
      "                                \"revision_id\": 2,\n",
      "                                \"slug\": \"eosc-cz-demo-repo\",\n",
      "                                \"metadata\": {\n",
      "                                    \"title\": \"EOSC CZ Demo Repo Community\"\n",
      "                                },\n",
      "                                \"access\": {\n",
      "                                    \"visibility\": \"public\",\n",
      "                                    \"members_visibility\": \"public\",\n",
      "                                    \"member_policy\": \"open\",\n",
      "                                    \"record_policy\": \"open\",\n",
      "                                    \"review_policy\": \"closed\"\n",
      "                                },\n",
      "                                \"deletion_status\": {\n",
      "                                    \"is_deleted\": false,\n",
      "                                    \"status\": \"P\"\n",
      "                                },\n",
      "                                \"children\": {\n",
      "                                    \"allow\": false\n",
      "                                }\n",
      "                            }\n",
      "                        ]\n",
      "                    },\n",
      "                    \"pids\": {\n",
      "                        \"doi\": {\n",
      "                            \"identifier\": \"10.81088/ppc00-vkx96\",\n",
      "                            \"provider\": \"datacite\",\n",
      "                            \"client\": \"datacite\"\n",
      "                        }\n",
      "                    }\n",
      "                },\n",
      "                \"versions\": {\n",
      "                    \"is_latest\": true,\n",
      "                    \"is_latest_draft\": true,\n",
      "                    \"index\": 2\n",
      "                },\n",
      "                \"is_published\": true,\n",
      "                \"is_draft\": false,\n",
      "                \"pids\": {\n",
      "                    \"doi\": {\n",
      "                        \"identifier\": \"10.81088/r0wqf-w1120\",\n",
      "                        \"provider\": \"datacite\",\n",
      "                        \"client\": \"datacite\"\n",
      "                    },\n",
      "                    \"oai\": {\n",
      "                        \"identifier\": \"oai:inveniordm.web.cern.ch:r0wqf-w1120\",\n",
      "                        \"provider\": \"oai\"\n",
      "                    }\n",
      "                },\n",
      "                \"metadata\": {\n",
      "                    \"resource_type\": {\n",
      "                        \"id\": \"dataset\",\n",
      "                        \"title\": {\n",
      "                            \"de\": \"Datensatz\",\n",
      "                            \"en\": \"Dataset\",\n",
      "                            \"sv\": \"Dataset\"\n",
      "                        }\n",
      "                    },\n",
      "                    \"creators\": [\n",
      "                        {\n",
      "                            \"person_or_org\": {\n",
      "                                \"type\": \"personal\",\n",
      "                                \"name\": \"Daniel, Miksik\",\n",
      "                                \"given_name\": \"Miksik\",\n",
      "                                \"family_name\": \"Daniel\",\n",
      "                                \"identifiers\": [\n",
      "                                    {\n",
      "                                        \"identifier\": \"0009-0008-6214-4356\",\n",
      "                                        \"scheme\": \"orcid\"\n",
      "                                    }\n",
      "                                ]\n",
      "                            },\n",
      "                            \"role\": {\n",
      "                                \"id\": \"producer\",\n",
      "                                \"title\": {\n",
      "                                    \"de\": \"ProduzentIn\",\n",
      "                                    \"en\": \"Producer\",\n",
      "                                    \"sv\": \"Producent\"\n",
      "                                }\n",
      "                            },\n",
      "                            \"affiliations\": [\n",
      "                                {\n",
      "                                    \"name\": \"Masaryk University\"\n",
      "                                }\n",
      "                            ]\n",
      "                        }\n",
      "                    ],\n",
      "                    \"title\": \"Socio Economic Diversity in Eastern Moravia\",\n",
      "                    \"additional_titles\": [\n",
      "                        {\n",
      "                            \"title\": \"DMx dataset\",\n",
      "                            \"type\": {\n",
      "                                \"id\": \"alternative-title\",\n",
      "                                \"title\": {\n",
      "                                    \"de\": \"Alternativer Titel\",\n",
      "                                    \"en\": \"Alternative title\",\n",
      "                                    \"sv\": \"Alternativ titel\"\n",
      "                                }\n",
      "                            },\n",
      "                            \"lang\": {\n",
      "                                \"id\": \"eng\",\n",
      "                                \"title\": {\n",
      "                                    \"en\": \"English\"\n",
      "                                }\n",
      "                            }\n",
      "                        }\n",
      "                    ],\n",
      "                    \"publisher\": \"Masaryk University\",\n",
      "                    \"publication_date\": \"2021-06-01/2025-06-01\",\n",
      "                    \"subjects\": [\n",
      "                        {\n",
      "                            \"id\": \"http://www.oecd.org/science/inno/38235147.pdf?5.4\",\n",
      "                            \"subject\": \"Sociology\",\n",
      "                            \"scheme\": \"FOS\"\n",
      "                        }\n",
      "                    ],\n",
      "                    \"dates\": [\n",
      "                        {\n",
      "                            \"date\": \"2021-06-01/2025-06-01\",\n",
      "                            \"type\": {\n",
      "                                \"id\": \"collected\",\n",
      "                                \"title\": {\n",
      "                                    \"de\": \"Gesammelt\",\n",
      "                                    \"en\": \"Collected\",\n",
      "                                    \"sv\": \"Samlade\"\n",
      "                                }\n",
      "                            }\n",
      "                        }\n",
      "                    ],\n",
      "                    \"rights\": [\n",
      "                        {\n",
      "                            \"id\": \"cc-by-4.0\",\n",
      "                            \"title\": {\n",
      "                                \"en\": \"Creative Commons Attribution 4.0 International\"\n",
      "                            },\n",
      "                            \"description\": {\n",
      "                                \"en\": \"The Creative Commons Attribution license allows re-distribution and re-use of a licensed work on the condition that the creator is appropriately credited.\"\n",
      "                            },\n",
      "                            \"icon\": \"cc-by-icon\",\n",
      "                            \"props\": {\n",
      "                                \"url\": \"https://creativecommons.org/licenses/by/4.0/\",\n",
      "                                \"scheme\": \"spdx\"\n",
      "                            }\n",
      "                        }\n",
      "                    ]\n",
      "                },\n",
      "                \"custom_fields\": {},\n",
      "                \"access\": {\n",
      "                    \"record\": \"public\",\n",
      "                    \"files\": \"public\",\n",
      "                    \"embargo\": {\n",
      "                        \"active\": false,\n",
      "                        \"reason\": null\n",
      "                    },\n",
      "                    \"status\": \"open\"\n",
      "                },\n",
      "                \"files\": {\n",
      "                    \"enabled\": true,\n",
      "                    \"order\": [],\n",
      "                    \"count\": 1,\n",
      "                    \"total_bytes\": 523398,\n",
      "                    \"entries\": {\n",
      "                        \"Residents_SocioEconomic_Data_Eastern_Moravia.csv\": {\n",
      "                            \"id\": \"8224b616-53b6-4b3c-9cd1-137db1219eed\",\n",
      "                            \"checksum\": \"md5:1f55ae694c29573b41b8a931b6262bb1\",\n",
      "                            \"ext\": \"csv\",\n",
      "                            \"size\": 523398,\n",
      "                            \"mimetype\": \"text/csv\",\n",
      "                            \"key\": \"Residents_SocioEconomic_Data_Eastern_Moravia.csv\",\n",
      "                            \"metadata\": {},\n",
      "                            \"access\": {\n",
      "                                \"hidden\": false\n",
      "                            }\n",
      "                        }\n",
      "                    }\n",
      "                },\n",
      "                \"media_files\": {\n",
      "                    \"enabled\": false,\n",
      "                    \"order\": [],\n",
      "                    \"count\": 0,\n",
      "                    \"total_bytes\": 0,\n",
      "                    \"entries\": {}\n",
      "                },\n",
      "                \"status\": \"published\",\n",
      "                \"deletion_status\": {\n",
      "                    \"is_deleted\": false,\n",
      "                    \"status\": \"P\"\n",
      "                },\n",
      "                \"stats\": {\n",
      "                    \"this_version\": {\n",
      "                        \"views\": 0,\n",
      "                        \"unique_views\": 0,\n",
      "                        \"downloads\": 0,\n",
      "                        \"unique_downloads\": 0,\n",
      "                        \"data_volume\": 0.0\n",
      "                    },\n",
      "                    \"all_versions\": {\n",
      "                        \"views\": 0,\n",
      "                        \"unique_views\": 0,\n",
      "                        \"downloads\": 0,\n",
      "                        \"unique_downloads\": 0,\n",
      "                        \"data_volume\": 0.0\n",
      "                    }\n",
      "                }\n",
      "            },\n",
      "            {\n",
      "                \"id\": \"68gcd-a2990\",\n",
      "                \"created\": \"2025-07-07T07:02:27.517172+00:00\",\n",
      "                \"updated\": \"2025-07-07T07:06:57.055388+00:00\",\n",
      "                \"links\": {\n",
      "                    \"self\": \"https://inveniordm.web.cern.ch/api/records/68gcd-a2990\",\n",
      "                    \"self_html\": \"https://inveniordm.web.cern.ch/records/68gcd-a2990\",\n",
      "                    \"self_doi\": \"https://inveniordm.web.cern.ch/doi/10.6084/m9.%20figshare.25939312.v1\",\n",
      "                    \"doi\": \"https://handle.stage.datacite.org/10.6084/m9.%20figshare.25939312.v1\",\n",
      "                    \"parent\": \"https://inveniordm.web.cern.ch/api/records/kgscd-08949\",\n",
      "                    \"parent_html\": \"https://inveniordm.web.cern.ch/records/kgscd-08949\",\n",
      "                    \"self_iiif_manifest\": \"https://inveniordm.web.cern.ch/api/iiif/record:68gcd-a2990/manifest\",\n",
      "                    \"self_iiif_sequence\": \"https://inveniordm.web.cern.ch/api/iiif/record:68gcd-a2990/sequence/default\",\n",
      "                    \"files\": \"https://inveniordm.web.cern.ch/api/records/68gcd-a2990/files\",\n",
      "                    \"media_files\": \"https://inveniordm.web.cern.ch/api/records/68gcd-a2990/media-files\",\n",
      "                    \"archive\": \"https://inveniordm.web.cern.ch/api/records/68gcd-a2990/files-archive\",\n",
      "                    \"archive_media\": \"https://inveniordm.web.cern.ch/api/records/68gcd-a2990/media-files-archive\",\n",
      "                    \"latest\": \"https://inveniordm.web.cern.ch/api/records/68gcd-a2990/versions/latest\",\n",
      "                    \"latest_html\": \"https://inveniordm.web.cern.ch/records/68gcd-a2990/latest\",\n",
      "                    \"draft\": \"https://inveniordm.web.cern.ch/api/records/68gcd-a2990/draft\",\n",
      "                    \"versions\": \"https://inveniordm.web.cern.ch/api/records/68gcd-a2990/versions\",\n",
      "                    \"access_links\": \"https://inveniordm.web.cern.ch/api/records/68gcd-a2990/access/links\",\n",
      "                    \"access_grants\": \"https://inveniordm.web.cern.ch/api/records/68gcd-a2990/access/grants\",\n",
      "                    \"access_users\": \"https://inveniordm.web.cern.ch/api/records/68gcd-a2990/access/users\",\n",
      "                    \"access_groups\": \"https://inveniordm.web.cern.ch/api/records/68gcd-a2990/access/groups\",\n",
      "                    \"access_request\": \"https://inveniordm.web.cern.ch/api/records/68gcd-a2990/access/request\",\n",
      "                    \"access\": \"https://inveniordm.web.cern.ch/api/records/68gcd-a2990/access\",\n",
      "                    \"reserve_doi\": \"https://inveniordm.web.cern.ch/api/records/68gcd-a2990/draft/pids/doi\",\n",
      "                    \"communities\": \"https://inveniordm.web.cern.ch/api/records/68gcd-a2990/communities\",\n",
      "                    \"communities-suggestions\": \"https://inveniordm.web.cern.ch/api/records/68gcd-a2990/communities-suggestions\",\n",
      "                    \"requests\": \"https://inveniordm.web.cern.ch/api/records/68gcd-a2990/requests\"\n",
      "                },\n",
      "                \"revision_id\": 6,\n",
      "                \"parent\": {\n",
      "                    \"id\": \"kgscd-08949\",\n",
      "                    \"access\": {\n",
      "                        \"owned_by\": {\n",
      "                            \"user\": \"491\"\n",
      "                        },\n",
      "                        \"settings\": {\n",
      "                            \"allow_user_requests\": false,\n",
      "                            \"allow_guest_requests\": false,\n",
      "                            \"accept_conditions_text\": null,\n",
      "                            \"secret_link_expiration\": 0\n",
      "                        }\n",
      "                    },\n",
      "                    \"communities\": {},\n",
      "                    \"pids\": {}\n",
      "                },\n",
      "                \"versions\": {\n",
      "                    \"is_latest\": true,\n",
      "                    \"index\": 2\n",
      "                },\n",
      "                \"is_published\": true,\n",
      "                \"is_draft\": false,\n",
      "                \"pids\": {\n",
      "                    \"doi\": {\n",
      "                        \"identifier\": \"10.6084/m9. figshare.25939312.v1\",\n",
      "                        \"provider\": \"external\"\n",
      "                    },\n",
      "                    \"oai\": {\n",
      "                        \"identifier\": \"oai:inveniordm.web.cern.ch:68gcd-a2990\",\n",
      "                        \"provider\": \"oai\"\n",
      "                    }\n",
      "                },\n",
      "                \"metadata\": {\n",
      "                    \"resource_type\": {\n",
      "                        \"id\": \"publication-report\",\n",
      "                        \"title\": {\n",
      "                            \"de\": \"Bericht\",\n",
      "                            \"en\": \"Report\",\n",
      "                            \"sv\": \"Rapport\"\n",
      "                        }\n",
      "                    },\n",
      "                    \"creators\": [\n",
      "                        {\n",
      "                            \"person_or_org\": {\n",
      "                                \"type\": \"personal\",\n",
      "                                \"name\": \"Sean Pikulin\",\n",
      "                                \"family_name\": \"Sean Pikulin\"\n",
      "                            }\n",
      "                        },\n",
      "                        {\n",
      "                            \"person_or_org\": {\n",
      "                                \"type\": \"personal\",\n",
      "                                \"name\": \"Irad Yehezkel\",\n",
      "                                \"family_name\": \"Irad Yehezkel\"\n",
      "                            }\n",
      "                        }\n",
      "                    ],\n",
      "                    \"title\": \"Glucdict\",\n",
      "                    \"publisher\": \"CERN\",\n",
      "                    \"publication_date\": \"2024-07-18\",\n",
      "                    \"rights\": [\n",
      "                        {\n",
      "                            \"id\": \"cc-by-4.0\",\n",
      "                            \"title\": {\n",
      "                                \"en\": \"Creative Commons Attribution 4.0 International\"\n",
      "                            },\n",
      "                            \"description\": {\n",
      "                                \"en\": \"The Creative Commons Attribution license allows re-distribution and re-use of a licensed work on the condition that the creator is appropriately credited.\"\n",
      "                            },\n",
      "                            \"icon\": \"cc-by-icon\",\n",
      "                            \"props\": {\n",
      "                                \"url\": \"https://creativecommons.org/licenses/by/4.0/\",\n",
      "                                \"scheme\": \"spdx\"\n",
      "                            }\n",
      "                        }\n",
      "                    ]\n",
      "                },\n",
      "                \"custom_fields\": {},\n",
      "                \"access\": {\n",
      "                    \"record\": \"public\",\n",
      "                    \"files\": \"public\",\n",
      "                    \"embargo\": {\n",
      "                        \"active\": false,\n",
      "                        \"reason\": null\n",
      "                    },\n",
      "                    \"status\": \"open\"\n",
      "                },\n",
      "                \"files\": {\n",
      "                    \"enabled\": true,\n",
      "                    \"order\": [],\n",
      "                    \"count\": 1,\n",
      "                    \"total_bytes\": 2615303,\n",
      "                    \"entries\": {\n",
      "                        \"glucdict.pdf\": {\n",
      "                            \"id\": \"98836115-35a5-4894-9dad-1e76ceb893c2\",\n",
      "                            \"checksum\": \"md5:1a95cc406c53ac87f7c6653c30f96a60\",\n",
      "                            \"ext\": \"pdf\",\n",
      "                            \"size\": 2615303,\n",
      "                            \"mimetype\": \"application/pdf\",\n",
      "                            \"key\": \"glucdict.pdf\",\n",
      "                            \"metadata\": {},\n",
      "                            \"access\": {\n",
      "                                \"hidden\": false\n",
      "                            }\n",
      "                        }\n",
      "                    }\n",
      "                },\n",
      "                \"media_files\": {\n",
      "                    \"enabled\": false,\n",
      "                    \"order\": [],\n",
      "                    \"count\": 0,\n",
      "                    \"total_bytes\": 0,\n",
      "                    \"entries\": {}\n",
      "                },\n",
      "                \"status\": \"published\",\n",
      "                \"deletion_status\": {\n",
      "                    \"is_deleted\": false,\n",
      "                    \"status\": \"P\"\n",
      "                },\n",
      "                \"stats\": {\n",
      "                    \"this_version\": {\n",
      "                        \"views\": 0,\n",
      "                        \"unique_views\": 0,\n",
      "                        \"downloads\": 0,\n",
      "                        \"unique_downloads\": 0,\n",
      "                        \"data_volume\": 0.0\n",
      "                    },\n",
      "                    \"all_versions\": {\n",
      "                        \"views\": 0,\n",
      "                        \"unique_views\": 0,\n",
      "                        \"downloads\": 0,\n",
      "                        \"unique_downloads\": 0,\n",
      "                        \"data_volume\": 0.0\n",
      "                    }\n",
      "                }\n",
      "            },\n",
      "            {\n",
      "                \"id\": \"a39v8-mn404\",\n",
      "                \"created\": \"2025-07-03T15:52:26.840871+00:00\",\n",
      "                \"updated\": \"2025-07-03T15:52:26.920370+00:00\",\n",
      "                \"links\": {\n",
      "                    \"self\": \"https://inveniordm.web.cern.ch/api/records/a39v8-mn404\",\n",
      "                    \"self_html\": \"https://inveniordm.web.cern.ch/records/a39v8-mn404\",\n",
      "                    \"self_doi\": \"https://inveniordm.web.cern.ch/doi/10.81088/a39v8-mn404\",\n",
      "                    \"doi\": \"https://handle.stage.datacite.org/10.81088/a39v8-mn404\",\n",
      "                    \"parent\": \"https://inveniordm.web.cern.ch/api/records/5nbxc-7r661\",\n",
      "                    \"parent_html\": \"https://inveniordm.web.cern.ch/records/5nbxc-7r661\",\n",
      "                    \"parent_doi\": \"https://inveniordm.web.cern.ch/doi/10.81088/5nbxc-7r661\",\n",
      "                    \"self_iiif_manifest\": \"https://inveniordm.web.cern.ch/api/iiif/record:a39v8-mn404/manifest\",\n",
      "                    \"self_iiif_sequence\": \"https://inveniordm.web.cern.ch/api/iiif/record:a39v8-mn404/sequence/default\",\n",
      "                    \"files\": \"https://inveniordm.web.cern.ch/api/records/a39v8-mn404/files\",\n",
      "                    \"media_files\": \"https://inveniordm.web.cern.ch/api/records/a39v8-mn404/media-files\",\n",
      "                    \"archive\": \"https://inveniordm.web.cern.ch/api/records/a39v8-mn404/files-archive\",\n",
      "                    \"archive_media\": \"https://inveniordm.web.cern.ch/api/records/a39v8-mn404/media-files-archive\",\n",
      "                    \"latest\": \"https://inveniordm.web.cern.ch/api/records/a39v8-mn404/versions/latest\",\n",
      "                    \"latest_html\": \"https://inveniordm.web.cern.ch/records/a39v8-mn404/latest\",\n",
      "                    \"draft\": \"https://inveniordm.web.cern.ch/api/records/a39v8-mn404/draft\",\n",
      "                    \"versions\": \"https://inveniordm.web.cern.ch/api/records/a39v8-mn404/versions\",\n",
      "                    \"access_links\": \"https://inveniordm.web.cern.ch/api/records/a39v8-mn404/access/links\",\n",
      "                    \"access_grants\": \"https://inveniordm.web.cern.ch/api/records/a39v8-mn404/access/grants\",\n",
      "                    \"access_users\": \"https://inveniordm.web.cern.ch/api/records/a39v8-mn404/access/users\",\n",
      "                    \"access_groups\": \"https://inveniordm.web.cern.ch/api/records/a39v8-mn404/access/groups\",\n",
      "                    \"access_request\": \"https://inveniordm.web.cern.ch/api/records/a39v8-mn404/access/request\",\n",
      "                    \"access\": \"https://inveniordm.web.cern.ch/api/records/a39v8-mn404/access\",\n",
      "                    \"reserve_doi\": \"https://inveniordm.web.cern.ch/api/records/a39v8-mn404/draft/pids/doi\",\n",
      "                    \"communities\": \"https://inveniordm.web.cern.ch/api/records/a39v8-mn404/communities\",\n",
      "                    \"communities-suggestions\": \"https://inveniordm.web.cern.ch/api/records/a39v8-mn404/communities-suggestions\",\n",
      "                    \"requests\": \"https://inveniordm.web.cern.ch/api/records/a39v8-mn404/requests\"\n",
      "                },\n",
      "                \"revision_id\": 4,\n",
      "                \"parent\": {\n",
      "                    \"id\": \"5nbxc-7r661\",\n",
      "                    \"access\": {\n",
      "                        \"owned_by\": {\n",
      "                            \"user\": \"122\"\n",
      "                        },\n",
      "                        \"settings\": {\n",
      "                            \"allow_user_requests\": false,\n",
      "                            \"allow_guest_requests\": false,\n",
      "                            \"accept_conditions_text\": null,\n",
      "                            \"secret_link_expiration\": 0\n",
      "                        }\n",
      "                    },\n",
      "                    \"communities\": {},\n",
      "                    \"pids\": {\n",
      "                        \"doi\": {\n",
      "                            \"identifier\": \"10.81088/5nbxc-7r661\",\n",
      "                            \"provider\": \"datacite\",\n",
      "                            \"client\": \"datacite\"\n",
      "                        }\n",
      "                    }\n",
      "                },\n",
      "                \"versions\": {\n",
      "                    \"is_latest\": true,\n",
      "                    \"index\": 1\n",
      "                },\n",
      "                \"is_published\": true,\n",
      "                \"is_draft\": false,\n",
      "                \"pids\": {\n",
      "                    \"doi\": {\n",
      "                        \"identifier\": \"10.81088/a39v8-mn404\",\n",
      "                        \"provider\": \"datacite\",\n",
      "                        \"client\": \"datacite\"\n",
      "                    },\n",
      "                    \"oai\": {\n",
      "                        \"identifier\": \"oai:inveniordm.web.cern.ch:a39v8-mn404\",\n",
      "                        \"provider\": \"oai\"\n",
      "                    }\n",
      "                },\n",
      "                \"metadata\": {\n",
      "                    \"resource_type\": {\n",
      "                        \"id\": \"audio\",\n",
      "                        \"title\": {\n",
      "                            \"de\": \"Audio\",\n",
      "                            \"en\": \"Audio\",\n",
      "                            \"sv\": \"Audio\"\n",
      "                        }\n",
      "                    },\n",
      "                    \"creators\": [\n",
      "                        {\n",
      "                            \"person_or_org\": {\n",
      "                                \"type\": \"personal\",\n",
      "                                \"name\": \"adsuesco\",\n",
      "                                \"family_name\": \"adsuesco\"\n",
      "                            }\n",
      "                        }\n",
      "                    ],\n",
      "                    \"title\": \"Cornu vergo adipisci vinculum callide amissio.\",\n",
      "                    \"publisher\": \"CERN\",\n",
      "                    \"publication_date\": \"2025-07-03\",\n",
      "                    \"rights\": [\n",
      "                        {\n",
      "                            \"id\": \"cc-by-4.0\",\n",
      "                            \"title\": {\n",
      "                                \"en\": \"Creative Commons Attribution 4.0 International\"\n",
      "                            },\n",
      "                            \"description\": {\n",
      "                                \"en\": \"The Creative Commons Attribution license allows re-distribution and re-use of a licensed work on the condition that the creator is appropriately credited.\"\n",
      "                            },\n",
      "                            \"icon\": \"cc-by-icon\",\n",
      "                            \"props\": {\n",
      "                                \"url\": \"https://creativecommons.org/licenses/by/4.0/\",\n",
      "                                \"scheme\": \"spdx\"\n",
      "                            }\n",
      "                        }\n",
      "                    ]\n",
      "                },\n",
      "                \"custom_fields\": {},\n",
      "                \"access\": {\n",
      "                    \"record\": \"public\",\n",
      "                    \"files\": \"public\",\n",
      "                    \"embargo\": {\n",
      "                        \"active\": false,\n",
      "                        \"reason\": null\n",
      "                    },\n",
      "                    \"status\": \"open\"\n",
      "                },\n",
      "                \"files\": {\n",
      "                    \"enabled\": true,\n",
      "                    \"order\": [],\n",
      "                    \"count\": 1,\n",
      "                    \"total_bytes\": 32316,\n",
      "                    \"entries\": {\n",
      "                        \"Anon8.jpg\": {\n",
      "                            \"id\": \"56b02ea1-328d-4d02-a1aa-eb0ed0d62b68\",\n",
      "                            \"checksum\": \"md5:23fe3c3d417a4bbd110fc25a2e7220bc\",\n",
      "                            \"ext\": \"jpg\",\n",
      "                            \"size\": 32316,\n",
      "                            \"mimetype\": \"image/jpeg\",\n",
      "                            \"key\": \"Anon8.jpg\",\n",
      "                            \"metadata\": {},\n",
      "                            \"access\": {\n",
      "                                \"hidden\": false\n",
      "                            }\n",
      "                        }\n",
      "                    }\n",
      "                },\n",
      "                \"media_files\": {\n",
      "                    \"enabled\": false,\n",
      "                    \"order\": [],\n",
      "                    \"count\": 0,\n",
      "                    \"total_bytes\": 0,\n",
      "                    \"entries\": {}\n",
      "                },\n",
      "                \"status\": \"published\",\n",
      "                \"deletion_status\": {\n",
      "                    \"is_deleted\": false,\n",
      "                    \"status\": \"P\"\n",
      "                },\n",
      "                \"stats\": {\n",
      "                    \"this_version\": {\n",
      "                        \"views\": 0,\n",
      "                        \"unique_views\": 0,\n",
      "                        \"downloads\": 0,\n",
      "                        \"unique_downloads\": 0,\n",
      "                        \"data_volume\": 0.0\n",
      "                    },\n",
      "                    \"all_versions\": {\n",
      "                        \"views\": 0,\n",
      "                        \"unique_views\": 0,\n",
      "                        \"downloads\": 0,\n",
      "                        \"unique_downloads\": 0,\n",
      "                        \"data_volume\": 0.0\n",
      "                    }\n",
      "                }\n",
      "            },\n",
      "            {\n",
      "                \"id\": \"5gkpb-nen02\",\n",
      "                \"created\": \"2025-07-03T15:51:42.864332+00:00\",\n",
      "                \"updated\": \"2025-07-03T15:51:57.753707+00:00\",\n",
      "                \"links\": {\n",
      "                    \"self\": \"https://inveniordm.web.cern.ch/api/records/5gkpb-nen02\",\n",
      "                    \"self_html\": \"https://inveniordm.web.cern.ch/records/5gkpb-nen02\",\n",
      "                    \"self_doi\": \"https://inveniordm.web.cern.ch/doi/10.81088/5gkpb-nen02\",\n",
      "                    \"doi\": \"https://handle.stage.datacite.org/10.81088/5gkpb-nen02\",\n",
      "                    \"parent\": \"https://inveniordm.web.cern.ch/api/records/4sr0v-hxz31\",\n",
      "                    \"parent_html\": \"https://inveniordm.web.cern.ch/records/4sr0v-hxz31\",\n",
      "                    \"parent_doi\": \"https://inveniordm.web.cern.ch/doi/10.81088/4sr0v-hxz31\",\n",
      "                    \"self_iiif_manifest\": \"https://inveniordm.web.cern.ch/api/iiif/record:5gkpb-nen02/manifest\",\n",
      "                    \"self_iiif_sequence\": \"https://inveniordm.web.cern.ch/api/iiif/record:5gkpb-nen02/sequence/default\",\n",
      "                    \"files\": \"https://inveniordm.web.cern.ch/api/records/5gkpb-nen02/files\",\n",
      "                    \"media_files\": \"https://inveniordm.web.cern.ch/api/records/5gkpb-nen02/media-files\",\n",
      "                    \"archive\": \"https://inveniordm.web.cern.ch/api/records/5gkpb-nen02/files-archive\",\n",
      "                    \"archive_media\": \"https://inveniordm.web.cern.ch/api/records/5gkpb-nen02/media-files-archive\",\n",
      "                    \"latest\": \"https://inveniordm.web.cern.ch/api/records/5gkpb-nen02/versions/latest\",\n",
      "                    \"latest_html\": \"https://inveniordm.web.cern.ch/records/5gkpb-nen02/latest\",\n",
      "                    \"draft\": \"https://inveniordm.web.cern.ch/api/records/5gkpb-nen02/draft\",\n",
      "                    \"versions\": \"https://inveniordm.web.cern.ch/api/records/5gkpb-nen02/versions\",\n",
      "                    \"access_links\": \"https://inveniordm.web.cern.ch/api/records/5gkpb-nen02/access/links\",\n",
      "                    \"access_grants\": \"https://inveniordm.web.cern.ch/api/records/5gkpb-nen02/access/grants\",\n",
      "                    \"access_users\": \"https://inveniordm.web.cern.ch/api/records/5gkpb-nen02/access/users\",\n",
      "                    \"access_groups\": \"https://inveniordm.web.cern.ch/api/records/5gkpb-nen02/access/groups\",\n",
      "                    \"access_request\": \"https://inveniordm.web.cern.ch/api/records/5gkpb-nen02/access/request\",\n",
      "                    \"access\": \"https://inveniordm.web.cern.ch/api/records/5gkpb-nen02/access\",\n",
      "                    \"reserve_doi\": \"https://inveniordm.web.cern.ch/api/records/5gkpb-nen02/draft/pids/doi\",\n",
      "                    \"communities\": \"https://inveniordm.web.cern.ch/api/records/5gkpb-nen02/communities\",\n",
      "                    \"communities-suggestions\": \"https://inveniordm.web.cern.ch/api/records/5gkpb-nen02/communities-suggestions\",\n",
      "                    \"requests\": \"https://inveniordm.web.cern.ch/api/records/5gkpb-nen02/requests\"\n",
      "                },\n",
      "                \"revision_id\": 6,\n",
      "                \"parent\": {\n",
      "                    \"id\": \"4sr0v-hxz31\",\n",
      "                    \"access\": {\n",
      "                        \"owned_by\": {\n",
      "                            \"user\": \"122\"\n",
      "                        },\n",
      "                        \"settings\": {\n",
      "                            \"allow_user_requests\": false,\n",
      "                            \"allow_guest_requests\": false,\n",
      "                            \"accept_conditions_text\": null,\n",
      "                            \"secret_link_expiration\": 0\n",
      "                        }\n",
      "                    },\n",
      "                    \"communities\": {},\n",
      "                    \"pids\": {\n",
      "                        \"doi\": {\n",
      "                            \"identifier\": \"10.81088/4sr0v-hxz31\",\n",
      "                            \"provider\": \"datacite\",\n",
      "                            \"client\": \"datacite\"\n",
      "                        }\n",
      "                    }\n",
      "                },\n",
      "                \"versions\": {\n",
      "                    \"is_latest\": true,\n",
      "                    \"index\": 1\n",
      "                },\n",
      "                \"is_published\": true,\n",
      "                \"is_draft\": false,\n",
      "                \"pids\": {\n",
      "                    \"doi\": {\n",
      "                        \"identifier\": \"10.81088/5gkpb-nen02\",\n",
      "                        \"provider\": \"datacite\",\n",
      "                        \"client\": \"datacite\"\n",
      "                    },\n",
      "                    \"oai\": {\n",
      "                        \"identifier\": \"oai:inveniordm.web.cern.ch:5gkpb-nen02\",\n",
      "                        \"provider\": \"oai\"\n",
      "                    }\n",
      "                },\n",
      "                \"metadata\": {\n",
      "                    \"resource_type\": {\n",
      "                        \"id\": \"audio\",\n",
      "                        \"title\": {\n",
      "                            \"de\": \"Audio\",\n",
      "                            \"en\": \"Audio\",\n",
      "                            \"sv\": \"Audio\"\n",
      "                        }\n",
      "                    },\n",
      "                    \"creators\": [\n",
      "                        {\n",
      "                            \"person_or_org\": {\n",
      "                                \"type\": \"personal\",\n",
      "                                \"name\": \"vitiosus\",\n",
      "                                \"family_name\": \"vitiosus\"\n",
      "                            }\n",
      "                        }\n",
      "                    ],\n",
      "                    \"title\": \"Quae depopulo iusto exercitationem aurum sufficio.\",\n",
      "                    \"publisher\": \"CERN\",\n",
      "                    \"publication_date\": \"2025-07-03\",\n",
      "                    \"rights\": [\n",
      "                        {\n",
      "                            \"id\": \"cc-by-4.0\",\n",
      "                            \"title\": {\n",
      "                                \"en\": \"Creative Commons Attribution 4.0 International\"\n",
      "                            },\n",
      "                            \"description\": {\n",
      "                                \"en\": \"The Creative Commons Attribution license allows re-distribution and re-use of a licensed work on the condition that the creator is appropriately credited.\"\n",
      "                            },\n",
      "                            \"icon\": \"cc-by-icon\",\n",
      "                            \"props\": {\n",
      "                                \"url\": \"https://creativecommons.org/licenses/by/4.0/\",\n",
      "                                \"scheme\": \"spdx\"\n",
      "                            }\n",
      "                        }\n",
      "                    ],\n",
      "                    \"description\": \"<p>Alo a quis aperio ventosus cohaero dens attonbitus cresco celo. Arbor tandem compono eos desipio ambitus caelum. Cruentus ciminatio depereo delibero thesaurus apostolus tribuo.</p>\"\n",
      "                },\n",
      "                \"custom_fields\": {},\n",
      "                \"access\": {\n",
      "                    \"record\": \"public\",\n",
      "                    \"files\": \"public\",\n",
      "                    \"embargo\": {\n",
      "                        \"active\": false,\n",
      "                        \"reason\": null\n",
      "                    },\n",
      "                    \"status\": \"open\"\n",
      "                },\n",
      "                \"files\": {\n",
      "                    \"enabled\": true,\n",
      "                    \"order\": [],\n",
      "                    \"count\": 1,\n",
      "                    \"total_bytes\": 105042,\n",
      "                    \"entries\": {\n",
      "                        \"Anon6.jpg\": {\n",
      "                            \"id\": \"dad25a5d-0b25-4002-8f1d-436d687571bb\",\n",
      "                            \"checksum\": \"md5:7e41b92644f0a69caf5ad13b780a141c\",\n",
      "                            \"ext\": \"jpg\",\n",
      "                            \"size\": 105042,\n",
      "                            \"mimetype\": \"image/jpeg\",\n",
      "                            \"key\": \"Anon6.jpg\",\n",
      "                            \"metadata\": {\n",
      "                                \"width\": 427,\n",
      "                                \"height\": 240\n",
      "                            },\n",
      "                            \"access\": {\n",
      "                                \"hidden\": false\n",
      "                            }\n",
      "                        }\n",
      "                    }\n",
      "                },\n",
      "                \"media_files\": {\n",
      "                    \"enabled\": false,\n",
      "                    \"order\": [],\n",
      "                    \"count\": 0,\n",
      "                    \"total_bytes\": 0,\n",
      "                    \"entries\": {}\n",
      "                },\n",
      "                \"status\": \"published\",\n",
      "                \"deletion_status\": {\n",
      "                    \"is_deleted\": false,\n",
      "                    \"status\": \"P\"\n",
      "                },\n",
      "                \"stats\": {\n",
      "                    \"this_version\": {\n",
      "                        \"views\": 0,\n",
      "                        \"unique_views\": 0,\n",
      "                        \"downloads\": 0,\n",
      "                        \"unique_downloads\": 0,\n",
      "                        \"data_volume\": 0.0\n",
      "                    },\n",
      "                    \"all_versions\": {\n",
      "                        \"views\": 0,\n",
      "                        \"unique_views\": 0,\n",
      "                        \"downloads\": 0,\n",
      "                        \"unique_downloads\": 0,\n",
      "                        \"data_volume\": 0.0\n",
      "                    }\n",
      "                }\n",
      "            },\n",
      "            {\n",
      "                \"id\": \"4kemv-dd057\",\n",
      "                \"created\": \"2025-07-03T15:51:12.850283+00:00\",\n",
      "                \"updated\": \"2025-07-03T15:51:12.939807+00:00\",\n",
      "                \"links\": {\n",
      "                    \"self\": \"https://inveniordm.web.cern.ch/api/records/4kemv-dd057\",\n",
      "                    \"self_html\": \"https://inveniordm.web.cern.ch/records/4kemv-dd057\",\n",
      "                    \"self_doi\": \"https://inveniordm.web.cern.ch/doi/10.81088/4kemv-dd057\",\n",
      "                    \"doi\": \"https://handle.stage.datacite.org/10.81088/4kemv-dd057\",\n",
      "                    \"parent\": \"https://inveniordm.web.cern.ch/api/records/0a3bx-b0f25\",\n",
      "                    \"parent_html\": \"https://inveniordm.web.cern.ch/records/0a3bx-b0f25\",\n",
      "                    \"parent_doi\": \"https://inveniordm.web.cern.ch/doi/10.81088/0a3bx-b0f25\",\n",
      "                    \"self_iiif_manifest\": \"https://inveniordm.web.cern.ch/api/iiif/record:4kemv-dd057/manifest\",\n",
      "                    \"self_iiif_sequence\": \"https://inveniordm.web.cern.ch/api/iiif/record:4kemv-dd057/sequence/default\",\n",
      "                    \"files\": \"https://inveniordm.web.cern.ch/api/records/4kemv-dd057/files\",\n",
      "                    \"media_files\": \"https://inveniordm.web.cern.ch/api/records/4kemv-dd057/media-files\",\n",
      "                    \"archive\": \"https://inveniordm.web.cern.ch/api/records/4kemv-dd057/files-archive\",\n",
      "                    \"archive_media\": \"https://inveniordm.web.cern.ch/api/records/4kemv-dd057/media-files-archive\",\n",
      "                    \"latest\": \"https://inveniordm.web.cern.ch/api/records/4kemv-dd057/versions/latest\",\n",
      "                    \"latest_html\": \"https://inveniordm.web.cern.ch/records/4kemv-dd057/latest\",\n",
      "                    \"draft\": \"https://inveniordm.web.cern.ch/api/records/4kemv-dd057/draft\",\n",
      "                    \"versions\": \"https://inveniordm.web.cern.ch/api/records/4kemv-dd057/versions\",\n",
      "                    \"access_links\": \"https://inveniordm.web.cern.ch/api/records/4kemv-dd057/access/links\",\n",
      "                    \"access_grants\": \"https://inveniordm.web.cern.ch/api/records/4kemv-dd057/access/grants\",\n",
      "                    \"access_users\": \"https://inveniordm.web.cern.ch/api/records/4kemv-dd057/access/users\",\n",
      "                    \"access_groups\": \"https://inveniordm.web.cern.ch/api/records/4kemv-dd057/access/groups\",\n",
      "                    \"access_request\": \"https://inveniordm.web.cern.ch/api/records/4kemv-dd057/access/request\",\n",
      "                    \"access\": \"https://inveniordm.web.cern.ch/api/records/4kemv-dd057/access\",\n",
      "                    \"reserve_doi\": \"https://inveniordm.web.cern.ch/api/records/4kemv-dd057/draft/pids/doi\",\n",
      "                    \"communities\": \"https://inveniordm.web.cern.ch/api/records/4kemv-dd057/communities\",\n",
      "                    \"communities-suggestions\": \"https://inveniordm.web.cern.ch/api/records/4kemv-dd057/communities-suggestions\",\n",
      "                    \"requests\": \"https://inveniordm.web.cern.ch/api/records/4kemv-dd057/requests\"\n",
      "                },\n",
      "                \"revision_id\": 4,\n",
      "                \"parent\": {\n",
      "                    \"id\": \"0a3bx-b0f25\",\n",
      "                    \"access\": {\n",
      "                        \"owned_by\": {\n",
      "                            \"user\": \"122\"\n",
      "                        },\n",
      "                        \"settings\": {\n",
      "                            \"allow_user_requests\": false,\n",
      "                            \"allow_guest_requests\": false,\n",
      "                            \"accept_conditions_text\": null,\n",
      "                            \"secret_link_expiration\": 0\n",
      "                        }\n",
      "                    },\n",
      "                    \"communities\": {},\n",
      "                    \"pids\": {\n",
      "                        \"doi\": {\n",
      "                            \"identifier\": \"10.81088/0a3bx-b0f25\",\n",
      "                            \"provider\": \"datacite\",\n",
      "                            \"client\": \"datacite\"\n",
      "                        }\n",
      "                    }\n",
      "                },\n",
      "                \"versions\": {\n",
      "                    \"is_latest\": true,\n",
      "                    \"index\": 1\n",
      "                },\n",
      "                \"is_published\": true,\n",
      "                \"is_draft\": false,\n",
      "                \"pids\": {\n",
      "                    \"doi\": {\n",
      "                        \"identifier\": \"10.81088/4kemv-dd057\",\n",
      "                        \"provider\": \"datacite\",\n",
      "                        \"client\": \"datacite\"\n",
      "                    },\n",
      "                    \"oai\": {\n",
      "                        \"identifier\": \"oai:inveniordm.web.cern.ch:4kemv-dd057\",\n",
      "                        \"provider\": \"oai\"\n",
      "                    }\n",
      "                },\n",
      "                \"metadata\": {\n",
      "                    \"resource_type\": {\n",
      "                        \"id\": \"workflow\",\n",
      "                        \"title\": {\n",
      "                            \"de\": \"Workflow\",\n",
      "                            \"en\": \"Workflow\",\n",
      "                            \"sv\": \"Workflow\"\n",
      "                        }\n",
      "                    },\n",
      "                    \"creators\": [\n",
      "                        {\n",
      "                            \"person_or_org\": {\n",
      "                                \"type\": \"personal\",\n",
      "                                \"name\": \"mollitia\",\n",
      "                                \"family_name\": \"mollitia\"\n",
      "                            }\n",
      "                        }\n",
      "                    ],\n",
      "                    \"title\": \"Cultura creta vere.\",\n",
      "                    \"publisher\": \"CERN\",\n",
      "                    \"publication_date\": \"2025-07-03\",\n",
      "                    \"rights\": [\n",
      "                        {\n",
      "                            \"id\": \"cc-by-4.0\",\n",
      "                            \"title\": {\n",
      "                                \"en\": \"Creative Commons Attribution 4.0 International\"\n",
      "                            },\n",
      "                            \"description\": {\n",
      "                                \"en\": \"The Creative Commons Attribution license allows re-distribution and re-use of a licensed work on the condition that the creator is appropriately credited.\"\n",
      "                            },\n",
      "                            \"icon\": \"cc-by-icon\",\n",
      "                            \"props\": {\n",
      "                                \"url\": \"https://creativecommons.org/licenses/by/4.0/\",\n",
      "                                \"scheme\": \"spdx\"\n",
      "                            }\n",
      "                        }\n",
      "                    ]\n",
      "                },\n",
      "                \"custom_fields\": {},\n",
      "                \"access\": {\n",
      "                    \"record\": \"public\",\n",
      "                    \"files\": \"public\",\n",
      "                    \"embargo\": {\n",
      "                        \"active\": false,\n",
      "                        \"reason\": null\n",
      "                    },\n",
      "                    \"status\": \"open\"\n",
      "                },\n",
      "                \"files\": {\n",
      "                    \"enabled\": true,\n",
      "                    \"order\": [],\n",
      "                    \"count\": 1,\n",
      "                    \"total_bytes\": 23940,\n",
      "                    \"entries\": {\n",
      "                        \"Anon4.jpg\": {\n",
      "                            \"id\": \"fe16d60b-edf0-4520-a8ea-1398522642c9\",\n",
      "                            \"checksum\": \"md5:cbc1e72173faf56f8bea2276db0c636a\",\n",
      "                            \"ext\": \"jpg\",\n",
      "                            \"size\": 23940,\n",
      "                            \"mimetype\": \"image/jpeg\",\n",
      "                            \"key\": \"Anon4.jpg\",\n",
      "                            \"metadata\": {\n",
      "                                \"width\": 360,\n",
      "                                \"height\": 240\n",
      "                            },\n",
      "                            \"access\": {\n",
      "                                \"hidden\": false\n",
      "                            }\n",
      "                        }\n",
      "                    }\n",
      "                },\n",
      "                \"media_files\": {\n",
      "                    \"enabled\": false,\n",
      "                    \"order\": [],\n",
      "                    \"count\": 0,\n",
      "                    \"total_bytes\": 0,\n",
      "                    \"entries\": {}\n",
      "                },\n",
      "                \"status\": \"published\",\n",
      "                \"deletion_status\": {\n",
      "                    \"is_deleted\": false,\n",
      "                    \"status\": \"P\"\n",
      "                },\n",
      "                \"stats\": {\n",
      "                    \"this_version\": {\n",
      "                        \"views\": 0,\n",
      "                        \"unique_views\": 0,\n",
      "                        \"downloads\": 0,\n",
      "                        \"unique_downloads\": 0,\n",
      "                        \"data_volume\": 0.0\n",
      "                    },\n",
      "                    \"all_versions\": {\n",
      "                        \"views\": 0,\n",
      "                        \"unique_views\": 0,\n",
      "                        \"downloads\": 0,\n",
      "                        \"unique_downloads\": 0,\n",
      "                        \"data_volume\": 0.0\n",
      "                    }\n",
      "                }\n",
      "            },\n",
      "            {\n",
      "                \"id\": \"0ra7c-m2p44\",\n",
      "                \"created\": \"2025-07-03T15:50:38.171914+00:00\",\n",
      "                \"updated\": \"2025-07-03T15:50:38.280768+00:00\",\n",
      "                \"links\": {\n",
      "                    \"self\": \"https://inveniordm.web.cern.ch/api/records/0ra7c-m2p44\",\n",
      "                    \"self_html\": \"https://inveniordm.web.cern.ch/records/0ra7c-m2p44\",\n",
      "                    \"self_doi\": \"https://inveniordm.web.cern.ch/doi/10.81088/0ra7c-m2p44\",\n",
      "                    \"doi\": \"https://handle.stage.datacite.org/10.81088/0ra7c-m2p44\",\n",
      "                    \"parent\": \"https://inveniordm.web.cern.ch/api/records/51b00-0js76\",\n",
      "                    \"parent_html\": \"https://inveniordm.web.cern.ch/records/51b00-0js76\",\n",
      "                    \"parent_doi\": \"https://inveniordm.web.cern.ch/doi/10.81088/51b00-0js76\",\n",
      "                    \"self_iiif_manifest\": \"https://inveniordm.web.cern.ch/api/iiif/record:0ra7c-m2p44/manifest\",\n",
      "                    \"self_iiif_sequence\": \"https://inveniordm.web.cern.ch/api/iiif/record:0ra7c-m2p44/sequence/default\",\n",
      "                    \"files\": \"https://inveniordm.web.cern.ch/api/records/0ra7c-m2p44/files\",\n",
      "                    \"media_files\": \"https://inveniordm.web.cern.ch/api/records/0ra7c-m2p44/media-files\",\n",
      "                    \"archive\": \"https://inveniordm.web.cern.ch/api/records/0ra7c-m2p44/files-archive\",\n",
      "                    \"archive_media\": \"https://inveniordm.web.cern.ch/api/records/0ra7c-m2p44/media-files-archive\",\n",
      "                    \"latest\": \"https://inveniordm.web.cern.ch/api/records/0ra7c-m2p44/versions/latest\",\n",
      "                    \"latest_html\": \"https://inveniordm.web.cern.ch/records/0ra7c-m2p44/latest\",\n",
      "                    \"draft\": \"https://inveniordm.web.cern.ch/api/records/0ra7c-m2p44/draft\",\n",
      "                    \"versions\": \"https://inveniordm.web.cern.ch/api/records/0ra7c-m2p44/versions\",\n",
      "                    \"access_links\": \"https://inveniordm.web.cern.ch/api/records/0ra7c-m2p44/access/links\",\n",
      "                    \"access_grants\": \"https://inveniordm.web.cern.ch/api/records/0ra7c-m2p44/access/grants\",\n",
      "                    \"access_users\": \"https://inveniordm.web.cern.ch/api/records/0ra7c-m2p44/access/users\",\n",
      "                    \"access_groups\": \"https://inveniordm.web.cern.ch/api/records/0ra7c-m2p44/access/groups\",\n",
      "                    \"access_request\": \"https://inveniordm.web.cern.ch/api/records/0ra7c-m2p44/access/request\",\n",
      "                    \"access\": \"https://inveniordm.web.cern.ch/api/records/0ra7c-m2p44/access\",\n",
      "                    \"reserve_doi\": \"https://inveniordm.web.cern.ch/api/records/0ra7c-m2p44/draft/pids/doi\",\n",
      "                    \"communities\": \"https://inveniordm.web.cern.ch/api/records/0ra7c-m2p44/communities\",\n",
      "                    \"communities-suggestions\": \"https://inveniordm.web.cern.ch/api/records/0ra7c-m2p44/communities-suggestions\",\n",
      "                    \"requests\": \"https://inveniordm.web.cern.ch/api/records/0ra7c-m2p44/requests\"\n",
      "                },\n",
      "                \"revision_id\": 4,\n",
      "                \"parent\": {\n",
      "                    \"id\": \"51b00-0js76\",\n",
      "                    \"access\": {\n",
      "                        \"owned_by\": {\n",
      "                            \"user\": \"122\"\n",
      "                        },\n",
      "                        \"settings\": {\n",
      "                            \"allow_user_requests\": false,\n",
      "                            \"allow_guest_requests\": false,\n",
      "                            \"accept_conditions_text\": null,\n",
      "                            \"secret_link_expiration\": 0\n",
      "                        }\n",
      "                    },\n",
      "                    \"communities\": {},\n",
      "                    \"pids\": {\n",
      "                        \"doi\": {\n",
      "                            \"identifier\": \"10.81088/51b00-0js76\",\n",
      "                            \"provider\": \"datacite\",\n",
      "                            \"client\": \"datacite\"\n",
      "                        }\n",
      "                    }\n",
      "                },\n",
      "                \"versions\": {\n",
      "                    \"is_latest\": true,\n",
      "                    \"index\": 1\n",
      "                },\n",
      "                \"is_published\": true,\n",
      "                \"is_draft\": false,\n",
      "                \"pids\": {\n",
      "                    \"doi\": {\n",
      "                        \"identifier\": \"10.81088/0ra7c-m2p44\",\n",
      "                        \"provider\": \"datacite\",\n",
      "                        \"client\": \"datacite\"\n",
      "                    },\n",
      "                    \"oai\": {\n",
      "                        \"identifier\": \"oai:inveniordm.web.cern.ch:0ra7c-m2p44\",\n",
      "                        \"provider\": \"oai\"\n",
      "                    }\n",
      "                },\n",
      "                \"metadata\": {\n",
      "                    \"resource_type\": {\n",
      "                        \"id\": \"other\",\n",
      "                        \"title\": {\n",
      "                            \"de\": \"Sonstige\",\n",
      "                            \"en\": \"Other\",\n",
      "                            \"sv\": \"Övrig\"\n",
      "                        }\n",
      "                    },\n",
      "                    \"creators\": [\n",
      "                        {\n",
      "                            \"person_or_org\": {\n",
      "                                \"type\": \"personal\",\n",
      "                                \"name\": \"perspiciatis\",\n",
      "                                \"family_name\": \"perspiciatis\"\n",
      "                            }\n",
      "                        }\n",
      "                    ],\n",
      "                    \"title\": \"Caterva stultus vado ait valeo libero arcus fugiat ulciscor.\",\n",
      "                    \"publisher\": \"CERN\",\n",
      "                    \"publication_date\": \"2025-07-03\",\n",
      "                    \"rights\": [\n",
      "                        {\n",
      "                            \"id\": \"cc-by-4.0\",\n",
      "                            \"title\": {\n",
      "                                \"en\": \"Creative Commons Attribution 4.0 International\"\n",
      "                            },\n",
      "                            \"description\": {\n",
      "                                \"en\": \"The Creative Commons Attribution license allows re-distribution and re-use of a licensed work on the condition that the creator is appropriately credited.\"\n",
      "                            },\n",
      "                            \"icon\": \"cc-by-icon\",\n",
      "                            \"props\": {\n",
      "                                \"url\": \"https://creativecommons.org/licenses/by/4.0/\",\n",
      "                                \"scheme\": \"spdx\"\n",
      "                            }\n",
      "                        }\n",
      "                    ]\n",
      "                },\n",
      "                \"custom_fields\": {},\n",
      "                \"access\": {\n",
      "                    \"record\": \"public\",\n",
      "                    \"files\": \"public\",\n",
      "                    \"embargo\": {\n",
      "                        \"active\": false,\n",
      "                        \"reason\": null\n",
      "                    },\n",
      "                    \"status\": \"open\"\n",
      "                },\n",
      "                \"files\": {\n",
      "                    \"enabled\": true,\n",
      "                    \"order\": [],\n",
      "                    \"count\": 1,\n",
      "                    \"total_bytes\": 51227,\n",
      "                    \"entries\": {\n",
      "                        \"Anon2.jpg\": {\n",
      "                            \"id\": \"397a6af7-b42e-4748-8275-a2b0e98612db\",\n",
      "                            \"checksum\": \"md5:ffa2a7b9c71c139aacc781d158fffa8b\",\n",
      "                            \"ext\": \"jpg\",\n",
      "                            \"size\": 51227,\n",
      "                            \"mimetype\": \"image/jpeg\",\n",
      "                            \"key\": \"Anon2.jpg\",\n",
      "                            \"metadata\": {\n",
      "                                \"width\": 445,\n",
      "                                \"height\": 240\n",
      "                            },\n",
      "                            \"access\": {\n",
      "                                \"hidden\": false\n",
      "                            }\n",
      "                        }\n",
      "                    }\n",
      "                },\n",
      "                \"media_files\": {\n",
      "                    \"enabled\": false,\n",
      "                    \"order\": [],\n",
      "                    \"count\": 0,\n",
      "                    \"total_bytes\": 0,\n",
      "                    \"entries\": {}\n",
      "                },\n",
      "                \"status\": \"published\",\n",
      "                \"deletion_status\": {\n",
      "                    \"is_deleted\": false,\n",
      "                    \"status\": \"P\"\n",
      "                },\n",
      "                \"stats\": {\n",
      "                    \"this_version\": {\n",
      "                        \"views\": 0,\n",
      "                        \"unique_views\": 0,\n",
      "                        \"downloads\": 0,\n",
      "                        \"unique_downloads\": 0,\n",
      "                        \"data_volume\": 0.0\n",
      "                    },\n",
      "                    \"all_versions\": {\n",
      "                        \"views\": 0,\n",
      "                        \"unique_views\": 0,\n",
      "                        \"downloads\": 0,\n",
      "                        \"unique_downloads\": 0,\n",
      "                        \"data_volume\": 0.0\n",
      "                    }\n",
      "                }\n",
      "            },\n",
      "            {\n",
      "                \"id\": \"9hk6z-feb77\",\n",
      "                \"created\": \"2025-07-02T10:32:31.201476+00:00\",\n",
      "                \"updated\": \"2025-07-02T10:32:31.266512+00:00\",\n",
      "                \"links\": {\n",
      "                    \"self\": \"https://inveniordm.web.cern.ch/api/records/9hk6z-feb77\",\n",
      "                    \"self_html\": \"https://inveniordm.web.cern.ch/records/9hk6z-feb77\",\n",
      "                    \"self_doi\": \"https://inveniordm.web.cern.ch/doi/10.81088/9hk6z-feb77\",\n",
      "                    \"doi\": \"https://handle.stage.datacite.org/10.81088/9hk6z-feb77\",\n",
      "                    \"parent\": \"https://inveniordm.web.cern.ch/api/records/vvdsv-0bm32\",\n",
      "                    \"parent_html\": \"https://inveniordm.web.cern.ch/records/vvdsv-0bm32\",\n",
      "                    \"parent_doi\": \"https://inveniordm.web.cern.ch/doi/10.81088/vvdsv-0bm32\",\n",
      "                    \"self_iiif_manifest\": \"https://inveniordm.web.cern.ch/api/iiif/record:9hk6z-feb77/manifest\",\n",
      "                    \"self_iiif_sequence\": \"https://inveniordm.web.cern.ch/api/iiif/record:9hk6z-feb77/sequence/default\",\n",
      "                    \"files\": \"https://inveniordm.web.cern.ch/api/records/9hk6z-feb77/files\",\n",
      "                    \"media_files\": \"https://inveniordm.web.cern.ch/api/records/9hk6z-feb77/media-files\",\n",
      "                    \"archive\": \"https://inveniordm.web.cern.ch/api/records/9hk6z-feb77/files-archive\",\n",
      "                    \"archive_media\": \"https://inveniordm.web.cern.ch/api/records/9hk6z-feb77/media-files-archive\",\n",
      "                    \"latest\": \"https://inveniordm.web.cern.ch/api/records/9hk6z-feb77/versions/latest\",\n",
      "                    \"latest_html\": \"https://inveniordm.web.cern.ch/records/9hk6z-feb77/latest\",\n",
      "                    \"draft\": \"https://inveniordm.web.cern.ch/api/records/9hk6z-feb77/draft\",\n",
      "                    \"versions\": \"https://inveniordm.web.cern.ch/api/records/9hk6z-feb77/versions\",\n",
      "                    \"access_links\": \"https://inveniordm.web.cern.ch/api/records/9hk6z-feb77/access/links\",\n",
      "                    \"access_grants\": \"https://inveniordm.web.cern.ch/api/records/9hk6z-feb77/access/grants\",\n",
      "                    \"access_users\": \"https://inveniordm.web.cern.ch/api/records/9hk6z-feb77/access/users\",\n",
      "                    \"access_groups\": \"https://inveniordm.web.cern.ch/api/records/9hk6z-feb77/access/groups\",\n",
      "                    \"access_request\": \"https://inveniordm.web.cern.ch/api/records/9hk6z-feb77/access/request\",\n",
      "                    \"access\": \"https://inveniordm.web.cern.ch/api/records/9hk6z-feb77/access\",\n",
      "                    \"reserve_doi\": \"https://inveniordm.web.cern.ch/api/records/9hk6z-feb77/draft/pids/doi\",\n",
      "                    \"communities\": \"https://inveniordm.web.cern.ch/api/records/9hk6z-feb77/communities\",\n",
      "                    \"communities-suggestions\": \"https://inveniordm.web.cern.ch/api/records/9hk6z-feb77/communities-suggestions\",\n",
      "                    \"requests\": \"https://inveniordm.web.cern.ch/api/records/9hk6z-feb77/requests\"\n",
      "                },\n",
      "                \"revision_id\": 4,\n",
      "                \"parent\": {\n",
      "                    \"id\": \"vvdsv-0bm32\",\n",
      "                    \"access\": {\n",
      "                        \"owned_by\": {\n",
      "                            \"user\": \"122\"\n",
      "                        },\n",
      "                        \"settings\": {\n",
      "                            \"allow_user_requests\": false,\n",
      "                            \"allow_guest_requests\": false,\n",
      "                            \"accept_conditions_text\": null,\n",
      "                            \"secret_link_expiration\": 0\n",
      "                        }\n",
      "                    },\n",
      "                    \"communities\": {},\n",
      "                    \"pids\": {\n",
      "                        \"doi\": {\n",
      "                            \"identifier\": \"10.81088/vvdsv-0bm32\",\n",
      "                            \"provider\": \"datacite\",\n",
      "                            \"client\": \"datacite\"\n",
      "                        }\n",
      "                    }\n",
      "                },\n",
      "                \"versions\": {\n",
      "                    \"is_latest\": true,\n",
      "                    \"index\": 2\n",
      "                },\n",
      "                \"is_published\": true,\n",
      "                \"is_draft\": false,\n",
      "                \"pids\": {\n",
      "                    \"doi\": {\n",
      "                        \"identifier\": \"10.81088/9hk6z-feb77\",\n",
      "                        \"provider\": \"datacite\",\n",
      "                        \"client\": \"datacite\"\n",
      "                    },\n",
      "                    \"oai\": {\n",
      "                        \"identifier\": \"oai:inveniordm.web.cern.ch:9hk6z-feb77\",\n",
      "                        \"provider\": \"oai\"\n",
      "                    }\n",
      "                },\n",
      "                \"metadata\": {\n",
      "                    \"resource_type\": {\n",
      "                        \"id\": \"software\",\n",
      "                        \"title\": {\n",
      "                            \"de\": \"Software\",\n",
      "                            \"en\": \"Software\",\n",
      "                            \"sv\": \"Mjukvara\"\n",
      "                        }\n",
      "                    },\n",
      "                    \"creators\": [\n",
      "                        {\n",
      "                            \"person_or_org\": {\n",
      "                                \"type\": \"personal\",\n",
      "                                \"name\": \"virga\",\n",
      "                                \"family_name\": \"virga\"\n",
      "                            }\n",
      "                        }\n",
      "                    ],\n",
      "                    \"title\": \"Aequus tripudio valeo comparo terminatio aptus charisma voluptate angustus.\",\n",
      "                    \"publisher\": \"CERN\",\n",
      "                    \"publication_date\": \"2025-07-02\",\n",
      "                    \"rights\": [\n",
      "                        {\n",
      "                            \"id\": \"cc-by-4.0\",\n",
      "                            \"title\": {\n",
      "                                \"en\": \"Creative Commons Attribution 4.0 International\"\n",
      "                            },\n",
      "                            \"description\": {\n",
      "                                \"en\": \"The Creative Commons Attribution license allows re-distribution and re-use of a licensed work on the condition that the creator is appropriately credited.\"\n",
      "                            },\n",
      "                            \"icon\": \"cc-by-icon\",\n",
      "                            \"props\": {\n",
      "                                \"url\": \"https://creativecommons.org/licenses/by/4.0/\",\n",
      "                                \"scheme\": \"spdx\"\n",
      "                            }\n",
      "                        }\n",
      "                    ]\n",
      "                },\n",
      "                \"custom_fields\": {},\n",
      "                \"access\": {\n",
      "                    \"record\": \"public\",\n",
      "                    \"files\": \"public\",\n",
      "                    \"embargo\": {\n",
      "                        \"active\": false,\n",
      "                        \"reason\": null\n",
      "                    },\n",
      "                    \"status\": \"open\"\n",
      "                },\n",
      "                \"files\": {\n",
      "                    \"enabled\": true,\n",
      "                    \"order\": [],\n",
      "                    \"count\": 1,\n",
      "                    \"total_bytes\": 22908,\n",
      "                    \"entries\": {\n",
      "                        \"Anon7.jpg\": {\n",
      "                            \"id\": \"db274fba-ff7b-4076-8f7e-02ef654c9854\",\n",
      "                            \"checksum\": \"md5:0e90e1b1d9afeef09e0bc4937f21e3f3\",\n",
      "                            \"ext\": \"jpg\",\n",
      "                            \"size\": 22908,\n",
      "                            \"mimetype\": \"image/jpeg\",\n",
      "                            \"key\": \"Anon7.jpg\",\n",
      "                            \"metadata\": {\n",
      "                                \"width\": 361,\n",
      "                                \"height\": 240\n",
      "                            },\n",
      "                            \"access\": {\n",
      "                                \"hidden\": false\n",
      "                            }\n",
      "                        }\n",
      "                    }\n",
      "                },\n",
      "                \"media_files\": {\n",
      "                    \"enabled\": false,\n",
      "                    \"order\": [],\n",
      "                    \"count\": 0,\n",
      "                    \"total_bytes\": 0,\n",
      "                    \"entries\": {}\n",
      "                },\n",
      "                \"status\": \"published\",\n",
      "                \"deletion_status\": {\n",
      "                    \"is_deleted\": false,\n",
      "                    \"status\": \"P\"\n",
      "                },\n",
      "                \"stats\": {\n",
      "                    \"this_version\": {\n",
      "                        \"views\": 0,\n",
      "                        \"unique_views\": 0,\n",
      "                        \"downloads\": 0,\n",
      "                        \"unique_downloads\": 0,\n",
      "                        \"data_volume\": 0.0\n",
      "                    },\n",
      "                    \"all_versions\": {\n",
      "                        \"views\": 0,\n",
      "                        \"unique_views\": 0,\n",
      "                        \"downloads\": 0,\n",
      "                        \"unique_downloads\": 0,\n",
      "                        \"data_volume\": 0.0\n",
      "                    }\n",
      "                }\n",
      "            },\n",
      "            {\n",
      "                \"id\": \"791wv-wnk94\",\n",
      "                \"created\": \"2025-07-02T10:32:06.762172+00:00\",\n",
      "                \"updated\": \"2025-07-02T10:32:06.838708+00:00\",\n",
      "                \"links\": {\n",
      "                    \"self\": \"https://inveniordm.web.cern.ch/api/records/791wv-wnk94\",\n",
      "                    \"self_html\": \"https://inveniordm.web.cern.ch/records/791wv-wnk94\",\n",
      "                    \"self_doi\": \"https://inveniordm.web.cern.ch/doi/10.81088/791wv-wnk94\",\n",
      "                    \"doi\": \"https://handle.stage.datacite.org/10.81088/791wv-wnk94\",\n",
      "                    \"parent\": \"https://inveniordm.web.cern.ch/api/records/pj5xm-gfw73\",\n",
      "                    \"parent_html\": \"https://inveniordm.web.cern.ch/records/pj5xm-gfw73\",\n",
      "                    \"parent_doi\": \"https://inveniordm.web.cern.ch/doi/10.81088/pj5xm-gfw73\",\n",
      "                    \"self_iiif_manifest\": \"https://inveniordm.web.cern.ch/api/iiif/record:791wv-wnk94/manifest\",\n",
      "                    \"self_iiif_sequence\": \"https://inveniordm.web.cern.ch/api/iiif/record:791wv-wnk94/sequence/default\",\n",
      "                    \"files\": \"https://inveniordm.web.cern.ch/api/records/791wv-wnk94/files\",\n",
      "                    \"media_files\": \"https://inveniordm.web.cern.ch/api/records/791wv-wnk94/media-files\",\n",
      "                    \"archive\": \"https://inveniordm.web.cern.ch/api/records/791wv-wnk94/files-archive\",\n",
      "                    \"archive_media\": \"https://inveniordm.web.cern.ch/api/records/791wv-wnk94/media-files-archive\",\n",
      "                    \"latest\": \"https://inveniordm.web.cern.ch/api/records/791wv-wnk94/versions/latest\",\n",
      "                    \"latest_html\": \"https://inveniordm.web.cern.ch/records/791wv-wnk94/latest\",\n",
      "                    \"draft\": \"https://inveniordm.web.cern.ch/api/records/791wv-wnk94/draft\",\n",
      "                    \"versions\": \"https://inveniordm.web.cern.ch/api/records/791wv-wnk94/versions\",\n",
      "                    \"access_links\": \"https://inveniordm.web.cern.ch/api/records/791wv-wnk94/access/links\",\n",
      "                    \"access_grants\": \"https://inveniordm.web.cern.ch/api/records/791wv-wnk94/access/grants\",\n",
      "                    \"access_users\": \"https://inveniordm.web.cern.ch/api/records/791wv-wnk94/access/users\",\n",
      "                    \"access_groups\": \"https://inveniordm.web.cern.ch/api/records/791wv-wnk94/access/groups\",\n",
      "                    \"access_request\": \"https://inveniordm.web.cern.ch/api/records/791wv-wnk94/access/request\",\n",
      "                    \"access\": \"https://inveniordm.web.cern.ch/api/records/791wv-wnk94/access\",\n",
      "                    \"reserve_doi\": \"https://inveniordm.web.cern.ch/api/records/791wv-wnk94/draft/pids/doi\",\n",
      "                    \"communities\": \"https://inveniordm.web.cern.ch/api/records/791wv-wnk94/communities\",\n",
      "                    \"communities-suggestions\": \"https://inveniordm.web.cern.ch/api/records/791wv-wnk94/communities-suggestions\",\n",
      "                    \"requests\": \"https://inveniordm.web.cern.ch/api/records/791wv-wnk94/requests\"\n",
      "                },\n",
      "                \"revision_id\": 4,\n",
      "                \"parent\": {\n",
      "                    \"id\": \"pj5xm-gfw73\",\n",
      "                    \"access\": {\n",
      "                        \"owned_by\": {\n",
      "                            \"user\": \"122\"\n",
      "                        },\n",
      "                        \"settings\": {\n",
      "                            \"allow_user_requests\": false,\n",
      "                            \"allow_guest_requests\": false,\n",
      "                            \"accept_conditions_text\": null,\n",
      "                            \"secret_link_expiration\": 0\n",
      "                        }\n",
      "                    },\n",
      "                    \"communities\": {},\n",
      "                    \"pids\": {\n",
      "                        \"doi\": {\n",
      "                            \"identifier\": \"10.81088/pj5xm-gfw73\",\n",
      "                            \"provider\": \"datacite\",\n",
      "                            \"client\": \"datacite\"\n",
      "                        }\n",
      "                    }\n",
      "                },\n",
      "                \"versions\": {\n",
      "                    \"is_latest\": true,\n",
      "                    \"index\": 1\n",
      "                },\n",
      "                \"is_published\": true,\n",
      "                \"is_draft\": false,\n",
      "                \"pids\": {\n",
      "                    \"doi\": {\n",
      "                        \"identifier\": \"10.81088/791wv-wnk94\",\n",
      "                        \"provider\": \"datacite\",\n",
      "                        \"client\": \"datacite\"\n",
      "                    },\n",
      "                    \"oai\": {\n",
      "                        \"identifier\": \"oai:inveniordm.web.cern.ch:791wv-wnk94\",\n",
      "                        \"provider\": \"oai\"\n",
      "                    }\n",
      "                },\n",
      "                \"metadata\": {\n",
      "                    \"resource_type\": {\n",
      "                        \"id\": \"poster\",\n",
      "                        \"title\": {\n",
      "                            \"de\": \"Poster\",\n",
      "                            \"en\": \"Poster\",\n",
      "                            \"sv\": \"Poster\"\n",
      "                        }\n",
      "                    },\n",
      "                    \"creators\": [\n",
      "                        {\n",
      "                            \"person_or_org\": {\n",
      "                                \"type\": \"personal\",\n",
      "                                \"name\": \"cariosus\",\n",
      "                                \"family_name\": \"cariosus\"\n",
      "                            }\n",
      "                        }\n",
      "                    ],\n",
      "                    \"title\": \"Pauci cultura clementia accedo artificiose adulescens confido velut viduo avarus.\",\n",
      "                    \"publisher\": \"CERN\",\n",
      "                    \"publication_date\": \"2025-07-02\",\n",
      "                    \"rights\": [\n",
      "                        {\n",
      "                            \"id\": \"cc-by-4.0\",\n",
      "                            \"title\": {\n",
      "                                \"en\": \"Creative Commons Attribution 4.0 International\"\n",
      "                            },\n",
      "                            \"description\": {\n",
      "                                \"en\": \"The Creative Commons Attribution license allows re-distribution and re-use of a licensed work on the condition that the creator is appropriately credited.\"\n",
      "                            },\n",
      "                            \"icon\": \"cc-by-icon\",\n",
      "                            \"props\": {\n",
      "                                \"url\": \"https://creativecommons.org/licenses/by/4.0/\",\n",
      "                                \"scheme\": \"spdx\"\n",
      "                            }\n",
      "                        }\n",
      "                    ]\n",
      "                },\n",
      "                \"custom_fields\": {},\n",
      "                \"access\": {\n",
      "                    \"record\": \"public\",\n",
      "                    \"files\": \"public\",\n",
      "                    \"embargo\": {\n",
      "                        \"active\": false,\n",
      "                        \"reason\": null\n",
      "                    },\n",
      "                    \"status\": \"open\"\n",
      "                },\n",
      "                \"files\": {\n",
      "                    \"enabled\": true,\n",
      "                    \"order\": [],\n",
      "                    \"count\": 1,\n",
      "                    \"total_bytes\": 18465,\n",
      "                    \"entries\": {\n",
      "                        \"Anon5.jpg\": {\n",
      "                            \"id\": \"75e7f540-1b09-4893-93c3-7df0e9939595\",\n",
      "                            \"checksum\": \"md5:2bf1bb14f205b6dde6de8553e0270a57\",\n",
      "                            \"ext\": \"jpg\",\n",
      "                            \"size\": 18465,\n",
      "                            \"mimetype\": \"image/jpeg\",\n",
      "                            \"key\": \"Anon5.jpg\",\n",
      "                            \"metadata\": {},\n",
      "                            \"access\": {\n",
      "                                \"hidden\": false\n",
      "                            }\n",
      "                        }\n",
      "                    }\n",
      "                },\n",
      "                \"media_files\": {\n",
      "                    \"enabled\": false,\n",
      "                    \"order\": [],\n",
      "                    \"count\": 0,\n",
      "                    \"total_bytes\": 0,\n",
      "                    \"entries\": {}\n",
      "                },\n",
      "                \"status\": \"published\",\n",
      "                \"deletion_status\": {\n",
      "                    \"is_deleted\": false,\n",
      "                    \"status\": \"P\"\n",
      "                },\n",
      "                \"stats\": {\n",
      "                    \"this_version\": {\n",
      "                        \"views\": 0,\n",
      "                        \"unique_views\": 0,\n",
      "                        \"downloads\": 0,\n",
      "                        \"unique_downloads\": 0,\n",
      "                        \"data_volume\": 0.0\n",
      "                    },\n",
      "                    \"all_versions\": {\n",
      "                        \"views\": 0,\n",
      "                        \"unique_views\": 0,\n",
      "                        \"downloads\": 0,\n",
      "                        \"unique_downloads\": 0,\n",
      "                        \"data_volume\": 0.0\n",
      "                    }\n",
      "                }\n",
      "            },\n",
      "            {\n",
      "                \"id\": \"vyykv-17227\",\n",
      "                \"created\": \"2025-07-02T10:31:29.432126+00:00\",\n",
      "                \"updated\": \"2025-07-02T10:31:29.513839+00:00\",\n",
      "                \"links\": {\n",
      "                    \"self\": \"https://inveniordm.web.cern.ch/api/records/vyykv-17227\",\n",
      "                    \"self_html\": \"https://inveniordm.web.cern.ch/records/vyykv-17227\",\n",
      "                    \"self_doi\": \"https://inveniordm.web.cern.ch/doi/10.81088/vyykv-17227\",\n",
      "                    \"doi\": \"https://handle.stage.datacite.org/10.81088/vyykv-17227\",\n",
      "                    \"parent\": \"https://inveniordm.web.cern.ch/api/records/1qsyt-kkz81\",\n",
      "                    \"parent_html\": \"https://inveniordm.web.cern.ch/records/1qsyt-kkz81\",\n",
      "                    \"parent_doi\": \"https://inveniordm.web.cern.ch/doi/10.81088/1qsyt-kkz81\",\n",
      "                    \"self_iiif_manifest\": \"https://inveniordm.web.cern.ch/api/iiif/record:vyykv-17227/manifest\",\n",
      "                    \"self_iiif_sequence\": \"https://inveniordm.web.cern.ch/api/iiif/record:vyykv-17227/sequence/default\",\n",
      "                    \"files\": \"https://inveniordm.web.cern.ch/api/records/vyykv-17227/files\",\n",
      "                    \"media_files\": \"https://inveniordm.web.cern.ch/api/records/vyykv-17227/media-files\",\n",
      "                    \"archive\": \"https://inveniordm.web.cern.ch/api/records/vyykv-17227/files-archive\",\n",
      "                    \"archive_media\": \"https://inveniordm.web.cern.ch/api/records/vyykv-17227/media-files-archive\",\n",
      "                    \"latest\": \"https://inveniordm.web.cern.ch/api/records/vyykv-17227/versions/latest\",\n",
      "                    \"latest_html\": \"https://inveniordm.web.cern.ch/records/vyykv-17227/latest\",\n",
      "                    \"draft\": \"https://inveniordm.web.cern.ch/api/records/vyykv-17227/draft\",\n",
      "                    \"versions\": \"https://inveniordm.web.cern.ch/api/records/vyykv-17227/versions\",\n",
      "                    \"access_links\": \"https://inveniordm.web.cern.ch/api/records/vyykv-17227/access/links\",\n",
      "                    \"access_grants\": \"https://inveniordm.web.cern.ch/api/records/vyykv-17227/access/grants\",\n",
      "                    \"access_users\": \"https://inveniordm.web.cern.ch/api/records/vyykv-17227/access/users\",\n",
      "                    \"access_groups\": \"https://inveniordm.web.cern.ch/api/records/vyykv-17227/access/groups\",\n",
      "                    \"access_request\": \"https://inveniordm.web.cern.ch/api/records/vyykv-17227/access/request\",\n",
      "                    \"access\": \"https://inveniordm.web.cern.ch/api/records/vyykv-17227/access\",\n",
      "                    \"reserve_doi\": \"https://inveniordm.web.cern.ch/api/records/vyykv-17227/draft/pids/doi\",\n",
      "                    \"communities\": \"https://inveniordm.web.cern.ch/api/records/vyykv-17227/communities\",\n",
      "                    \"communities-suggestions\": \"https://inveniordm.web.cern.ch/api/records/vyykv-17227/communities-suggestions\",\n",
      "                    \"requests\": \"https://inveniordm.web.cern.ch/api/records/vyykv-17227/requests\"\n",
      "                },\n",
      "                \"revision_id\": 4,\n",
      "                \"parent\": {\n",
      "                    \"id\": \"1qsyt-kkz81\",\n",
      "                    \"access\": {\n",
      "                        \"owned_by\": {\n",
      "                            \"user\": \"122\"\n",
      "                        },\n",
      "                        \"settings\": {\n",
      "                            \"allow_user_requests\": false,\n",
      "                            \"allow_guest_requests\": false,\n",
      "                            \"accept_conditions_text\": null,\n",
      "                            \"secret_link_expiration\": 0\n",
      "                        }\n",
      "                    },\n",
      "                    \"communities\": {\n",
      "                        \"ids\": [\n",
      "                            \"dff5c0fc-f8c3-4677-a99f-1e9912a44552\"\n",
      "                        ],\n",
      "                        \"default\": \"dff5c0fc-f8c3-4677-a99f-1e9912a44552\",\n",
      "                        \"entries\": [\n",
      "                            {\n",
      "                                \"id\": \"dff5c0fc-f8c3-4677-a99f-1e9912a44552\",\n",
      "                                \"created\": \"2025-07-02T10:31:11.889296+00:00\",\n",
      "                                \"updated\": \"2025-07-02T10:31:12.103132+00:00\",\n",
      "                                \"links\": {},\n",
      "                                \"revision_id\": 2,\n",
      "                                \"slug\": \"utilis_60185\",\n",
      "                                \"metadata\": {\n",
      "                                    \"title\": \"solium\"\n",
      "                                },\n",
      "                                \"access\": {\n",
      "                                    \"visibility\": \"public\",\n",
      "                                    \"members_visibility\": \"public\",\n",
      "                                    \"member_policy\": \"open\",\n",
      "                                    \"record_policy\": \"open\",\n",
      "                                    \"review_policy\": \"closed\"\n",
      "                                },\n",
      "                                \"deletion_status\": {\n",
      "                                    \"is_deleted\": false,\n",
      "                                    \"status\": \"P\"\n",
      "                                },\n",
      "                                \"children\": {\n",
      "                                    \"allow\": false\n",
      "                                }\n",
      "                            }\n",
      "                        ]\n",
      "                    },\n",
      "                    \"pids\": {\n",
      "                        \"doi\": {\n",
      "                            \"identifier\": \"10.81088/1qsyt-kkz81\",\n",
      "                            \"provider\": \"datacite\",\n",
      "                            \"client\": \"datacite\"\n",
      "                        }\n",
      "                    }\n",
      "                },\n",
      "                \"versions\": {\n",
      "                    \"is_latest\": true,\n",
      "                    \"index\": 1\n",
      "                },\n",
      "                \"is_published\": true,\n",
      "                \"is_draft\": false,\n",
      "                \"pids\": {\n",
      "                    \"doi\": {\n",
      "                        \"identifier\": \"10.81088/vyykv-17227\",\n",
      "                        \"provider\": \"datacite\",\n",
      "                        \"client\": \"datacite\"\n",
      "                    },\n",
      "                    \"oai\": {\n",
      "                        \"identifier\": \"oai:inveniordm.web.cern.ch:vyykv-17227\",\n",
      "                        \"provider\": \"oai\"\n",
      "                    }\n",
      "                },\n",
      "                \"metadata\": {\n",
      "                    \"resource_type\": {\n",
      "                        \"id\": \"audio\",\n",
      "                        \"title\": {\n",
      "                            \"de\": \"Audio\",\n",
      "                            \"en\": \"Audio\",\n",
      "                            \"sv\": \"Audio\"\n",
      "                        }\n",
      "                    },\n",
      "                    \"creators\": [\n",
      "                        {\n",
      "                            \"person_or_org\": {\n",
      "                                \"type\": \"personal\",\n",
      "                                \"name\": \"defero\",\n",
      "                                \"family_name\": \"defero\"\n",
      "                            }\n",
      "                        }\n",
      "                    ],\n",
      "                    \"title\": \"Adopto maxime temperantia vilicus.\",\n",
      "                    \"publisher\": \"CERN\",\n",
      "                    \"publication_date\": \"2025-07-02\",\n",
      "                    \"rights\": [\n",
      "                        {\n",
      "                            \"id\": \"cc-by-4.0\",\n",
      "                            \"title\": {\n",
      "                                \"en\": \"Creative Commons Attribution 4.0 International\"\n",
      "                            },\n",
      "                            \"description\": {\n",
      "                                \"en\": \"The Creative Commons Attribution license allows re-distribution and re-use of a licensed work on the condition that the creator is appropriately credited.\"\n",
      "                            },\n",
      "                            \"icon\": \"cc-by-icon\",\n",
      "                            \"props\": {\n",
      "                                \"url\": \"https://creativecommons.org/licenses/by/4.0/\",\n",
      "                                \"scheme\": \"spdx\"\n",
      "                            }\n",
      "                        }\n",
      "                    ]\n",
      "                },\n",
      "                \"custom_fields\": {},\n",
      "                \"access\": {\n",
      "                    \"record\": \"public\",\n",
      "                    \"files\": \"public\",\n",
      "                    \"embargo\": {\n",
      "                        \"active\": false,\n",
      "                        \"reason\": null\n",
      "                    },\n",
      "                    \"status\": \"open\"\n",
      "                },\n",
      "                \"files\": {\n",
      "                    \"enabled\": true,\n",
      "                    \"order\": [],\n",
      "                    \"count\": 1,\n",
      "                    \"total_bytes\": 105042,\n",
      "                    \"entries\": {\n",
      "                        \"Anon6.jpg\": {\n",
      "                            \"id\": \"1ea070d0-0ab5-489a-8eff-3335050ad40a\",\n",
      "                            \"checksum\": \"md5:7e41b92644f0a69caf5ad13b780a141c\",\n",
      "                            \"ext\": \"jpg\",\n",
      "                            \"size\": 105042,\n",
      "                            \"mimetype\": \"image/jpeg\",\n",
      "                            \"key\": \"Anon6.jpg\",\n",
      "                            \"metadata\": {\n",
      "                                \"width\": 427,\n",
      "                                \"height\": 240\n",
      "                            },\n",
      "                            \"access\": {\n",
      "                                \"hidden\": false\n",
      "                            }\n",
      "                        }\n",
      "                    }\n",
      "                },\n",
      "                \"media_files\": {\n",
      "                    \"enabled\": false,\n",
      "                    \"order\": [],\n",
      "                    \"count\": 0,\n",
      "                    \"total_bytes\": 0,\n",
      "                    \"entries\": {}\n",
      "                },\n",
      "                \"status\": \"published\",\n",
      "                \"deletion_status\": {\n",
      "                    \"is_deleted\": false,\n",
      "                    \"status\": \"P\"\n",
      "                },\n",
      "                \"stats\": {\n",
      "                    \"this_version\": {\n",
      "                        \"views\": 0,\n",
      "                        \"unique_views\": 0,\n",
      "                        \"downloads\": 0,\n",
      "                        \"unique_downloads\": 0,\n",
      "                        \"data_volume\": 0.0\n",
      "                    },\n",
      "                    \"all_versions\": {\n",
      "                        \"views\": 0,\n",
      "                        \"unique_views\": 0,\n",
      "                        \"downloads\": 0,\n",
      "                        \"unique_downloads\": 0,\n",
      "                        \"data_volume\": 0.0\n",
      "                    }\n",
      "                }\n",
      "            },\n",
      "            {\n",
      "                \"id\": \"ycyz2-et492\",\n",
      "                \"created\": \"2025-07-02T10:30:42.843563+00:00\",\n",
      "                \"updated\": \"2025-07-03T00:02:01.279601+00:00\",\n",
      "                \"links\": {\n",
      "                    \"self\": \"https://inveniordm.web.cern.ch/api/records/ycyz2-et492\",\n",
      "                    \"self_html\": \"https://inveniordm.web.cern.ch/records/ycyz2-et492\",\n",
      "                    \"self_doi\": \"https://inveniordm.web.cern.ch/doi/10.81088/ycyz2-et492\",\n",
      "                    \"doi\": \"https://handle.stage.datacite.org/10.81088/ycyz2-et492\",\n",
      "                    \"parent\": \"https://inveniordm.web.cern.ch/api/records/m67d1-nyt68\",\n",
      "                    \"parent_html\": \"https://inveniordm.web.cern.ch/records/m67d1-nyt68\",\n",
      "                    \"parent_doi\": \"https://inveniordm.web.cern.ch/doi/10.81088/m67d1-nyt68\",\n",
      "                    \"self_iiif_manifest\": \"https://inveniordm.web.cern.ch/api/iiif/record:ycyz2-et492/manifest\",\n",
      "                    \"self_iiif_sequence\": \"https://inveniordm.web.cern.ch/api/iiif/record:ycyz2-et492/sequence/default\",\n",
      "                    \"files\": \"https://inveniordm.web.cern.ch/api/records/ycyz2-et492/files\",\n",
      "                    \"media_files\": \"https://inveniordm.web.cern.ch/api/records/ycyz2-et492/media-files\",\n",
      "                    \"archive\": \"https://inveniordm.web.cern.ch/api/records/ycyz2-et492/files-archive\",\n",
      "                    \"archive_media\": \"https://inveniordm.web.cern.ch/api/records/ycyz2-et492/media-files-archive\",\n",
      "                    \"latest\": \"https://inveniordm.web.cern.ch/api/records/ycyz2-et492/versions/latest\",\n",
      "                    \"latest_html\": \"https://inveniordm.web.cern.ch/records/ycyz2-et492/latest\",\n",
      "                    \"draft\": \"https://inveniordm.web.cern.ch/api/records/ycyz2-et492/draft\",\n",
      "                    \"versions\": \"https://inveniordm.web.cern.ch/api/records/ycyz2-et492/versions\",\n",
      "                    \"access_links\": \"https://inveniordm.web.cern.ch/api/records/ycyz2-et492/access/links\",\n",
      "                    \"access_grants\": \"https://inveniordm.web.cern.ch/api/records/ycyz2-et492/access/grants\",\n",
      "                    \"access_users\": \"https://inveniordm.web.cern.ch/api/records/ycyz2-et492/access/users\",\n",
      "                    \"access_groups\": \"https://inveniordm.web.cern.ch/api/records/ycyz2-et492/access/groups\",\n",
      "                    \"access_request\": \"https://inveniordm.web.cern.ch/api/records/ycyz2-et492/access/request\",\n",
      "                    \"access\": \"https://inveniordm.web.cern.ch/api/records/ycyz2-et492/access\",\n",
      "                    \"reserve_doi\": \"https://inveniordm.web.cern.ch/api/records/ycyz2-et492/draft/pids/doi\",\n",
      "                    \"communities\": \"https://inveniordm.web.cern.ch/api/records/ycyz2-et492/communities\",\n",
      "                    \"communities-suggestions\": \"https://inveniordm.web.cern.ch/api/records/ycyz2-et492/communities-suggestions\",\n",
      "                    \"requests\": \"https://inveniordm.web.cern.ch/api/records/ycyz2-et492/requests\"\n",
      "                },\n",
      "                \"revision_id\": 6,\n",
      "                \"parent\": {\n",
      "                    \"id\": \"m67d1-nyt68\",\n",
      "                    \"access\": {\n",
      "                        \"owned_by\": {\n",
      "                            \"user\": \"122\"\n",
      "                        },\n",
      "                        \"settings\": {\n",
      "                            \"allow_user_requests\": false,\n",
      "                            \"allow_guest_requests\": false,\n",
      "                            \"accept_conditions_text\": null,\n",
      "                            \"secret_link_expiration\": 0\n",
      "                        }\n",
      "                    },\n",
      "                    \"communities\": {\n",
      "                        \"ids\": [\n",
      "                            \"fa25b11e-4310-4176-82f9-1f12002a67db\"\n",
      "                        ],\n",
      "                        \"default\": \"fa25b11e-4310-4176-82f9-1f12002a67db\",\n",
      "                        \"entries\": [\n",
      "                            {\n",
      "                                \"id\": \"fa25b11e-4310-4176-82f9-1f12002a67db\",\n",
      "                                \"created\": \"2025-07-02T10:29:53.806431+00:00\",\n",
      "                                \"updated\": \"2025-07-02T10:29:53.952935+00:00\",\n",
      "                                \"links\": {},\n",
      "                                \"revision_id\": 2,\n",
      "                                \"slug\": \"vulticulus_163783\",\n",
      "                                \"metadata\": {\n",
      "                                    \"title\": \"constans\"\n",
      "                                },\n",
      "                                \"access\": {\n",
      "                                    \"visibility\": \"public\",\n",
      "                                    \"members_visibility\": \"public\",\n",
      "                                    \"member_policy\": \"open\",\n",
      "                                    \"record_policy\": \"open\",\n",
      "                                    \"review_policy\": \"closed\"\n",
      "                                },\n",
      "                                \"deletion_status\": {\n",
      "                                    \"is_deleted\": false,\n",
      "                                    \"status\": \"P\"\n",
      "                                },\n",
      "                                \"children\": {\n",
      "                                    \"allow\": false\n",
      "                                }\n",
      "                            }\n",
      "                        ]\n",
      "                    },\n",
      "                    \"pids\": {\n",
      "                        \"doi\": {\n",
      "                            \"identifier\": \"10.81088/m67d1-nyt68\",\n",
      "                            \"provider\": \"datacite\",\n",
      "                            \"client\": \"datacite\"\n",
      "                        }\n",
      "                    }\n",
      "                },\n",
      "                \"versions\": {\n",
      "                    \"is_latest\": true,\n",
      "                    \"index\": 1\n",
      "                },\n",
      "                \"is_published\": true,\n",
      "                \"is_draft\": false,\n",
      "                \"pids\": {\n",
      "                    \"doi\": {\n",
      "                        \"identifier\": \"10.81088/ycyz2-et492\",\n",
      "                        \"provider\": \"datacite\",\n",
      "                        \"client\": \"datacite\"\n",
      "                    }\n",
      "                },\n",
      "                \"metadata\": {\n",
      "                    \"resource_type\": {\n",
      "                        \"id\": \"image\",\n",
      "                        \"title\": {\n",
      "                            \"de\": \"Bild\",\n",
      "                            \"en\": \"Image\",\n",
      "                            \"sv\": \"Bild\"\n",
      "                        }\n",
      "                    },\n",
      "                    \"creators\": [\n",
      "                        {\n",
      "                            \"person_or_org\": {\n",
      "                                \"type\": \"personal\",\n",
      "                                \"name\": \"deinde\",\n",
      "                                \"family_name\": \"deinde\"\n",
      "                            }\n",
      "                        }\n",
      "                    ],\n",
      "                    \"title\": \"Cibus voro cunabula supplanto curia.\",\n",
      "                    \"publisher\": \"CERN\",\n",
      "                    \"publication_date\": \"2025-07-02\",\n",
      "                    \"rights\": [\n",
      "                        {\n",
      "                            \"id\": \"cc-by-4.0\",\n",
      "                            \"title\": {\n",
      "                                \"en\": \"Creative Commons Attribution 4.0 International\"\n",
      "                            },\n",
      "                            \"description\": {\n",
      "                                \"en\": \"The Creative Commons Attribution license allows re-distribution and re-use of a licensed work on the condition that the creator is appropriately credited.\"\n",
      "                            },\n",
      "                            \"icon\": \"cc-by-icon\",\n",
      "                            \"props\": {\n",
      "                                \"url\": \"https://creativecommons.org/licenses/by/4.0/\",\n",
      "                                \"scheme\": \"spdx\"\n",
      "                            }\n",
      "                        }\n",
      "                    ]\n",
      "                },\n",
      "                \"custom_fields\": {},\n",
      "                \"access\": {\n",
      "                    \"record\": \"public\",\n",
      "                    \"files\": \"public\",\n",
      "                    \"embargo\": {\n",
      "                        \"active\": false,\n",
      "                        \"until\": \"2025-07-03\",\n",
      "                        \"reason\": \"Nemo sui sumo vallum.\"\n",
      "                    },\n",
      "                    \"status\": \"open\"\n",
      "                },\n",
      "                \"files\": {\n",
      "                    \"enabled\": true,\n",
      "                    \"order\": [],\n",
      "                    \"count\": 1,\n",
      "                    \"total_bytes\": 9080,\n",
      "                    \"entries\": {\n",
      "                        \"Anon.jpg\": {\n",
      "                            \"id\": \"4a437f0b-b4ed-4da2-9468-9b46df1cf8d5\",\n",
      "                            \"checksum\": \"md5:71a117a38b56abe7e765a6705f146d34\",\n",
      "                            \"ext\": \"jpg\",\n",
      "                            \"size\": 9080,\n",
      "                            \"mimetype\": \"image/jpeg\",\n",
      "                            \"key\": \"Anon.jpg\",\n",
      "                            \"metadata\": {\n",
      "                                \"width\": 360,\n",
      "                                \"height\": 240\n",
      "                            },\n",
      "                            \"access\": {\n",
      "                                \"hidden\": false\n",
      "                            }\n",
      "                        }\n",
      "                    }\n",
      "                },\n",
      "                \"media_files\": {\n",
      "                    \"enabled\": false,\n",
      "                    \"order\": [],\n",
      "                    \"count\": 0,\n",
      "                    \"total_bytes\": 0,\n",
      "                    \"entries\": {}\n",
      "                },\n",
      "                \"status\": \"published\",\n",
      "                \"deletion_status\": {\n",
      "                    \"is_deleted\": false,\n",
      "                    \"status\": \"P\"\n",
      "                },\n",
      "                \"stats\": {\n",
      "                    \"this_version\": {\n",
      "                        \"views\": 0,\n",
      "                        \"unique_views\": 0,\n",
      "                        \"downloads\": 0,\n",
      "                        \"unique_downloads\": 0,\n",
      "                        \"data_volume\": 0.0\n",
      "                    },\n",
      "                    \"all_versions\": {\n",
      "                        \"views\": 0,\n",
      "                        \"unique_views\": 0,\n",
      "                        \"downloads\": 0,\n",
      "                        \"unique_downloads\": 0,\n",
      "                        \"data_volume\": 0.0\n",
      "                    }\n",
      "                }\n",
      "            },\n",
      "            {\n",
      "                \"id\": \"7w1rx-0rr07\",\n",
      "                \"created\": \"2025-07-02T10:30:26.583436+00:00\",\n",
      "                \"updated\": \"2025-07-02T10:30:26.636417+00:00\",\n",
      "                \"links\": {\n",
      "                    \"self\": \"https://inveniordm.web.cern.ch/api/records/7w1rx-0rr07\",\n",
      "                    \"self_html\": \"https://inveniordm.web.cern.ch/records/7w1rx-0rr07\",\n",
      "                    \"self_doi\": \"https://inveniordm.web.cern.ch/doi/10.81088/7w1rx-0rr07\",\n",
      "                    \"doi\": \"https://handle.stage.datacite.org/10.81088/7w1rx-0rr07\",\n",
      "                    \"parent\": \"https://inveniordm.web.cern.ch/api/records/v75np-xwv71\",\n",
      "                    \"parent_html\": \"https://inveniordm.web.cern.ch/records/v75np-xwv71\",\n",
      "                    \"parent_doi\": \"https://inveniordm.web.cern.ch/doi/10.81088/v75np-xwv71\",\n",
      "                    \"self_iiif_manifest\": \"https://inveniordm.web.cern.ch/api/iiif/record:7w1rx-0rr07/manifest\",\n",
      "                    \"self_iiif_sequence\": \"https://inveniordm.web.cern.ch/api/iiif/record:7w1rx-0rr07/sequence/default\",\n",
      "                    \"files\": \"https://inveniordm.web.cern.ch/api/records/7w1rx-0rr07/files\",\n",
      "                    \"media_files\": \"https://inveniordm.web.cern.ch/api/records/7w1rx-0rr07/media-files\",\n",
      "                    \"archive\": \"https://inveniordm.web.cern.ch/api/records/7w1rx-0rr07/files-archive\",\n",
      "                    \"archive_media\": \"https://inveniordm.web.cern.ch/api/records/7w1rx-0rr07/media-files-archive\",\n",
      "                    \"latest\": \"https://inveniordm.web.cern.ch/api/records/7w1rx-0rr07/versions/latest\",\n",
      "                    \"latest_html\": \"https://inveniordm.web.cern.ch/records/7w1rx-0rr07/latest\",\n",
      "                    \"draft\": \"https://inveniordm.web.cern.ch/api/records/7w1rx-0rr07/draft\",\n",
      "                    \"versions\": \"https://inveniordm.web.cern.ch/api/records/7w1rx-0rr07/versions\",\n",
      "                    \"access_links\": \"https://inveniordm.web.cern.ch/api/records/7w1rx-0rr07/access/links\",\n",
      "                    \"access_grants\": \"https://inveniordm.web.cern.ch/api/records/7w1rx-0rr07/access/grants\",\n",
      "                    \"access_users\": \"https://inveniordm.web.cern.ch/api/records/7w1rx-0rr07/access/users\",\n",
      "                    \"access_groups\": \"https://inveniordm.web.cern.ch/api/records/7w1rx-0rr07/access/groups\",\n",
      "                    \"access_request\": \"https://inveniordm.web.cern.ch/api/records/7w1rx-0rr07/access/request\",\n",
      "                    \"access\": \"https://inveniordm.web.cern.ch/api/records/7w1rx-0rr07/access\",\n",
      "                    \"reserve_doi\": \"https://inveniordm.web.cern.ch/api/records/7w1rx-0rr07/draft/pids/doi\",\n",
      "                    \"communities\": \"https://inveniordm.web.cern.ch/api/records/7w1rx-0rr07/communities\",\n",
      "                    \"communities-suggestions\": \"https://inveniordm.web.cern.ch/api/records/7w1rx-0rr07/communities-suggestions\",\n",
      "                    \"requests\": \"https://inveniordm.web.cern.ch/api/records/7w1rx-0rr07/requests\"\n",
      "                },\n",
      "                \"revision_id\": 3,\n",
      "                \"parent\": {\n",
      "                    \"id\": \"v75np-xwv71\",\n",
      "                    \"access\": {\n",
      "                        \"owned_by\": {\n",
      "                            \"user\": \"122\"\n",
      "                        },\n",
      "                        \"settings\": {\n",
      "                            \"allow_user_requests\": false,\n",
      "                            \"allow_guest_requests\": false,\n",
      "                            \"accept_conditions_text\": null,\n",
      "                            \"secret_link_expiration\": 0\n",
      "                        }\n",
      "                    },\n",
      "                    \"communities\": {\n",
      "                        \"ids\": [\n",
      "                            \"fa25b11e-4310-4176-82f9-1f12002a67db\"\n",
      "                        ],\n",
      "                        \"default\": \"fa25b11e-4310-4176-82f9-1f12002a67db\",\n",
      "                        \"entries\": [\n",
      "                            {\n",
      "                                \"id\": \"fa25b11e-4310-4176-82f9-1f12002a67db\",\n",
      "                                \"created\": \"2025-07-02T10:29:53.806431+00:00\",\n",
      "                                \"updated\": \"2025-07-02T10:29:53.952935+00:00\",\n",
      "                                \"links\": {},\n",
      "                                \"revision_id\": 2,\n",
      "                                \"slug\": \"vulticulus_163783\",\n",
      "                                \"metadata\": {\n",
      "                                    \"title\": \"constans\"\n",
      "                                },\n",
      "                                \"access\": {\n",
      "                                    \"visibility\": \"public\",\n",
      "                                    \"members_visibility\": \"public\",\n",
      "                                    \"member_policy\": \"open\",\n",
      "                                    \"record_policy\": \"open\",\n",
      "                                    \"review_policy\": \"closed\"\n",
      "                                },\n",
      "                                \"deletion_status\": {\n",
      "                                    \"is_deleted\": false,\n",
      "                                    \"status\": \"P\"\n",
      "                                },\n",
      "                                \"children\": {\n",
      "                                    \"allow\": false\n",
      "                                }\n",
      "                            }\n",
      "                        ]\n",
      "                    },\n",
      "                    \"pids\": {\n",
      "                        \"doi\": {\n",
      "                            \"identifier\": \"10.81088/v75np-xwv71\",\n",
      "                            \"provider\": \"datacite\",\n",
      "                            \"client\": \"datacite\"\n",
      "                        }\n",
      "                    }\n",
      "                },\n",
      "                \"versions\": {\n",
      "                    \"is_latest\": true,\n",
      "                    \"index\": 1\n",
      "                },\n",
      "                \"is_published\": true,\n",
      "                \"is_draft\": false,\n",
      "                \"pids\": {\n",
      "                    \"doi\": {\n",
      "                        \"identifier\": \"10.81088/7w1rx-0rr07\",\n",
      "                        \"provider\": \"datacite\",\n",
      "                        \"client\": \"datacite\"\n",
      "                    },\n",
      "                    \"oai\": {\n",
      "                        \"identifier\": \"oai:inveniordm.web.cern.ch:7w1rx-0rr07\",\n",
      "                        \"provider\": \"oai\"\n",
      "                    }\n",
      "                },\n",
      "                \"metadata\": {\n",
      "                    \"resource_type\": {\n",
      "                        \"id\": \"image\",\n",
      "                        \"title\": {\n",
      "                            \"de\": \"Bild\",\n",
      "                            \"en\": \"Image\",\n",
      "                            \"sv\": \"Bild\"\n",
      "                        }\n",
      "                    },\n",
      "                    \"creators\": [\n",
      "                        {\n",
      "                            \"person_or_org\": {\n",
      "                                \"type\": \"personal\",\n",
      "                                \"name\": \"concedo\",\n",
      "                                \"family_name\": \"concedo\"\n",
      "                            }\n",
      "                        }\n",
      "                    ],\n",
      "                    \"title\": \"Antepono vilitas adstringo amiculum debilito.\",\n",
      "                    \"publisher\": \"CERN\",\n",
      "                    \"publication_date\": \"2025-07-02\",\n",
      "                    \"rights\": [\n",
      "                        {\n",
      "                            \"id\": \"cc-by-4.0\",\n",
      "                            \"title\": {\n",
      "                                \"en\": \"Creative Commons Attribution 4.0 International\"\n",
      "                            },\n",
      "                            \"description\": {\n",
      "                                \"en\": \"The Creative Commons Attribution license allows re-distribution and re-use of a licensed work on the condition that the creator is appropriately credited.\"\n",
      "                            },\n",
      "                            \"icon\": \"cc-by-icon\",\n",
      "                            \"props\": {\n",
      "                                \"url\": \"https://creativecommons.org/licenses/by/4.0/\",\n",
      "                                \"scheme\": \"spdx\"\n",
      "                            }\n",
      "                        }\n",
      "                    ]\n",
      "                },\n",
      "                \"custom_fields\": {},\n",
      "                \"access\": {\n",
      "                    \"record\": \"public\",\n",
      "                    \"files\": \"public\",\n",
      "                    \"embargo\": {\n",
      "                        \"active\": false,\n",
      "                        \"reason\": null\n",
      "                    },\n",
      "                    \"status\": \"metadata-only\"\n",
      "                },\n",
      "                \"files\": {\n",
      "                    \"enabled\": false,\n",
      "                    \"order\": [],\n",
      "                    \"count\": 0,\n",
      "                    \"total_bytes\": 0,\n",
      "                    \"entries\": {}\n",
      "                },\n",
      "                \"media_files\": {\n",
      "                    \"enabled\": false,\n",
      "                    \"order\": [],\n",
      "                    \"count\": 0,\n",
      "                    \"total_bytes\": 0,\n",
      "                    \"entries\": {}\n",
      "                },\n",
      "                \"status\": \"published\",\n",
      "                \"deletion_status\": {\n",
      "                    \"is_deleted\": false,\n",
      "                    \"status\": \"P\"\n",
      "                },\n",
      "                \"stats\": {\n",
      "                    \"this_version\": {\n",
      "                        \"views\": 0,\n",
      "                        \"unique_views\": 0,\n",
      "                        \"downloads\": 0,\n",
      "                        \"unique_downloads\": 0,\n",
      "                        \"data_volume\": 0.0\n",
      "                    },\n",
      "                    \"all_versions\": {\n",
      "                        \"views\": 0,\n",
      "                        \"unique_views\": 0,\n",
      "                        \"downloads\": 0,\n",
      "                        \"unique_downloads\": 0,\n",
      "                        \"data_volume\": 0.0\n",
      "                    }\n",
      "                }\n",
      "            },\n",
      "            {\n",
      "                \"id\": \"bzn1v-hq980\",\n",
      "                \"created\": \"2025-07-02T10:30:12.381188+00:00\",\n",
      "                \"updated\": \"2025-07-02T10:30:12.465816+00:00\",\n",
      "                \"links\": {\n",
      "                    \"self\": \"https://inveniordm.web.cern.ch/api/records/bzn1v-hq980\",\n",
      "                    \"self_html\": \"https://inveniordm.web.cern.ch/records/bzn1v-hq980\",\n",
      "                    \"self_doi\": \"https://inveniordm.web.cern.ch/doi/10.81088/bzn1v-hq980\",\n",
      "                    \"doi\": \"https://handle.stage.datacite.org/10.81088/bzn1v-hq980\",\n",
      "                    \"parent\": \"https://inveniordm.web.cern.ch/api/records/8m8ba-7fd39\",\n",
      "                    \"parent_html\": \"https://inveniordm.web.cern.ch/records/8m8ba-7fd39\",\n",
      "                    \"parent_doi\": \"https://inveniordm.web.cern.ch/doi/10.81088/8m8ba-7fd39\",\n",
      "                    \"self_iiif_manifest\": \"https://inveniordm.web.cern.ch/api/iiif/record:bzn1v-hq980/manifest\",\n",
      "                    \"self_iiif_sequence\": \"https://inveniordm.web.cern.ch/api/iiif/record:bzn1v-hq980/sequence/default\",\n",
      "                    \"files\": \"https://inveniordm.web.cern.ch/api/records/bzn1v-hq980/files\",\n",
      "                    \"media_files\": \"https://inveniordm.web.cern.ch/api/records/bzn1v-hq980/media-files\",\n",
      "                    \"archive\": \"https://inveniordm.web.cern.ch/api/records/bzn1v-hq980/files-archive\",\n",
      "                    \"archive_media\": \"https://inveniordm.web.cern.ch/api/records/bzn1v-hq980/media-files-archive\",\n",
      "                    \"latest\": \"https://inveniordm.web.cern.ch/api/records/bzn1v-hq980/versions/latest\",\n",
      "                    \"latest_html\": \"https://inveniordm.web.cern.ch/records/bzn1v-hq980/latest\",\n",
      "                    \"draft\": \"https://inveniordm.web.cern.ch/api/records/bzn1v-hq980/draft\",\n",
      "                    \"versions\": \"https://inveniordm.web.cern.ch/api/records/bzn1v-hq980/versions\",\n",
      "                    \"access_links\": \"https://inveniordm.web.cern.ch/api/records/bzn1v-hq980/access/links\",\n",
      "                    \"access_grants\": \"https://inveniordm.web.cern.ch/api/records/bzn1v-hq980/access/grants\",\n",
      "                    \"access_users\": \"https://inveniordm.web.cern.ch/api/records/bzn1v-hq980/access/users\",\n",
      "                    \"access_groups\": \"https://inveniordm.web.cern.ch/api/records/bzn1v-hq980/access/groups\",\n",
      "                    \"access_request\": \"https://inveniordm.web.cern.ch/api/records/bzn1v-hq980/access/request\",\n",
      "                    \"access\": \"https://inveniordm.web.cern.ch/api/records/bzn1v-hq980/access\",\n",
      "                    \"reserve_doi\": \"https://inveniordm.web.cern.ch/api/records/bzn1v-hq980/draft/pids/doi\",\n",
      "                    \"communities\": \"https://inveniordm.web.cern.ch/api/records/bzn1v-hq980/communities\",\n",
      "                    \"communities-suggestions\": \"https://inveniordm.web.cern.ch/api/records/bzn1v-hq980/communities-suggestions\",\n",
      "                    \"requests\": \"https://inveniordm.web.cern.ch/api/records/bzn1v-hq980/requests\"\n",
      "                },\n",
      "                \"revision_id\": 4,\n",
      "                \"parent\": {\n",
      "                    \"id\": \"8m8ba-7fd39\",\n",
      "                    \"access\": {\n",
      "                        \"owned_by\": {\n",
      "                            \"user\": \"122\"\n",
      "                        },\n",
      "                        \"settings\": {\n",
      "                            \"allow_user_requests\": false,\n",
      "                            \"allow_guest_requests\": false,\n",
      "                            \"accept_conditions_text\": null,\n",
      "                            \"secret_link_expiration\": 0\n",
      "                        }\n",
      "                    },\n",
      "                    \"communities\": {\n",
      "                        \"ids\": [\n",
      "                            \"fa25b11e-4310-4176-82f9-1f12002a67db\"\n",
      "                        ],\n",
      "                        \"default\": \"fa25b11e-4310-4176-82f9-1f12002a67db\",\n",
      "                        \"entries\": [\n",
      "                            {\n",
      "                                \"id\": \"fa25b11e-4310-4176-82f9-1f12002a67db\",\n",
      "                                \"created\": \"2025-07-02T10:29:53.806431+00:00\",\n",
      "                                \"updated\": \"2025-07-02T10:29:53.952935+00:00\",\n",
      "                                \"links\": {},\n",
      "                                \"revision_id\": 2,\n",
      "                                \"slug\": \"vulticulus_163783\",\n",
      "                                \"metadata\": {\n",
      "                                    \"title\": \"constans\"\n",
      "                                },\n",
      "                                \"access\": {\n",
      "                                    \"visibility\": \"public\",\n",
      "                                    \"members_visibility\": \"public\",\n",
      "                                    \"member_policy\": \"open\",\n",
      "                                    \"record_policy\": \"open\",\n",
      "                                    \"review_policy\": \"closed\"\n",
      "                                },\n",
      "                                \"deletion_status\": {\n",
      "                                    \"is_deleted\": false,\n",
      "                                    \"status\": \"P\"\n",
      "                                },\n",
      "                                \"children\": {\n",
      "                                    \"allow\": false\n",
      "                                }\n",
      "                            }\n",
      "                        ]\n",
      "                    },\n",
      "                    \"pids\": {\n",
      "                        \"doi\": {\n",
      "                            \"identifier\": \"10.81088/8m8ba-7fd39\",\n",
      "                            \"provider\": \"datacite\",\n",
      "                            \"client\": \"datacite\"\n",
      "                        }\n",
      "                    }\n",
      "                },\n",
      "                \"versions\": {\n",
      "                    \"is_latest\": true,\n",
      "                    \"index\": 1\n",
      "                },\n",
      "                \"is_published\": true,\n",
      "                \"is_draft\": false,\n",
      "                \"pids\": {\n",
      "                    \"doi\": {\n",
      "                        \"identifier\": \"10.81088/bzn1v-hq980\",\n",
      "                        \"provider\": \"datacite\",\n",
      "                        \"client\": \"datacite\"\n",
      "                    },\n",
      "                    \"oai\": {\n",
      "                        \"identifier\": \"oai:inveniordm.web.cern.ch:bzn1v-hq980\",\n",
      "                        \"provider\": \"oai\"\n",
      "                    }\n",
      "                },\n",
      "                \"metadata\": {\n",
      "                    \"resource_type\": {\n",
      "                        \"id\": \"image\",\n",
      "                        \"title\": {\n",
      "                            \"de\": \"Bild\",\n",
      "                            \"en\": \"Image\",\n",
      "                            \"sv\": \"Bild\"\n",
      "                        }\n",
      "                    },\n",
      "                    \"creators\": [\n",
      "                        {\n",
      "                            \"person_or_org\": {\n",
      "                                \"type\": \"personal\",\n",
      "                                \"name\": \"caste\",\n",
      "                                \"family_name\": \"caste\"\n",
      "                            }\n",
      "                        }\n",
      "                    ],\n",
      "                    \"title\": \"Depraedor curis cuppedia abbas deleniti ullam.\",\n",
      "                    \"publisher\": \"CERN\",\n",
      "                    \"publication_date\": \"2025-07-02\",\n",
      "                    \"rights\": [\n",
      "                        {\n",
      "                            \"id\": \"cc-by-4.0\",\n",
      "                            \"title\": {\n",
      "                                \"en\": \"Creative Commons Attribution 4.0 International\"\n",
      "                            },\n",
      "                            \"description\": {\n",
      "                                \"en\": \"The Creative Commons Attribution license allows re-distribution and re-use of a licensed work on the condition that the creator is appropriately credited.\"\n",
      "                            },\n",
      "                            \"icon\": \"cc-by-icon\",\n",
      "                            \"props\": {\n",
      "                                \"url\": \"https://creativecommons.org/licenses/by/4.0/\",\n",
      "                                \"scheme\": \"spdx\"\n",
      "                            }\n",
      "                        }\n",
      "                    ]\n",
      "                },\n",
      "                \"custom_fields\": {},\n",
      "                \"access\": {\n",
      "                    \"record\": \"public\",\n",
      "                    \"files\": \"public\",\n",
      "                    \"embargo\": {\n",
      "                        \"active\": false,\n",
      "                        \"reason\": null\n",
      "                    },\n",
      "                    \"status\": \"open\"\n",
      "                },\n",
      "                \"files\": {\n",
      "                    \"enabled\": true,\n",
      "                    \"order\": [],\n",
      "                    \"count\": 1,\n",
      "                    \"total_bytes\": 18465,\n",
      "                    \"entries\": {\n",
      "                        \"Anon5.jpg\": {\n",
      "                            \"id\": \"4059549a-d245-4ab2-b1b0-f0d17507fff7\",\n",
      "                            \"checksum\": \"md5:2bf1bb14f205b6dde6de8553e0270a57\",\n",
      "                            \"ext\": \"jpg\",\n",
      "                            \"size\": 18465,\n",
      "                            \"mimetype\": \"image/jpeg\",\n",
      "                            \"key\": \"Anon5.jpg\",\n",
      "                            \"metadata\": {\n",
      "                                \"width\": 429,\n",
      "                                \"height\": 240\n",
      "                            },\n",
      "                            \"access\": {\n",
      "                                \"hidden\": false\n",
      "                            }\n",
      "                        }\n",
      "                    }\n",
      "                },\n",
      "                \"media_files\": {\n",
      "                    \"enabled\": false,\n",
      "                    \"order\": [],\n",
      "                    \"count\": 0,\n",
      "                    \"total_bytes\": 0,\n",
      "                    \"entries\": {}\n",
      "                },\n",
      "                \"status\": \"published\",\n",
      "                \"deletion_status\": {\n",
      "                    \"is_deleted\": false,\n",
      "                    \"status\": \"P\"\n",
      "                },\n",
      "                \"stats\": {\n",
      "                    \"this_version\": {\n",
      "                        \"views\": 0,\n",
      "                        \"unique_views\": 0,\n",
      "                        \"downloads\": 0,\n",
      "                        \"unique_downloads\": 0,\n",
      "                        \"data_volume\": 0.0\n",
      "                    },\n",
      "                    \"all_versions\": {\n",
      "                        \"views\": 0,\n",
      "                        \"unique_views\": 0,\n",
      "                        \"downloads\": 0,\n",
      "                        \"unique_downloads\": 0,\n",
      "                        \"data_volume\": 0.0\n",
      "                    }\n",
      "                }\n",
      "            },\n",
      "            {\n",
      "                \"id\": \"d774v-xfs93\",\n",
      "                \"created\": \"2025-07-02T10:29:18.937189+00:00\",\n",
      "                \"updated\": \"2025-07-02T10:29:19.013279+00:00\",\n",
      "                \"links\": {\n",
      "                    \"self\": \"https://inveniordm.web.cern.ch/api/records/d774v-xfs93\",\n",
      "                    \"self_html\": \"https://inveniordm.web.cern.ch/records/d774v-xfs93\",\n",
      "                    \"self_doi\": \"https://inveniordm.web.cern.ch/doi/10.81088/d774v-xfs93\",\n",
      "                    \"doi\": \"https://handle.stage.datacite.org/10.81088/d774v-xfs93\",\n",
      "                    \"parent\": \"https://inveniordm.web.cern.ch/api/records/b0pqj-vgq22\",\n",
      "                    \"parent_html\": \"https://inveniordm.web.cern.ch/records/b0pqj-vgq22\",\n",
      "                    \"parent_doi\": \"https://inveniordm.web.cern.ch/doi/10.81088/b0pqj-vgq22\",\n",
      "                    \"self_iiif_manifest\": \"https://inveniordm.web.cern.ch/api/iiif/record:d774v-xfs93/manifest\",\n",
      "                    \"self_iiif_sequence\": \"https://inveniordm.web.cern.ch/api/iiif/record:d774v-xfs93/sequence/default\",\n",
      "                    \"files\": \"https://inveniordm.web.cern.ch/api/records/d774v-xfs93/files\",\n",
      "                    \"media_files\": \"https://inveniordm.web.cern.ch/api/records/d774v-xfs93/media-files\",\n",
      "                    \"archive\": \"https://inveniordm.web.cern.ch/api/records/d774v-xfs93/files-archive\",\n",
      "                    \"archive_media\": \"https://inveniordm.web.cern.ch/api/records/d774v-xfs93/media-files-archive\",\n",
      "                    \"latest\": \"https://inveniordm.web.cern.ch/api/records/d774v-xfs93/versions/latest\",\n",
      "                    \"latest_html\": \"https://inveniordm.web.cern.ch/records/d774v-xfs93/latest\",\n",
      "                    \"draft\": \"https://inveniordm.web.cern.ch/api/records/d774v-xfs93/draft\",\n",
      "                    \"versions\": \"https://inveniordm.web.cern.ch/api/records/d774v-xfs93/versions\",\n",
      "                    \"access_links\": \"https://inveniordm.web.cern.ch/api/records/d774v-xfs93/access/links\",\n",
      "                    \"access_grants\": \"https://inveniordm.web.cern.ch/api/records/d774v-xfs93/access/grants\",\n",
      "                    \"access_users\": \"https://inveniordm.web.cern.ch/api/records/d774v-xfs93/access/users\",\n",
      "                    \"access_groups\": \"https://inveniordm.web.cern.ch/api/records/d774v-xfs93/access/groups\",\n",
      "                    \"access_request\": \"https://inveniordm.web.cern.ch/api/records/d774v-xfs93/access/request\",\n",
      "                    \"access\": \"https://inveniordm.web.cern.ch/api/records/d774v-xfs93/access\",\n",
      "                    \"reserve_doi\": \"https://inveniordm.web.cern.ch/api/records/d774v-xfs93/draft/pids/doi\",\n",
      "                    \"communities\": \"https://inveniordm.web.cern.ch/api/records/d774v-xfs93/communities\",\n",
      "                    \"communities-suggestions\": \"https://inveniordm.web.cern.ch/api/records/d774v-xfs93/communities-suggestions\",\n",
      "                    \"requests\": \"https://inveniordm.web.cern.ch/api/records/d774v-xfs93/requests\"\n",
      "                },\n",
      "                \"revision_id\": 4,\n",
      "                \"parent\": {\n",
      "                    \"id\": \"b0pqj-vgq22\",\n",
      "                    \"access\": {\n",
      "                        \"owned_by\": {\n",
      "                            \"user\": \"122\"\n",
      "                        },\n",
      "                        \"settings\": {\n",
      "                            \"allow_user_requests\": false,\n",
      "                            \"allow_guest_requests\": false,\n",
      "                            \"accept_conditions_text\": null,\n",
      "                            \"secret_link_expiration\": 0\n",
      "                        }\n",
      "                    },\n",
      "                    \"communities\": {\n",
      "                        \"ids\": [\n",
      "                            \"d26d0ec2-c52a-41cd-b163-3eaef936f5cc\"\n",
      "                        ],\n",
      "                        \"default\": \"d26d0ec2-c52a-41cd-b163-3eaef936f5cc\",\n",
      "                        \"entries\": [\n",
      "                            {\n",
      "                                \"id\": \"d26d0ec2-c52a-41cd-b163-3eaef936f5cc\",\n",
      "                                \"created\": \"2025-07-02T10:29:01.675509+00:00\",\n",
      "                                \"updated\": \"2025-07-02T10:29:01.782152+00:00\",\n",
      "                                \"links\": {},\n",
      "                                \"revision_id\": 2,\n",
      "                                \"slug\": \"repellat_803843\",\n",
      "                                \"metadata\": {\n",
      "                                    \"title\": \"ex\"\n",
      "                                },\n",
      "                                \"access\": {\n",
      "                                    \"visibility\": \"public\",\n",
      "                                    \"members_visibility\": \"public\",\n",
      "                                    \"member_policy\": \"open\",\n",
      "                                    \"record_policy\": \"open\",\n",
      "                                    \"review_policy\": \"closed\"\n",
      "                                },\n",
      "                                \"deletion_status\": {\n",
      "                                    \"is_deleted\": false,\n",
      "                                    \"status\": \"P\"\n",
      "                                },\n",
      "                                \"children\": {\n",
      "                                    \"allow\": false\n",
      "                                }\n",
      "                            }\n",
      "                        ]\n",
      "                    },\n",
      "                    \"pids\": {\n",
      "                        \"doi\": {\n",
      "                            \"identifier\": \"10.81088/b0pqj-vgq22\",\n",
      "                            \"provider\": \"datacite\",\n",
      "                            \"client\": \"datacite\"\n",
      "                        }\n",
      "                    }\n",
      "                },\n",
      "                \"versions\": {\n",
      "                    \"is_latest\": true,\n",
      "                    \"index\": 1\n",
      "                },\n",
      "                \"is_published\": true,\n",
      "                \"is_draft\": false,\n",
      "                \"pids\": {\n",
      "                    \"doi\": {\n",
      "                        \"identifier\": \"10.81088/d774v-xfs93\",\n",
      "                        \"provider\": \"datacite\",\n",
      "                        \"client\": \"datacite\"\n",
      "                    },\n",
      "                    \"oai\": {\n",
      "                        \"identifier\": \"oai:inveniordm.web.cern.ch:d774v-xfs93\",\n",
      "                        \"provider\": \"oai\"\n",
      "                    }\n",
      "                },\n",
      "                \"metadata\": {\n",
      "                    \"resource_type\": {\n",
      "                        \"id\": \"poster\",\n",
      "                        \"title\": {\n",
      "                            \"de\": \"Poster\",\n",
      "                            \"en\": \"Poster\",\n",
      "                            \"sv\": \"Poster\"\n",
      "                        }\n",
      "                    },\n",
      "                    \"creators\": [\n",
      "                        {\n",
      "                            \"person_or_org\": {\n",
      "                                \"type\": \"personal\",\n",
      "                                \"name\": \"vilitas\",\n",
      "                                \"family_name\": \"vilitas\"\n",
      "                            }\n",
      "                        }\n",
      "                    ],\n",
      "                    \"title\": \"Tumultus tersus alter carmen alii tempore verecundia coadunatio dolores culpa.\",\n",
      "                    \"publisher\": \"CERN\",\n",
      "                    \"publication_date\": \"2025-07-02\",\n",
      "                    \"rights\": [\n",
      "                        {\n",
      "                            \"id\": \"cc-by-4.0\",\n",
      "                            \"title\": {\n",
      "                                \"en\": \"Creative Commons Attribution 4.0 International\"\n",
      "                            },\n",
      "                            \"description\": {\n",
      "                                \"en\": \"The Creative Commons Attribution license allows re-distribution and re-use of a licensed work on the condition that the creator is appropriately credited.\"\n",
      "                            },\n",
      "                            \"icon\": \"cc-by-icon\",\n",
      "                            \"props\": {\n",
      "                                \"url\": \"https://creativecommons.org/licenses/by/4.0/\",\n",
      "                                \"scheme\": \"spdx\"\n",
      "                            }\n",
      "                        }\n",
      "                    ]\n",
      "                },\n",
      "                \"custom_fields\": {},\n",
      "                \"access\": {\n",
      "                    \"record\": \"public\",\n",
      "                    \"files\": \"public\",\n",
      "                    \"embargo\": {\n",
      "                        \"active\": false,\n",
      "                        \"reason\": null\n",
      "                    },\n",
      "                    \"status\": \"open\"\n",
      "                },\n",
      "                \"files\": {\n",
      "                    \"enabled\": true,\n",
      "                    \"order\": [],\n",
      "                    \"count\": 1,\n",
      "                    \"total_bytes\": 105042,\n",
      "                    \"entries\": {\n",
      "                        \"Anon6.jpg\": {\n",
      "                            \"id\": \"a6dcdff0-025c-4cae-a44a-747c11e9f1d6\",\n",
      "                            \"checksum\": \"md5:7e41b92644f0a69caf5ad13b780a141c\",\n",
      "                            \"ext\": \"jpg\",\n",
      "                            \"size\": 105042,\n",
      "                            \"mimetype\": \"image/jpeg\",\n",
      "                            \"key\": \"Anon6.jpg\",\n",
      "                            \"metadata\": {\n",
      "                                \"width\": 427,\n",
      "                                \"height\": 240\n",
      "                            },\n",
      "                            \"access\": {\n",
      "                                \"hidden\": false\n",
      "                            }\n",
      "                        }\n",
      "                    }\n",
      "                },\n",
      "                \"media_files\": {\n",
      "                    \"enabled\": false,\n",
      "                    \"order\": [],\n",
      "                    \"count\": 0,\n",
      "                    \"total_bytes\": 0,\n",
      "                    \"entries\": {}\n",
      "                },\n",
      "                \"status\": \"published\",\n",
      "                \"deletion_status\": {\n",
      "                    \"is_deleted\": false,\n",
      "                    \"status\": \"P\"\n",
      "                },\n",
      "                \"stats\": {\n",
      "                    \"this_version\": {\n",
      "                        \"views\": 0,\n",
      "                        \"unique_views\": 0,\n",
      "                        \"downloads\": 0,\n",
      "                        \"unique_downloads\": 0,\n",
      "                        \"data_volume\": 0.0\n",
      "                    },\n",
      "                    \"all_versions\": {\n",
      "                        \"views\": 0,\n",
      "                        \"unique_views\": 0,\n",
      "                        \"downloads\": 0,\n",
      "                        \"unique_downloads\": 0,\n",
      "                        \"data_volume\": 0.0\n",
      "                    }\n",
      "                }\n",
      "            },\n",
      "            {\n",
      "                \"id\": \"pyfyd-vdv66\",\n",
      "                \"created\": \"2025-07-02T10:28:39.105032+00:00\",\n",
      "                \"updated\": \"2025-07-02T10:28:39.187217+00:00\",\n",
      "                \"links\": {\n",
      "                    \"self\": \"https://inveniordm.web.cern.ch/api/records/pyfyd-vdv66\",\n",
      "                    \"self_html\": \"https://inveniordm.web.cern.ch/records/pyfyd-vdv66\",\n",
      "                    \"self_doi\": \"https://inveniordm.web.cern.ch/doi/10.81088/pyfyd-vdv66\",\n",
      "                    \"doi\": \"https://handle.stage.datacite.org/10.81088/pyfyd-vdv66\",\n",
      "                    \"parent\": \"https://inveniordm.web.cern.ch/api/records/40dbd-r9134\",\n",
      "                    \"parent_html\": \"https://inveniordm.web.cern.ch/records/40dbd-r9134\",\n",
      "                    \"parent_doi\": \"https://inveniordm.web.cern.ch/doi/10.81088/40dbd-r9134\",\n",
      "                    \"self_iiif_manifest\": \"https://inveniordm.web.cern.ch/api/iiif/record:pyfyd-vdv66/manifest\",\n",
      "                    \"self_iiif_sequence\": \"https://inveniordm.web.cern.ch/api/iiif/record:pyfyd-vdv66/sequence/default\",\n",
      "                    \"files\": \"https://inveniordm.web.cern.ch/api/records/pyfyd-vdv66/files\",\n",
      "                    \"media_files\": \"https://inveniordm.web.cern.ch/api/records/pyfyd-vdv66/media-files\",\n",
      "                    \"archive\": \"https://inveniordm.web.cern.ch/api/records/pyfyd-vdv66/files-archive\",\n",
      "                    \"archive_media\": \"https://inveniordm.web.cern.ch/api/records/pyfyd-vdv66/media-files-archive\",\n",
      "                    \"latest\": \"https://inveniordm.web.cern.ch/api/records/pyfyd-vdv66/versions/latest\",\n",
      "                    \"latest_html\": \"https://inveniordm.web.cern.ch/records/pyfyd-vdv66/latest\",\n",
      "                    \"draft\": \"https://inveniordm.web.cern.ch/api/records/pyfyd-vdv66/draft\",\n",
      "                    \"versions\": \"https://inveniordm.web.cern.ch/api/records/pyfyd-vdv66/versions\",\n",
      "                    \"access_links\": \"https://inveniordm.web.cern.ch/api/records/pyfyd-vdv66/access/links\",\n",
      "                    \"access_grants\": \"https://inveniordm.web.cern.ch/api/records/pyfyd-vdv66/access/grants\",\n",
      "                    \"access_users\": \"https://inveniordm.web.cern.ch/api/records/pyfyd-vdv66/access/users\",\n",
      "                    \"access_groups\": \"https://inveniordm.web.cern.ch/api/records/pyfyd-vdv66/access/groups\",\n",
      "                    \"access_request\": \"https://inveniordm.web.cern.ch/api/records/pyfyd-vdv66/access/request\",\n",
      "                    \"access\": \"https://inveniordm.web.cern.ch/api/records/pyfyd-vdv66/access\",\n",
      "                    \"reserve_doi\": \"https://inveniordm.web.cern.ch/api/records/pyfyd-vdv66/draft/pids/doi\",\n",
      "                    \"communities\": \"https://inveniordm.web.cern.ch/api/records/pyfyd-vdv66/communities\",\n",
      "                    \"communities-suggestions\": \"https://inveniordm.web.cern.ch/api/records/pyfyd-vdv66/communities-suggestions\",\n",
      "                    \"requests\": \"https://inveniordm.web.cern.ch/api/records/pyfyd-vdv66/requests\"\n",
      "                },\n",
      "                \"revision_id\": 4,\n",
      "                \"parent\": {\n",
      "                    \"id\": \"40dbd-r9134\",\n",
      "                    \"access\": {\n",
      "                        \"owned_by\": {\n",
      "                            \"user\": \"122\"\n",
      "                        },\n",
      "                        \"settings\": {\n",
      "                            \"allow_user_requests\": false,\n",
      "                            \"allow_guest_requests\": false,\n",
      "                            \"accept_conditions_text\": null,\n",
      "                            \"secret_link_expiration\": 0\n",
      "                        }\n",
      "                    },\n",
      "                    \"communities\": {\n",
      "                        \"ids\": [\n",
      "                            \"60cc06bf-9114-42c7-a04f-639fbf36f65f\"\n",
      "                        ],\n",
      "                        \"default\": \"60cc06bf-9114-42c7-a04f-639fbf36f65f\",\n",
      "                        \"entries\": [\n",
      "                            {\n",
      "                                \"id\": \"60cc06bf-9114-42c7-a04f-639fbf36f65f\",\n",
      "                                \"created\": \"2025-07-02T10:28:21.114465+00:00\",\n",
      "                                \"updated\": \"2025-07-02T10:28:21.230657+00:00\",\n",
      "                                \"links\": {},\n",
      "                                \"revision_id\": 2,\n",
      "                                \"slug\": \"vulgo_235080\",\n",
      "                                \"metadata\": {\n",
      "                                    \"title\": \"strues\"\n",
      "                                },\n",
      "                                \"access\": {\n",
      "                                    \"visibility\": \"public\",\n",
      "                                    \"members_visibility\": \"public\",\n",
      "                                    \"member_policy\": \"open\",\n",
      "                                    \"record_policy\": \"open\",\n",
      "                                    \"review_policy\": \"closed\"\n",
      "                                },\n",
      "                                \"deletion_status\": {\n",
      "                                    \"is_deleted\": false,\n",
      "                                    \"status\": \"P\"\n",
      "                                },\n",
      "                                \"children\": {\n",
      "                                    \"allow\": false\n",
      "                                }\n",
      "                            }\n",
      "                        ]\n",
      "                    },\n",
      "                    \"pids\": {\n",
      "                        \"doi\": {\n",
      "                            \"identifier\": \"10.81088/40dbd-r9134\",\n",
      "                            \"provider\": \"datacite\",\n",
      "                            \"client\": \"datacite\"\n",
      "                        }\n",
      "                    }\n",
      "                },\n",
      "                \"versions\": {\n",
      "                    \"is_latest\": true,\n",
      "                    \"index\": 1\n",
      "                },\n",
      "                \"is_published\": true,\n",
      "                \"is_draft\": false,\n",
      "                \"pids\": {\n",
      "                    \"doi\": {\n",
      "                        \"identifier\": \"10.81088/pyfyd-vdv66\",\n",
      "                        \"provider\": \"datacite\",\n",
      "                        \"client\": \"datacite\"\n",
      "                    },\n",
      "                    \"oai\": {\n",
      "                        \"identifier\": \"oai:inveniordm.web.cern.ch:pyfyd-vdv66\",\n",
      "                        \"provider\": \"oai\"\n",
      "                    }\n",
      "                },\n",
      "                \"metadata\": {\n",
      "                    \"resource_type\": {\n",
      "                        \"id\": \"poster\",\n",
      "                        \"title\": {\n",
      "                            \"de\": \"Poster\",\n",
      "                            \"en\": \"Poster\",\n",
      "                            \"sv\": \"Poster\"\n",
      "                        }\n",
      "                    },\n",
      "                    \"creators\": [\n",
      "                        {\n",
      "                            \"person_or_org\": {\n",
      "                                \"type\": \"personal\",\n",
      "                                \"name\": \"arca\",\n",
      "                                \"family_name\": \"arca\"\n",
      "                            }\n",
      "                        }\n",
      "                    ],\n",
      "                    \"title\": \"Spoliatio tersus exercitationem aeneus conitor claro repudiandae correptius cohaero.\",\n",
      "                    \"publisher\": \"CERN\",\n",
      "                    \"publication_date\": \"2025-07-02\",\n",
      "                    \"rights\": [\n",
      "                        {\n",
      "                            \"id\": \"cc-by-4.0\",\n",
      "                            \"title\": {\n",
      "                                \"en\": \"Creative Commons Attribution 4.0 International\"\n",
      "                            },\n",
      "                            \"description\": {\n",
      "                                \"en\": \"The Creative Commons Attribution license allows re-distribution and re-use of a licensed work on the condition that the creator is appropriately credited.\"\n",
      "                            },\n",
      "                            \"icon\": \"cc-by-icon\",\n",
      "                            \"props\": {\n",
      "                                \"url\": \"https://creativecommons.org/licenses/by/4.0/\",\n",
      "                                \"scheme\": \"spdx\"\n",
      "                            }\n",
      "                        }\n",
      "                    ]\n",
      "                },\n",
      "                \"custom_fields\": {},\n",
      "                \"access\": {\n",
      "                    \"record\": \"public\",\n",
      "                    \"files\": \"public\",\n",
      "                    \"embargo\": {\n",
      "                        \"active\": false,\n",
      "                        \"reason\": null\n",
      "                    },\n",
      "                    \"status\": \"open\"\n",
      "                },\n",
      "                \"files\": {\n",
      "                    \"enabled\": true,\n",
      "                    \"order\": [],\n",
      "                    \"count\": 1,\n",
      "                    \"total_bytes\": 9080,\n",
      "                    \"entries\": {\n",
      "                        \"Anon.jpg\": {\n",
      "                            \"id\": \"62959117-0024-46d0-a476-1263cef019fe\",\n",
      "                            \"checksum\": \"md5:71a117a38b56abe7e765a6705f146d34\",\n",
      "                            \"ext\": \"jpg\",\n",
      "                            \"size\": 9080,\n",
      "                            \"mimetype\": \"image/jpeg\",\n",
      "                            \"key\": \"Anon.jpg\",\n",
      "                            \"metadata\": {\n",
      "                                \"width\": 360,\n",
      "                                \"height\": 240\n",
      "                            },\n",
      "                            \"access\": {\n",
      "                                \"hidden\": false\n",
      "                            }\n",
      "                        }\n",
      "                    }\n",
      "                },\n",
      "                \"media_files\": {\n",
      "                    \"enabled\": false,\n",
      "                    \"order\": [],\n",
      "                    \"count\": 0,\n",
      "                    \"total_bytes\": 0,\n",
      "                    \"entries\": {}\n",
      "                },\n",
      "                \"status\": \"published\",\n",
      "                \"deletion_status\": {\n",
      "                    \"is_deleted\": false,\n",
      "                    \"status\": \"P\"\n",
      "                },\n",
      "                \"stats\": {\n",
      "                    \"this_version\": {\n",
      "                        \"views\": 0,\n",
      "                        \"unique_views\": 0,\n",
      "                        \"downloads\": 0,\n",
      "                        \"unique_downloads\": 0,\n",
      "                        \"data_volume\": 0.0\n",
      "                    },\n",
      "                    \"all_versions\": {\n",
      "                        \"views\": 0,\n",
      "                        \"unique_views\": 0,\n",
      "                        \"downloads\": 0,\n",
      "                        \"unique_downloads\": 0,\n",
      "                        \"data_volume\": 0.0\n",
      "                    }\n",
      "                }\n",
      "            },\n",
      "            {\n",
      "                \"id\": \"mwgxm-4t637\",\n",
      "                \"created\": \"2025-07-02T10:28:00.700171+00:00\",\n",
      "                \"updated\": \"2025-07-02T10:28:00.779538+00:00\",\n",
      "                \"links\": {\n",
      "                    \"self\": \"https://inveniordm.web.cern.ch/api/records/mwgxm-4t637\",\n",
      "                    \"self_html\": \"https://inveniordm.web.cern.ch/records/mwgxm-4t637\",\n",
      "                    \"self_doi\": \"https://inveniordm.web.cern.ch/doi/10.81088/mwgxm-4t637\",\n",
      "                    \"doi\": \"https://handle.stage.datacite.org/10.81088/mwgxm-4t637\",\n",
      "                    \"parent\": \"https://inveniordm.web.cern.ch/api/records/mkrh0-c3h21\",\n",
      "                    \"parent_html\": \"https://inveniordm.web.cern.ch/records/mkrh0-c3h21\",\n",
      "                    \"parent_doi\": \"https://inveniordm.web.cern.ch/doi/10.81088/mkrh0-c3h21\",\n",
      "                    \"self_iiif_manifest\": \"https://inveniordm.web.cern.ch/api/iiif/record:mwgxm-4t637/manifest\",\n",
      "                    \"self_iiif_sequence\": \"https://inveniordm.web.cern.ch/api/iiif/record:mwgxm-4t637/sequence/default\",\n",
      "                    \"files\": \"https://inveniordm.web.cern.ch/api/records/mwgxm-4t637/files\",\n",
      "                    \"media_files\": \"https://inveniordm.web.cern.ch/api/records/mwgxm-4t637/media-files\",\n",
      "                    \"archive\": \"https://inveniordm.web.cern.ch/api/records/mwgxm-4t637/files-archive\",\n",
      "                    \"archive_media\": \"https://inveniordm.web.cern.ch/api/records/mwgxm-4t637/media-files-archive\",\n",
      "                    \"latest\": \"https://inveniordm.web.cern.ch/api/records/mwgxm-4t637/versions/latest\",\n",
      "                    \"latest_html\": \"https://inveniordm.web.cern.ch/records/mwgxm-4t637/latest\",\n",
      "                    \"draft\": \"https://inveniordm.web.cern.ch/api/records/mwgxm-4t637/draft\",\n",
      "                    \"versions\": \"https://inveniordm.web.cern.ch/api/records/mwgxm-4t637/versions\",\n",
      "                    \"access_links\": \"https://inveniordm.web.cern.ch/api/records/mwgxm-4t637/access/links\",\n",
      "                    \"access_grants\": \"https://inveniordm.web.cern.ch/api/records/mwgxm-4t637/access/grants\",\n",
      "                    \"access_users\": \"https://inveniordm.web.cern.ch/api/records/mwgxm-4t637/access/users\",\n",
      "                    \"access_groups\": \"https://inveniordm.web.cern.ch/api/records/mwgxm-4t637/access/groups\",\n",
      "                    \"access_request\": \"https://inveniordm.web.cern.ch/api/records/mwgxm-4t637/access/request\",\n",
      "                    \"access\": \"https://inveniordm.web.cern.ch/api/records/mwgxm-4t637/access\",\n",
      "                    \"reserve_doi\": \"https://inveniordm.web.cern.ch/api/records/mwgxm-4t637/draft/pids/doi\",\n",
      "                    \"communities\": \"https://inveniordm.web.cern.ch/api/records/mwgxm-4t637/communities\",\n",
      "                    \"communities-suggestions\": \"https://inveniordm.web.cern.ch/api/records/mwgxm-4t637/communities-suggestions\",\n",
      "                    \"requests\": \"https://inveniordm.web.cern.ch/api/records/mwgxm-4t637/requests\"\n",
      "                },\n",
      "                \"revision_id\": 4,\n",
      "                \"parent\": {\n",
      "                    \"id\": \"mkrh0-c3h21\",\n",
      "                    \"access\": {\n",
      "                        \"owned_by\": {\n",
      "                            \"user\": \"122\"\n",
      "                        },\n",
      "                        \"settings\": {\n",
      "                            \"allow_user_requests\": false,\n",
      "                            \"allow_guest_requests\": false,\n",
      "                            \"accept_conditions_text\": null,\n",
      "                            \"secret_link_expiration\": 0\n",
      "                        }\n",
      "                    },\n",
      "                    \"communities\": {\n",
      "                        \"ids\": [\n",
      "                            \"0591562a-5064-4d53-8f46-15477c96bcbe\"\n",
      "                        ],\n",
      "                        \"default\": \"0591562a-5064-4d53-8f46-15477c96bcbe\",\n",
      "                        \"entries\": [\n",
      "                            {\n",
      "                                \"id\": \"0591562a-5064-4d53-8f46-15477c96bcbe\",\n",
      "                                \"created\": \"2025-07-02T10:27:43.511503+00:00\",\n",
      "                                \"updated\": \"2025-07-02T10:27:43.612206+00:00\",\n",
      "                                \"links\": {},\n",
      "                                \"revision_id\": 2,\n",
      "                                \"slug\": \"suscipit_848686\",\n",
      "                                \"metadata\": {\n",
      "                                    \"title\": \"crustulum\"\n",
      "                                },\n",
      "                                \"access\": {\n",
      "                                    \"visibility\": \"public\",\n",
      "                                    \"members_visibility\": \"public\",\n",
      "                                    \"member_policy\": \"open\",\n",
      "                                    \"record_policy\": \"open\",\n",
      "                                    \"review_policy\": \"closed\"\n",
      "                                },\n",
      "                                \"deletion_status\": {\n",
      "                                    \"is_deleted\": false,\n",
      "                                    \"status\": \"P\"\n",
      "                                },\n",
      "                                \"children\": {\n",
      "                                    \"allow\": false\n",
      "                                }\n",
      "                            }\n",
      "                        ]\n",
      "                    },\n",
      "                    \"pids\": {\n",
      "                        \"doi\": {\n",
      "                            \"identifier\": \"10.81088/mkrh0-c3h21\",\n",
      "                            \"provider\": \"datacite\",\n",
      "                            \"client\": \"datacite\"\n",
      "                        }\n",
      "                    }\n",
      "                },\n",
      "                \"versions\": {\n",
      "                    \"is_latest\": true,\n",
      "                    \"index\": 1\n",
      "                },\n",
      "                \"is_published\": true,\n",
      "                \"is_draft\": false,\n",
      "                \"pids\": {\n",
      "                    \"doi\": {\n",
      "                        \"identifier\": \"10.81088/mwgxm-4t637\",\n",
      "                        \"provider\": \"datacite\",\n",
      "                        \"client\": \"datacite\"\n",
      "                    },\n",
      "                    \"oai\": {\n",
      "                        \"identifier\": \"oai:inveniordm.web.cern.ch:mwgxm-4t637\",\n",
      "                        \"provider\": \"oai\"\n",
      "                    }\n",
      "                },\n",
      "                \"metadata\": {\n",
      "                    \"resource_type\": {\n",
      "                        \"id\": \"video\",\n",
      "                        \"title\": {\n",
      "                            \"de\": \"Video\",\n",
      "                            \"en\": \"Video\",\n",
      "                            \"sv\": \"Video\"\n",
      "                        }\n",
      "                    },\n",
      "                    \"creators\": [\n",
      "                        {\n",
      "                            \"person_or_org\": {\n",
      "                                \"type\": \"personal\",\n",
      "                                \"name\": \"cerno\",\n",
      "                                \"family_name\": \"cerno\"\n",
      "                            }\n",
      "                        }\n",
      "                    ],\n",
      "                    \"title\": \"Undique cariosus ago suffoco conqueror spiritus quaerat curriculum calcar suggero.\",\n",
      "                    \"publisher\": \"CERN\",\n",
      "                    \"publication_date\": \"2025-07-02\",\n",
      "                    \"rights\": [\n",
      "                        {\n",
      "                            \"id\": \"cc-by-4.0\",\n",
      "                            \"title\": {\n",
      "                                \"en\": \"Creative Commons Attribution 4.0 International\"\n",
      "                            },\n",
      "                            \"description\": {\n",
      "                                \"en\": \"The Creative Commons Attribution license allows re-distribution and re-use of a licensed work on the condition that the creator is appropriately credited.\"\n",
      "                            },\n",
      "                            \"icon\": \"cc-by-icon\",\n",
      "                            \"props\": {\n",
      "                                \"url\": \"https://creativecommons.org/licenses/by/4.0/\",\n",
      "                                \"scheme\": \"spdx\"\n",
      "                            }\n",
      "                        }\n",
      "                    ]\n",
      "                },\n",
      "                \"custom_fields\": {},\n",
      "                \"access\": {\n",
      "                    \"record\": \"public\",\n",
      "                    \"files\": \"public\",\n",
      "                    \"embargo\": {\n",
      "                        \"active\": false,\n",
      "                        \"reason\": null\n",
      "                    },\n",
      "                    \"status\": \"open\"\n",
      "                },\n",
      "                \"files\": {\n",
      "                    \"enabled\": true,\n",
      "                    \"order\": [],\n",
      "                    \"count\": 1,\n",
      "                    \"total_bytes\": 22908,\n",
      "                    \"entries\": {\n",
      "                        \"Anon7.jpg\": {\n",
      "                            \"id\": \"bd92746c-f35a-4ca0-ade8-16df656c69b8\",\n",
      "                            \"checksum\": \"md5:0e90e1b1d9afeef09e0bc4937f21e3f3\",\n",
      "                            \"ext\": \"jpg\",\n",
      "                            \"size\": 22908,\n",
      "                            \"mimetype\": \"image/jpeg\",\n",
      "                            \"key\": \"Anon7.jpg\",\n",
      "                            \"metadata\": {\n",
      "                                \"width\": 361,\n",
      "                                \"height\": 240\n",
      "                            },\n",
      "                            \"access\": {\n",
      "                                \"hidden\": false\n",
      "                            }\n",
      "                        }\n",
      "                    }\n",
      "                },\n",
      "                \"media_files\": {\n",
      "                    \"enabled\": false,\n",
      "                    \"order\": [],\n",
      "                    \"count\": 0,\n",
      "                    \"total_bytes\": 0,\n",
      "                    \"entries\": {}\n",
      "                },\n",
      "                \"status\": \"published\",\n",
      "                \"deletion_status\": {\n",
      "                    \"is_deleted\": false,\n",
      "                    \"status\": \"P\"\n",
      "                },\n",
      "                \"stats\": {\n",
      "                    \"this_version\": {\n",
      "                        \"views\": 0,\n",
      "                        \"unique_views\": 0,\n",
      "                        \"downloads\": 0,\n",
      "                        \"unique_downloads\": 0,\n",
      "                        \"data_volume\": 0.0\n",
      "                    },\n",
      "                    \"all_versions\": {\n",
      "                        \"views\": 0,\n",
      "                        \"unique_views\": 0,\n",
      "                        \"downloads\": 0,\n",
      "                        \"unique_downloads\": 0,\n",
      "                        \"data_volume\": 0.0\n",
      "                    }\n",
      "                }\n",
      "            },\n",
      "            {\n",
      "                \"id\": \"zv8fc-fa916\",\n",
      "                \"created\": \"2025-07-02T10:27:22.329722+00:00\",\n",
      "                \"updated\": \"2025-07-02T10:27:22.408488+00:00\",\n",
      "                \"links\": {\n",
      "                    \"self\": \"https://inveniordm.web.cern.ch/api/records/zv8fc-fa916\",\n",
      "                    \"self_html\": \"https://inveniordm.web.cern.ch/records/zv8fc-fa916\",\n",
      "                    \"self_doi\": \"https://inveniordm.web.cern.ch/doi/10.81088/zv8fc-fa916\",\n",
      "                    \"doi\": \"https://handle.stage.datacite.org/10.81088/zv8fc-fa916\",\n",
      "                    \"parent\": \"https://inveniordm.web.cern.ch/api/records/39nxk-nz736\",\n",
      "                    \"parent_html\": \"https://inveniordm.web.cern.ch/records/39nxk-nz736\",\n",
      "                    \"parent_doi\": \"https://inveniordm.web.cern.ch/doi/10.81088/39nxk-nz736\",\n",
      "                    \"self_iiif_manifest\": \"https://inveniordm.web.cern.ch/api/iiif/record:zv8fc-fa916/manifest\",\n",
      "                    \"self_iiif_sequence\": \"https://inveniordm.web.cern.ch/api/iiif/record:zv8fc-fa916/sequence/default\",\n",
      "                    \"files\": \"https://inveniordm.web.cern.ch/api/records/zv8fc-fa916/files\",\n",
      "                    \"media_files\": \"https://inveniordm.web.cern.ch/api/records/zv8fc-fa916/media-files\",\n",
      "                    \"archive\": \"https://inveniordm.web.cern.ch/api/records/zv8fc-fa916/files-archive\",\n",
      "                    \"archive_media\": \"https://inveniordm.web.cern.ch/api/records/zv8fc-fa916/media-files-archive\",\n",
      "                    \"latest\": \"https://inveniordm.web.cern.ch/api/records/zv8fc-fa916/versions/latest\",\n",
      "                    \"latest_html\": \"https://inveniordm.web.cern.ch/records/zv8fc-fa916/latest\",\n",
      "                    \"draft\": \"https://inveniordm.web.cern.ch/api/records/zv8fc-fa916/draft\",\n",
      "                    \"versions\": \"https://inveniordm.web.cern.ch/api/records/zv8fc-fa916/versions\",\n",
      "                    \"access_links\": \"https://inveniordm.web.cern.ch/api/records/zv8fc-fa916/access/links\",\n",
      "                    \"access_grants\": \"https://inveniordm.web.cern.ch/api/records/zv8fc-fa916/access/grants\",\n",
      "                    \"access_users\": \"https://inveniordm.web.cern.ch/api/records/zv8fc-fa916/access/users\",\n",
      "                    \"access_groups\": \"https://inveniordm.web.cern.ch/api/records/zv8fc-fa916/access/groups\",\n",
      "                    \"access_request\": \"https://inveniordm.web.cern.ch/api/records/zv8fc-fa916/access/request\",\n",
      "                    \"access\": \"https://inveniordm.web.cern.ch/api/records/zv8fc-fa916/access\",\n",
      "                    \"reserve_doi\": \"https://inveniordm.web.cern.ch/api/records/zv8fc-fa916/draft/pids/doi\",\n",
      "                    \"communities\": \"https://inveniordm.web.cern.ch/api/records/zv8fc-fa916/communities\",\n",
      "                    \"communities-suggestions\": \"https://inveniordm.web.cern.ch/api/records/zv8fc-fa916/communities-suggestions\",\n",
      "                    \"requests\": \"https://inveniordm.web.cern.ch/api/records/zv8fc-fa916/requests\"\n",
      "                },\n",
      "                \"revision_id\": 4,\n",
      "                \"parent\": {\n",
      "                    \"id\": \"39nxk-nz736\",\n",
      "                    \"access\": {\n",
      "                        \"owned_by\": {\n",
      "                            \"user\": \"122\"\n",
      "                        },\n",
      "                        \"settings\": {\n",
      "                            \"allow_user_requests\": false,\n",
      "                            \"allow_guest_requests\": false,\n",
      "                            \"accept_conditions_text\": null,\n",
      "                            \"secret_link_expiration\": 0\n",
      "                        }\n",
      "                    },\n",
      "                    \"communities\": {\n",
      "                        \"ids\": [\n",
      "                            \"5eeee3e0-013b-4d32-99d2-811399835bff\"\n",
      "                        ],\n",
      "                        \"default\": \"5eeee3e0-013b-4d32-99d2-811399835bff\",\n",
      "                        \"entries\": [\n",
      "                            {\n",
      "                                \"id\": \"5eeee3e0-013b-4d32-99d2-811399835bff\",\n",
      "                                \"created\": \"2025-07-02T10:27:03.247101+00:00\",\n",
      "                                \"updated\": \"2025-07-02T10:27:03.380594+00:00\",\n",
      "                                \"links\": {},\n",
      "                                \"revision_id\": 2,\n",
      "                                \"slug\": \"dolor_456166\",\n",
      "                                \"metadata\": {\n",
      "                                    \"title\": \"sodalitas\"\n",
      "                                },\n",
      "                                \"access\": {\n",
      "                                    \"visibility\": \"public\",\n",
      "                                    \"members_visibility\": \"public\",\n",
      "                                    \"member_policy\": \"open\",\n",
      "                                    \"record_policy\": \"open\",\n",
      "                                    \"review_policy\": \"closed\"\n",
      "                                },\n",
      "                                \"deletion_status\": {\n",
      "                                    \"is_deleted\": false,\n",
      "                                    \"status\": \"P\"\n",
      "                                },\n",
      "                                \"children\": {\n",
      "                                    \"allow\": false\n",
      "                                }\n",
      "                            }\n",
      "                        ]\n",
      "                    },\n",
      "                    \"pids\": {\n",
      "                        \"doi\": {\n",
      "                            \"identifier\": \"10.81088/39nxk-nz736\",\n",
      "                            \"provider\": \"datacite\",\n",
      "                            \"client\": \"datacite\"\n",
      "                        }\n",
      "                    }\n",
      "                },\n",
      "                \"versions\": {\n",
      "                    \"is_latest\": true,\n",
      "                    \"index\": 1\n",
      "                },\n",
      "                \"is_published\": true,\n",
      "                \"is_draft\": false,\n",
      "                \"pids\": {\n",
      "                    \"doi\": {\n",
      "                        \"identifier\": \"10.81088/zv8fc-fa916\",\n",
      "                        \"provider\": \"datacite\",\n",
      "                        \"client\": \"datacite\"\n",
      "                    },\n",
      "                    \"oai\": {\n",
      "                        \"identifier\": \"oai:inveniordm.web.cern.ch:zv8fc-fa916\",\n",
      "                        \"provider\": \"oai\"\n",
      "                    }\n",
      "                },\n",
      "                \"metadata\": {\n",
      "                    \"resource_type\": {\n",
      "                        \"id\": \"video\",\n",
      "                        \"title\": {\n",
      "                            \"de\": \"Video\",\n",
      "                            \"en\": \"Video\",\n",
      "                            \"sv\": \"Video\"\n",
      "                        }\n",
      "                    },\n",
      "                    \"creators\": [\n",
      "                        {\n",
      "                            \"person_or_org\": {\n",
      "                                \"type\": \"personal\",\n",
      "                                \"name\": \"degusto\",\n",
      "                                \"family_name\": \"degusto\"\n",
      "                            }\n",
      "                        }\n",
      "                    ],\n",
      "                    \"title\": \"Vallum adipisci votum ascit voco tenax.\",\n",
      "                    \"publisher\": \"CERN\",\n",
      "                    \"publication_date\": \"2025-07-02\",\n",
      "                    \"rights\": [\n",
      "                        {\n",
      "                            \"id\": \"cc-by-4.0\",\n",
      "                            \"title\": {\n",
      "                                \"en\": \"Creative Commons Attribution 4.0 International\"\n",
      "                            },\n",
      "                            \"description\": {\n",
      "                                \"en\": \"The Creative Commons Attribution license allows re-distribution and re-use of a licensed work on the condition that the creator is appropriately credited.\"\n",
      "                            },\n",
      "                            \"icon\": \"cc-by-icon\",\n",
      "                            \"props\": {\n",
      "                                \"url\": \"https://creativecommons.org/licenses/by/4.0/\",\n",
      "                                \"scheme\": \"spdx\"\n",
      "                            }\n",
      "                        }\n",
      "                    ]\n",
      "                },\n",
      "                \"custom_fields\": {},\n",
      "                \"access\": {\n",
      "                    \"record\": \"public\",\n",
      "                    \"files\": \"public\",\n",
      "                    \"embargo\": {\n",
      "                        \"active\": false,\n",
      "                        \"reason\": null\n",
      "                    },\n",
      "                    \"status\": \"open\"\n",
      "                },\n",
      "                \"files\": {\n",
      "                    \"enabled\": true,\n",
      "                    \"order\": [],\n",
      "                    \"count\": 1,\n",
      "                    \"total_bytes\": 34260,\n",
      "                    \"entries\": {\n",
      "                        \"Anon3.jpg\": {\n",
      "                            \"id\": \"bf09cc6c-2fe6-4516-a6ab-0a5030f069cd\",\n",
      "                            \"checksum\": \"md5:27d09e71282af9261a9307ee69e8f3ba\",\n",
      "                            \"ext\": \"jpg\",\n",
      "                            \"size\": 34260,\n",
      "                            \"mimetype\": \"image/jpeg\",\n",
      "                            \"key\": \"Anon3.jpg\",\n",
      "                            \"metadata\": {\n",
      "                                \"width\": 360,\n",
      "                                \"height\": 240\n",
      "                            },\n",
      "                            \"access\": {\n",
      "                                \"hidden\": false\n",
      "                            }\n",
      "                        }\n",
      "                    }\n",
      "                },\n",
      "                \"media_files\": {\n",
      "                    \"enabled\": false,\n",
      "                    \"order\": [],\n",
      "                    \"count\": 0,\n",
      "                    \"total_bytes\": 0,\n",
      "                    \"entries\": {}\n",
      "                },\n",
      "                \"status\": \"published\",\n",
      "                \"deletion_status\": {\n",
      "                    \"is_deleted\": false,\n",
      "                    \"status\": \"P\"\n",
      "                },\n",
      "                \"stats\": {\n",
      "                    \"this_version\": {\n",
      "                        \"views\": 0,\n",
      "                        \"unique_views\": 0,\n",
      "                        \"downloads\": 0,\n",
      "                        \"unique_downloads\": 0,\n",
      "                        \"data_volume\": 0.0\n",
      "                    },\n",
      "                    \"all_versions\": {\n",
      "                        \"views\": 0,\n",
      "                        \"unique_views\": 0,\n",
      "                        \"downloads\": 0,\n",
      "                        \"unique_downloads\": 0,\n",
      "                        \"data_volume\": 0.0\n",
      "                    }\n",
      "                }\n",
      "            },\n",
      "            {\n",
      "                \"id\": \"0njjv-j0g80\",\n",
      "                \"created\": \"2025-07-02T10:25:51.281928+00:00\",\n",
      "                \"updated\": \"2025-07-02T10:25:51.373061+00:00\",\n",
      "                \"links\": {\n",
      "                    \"self\": \"https://inveniordm.web.cern.ch/api/records/0njjv-j0g80\",\n",
      "                    \"self_html\": \"https://inveniordm.web.cern.ch/records/0njjv-j0g80\",\n",
      "                    \"self_doi\": \"https://inveniordm.web.cern.ch/doi/10.81088/0njjv-j0g80\",\n",
      "                    \"doi\": \"https://handle.stage.datacite.org/10.81088/0njjv-j0g80\",\n",
      "                    \"parent\": \"https://inveniordm.web.cern.ch/api/records/55yx1-zgm40\",\n",
      "                    \"parent_html\": \"https://inveniordm.web.cern.ch/records/55yx1-zgm40\",\n",
      "                    \"parent_doi\": \"https://inveniordm.web.cern.ch/doi/10.81088/55yx1-zgm40\",\n",
      "                    \"self_iiif_manifest\": \"https://inveniordm.web.cern.ch/api/iiif/record:0njjv-j0g80/manifest\",\n",
      "                    \"self_iiif_sequence\": \"https://inveniordm.web.cern.ch/api/iiif/record:0njjv-j0g80/sequence/default\",\n",
      "                    \"files\": \"https://inveniordm.web.cern.ch/api/records/0njjv-j0g80/files\",\n",
      "                    \"media_files\": \"https://inveniordm.web.cern.ch/api/records/0njjv-j0g80/media-files\",\n",
      "                    \"archive\": \"https://inveniordm.web.cern.ch/api/records/0njjv-j0g80/files-archive\",\n",
      "                    \"archive_media\": \"https://inveniordm.web.cern.ch/api/records/0njjv-j0g80/media-files-archive\",\n",
      "                    \"latest\": \"https://inveniordm.web.cern.ch/api/records/0njjv-j0g80/versions/latest\",\n",
      "                    \"latest_html\": \"https://inveniordm.web.cern.ch/records/0njjv-j0g80/latest\",\n",
      "                    \"draft\": \"https://inveniordm.web.cern.ch/api/records/0njjv-j0g80/draft\",\n",
      "                    \"versions\": \"https://inveniordm.web.cern.ch/api/records/0njjv-j0g80/versions\",\n",
      "                    \"access_links\": \"https://inveniordm.web.cern.ch/api/records/0njjv-j0g80/access/links\",\n",
      "                    \"access_grants\": \"https://inveniordm.web.cern.ch/api/records/0njjv-j0g80/access/grants\",\n",
      "                    \"access_users\": \"https://inveniordm.web.cern.ch/api/records/0njjv-j0g80/access/users\",\n",
      "                    \"access_groups\": \"https://inveniordm.web.cern.ch/api/records/0njjv-j0g80/access/groups\",\n",
      "                    \"access_request\": \"https://inveniordm.web.cern.ch/api/records/0njjv-j0g80/access/request\",\n",
      "                    \"access\": \"https://inveniordm.web.cern.ch/api/records/0njjv-j0g80/access\",\n",
      "                    \"reserve_doi\": \"https://inveniordm.web.cern.ch/api/records/0njjv-j0g80/draft/pids/doi\",\n",
      "                    \"communities\": \"https://inveniordm.web.cern.ch/api/records/0njjv-j0g80/communities\",\n",
      "                    \"communities-suggestions\": \"https://inveniordm.web.cern.ch/api/records/0njjv-j0g80/communities-suggestions\",\n",
      "                    \"requests\": \"https://inveniordm.web.cern.ch/api/records/0njjv-j0g80/requests\"\n",
      "                },\n",
      "                \"revision_id\": 4,\n",
      "                \"parent\": {\n",
      "                    \"id\": \"55yx1-zgm40\",\n",
      "                    \"access\": {\n",
      "                        \"owned_by\": {\n",
      "                            \"user\": \"122\"\n",
      "                        },\n",
      "                        \"settings\": {\n",
      "                            \"allow_user_requests\": false,\n",
      "                            \"allow_guest_requests\": false,\n",
      "                            \"accept_conditions_text\": null,\n",
      "                            \"secret_link_expiration\": 0\n",
      "                        }\n",
      "                    },\n",
      "                    \"communities\": {\n",
      "                        \"ids\": [\n",
      "                            \"3b9003ed-b6ef-4ea0-8405-1bb51aa85be9\"\n",
      "                        ],\n",
      "                        \"default\": \"3b9003ed-b6ef-4ea0-8405-1bb51aa85be9\",\n",
      "                        \"entries\": [\n",
      "                            {\n",
      "                                \"id\": \"3b9003ed-b6ef-4ea0-8405-1bb51aa85be9\",\n",
      "                                \"created\": \"2025-07-02T10:25:31.702709+00:00\",\n",
      "                                \"updated\": \"2025-07-02T10:25:31.886456+00:00\",\n",
      "                                \"links\": {},\n",
      "                                \"revision_id\": 2,\n",
      "                                \"slug\": \"cena_515559\",\n",
      "                                \"metadata\": {\n",
      "                                    \"title\": \"bardus\"\n",
      "                                },\n",
      "                                \"access\": {\n",
      "                                    \"visibility\": \"public\",\n",
      "                                    \"members_visibility\": \"public\",\n",
      "                                    \"member_policy\": \"open\",\n",
      "                                    \"record_policy\": \"open\",\n",
      "                                    \"review_policy\": \"closed\"\n",
      "                                },\n",
      "                                \"deletion_status\": {\n",
      "                                    \"is_deleted\": false,\n",
      "                                    \"status\": \"P\"\n",
      "                                },\n",
      "                                \"children\": {\n",
      "                                    \"allow\": false\n",
      "                                }\n",
      "                            }\n",
      "                        ]\n",
      "                    },\n",
      "                    \"pids\": {\n",
      "                        \"doi\": {\n",
      "                            \"identifier\": \"10.81088/55yx1-zgm40\",\n",
      "                            \"provider\": \"datacite\",\n",
      "                            \"client\": \"datacite\"\n",
      "                        }\n",
      "                    }\n",
      "                },\n",
      "                \"versions\": {\n",
      "                    \"is_latest\": true,\n",
      "                    \"index\": 1\n",
      "                },\n",
      "                \"is_published\": true,\n",
      "                \"is_draft\": false,\n",
      "                \"pids\": {\n",
      "                    \"doi\": {\n",
      "                        \"identifier\": \"10.81088/0njjv-j0g80\",\n",
      "                        \"provider\": \"datacite\",\n",
      "                        \"client\": \"datacite\"\n",
      "                    },\n",
      "                    \"oai\": {\n",
      "                        \"identifier\": \"oai:inveniordm.web.cern.ch:0njjv-j0g80\",\n",
      "                        \"provider\": \"oai\"\n",
      "                    }\n",
      "                },\n",
      "                \"metadata\": {\n",
      "                    \"resource_type\": {\n",
      "                        \"id\": \"event\",\n",
      "                        \"title\": {\n",
      "                            \"de\": \"Veranstaltung\",\n",
      "                            \"en\": \"Event\",\n",
      "                            \"sv\": \"Evenemang\"\n",
      "                        }\n",
      "                    },\n",
      "                    \"creators\": [\n",
      "                        {\n",
      "                            \"person_or_org\": {\n",
      "                                \"type\": \"personal\",\n",
      "                                \"name\": \"cattus\",\n",
      "                                \"family_name\": \"cattus\"\n",
      "                            }\n",
      "                        }\n",
      "                    ],\n",
      "                    \"title\": \"Compello complectus deprimo thesis demergo.\",\n",
      "                    \"publisher\": \"CERN\",\n",
      "                    \"publication_date\": \"2025-07-02\",\n",
      "                    \"rights\": [\n",
      "                        {\n",
      "                            \"id\": \"cc-by-4.0\",\n",
      "                            \"title\": {\n",
      "                                \"en\": \"Creative Commons Attribution 4.0 International\"\n",
      "                            },\n",
      "                            \"description\": {\n",
      "                                \"en\": \"The Creative Commons Attribution license allows re-distribution and re-use of a licensed work on the condition that the creator is appropriately credited.\"\n",
      "                            },\n",
      "                            \"icon\": \"cc-by-icon\",\n",
      "                            \"props\": {\n",
      "                                \"url\": \"https://creativecommons.org/licenses/by/4.0/\",\n",
      "                                \"scheme\": \"spdx\"\n",
      "                            }\n",
      "                        }\n",
      "                    ]\n",
      "                },\n",
      "                \"custom_fields\": {},\n",
      "                \"access\": {\n",
      "                    \"record\": \"public\",\n",
      "                    \"files\": \"public\",\n",
      "                    \"embargo\": {\n",
      "                        \"active\": false,\n",
      "                        \"reason\": null\n",
      "                    },\n",
      "                    \"status\": \"open\"\n",
      "                },\n",
      "                \"files\": {\n",
      "                    \"enabled\": true,\n",
      "                    \"order\": [],\n",
      "                    \"count\": 1,\n",
      "                    \"total_bytes\": 22908,\n",
      "                    \"entries\": {\n",
      "                        \"Anon7.jpg\": {\n",
      "                            \"id\": \"7bddc862-485a-425e-b7d9-87ad5e17dac2\",\n",
      "                            \"checksum\": \"md5:0e90e1b1d9afeef09e0bc4937f21e3f3\",\n",
      "                            \"ext\": \"jpg\",\n",
      "                            \"size\": 22908,\n",
      "                            \"mimetype\": \"image/jpeg\",\n",
      "                            \"key\": \"Anon7.jpg\",\n",
      "                            \"metadata\": {\n",
      "                                \"width\": 361,\n",
      "                                \"height\": 240\n",
      "                            },\n",
      "                            \"access\": {\n",
      "                                \"hidden\": false\n",
      "                            }\n",
      "                        }\n",
      "                    }\n",
      "                },\n",
      "                \"media_files\": {\n",
      "                    \"enabled\": false,\n",
      "                    \"order\": [],\n",
      "                    \"count\": 0,\n",
      "                    \"total_bytes\": 0,\n",
      "                    \"entries\": {}\n",
      "                },\n",
      "                \"status\": \"published\",\n",
      "                \"deletion_status\": {\n",
      "                    \"is_deleted\": false,\n",
      "                    \"status\": \"P\"\n",
      "                },\n",
      "                \"stats\": {\n",
      "                    \"this_version\": {\n",
      "                        \"views\": 0,\n",
      "                        \"unique_views\": 0,\n",
      "                        \"downloads\": 0,\n",
      "                        \"unique_downloads\": 0,\n",
      "                        \"data_volume\": 0.0\n",
      "                    },\n",
      "                    \"all_versions\": {\n",
      "                        \"views\": 0,\n",
      "                        \"unique_views\": 0,\n",
      "                        \"downloads\": 0,\n",
      "                        \"unique_downloads\": 0,\n",
      "                        \"data_volume\": 0.0\n",
      "                    }\n",
      "                }\n",
      "            }\n",
      "        ],\n",
      "        \"total\": 2329\n",
      "    },\n",
      "    \"aggregations\": {\n",
      "        \"access_status\": {\n",
      "            \"buckets\": [\n",
      "                {\n",
      "                    \"key\": \"open\",\n",
      "                    \"doc_count\": 1878,\n",
      "                    \"label\": \"Open\",\n",
      "                    \"is_selected\": false\n",
      "                },\n",
      "                {\n",
      "                    \"key\": \"metadata-only\",\n",
      "                    \"doc_count\": 385,\n",
      "                    \"label\": \"Metadata-only\",\n",
      "                    \"is_selected\": false\n",
      "                },\n",
      "                {\n",
      "                    \"key\": \"restricted\",\n",
      "                    \"doc_count\": 66,\n",
      "                    \"label\": \"Restricted\",\n",
      "                    \"is_selected\": false\n",
      "                }\n",
      "            ],\n",
      "            \"label\": \"Access status\"\n",
      "        },\n",
      "        \"file_type\": {\n",
      "            \"buckets\": [\n",
      "                {\n",
      "                    \"key\": \"jpg\",\n",
      "                    \"doc_count\": 1718,\n",
      "                    \"label\": \"JPG\",\n",
      "                    \"is_selected\": false\n",
      "                },\n",
      "                {\n",
      "                    \"key\": \"txt\",\n",
      "                    \"doc_count\": 73,\n",
      "                    \"label\": \"TXT\",\n",
      "                    \"is_selected\": false\n",
      "                },\n",
      "                {\n",
      "                    \"key\": \"pdf\",\n",
      "                    \"doc_count\": 36,\n",
      "                    \"label\": \"PDF\",\n",
      "                    \"is_selected\": false\n",
      "                },\n",
      "                {\n",
      "                    \"key\": \"png\",\n",
      "                    \"doc_count\": 18,\n",
      "                    \"label\": \"PNG\",\n",
      "                    \"is_selected\": false\n",
      "                },\n",
      "                {\n",
      "                    \"key\": \"csv\",\n",
      "                    \"doc_count\": 10,\n",
      "                    \"label\": \"CSV\",\n",
      "                    \"is_selected\": false\n",
      "                },\n",
      "                {\n",
      "                    \"key\": \"zip\",\n",
      "                    \"doc_count\": 9,\n",
      "                    \"label\": \"ZIP\",\n",
      "                    \"is_selected\": false\n",
      "                },\n",
      "                {\n",
      "                    \"key\": \"bin\",\n",
      "                    \"doc_count\": 4,\n",
      "                    \"label\": \"BIN\",\n",
      "                    \"is_selected\": false\n",
      "                },\n",
      "                {\n",
      "                    \"key\": \"docx\",\n",
      "                    \"doc_count\": 4,\n",
      "                    \"label\": \"DOCX\",\n",
      "                    \"is_selected\": false\n",
      "                },\n",
      "                {\n",
      "                    \"key\": \"nekg\",\n",
      "                    \"doc_count\": 4,\n",
      "                    \"label\": \"NEKG\",\n",
      "                    \"is_selected\": false\n",
      "                },\n",
      "                {\n",
      "                    \"key\": \"xml\",\n",
      "                    \"doc_count\": 4,\n",
      "                    \"label\": \"XML\",\n",
      "                    \"is_selected\": false\n",
      "                }\n",
      "            ],\n",
      "            \"label\": \"File type\"\n",
      "        },\n",
      "        \"resource_type\": {\n",
      "            \"buckets\": [\n",
      "                {\n",
      "                    \"key\": \"image\",\n",
      "                    \"doc_count\": 573,\n",
      "                    \"label\": \"Image\",\n",
      "                    \"is_selected\": false,\n",
      "                    \"inner\": {\n",
      "                        \"buckets\": [\n",
      "                            {\n",
      "                                \"key\": \"image-photo\",\n",
      "                                \"doc_count\": 7,\n",
      "                                \"label\": \"Photo\",\n",
      "                                \"is_selected\": false\n",
      "                            },\n",
      "                            {\n",
      "                                \"key\": \"image-figure\",\n",
      "                                \"doc_count\": 6,\n",
      "                                \"label\": \"Figure\",\n",
      "                                \"is_selected\": false\n",
      "                            },\n",
      "                            {\n",
      "                                \"key\": \"image-diagram\",\n",
      "                                \"doc_count\": 5,\n",
      "                                \"label\": \"Diagram\",\n",
      "                                \"is_selected\": false\n",
      "                            },\n",
      "                            {\n",
      "                                \"key\": \"image-plot\",\n",
      "                                \"doc_count\": 4,\n",
      "                                \"label\": \"Plot\",\n",
      "                                \"is_selected\": false\n",
      "                            },\n",
      "                            {\n",
      "                                \"key\": \"image-drawing\",\n",
      "                                \"doc_count\": 3,\n",
      "                                \"label\": \"Drawing\",\n",
      "                                \"is_selected\": false\n",
      "                            },\n",
      "                            {\n",
      "                                \"key\": \"image-other\",\n",
      "                                \"doc_count\": 3,\n",
      "                                \"label\": \"Other\",\n",
      "                                \"is_selected\": false\n",
      "                            }\n",
      "                        ]\n",
      "                    }\n",
      "                },\n",
      "                {\n",
      "                    \"key\": \"dataset\",\n",
      "                    \"doc_count\": 275,\n",
      "                    \"label\": \"Dataset\",\n",
      "                    \"is_selected\": false,\n",
      "                    \"inner\": {\n",
      "                        \"buckets\": []\n",
      "                    }\n",
      "                },\n",
      "                {\n",
      "                    \"key\": \"poster\",\n",
      "                    \"doc_count\": 165,\n",
      "                    \"label\": \"Poster\",\n",
      "                    \"is_selected\": false,\n",
      "                    \"inner\": {\n",
      "                        \"buckets\": []\n",
      "                    }\n",
      "                },\n",
      "                {\n",
      "                    \"key\": \"video\",\n",
      "                    \"doc_count\": 162,\n",
      "                    \"label\": \"Video\",\n",
      "                    \"is_selected\": false,\n",
      "                    \"inner\": {\n",
      "                        \"buckets\": []\n",
      "                    }\n",
      "                },\n",
      "                {\n",
      "                    \"key\": \"model\",\n",
      "                    \"doc_count\": 159,\n",
      "                    \"label\": \"Model\",\n",
      "                    \"is_selected\": false,\n",
      "                    \"inner\": {\n",
      "                        \"buckets\": []\n",
      "                    }\n",
      "                },\n",
      "                {\n",
      "                    \"key\": \"audio\",\n",
      "                    \"doc_count\": 155,\n",
      "                    \"label\": \"Audio\",\n",
      "                    \"is_selected\": false,\n",
      "                    \"inner\": {\n",
      "                        \"buckets\": []\n",
      "                    }\n",
      "                },\n",
      "                {\n",
      "                    \"key\": \"software\",\n",
      "                    \"doc_count\": 150,\n",
      "                    \"label\": \"Software\",\n",
      "                    \"is_selected\": false,\n",
      "                    \"inner\": {\n",
      "                        \"buckets\": [\n",
      "                            {\n",
      "                                \"key\": \"software-computationalnotebook\",\n",
      "                                \"doc_count\": 2,\n",
      "                                \"label\": \"Computational notebook\",\n",
      "                                \"is_selected\": false\n",
      "                            }\n",
      "                        ]\n",
      "                    }\n",
      "                },\n",
      "                {\n",
      "                    \"key\": \"workflow\",\n",
      "                    \"doc_count\": 150,\n",
      "                    \"label\": \"Workflow\",\n",
      "                    \"is_selected\": false,\n",
      "                    \"inner\": {\n",
      "                        \"buckets\": []\n",
      "                    }\n",
      "                },\n",
      "                {\n",
      "                    \"key\": \"other\",\n",
      "                    \"doc_count\": 149,\n",
      "                    \"label\": \"Other\",\n",
      "                    \"is_selected\": false,\n",
      "                    \"inner\": {\n",
      "                        \"buckets\": []\n",
      "                    }\n",
      "                },\n",
      "                {\n",
      "                    \"key\": \"lesson\",\n",
      "                    \"doc_count\": 146,\n",
      "                    \"label\": \"Lesson\",\n",
      "                    \"is_selected\": false,\n",
      "                    \"inner\": {\n",
      "                        \"buckets\": []\n",
      "                    }\n",
      "                }\n",
      "            ],\n",
      "            \"label\": \"Resource types\"\n",
      "        },\n",
      "        \"programming_language\": {\n",
      "            \"buckets\": [\n",
      "                {\n",
      "                    \"key\": \"python\",\n",
      "                    \"doc_count\": 3,\n",
      "                    \"label\": \"Python\",\n",
      "                    \"is_selected\": false\n",
      "                },\n",
      "                {\n",
      "                    \"key\": \"bash\",\n",
      "                    \"doc_count\": 1,\n",
      "                    \"label\": \"Bash\",\n",
      "                    \"is_selected\": false\n",
      "                },\n",
      "                {\n",
      "                    \"key\": \"javascript\",\n",
      "                    \"doc_count\": 1,\n",
      "                    \"label\": \"JavaScript\",\n",
      "                    \"is_selected\": false\n",
      "                }\n",
      "            ],\n",
      "            \"label\": \"Programming Languages\"\n",
      "        },\n",
      "        \"development_status\": {\n",
      "            \"buckets\": [\n",
      "                {\n",
      "                    \"key\": \"wip\",\n",
      "                    \"doc_count\": 3,\n",
      "                    \"label\": \"Work In Progress (WIP)\",\n",
      "                    \"is_selected\": false\n",
      "                },\n",
      "                {\n",
      "                    \"key\": \"abandoned\",\n",
      "                    \"doc_count\": 2,\n",
      "                    \"label\": \"Abandoned\",\n",
      "                    \"is_selected\": false\n",
      "                },\n",
      "                {\n",
      "                    \"key\": \"active\",\n",
      "                    \"doc_count\": 2,\n",
      "                    \"label\": \"Active\",\n",
      "                    \"is_selected\": false\n",
      "                },\n",
      "                {\n",
      "                    \"key\": \"concept\",\n",
      "                    \"doc_count\": 1,\n",
      "                    \"label\": \"Concept\",\n",
      "                    \"is_selected\": false\n",
      "                },\n",
      "                {\n",
      "                    \"key\": \"inactive\",\n",
      "                    \"doc_count\": 1,\n",
      "                    \"label\": \"Inactive\",\n",
      "                    \"is_selected\": false\n",
      "                }\n",
      "            ],\n",
      "            \"label\": \"Development Status\"\n",
      "        }\n",
      "    },\n",
      "    \"sortBy\": \"newest\",\n",
      "    \"links\": {\n",
      "        \"self\": \"https://inveniordm.web.cern.ch/api/records?page=1&size=25&sort=newest\",\n",
      "        \"next\": \"https://inveniordm.web.cern.ch/api/records?page=2&size=25&sort=newest\"\n",
      "    }\n",
      "}\n"
     ]
    }
   ],
   "source": [
    "# 2) GET – načtení seznamu záznamů\n",
    "import json\n",
    "from IPython.display import JSON\n",
    "resp = requests.get(API_BASE, headers=headers)\n",
    "print(\"GET /records →\", resp.status_code)\n",
    "print(json.dumps(resp.json(), indent=4, ensure_ascii=False))"
   ]
  },
  {
   "cell_type": "code",
   "execution_count": 4,
   "id": "22cad6b8-6be1-4b7c-b9e8-d34f2eecf06c",
   "metadata": {
    "collapsed": true,
    "jupyter": {
     "outputs_hidden": true
    },
    "panel-layout": {
     "height": 10,
     "visible": true,
     "width": 100
    }
   },
   "outputs": [
    {
     "name": "stdout",
     "output_type": "stream",
     "text": [
      "GET /records → 200\n"
     ]
    },
    {
     "data": {
      "application/json": {
       "aggregations": {
        "access_status": {
         "buckets": [
          {
           "doc_count": 1878,
           "is_selected": false,
           "key": "open",
           "label": "Open"
          },
          {
           "doc_count": 385,
           "is_selected": false,
           "key": "metadata-only",
           "label": "Metadata-only"
          },
          {
           "doc_count": 66,
           "is_selected": false,
           "key": "restricted",
           "label": "Restricted"
          }
         ],
         "label": "Access status"
        },
        "development_status": {
         "buckets": [
          {
           "doc_count": 3,
           "is_selected": false,
           "key": "wip",
           "label": "Work In Progress (WIP)"
          },
          {
           "doc_count": 2,
           "is_selected": false,
           "key": "abandoned",
           "label": "Abandoned"
          },
          {
           "doc_count": 2,
           "is_selected": false,
           "key": "active",
           "label": "Active"
          },
          {
           "doc_count": 1,
           "is_selected": false,
           "key": "concept",
           "label": "Concept"
          },
          {
           "doc_count": 1,
           "is_selected": false,
           "key": "inactive",
           "label": "Inactive"
          }
         ],
         "label": "Development Status"
        },
        "file_type": {
         "buckets": [
          {
           "doc_count": 1718,
           "is_selected": false,
           "key": "jpg",
           "label": "JPG"
          },
          {
           "doc_count": 73,
           "is_selected": false,
           "key": "txt",
           "label": "TXT"
          },
          {
           "doc_count": 36,
           "is_selected": false,
           "key": "pdf",
           "label": "PDF"
          },
          {
           "doc_count": 18,
           "is_selected": false,
           "key": "png",
           "label": "PNG"
          },
          {
           "doc_count": 10,
           "is_selected": false,
           "key": "csv",
           "label": "CSV"
          },
          {
           "doc_count": 9,
           "is_selected": false,
           "key": "zip",
           "label": "ZIP"
          },
          {
           "doc_count": 4,
           "is_selected": false,
           "key": "bin",
           "label": "BIN"
          },
          {
           "doc_count": 4,
           "is_selected": false,
           "key": "docx",
           "label": "DOCX"
          },
          {
           "doc_count": 4,
           "is_selected": false,
           "key": "nekg",
           "label": "NEKG"
          },
          {
           "doc_count": 4,
           "is_selected": false,
           "key": "xml",
           "label": "XML"
          }
         ],
         "label": "File type"
        },
        "programming_language": {
         "buckets": [
          {
           "doc_count": 3,
           "is_selected": false,
           "key": "python",
           "label": "Python"
          },
          {
           "doc_count": 1,
           "is_selected": false,
           "key": "bash",
           "label": "Bash"
          },
          {
           "doc_count": 1,
           "is_selected": false,
           "key": "javascript",
           "label": "JavaScript"
          }
         ],
         "label": "Programming Languages"
        },
        "resource_type": {
         "buckets": [
          {
           "doc_count": 573,
           "inner": {
            "buckets": [
             {
              "doc_count": 7,
              "is_selected": false,
              "key": "image-photo",
              "label": "Photo"
             },
             {
              "doc_count": 6,
              "is_selected": false,
              "key": "image-figure",
              "label": "Figure"
             },
             {
              "doc_count": 5,
              "is_selected": false,
              "key": "image-diagram",
              "label": "Diagram"
             },
             {
              "doc_count": 4,
              "is_selected": false,
              "key": "image-plot",
              "label": "Plot"
             },
             {
              "doc_count": 3,
              "is_selected": false,
              "key": "image-drawing",
              "label": "Drawing"
             },
             {
              "doc_count": 3,
              "is_selected": false,
              "key": "image-other",
              "label": "Other"
             }
            ]
           },
           "is_selected": false,
           "key": "image",
           "label": "Image"
          },
          {
           "doc_count": 275,
           "inner": {
            "buckets": []
           },
           "is_selected": false,
           "key": "dataset",
           "label": "Dataset"
          },
          {
           "doc_count": 165,
           "inner": {
            "buckets": []
           },
           "is_selected": false,
           "key": "poster",
           "label": "Poster"
          },
          {
           "doc_count": 162,
           "inner": {
            "buckets": []
           },
           "is_selected": false,
           "key": "video",
           "label": "Video"
          },
          {
           "doc_count": 159,
           "inner": {
            "buckets": []
           },
           "is_selected": false,
           "key": "model",
           "label": "Model"
          },
          {
           "doc_count": 155,
           "inner": {
            "buckets": []
           },
           "is_selected": false,
           "key": "audio",
           "label": "Audio"
          },
          {
           "doc_count": 150,
           "inner": {
            "buckets": [
             {
              "doc_count": 2,
              "is_selected": false,
              "key": "software-computationalnotebook",
              "label": "Computational notebook"
             }
            ]
           },
           "is_selected": false,
           "key": "software",
           "label": "Software"
          },
          {
           "doc_count": 150,
           "inner": {
            "buckets": []
           },
           "is_selected": false,
           "key": "workflow",
           "label": "Workflow"
          },
          {
           "doc_count": 149,
           "inner": {
            "buckets": []
           },
           "is_selected": false,
           "key": "other",
           "label": "Other"
          },
          {
           "doc_count": 146,
           "inner": {
            "buckets": []
           },
           "is_selected": false,
           "key": "lesson",
           "label": "Lesson"
          }
         ],
         "label": "Resource types"
        }
       },
       "hits": {
        "hits": [
         {
          "access": {
           "embargo": {
            "active": false,
            "reason": null
           },
           "files": "public",
           "record": "public",
           "status": "open"
          },
          "created": "2025-07-12T19:04:38.571647+00:00",
          "custom_fields": {},
          "deletion_status": {
           "is_deleted": false,
           "status": "P"
          },
          "files": {
           "count": 1,
           "enabled": true,
           "entries": {
            "Anon4.jpg": {
             "access": {
              "hidden": false
             },
             "checksum": "md5:cbc1e72173faf56f8bea2276db0c636a",
             "ext": "jpg",
             "id": "b8a9bc31-ba3f-4336-88ee-b75c3c11a806",
             "key": "Anon4.jpg",
             "metadata": {},
             "mimetype": "image/jpeg",
             "size": 23940
            }
           },
           "order": [],
           "total_bytes": 23940
          },
          "id": "18nv3-1pk11",
          "is_draft": false,
          "is_published": true,
          "links": {
           "access": "https://inveniordm.web.cern.ch/api/records/18nv3-1pk11/access",
           "access_grants": "https://inveniordm.web.cern.ch/api/records/18nv3-1pk11/access/grants",
           "access_groups": "https://inveniordm.web.cern.ch/api/records/18nv3-1pk11/access/groups",
           "access_links": "https://inveniordm.web.cern.ch/api/records/18nv3-1pk11/access/links",
           "access_request": "https://inveniordm.web.cern.ch/api/records/18nv3-1pk11/access/request",
           "access_users": "https://inveniordm.web.cern.ch/api/records/18nv3-1pk11/access/users",
           "archive": "https://inveniordm.web.cern.ch/api/records/18nv3-1pk11/files-archive",
           "archive_media": "https://inveniordm.web.cern.ch/api/records/18nv3-1pk11/media-files-archive",
           "communities": "https://inveniordm.web.cern.ch/api/records/18nv3-1pk11/communities",
           "communities-suggestions": "https://inveniordm.web.cern.ch/api/records/18nv3-1pk11/communities-suggestions",
           "doi": "https://handle.stage.datacite.org/10.81088/18nv3-1pk11",
           "draft": "https://inveniordm.web.cern.ch/api/records/18nv3-1pk11/draft",
           "files": "https://inveniordm.web.cern.ch/api/records/18nv3-1pk11/files",
           "latest": "https://inveniordm.web.cern.ch/api/records/18nv3-1pk11/versions/latest",
           "latest_html": "https://inveniordm.web.cern.ch/records/18nv3-1pk11/latest",
           "media_files": "https://inveniordm.web.cern.ch/api/records/18nv3-1pk11/media-files",
           "parent": "https://inveniordm.web.cern.ch/api/records/8af8w-3bs86",
           "parent_doi": "https://inveniordm.web.cern.ch/doi/10.81088/8af8w-3bs86",
           "parent_html": "https://inveniordm.web.cern.ch/records/8af8w-3bs86",
           "requests": "https://inveniordm.web.cern.ch/api/records/18nv3-1pk11/requests",
           "reserve_doi": "https://inveniordm.web.cern.ch/api/records/18nv3-1pk11/draft/pids/doi",
           "self": "https://inveniordm.web.cern.ch/api/records/18nv3-1pk11",
           "self_doi": "https://inveniordm.web.cern.ch/doi/10.81088/18nv3-1pk11",
           "self_html": "https://inveniordm.web.cern.ch/records/18nv3-1pk11",
           "self_iiif_manifest": "https://inveniordm.web.cern.ch/api/iiif/record:18nv3-1pk11/manifest",
           "self_iiif_sequence": "https://inveniordm.web.cern.ch/api/iiif/record:18nv3-1pk11/sequence/default",
           "versions": "https://inveniordm.web.cern.ch/api/records/18nv3-1pk11/versions"
          },
          "media_files": {
           "count": 0,
           "enabled": false,
           "entries": {},
           "order": [],
           "total_bytes": 0
          },
          "metadata": {
           "creators": [
            {
             "person_or_org": {
              "family_name": "quo",
              "name": "quo",
              "type": "personal"
             }
            }
           ],
           "publication_date": "2025-07-12",
           "publisher": "CERN",
           "resource_type": {
            "id": "lesson",
            "title": {
             "de": "Unterrichtseinheit",
             "en": "Lesson",
             "sv": "Lektion"
            }
           },
           "rights": [
            {
             "description": {
              "en": "The Creative Commons Attribution license allows re-distribution and re-use of a licensed work on the condition that the creator is appropriately credited."
             },
             "icon": "cc-by-icon",
             "id": "cc-by-4.0",
             "props": {
              "scheme": "spdx",
              "url": "https://creativecommons.org/licenses/by/4.0/"
             },
             "title": {
              "en": "Creative Commons Attribution 4.0 International"
             }
            }
           ],
           "title": "Suscipio patruus spiculum quo spero paulatim desidero demoror charisma maxime."
          },
          "parent": {
           "access": {
            "owned_by": {
             "user": "119"
            },
            "settings": {
             "accept_conditions_text": null,
             "allow_guest_requests": false,
             "allow_user_requests": false,
             "secret_link_expiration": 0
            }
           },
           "communities": {},
           "id": "8af8w-3bs86",
           "pids": {
            "doi": {
             "client": "datacite",
             "identifier": "10.81088/8af8w-3bs86",
             "provider": "datacite"
            }
           }
          },
          "pids": {
           "doi": {
            "client": "datacite",
            "identifier": "10.81088/18nv3-1pk11",
            "provider": "datacite"
           },
           "oai": {
            "identifier": "oai:inveniordm.web.cern.ch:18nv3-1pk11",
            "provider": "oai"
           }
          },
          "revision_id": 4,
          "stats": {
           "all_versions": {
            "data_volume": 0,
            "downloads": 0,
            "unique_downloads": 0,
            "unique_views": 0,
            "views": 0
           },
           "this_version": {
            "data_volume": 0,
            "downloads": 0,
            "unique_downloads": 0,
            "unique_views": 0,
            "views": 0
           }
          },
          "status": "published",
          "updated": "2025-07-12T19:04:38.677187+00:00",
          "versions": {
           "index": 1,
           "is_latest": true
          }
         },
         {
          "access": {
           "embargo": {
            "active": false,
            "reason": null
           },
           "files": "public",
           "record": "public",
           "status": "open"
          },
          "created": "2025-07-12T18:59:18.869432+00:00",
          "custom_fields": {},
          "deletion_status": {
           "is_deleted": false,
           "status": "P"
          },
          "files": {
           "count": 1,
           "enabled": true,
           "entries": {
            "Anon6.jpg": {
             "access": {
              "hidden": false
             },
             "checksum": "md5:7e41b92644f0a69caf5ad13b780a141c",
             "ext": "jpg",
             "id": "e60111f8-c55a-4280-8d77-d541b47dea0c",
             "key": "Anon6.jpg",
             "metadata": {},
             "mimetype": "image/jpeg",
             "size": 105042
            }
           },
           "order": [],
           "total_bytes": 105042
          },
          "id": "dh9h9-3bb25",
          "is_draft": false,
          "is_published": true,
          "links": {
           "access": "https://inveniordm.web.cern.ch/api/records/dh9h9-3bb25/access",
           "access_grants": "https://inveniordm.web.cern.ch/api/records/dh9h9-3bb25/access/grants",
           "access_groups": "https://inveniordm.web.cern.ch/api/records/dh9h9-3bb25/access/groups",
           "access_links": "https://inveniordm.web.cern.ch/api/records/dh9h9-3bb25/access/links",
           "access_request": "https://inveniordm.web.cern.ch/api/records/dh9h9-3bb25/access/request",
           "access_users": "https://inveniordm.web.cern.ch/api/records/dh9h9-3bb25/access/users",
           "archive": "https://inveniordm.web.cern.ch/api/records/dh9h9-3bb25/files-archive",
           "archive_media": "https://inveniordm.web.cern.ch/api/records/dh9h9-3bb25/media-files-archive",
           "communities": "https://inveniordm.web.cern.ch/api/records/dh9h9-3bb25/communities",
           "communities-suggestions": "https://inveniordm.web.cern.ch/api/records/dh9h9-3bb25/communities-suggestions",
           "doi": "https://handle.stage.datacite.org/10.81088/dh9h9-3bb25",
           "draft": "https://inveniordm.web.cern.ch/api/records/dh9h9-3bb25/draft",
           "files": "https://inveniordm.web.cern.ch/api/records/dh9h9-3bb25/files",
           "latest": "https://inveniordm.web.cern.ch/api/records/dh9h9-3bb25/versions/latest",
           "latest_html": "https://inveniordm.web.cern.ch/records/dh9h9-3bb25/latest",
           "media_files": "https://inveniordm.web.cern.ch/api/records/dh9h9-3bb25/media-files",
           "parent": "https://inveniordm.web.cern.ch/api/records/b5ps0-c4t55",
           "parent_doi": "https://inveniordm.web.cern.ch/doi/10.81088/b5ps0-c4t55",
           "parent_html": "https://inveniordm.web.cern.ch/records/b5ps0-c4t55",
           "requests": "https://inveniordm.web.cern.ch/api/records/dh9h9-3bb25/requests",
           "reserve_doi": "https://inveniordm.web.cern.ch/api/records/dh9h9-3bb25/draft/pids/doi",
           "self": "https://inveniordm.web.cern.ch/api/records/dh9h9-3bb25",
           "self_doi": "https://inveniordm.web.cern.ch/doi/10.81088/dh9h9-3bb25",
           "self_html": "https://inveniordm.web.cern.ch/records/dh9h9-3bb25",
           "self_iiif_manifest": "https://inveniordm.web.cern.ch/api/iiif/record:dh9h9-3bb25/manifest",
           "self_iiif_sequence": "https://inveniordm.web.cern.ch/api/iiif/record:dh9h9-3bb25/sequence/default",
           "versions": "https://inveniordm.web.cern.ch/api/records/dh9h9-3bb25/versions"
          },
          "media_files": {
           "count": 0,
           "enabled": false,
           "entries": {},
           "order": [],
           "total_bytes": 0
          },
          "metadata": {
           "creators": [
            {
             "person_or_org": {
              "family_name": "vallum",
              "name": "vallum",
              "type": "personal"
             }
            }
           ],
           "publication_date": "2025-07-12",
           "publisher": "CERN",
           "resource_type": {
            "id": "workflow",
            "title": {
             "de": "Workflow",
             "en": "Workflow",
             "sv": "Workflow"
            }
           },
           "rights": [
            {
             "description": {
              "en": "The Creative Commons Attribution license allows re-distribution and re-use of a licensed work on the condition that the creator is appropriately credited."
             },
             "icon": "cc-by-icon",
             "id": "cc-by-4.0",
             "props": {
              "scheme": "spdx",
              "url": "https://creativecommons.org/licenses/by/4.0/"
             },
             "title": {
              "en": "Creative Commons Attribution 4.0 International"
             }
            }
           ],
           "title": "Nesciunt atqui catena venia tactus tondeo."
          },
          "parent": {
           "access": {
            "owned_by": {
             "user": "119"
            },
            "settings": {
             "accept_conditions_text": null,
             "allow_guest_requests": false,
             "allow_user_requests": false,
             "secret_link_expiration": 0
            }
           },
           "communities": {},
           "id": "b5ps0-c4t55",
           "pids": {
            "doi": {
             "client": "datacite",
             "identifier": "10.81088/b5ps0-c4t55",
             "provider": "datacite"
            }
           }
          },
          "pids": {
           "doi": {
            "client": "datacite",
            "identifier": "10.81088/dh9h9-3bb25",
            "provider": "datacite"
           },
           "oai": {
            "identifier": "oai:inveniordm.web.cern.ch:dh9h9-3bb25",
            "provider": "oai"
           }
          },
          "revision_id": 4,
          "stats": {
           "all_versions": {
            "data_volume": 0,
            "downloads": 0,
            "unique_downloads": 0,
            "unique_views": 0,
            "views": 0
           },
           "this_version": {
            "data_volume": 0,
            "downloads": 0,
            "unique_downloads": 0,
            "unique_views": 0,
            "views": 0
           }
          },
          "status": "published",
          "updated": "2025-07-12T18:59:18.971794+00:00",
          "versions": {
           "index": 1,
           "is_latest": true
          }
         },
         {
          "access": {
           "embargo": {
            "active": false,
            "reason": null
           },
           "files": "public",
           "record": "public",
           "status": "open"
          },
          "created": "2025-07-12T18:44:02.485410+00:00",
          "custom_fields": {},
          "deletion_status": {
           "is_deleted": false,
           "status": "P"
          },
          "files": {
           "count": 1,
           "enabled": true,
           "entries": {
            "Anon2.jpg": {
             "access": {
              "hidden": false
             },
             "checksum": "md5:ffa2a7b9c71c139aacc781d158fffa8b",
             "ext": "jpg",
             "id": "c7a99f31-65ff-435e-8c21-c7b4dfed22af",
             "key": "Anon2.jpg",
             "metadata": {},
             "mimetype": "image/jpeg",
             "size": 51227
            }
           },
           "order": [],
           "total_bytes": 51227
          },
          "id": "kympj-zm433",
          "is_draft": false,
          "is_published": true,
          "links": {
           "access": "https://inveniordm.web.cern.ch/api/records/kympj-zm433/access",
           "access_grants": "https://inveniordm.web.cern.ch/api/records/kympj-zm433/access/grants",
           "access_groups": "https://inveniordm.web.cern.ch/api/records/kympj-zm433/access/groups",
           "access_links": "https://inveniordm.web.cern.ch/api/records/kympj-zm433/access/links",
           "access_request": "https://inveniordm.web.cern.ch/api/records/kympj-zm433/access/request",
           "access_users": "https://inveniordm.web.cern.ch/api/records/kympj-zm433/access/users",
           "archive": "https://inveniordm.web.cern.ch/api/records/kympj-zm433/files-archive",
           "archive_media": "https://inveniordm.web.cern.ch/api/records/kympj-zm433/media-files-archive",
           "communities": "https://inveniordm.web.cern.ch/api/records/kympj-zm433/communities",
           "communities-suggestions": "https://inveniordm.web.cern.ch/api/records/kympj-zm433/communities-suggestions",
           "doi": "https://handle.stage.datacite.org/10.81088/kympj-zm433",
           "draft": "https://inveniordm.web.cern.ch/api/records/kympj-zm433/draft",
           "files": "https://inveniordm.web.cern.ch/api/records/kympj-zm433/files",
           "latest": "https://inveniordm.web.cern.ch/api/records/kympj-zm433/versions/latest",
           "latest_html": "https://inveniordm.web.cern.ch/records/kympj-zm433/latest",
           "media_files": "https://inveniordm.web.cern.ch/api/records/kympj-zm433/media-files",
           "parent": "https://inveniordm.web.cern.ch/api/records/pj1dm-vwx20",
           "parent_doi": "https://inveniordm.web.cern.ch/doi/10.81088/pj1dm-vwx20",
           "parent_html": "https://inveniordm.web.cern.ch/records/pj1dm-vwx20",
           "requests": "https://inveniordm.web.cern.ch/api/records/kympj-zm433/requests",
           "reserve_doi": "https://inveniordm.web.cern.ch/api/records/kympj-zm433/draft/pids/doi",
           "self": "https://inveniordm.web.cern.ch/api/records/kympj-zm433",
           "self_doi": "https://inveniordm.web.cern.ch/doi/10.81088/kympj-zm433",
           "self_html": "https://inveniordm.web.cern.ch/records/kympj-zm433",
           "self_iiif_manifest": "https://inveniordm.web.cern.ch/api/iiif/record:kympj-zm433/manifest",
           "self_iiif_sequence": "https://inveniordm.web.cern.ch/api/iiif/record:kympj-zm433/sequence/default",
           "versions": "https://inveniordm.web.cern.ch/api/records/kympj-zm433/versions"
          },
          "media_files": {
           "count": 0,
           "enabled": false,
           "entries": {},
           "order": [],
           "total_bytes": 0
          },
          "metadata": {
           "creators": [
            {
             "person_or_org": {
              "family_name": "vado",
              "name": "vado",
              "type": "personal"
             }
            }
           ],
           "publication_date": "2025-07-12",
           "publisher": "CERN",
           "resource_type": {
            "id": "audio",
            "title": {
             "de": "Audio",
             "en": "Audio",
             "sv": "Audio"
            }
           },
           "rights": [
            {
             "description": {
              "en": "The Creative Commons Attribution license allows re-distribution and re-use of a licensed work on the condition that the creator is appropriately credited."
             },
             "icon": "cc-by-icon",
             "id": "cc-by-4.0",
             "props": {
              "scheme": "spdx",
              "url": "https://creativecommons.org/licenses/by/4.0/"
             },
             "title": {
              "en": "Creative Commons Attribution 4.0 International"
             }
            }
           ],
           "title": "Caritas terra volva tabesco cognomen una ustulo delicate conventus."
          },
          "parent": {
           "access": {
            "owned_by": {
             "user": "122"
            },
            "settings": {
             "accept_conditions_text": null,
             "allow_guest_requests": false,
             "allow_user_requests": false,
             "secret_link_expiration": 0
            }
           },
           "communities": {},
           "id": "pj1dm-vwx20",
           "pids": {
            "doi": {
             "client": "datacite",
             "identifier": "10.81088/pj1dm-vwx20",
             "provider": "datacite"
            }
           }
          },
          "pids": {
           "doi": {
            "client": "datacite",
            "identifier": "10.81088/kympj-zm433",
            "provider": "datacite"
           },
           "oai": {
            "identifier": "oai:inveniordm.web.cern.ch:kympj-zm433",
            "provider": "oai"
           }
          },
          "revision_id": 4,
          "stats": {
           "all_versions": {
            "data_volume": 0,
            "downloads": 0,
            "unique_downloads": 0,
            "unique_views": 0,
            "views": 0
           },
           "this_version": {
            "data_volume": 0,
            "downloads": 0,
            "unique_downloads": 0,
            "unique_views": 0,
            "views": 0
           }
          },
          "status": "published",
          "updated": "2025-07-12T18:44:02.605168+00:00",
          "versions": {
           "index": 1,
           "is_latest": true
          }
         },
         {
          "access": {
           "embargo": {
            "active": false,
            "reason": null
           },
           "files": "public",
           "record": "public",
           "status": "open"
          },
          "created": "2025-07-12T18:35:28.266721+00:00",
          "custom_fields": {},
          "deletion_status": {
           "is_deleted": false,
           "status": "P"
          },
          "files": {
           "count": 1,
           "enabled": true,
           "entries": {
            "Anon9.jpg": {
             "access": {
              "hidden": false
             },
             "checksum": "md5:462f1833adf7dfb991d6e0e58c0e7f7d",
             "ext": "jpg",
             "id": "a1bc382e-4f7e-429f-a924-e6101ab150d2",
             "key": "Anon9.jpg",
             "metadata": {},
             "mimetype": "image/jpeg",
             "size": 20969
            }
           },
           "order": [],
           "total_bytes": 20969
          },
          "id": "jvedq-q6726",
          "is_draft": false,
          "is_published": true,
          "links": {
           "access": "https://inveniordm.web.cern.ch/api/records/jvedq-q6726/access",
           "access_grants": "https://inveniordm.web.cern.ch/api/records/jvedq-q6726/access/grants",
           "access_groups": "https://inveniordm.web.cern.ch/api/records/jvedq-q6726/access/groups",
           "access_links": "https://inveniordm.web.cern.ch/api/records/jvedq-q6726/access/links",
           "access_request": "https://inveniordm.web.cern.ch/api/records/jvedq-q6726/access/request",
           "access_users": "https://inveniordm.web.cern.ch/api/records/jvedq-q6726/access/users",
           "archive": "https://inveniordm.web.cern.ch/api/records/jvedq-q6726/files-archive",
           "archive_media": "https://inveniordm.web.cern.ch/api/records/jvedq-q6726/media-files-archive",
           "communities": "https://inveniordm.web.cern.ch/api/records/jvedq-q6726/communities",
           "communities-suggestions": "https://inveniordm.web.cern.ch/api/records/jvedq-q6726/communities-suggestions",
           "doi": "https://handle.stage.datacite.org/10.81088/jvedq-q6726",
           "draft": "https://inveniordm.web.cern.ch/api/records/jvedq-q6726/draft",
           "files": "https://inveniordm.web.cern.ch/api/records/jvedq-q6726/files",
           "latest": "https://inveniordm.web.cern.ch/api/records/jvedq-q6726/versions/latest",
           "latest_html": "https://inveniordm.web.cern.ch/records/jvedq-q6726/latest",
           "media_files": "https://inveniordm.web.cern.ch/api/records/jvedq-q6726/media-files",
           "parent": "https://inveniordm.web.cern.ch/api/records/gy4wa-xb595",
           "parent_doi": "https://inveniordm.web.cern.ch/doi/10.81088/gy4wa-xb595",
           "parent_html": "https://inveniordm.web.cern.ch/records/gy4wa-xb595",
           "requests": "https://inveniordm.web.cern.ch/api/records/jvedq-q6726/requests",
           "reserve_doi": "https://inveniordm.web.cern.ch/api/records/jvedq-q6726/draft/pids/doi",
           "self": "https://inveniordm.web.cern.ch/api/records/jvedq-q6726",
           "self_doi": "https://inveniordm.web.cern.ch/doi/10.81088/jvedq-q6726",
           "self_html": "https://inveniordm.web.cern.ch/records/jvedq-q6726",
           "self_iiif_manifest": "https://inveniordm.web.cern.ch/api/iiif/record:jvedq-q6726/manifest",
           "self_iiif_sequence": "https://inveniordm.web.cern.ch/api/iiif/record:jvedq-q6726/sequence/default",
           "versions": "https://inveniordm.web.cern.ch/api/records/jvedq-q6726/versions"
          },
          "media_files": {
           "count": 0,
           "enabled": false,
           "entries": {},
           "order": [],
           "total_bytes": 0
          },
          "metadata": {
           "creators": [
            {
             "person_or_org": {
              "family_name": "tolero",
              "name": "tolero",
              "type": "personal"
             }
            }
           ],
           "publication_date": "2025-07-12",
           "publisher": "CERN",
           "resource_type": {
            "id": "software",
            "title": {
             "de": "Software",
             "en": "Software",
             "sv": "Mjukvara"
            }
           },
           "rights": [
            {
             "description": {
              "en": "The Creative Commons Attribution license allows re-distribution and re-use of a licensed work on the condition that the creator is appropriately credited."
             },
             "icon": "cc-by-icon",
             "id": "cc-by-4.0",
             "props": {
              "scheme": "spdx",
              "url": "https://creativecommons.org/licenses/by/4.0/"
             },
             "title": {
              "en": "Creative Commons Attribution 4.0 International"
             }
            }
           ],
           "title": "Abbas tam spoliatio canonicus trans aedificium."
          },
          "parent": {
           "access": {
            "owned_by": {
             "user": "122"
            },
            "settings": {
             "accept_conditions_text": null,
             "allow_guest_requests": false,
             "allow_user_requests": false,
             "secret_link_expiration": 0
            }
           },
           "communities": {},
           "id": "gy4wa-xb595",
           "pids": {
            "doi": {
             "client": "datacite",
             "identifier": "10.81088/gy4wa-xb595",
             "provider": "datacite"
            }
           }
          },
          "pids": {
           "doi": {
            "client": "datacite",
            "identifier": "10.81088/jvedq-q6726",
            "provider": "datacite"
           },
           "oai": {
            "identifier": "oai:inveniordm.web.cern.ch:jvedq-q6726",
            "provider": "oai"
           }
          },
          "revision_id": 4,
          "stats": {
           "all_versions": {
            "data_volume": 0,
            "downloads": 0,
            "unique_downloads": 0,
            "unique_views": 0,
            "views": 0
           },
           "this_version": {
            "data_volume": 0,
            "downloads": 0,
            "unique_downloads": 0,
            "unique_views": 0,
            "views": 0
           }
          },
          "status": "published",
          "updated": "2025-07-12T18:35:28.388149+00:00",
          "versions": {
           "index": 1,
           "is_latest": true
          }
         },
         {
          "access": {
           "embargo": {
            "active": false,
            "reason": null
           },
           "files": "public",
           "record": "public",
           "status": "open"
          },
          "created": "2025-07-11T12:51:48.189972+00:00",
          "custom_fields": {},
          "deletion_status": {
           "is_deleted": false,
           "status": "P"
          },
          "files": {
           "count": 1,
           "enabled": true,
           "entries": {
            "Anon6.jpg": {
             "access": {
              "hidden": false
             },
             "checksum": "md5:7e41b92644f0a69caf5ad13b780a141c",
             "ext": "jpg",
             "id": "8b050bc5-128a-480e-ac86-8caf7b7b969b",
             "key": "Anon6.jpg",
             "metadata": {},
             "mimetype": "image/jpeg",
             "size": 105042
            }
           },
           "order": [],
           "total_bytes": 105042
          },
          "id": "p8fyf-5wg47",
          "is_draft": false,
          "is_published": true,
          "links": {
           "access": "https://inveniordm.web.cern.ch/api/records/p8fyf-5wg47/access",
           "access_grants": "https://inveniordm.web.cern.ch/api/records/p8fyf-5wg47/access/grants",
           "access_groups": "https://inveniordm.web.cern.ch/api/records/p8fyf-5wg47/access/groups",
           "access_links": "https://inveniordm.web.cern.ch/api/records/p8fyf-5wg47/access/links",
           "access_request": "https://inveniordm.web.cern.ch/api/records/p8fyf-5wg47/access/request",
           "access_users": "https://inveniordm.web.cern.ch/api/records/p8fyf-5wg47/access/users",
           "archive": "https://inveniordm.web.cern.ch/api/records/p8fyf-5wg47/files-archive",
           "archive_media": "https://inveniordm.web.cern.ch/api/records/p8fyf-5wg47/media-files-archive",
           "communities": "https://inveniordm.web.cern.ch/api/records/p8fyf-5wg47/communities",
           "communities-suggestions": "https://inveniordm.web.cern.ch/api/records/p8fyf-5wg47/communities-suggestions",
           "doi": "https://handle.stage.datacite.org/10.81088/p8fyf-5wg47",
           "draft": "https://inveniordm.web.cern.ch/api/records/p8fyf-5wg47/draft",
           "files": "https://inveniordm.web.cern.ch/api/records/p8fyf-5wg47/files",
           "latest": "https://inveniordm.web.cern.ch/api/records/p8fyf-5wg47/versions/latest",
           "latest_html": "https://inveniordm.web.cern.ch/records/p8fyf-5wg47/latest",
           "media_files": "https://inveniordm.web.cern.ch/api/records/p8fyf-5wg47/media-files",
           "parent": "https://inveniordm.web.cern.ch/api/records/t9d1g-rrx45",
           "parent_doi": "https://inveniordm.web.cern.ch/doi/10.81088/t9d1g-rrx45",
           "parent_html": "https://inveniordm.web.cern.ch/records/t9d1g-rrx45",
           "requests": "https://inveniordm.web.cern.ch/api/records/p8fyf-5wg47/requests",
           "reserve_doi": "https://inveniordm.web.cern.ch/api/records/p8fyf-5wg47/draft/pids/doi",
           "self": "https://inveniordm.web.cern.ch/api/records/p8fyf-5wg47",
           "self_doi": "https://inveniordm.web.cern.ch/doi/10.81088/p8fyf-5wg47",
           "self_html": "https://inveniordm.web.cern.ch/records/p8fyf-5wg47",
           "self_iiif_manifest": "https://inveniordm.web.cern.ch/api/iiif/record:p8fyf-5wg47/manifest",
           "self_iiif_sequence": "https://inveniordm.web.cern.ch/api/iiif/record:p8fyf-5wg47/sequence/default",
           "versions": "https://inveniordm.web.cern.ch/api/records/p8fyf-5wg47/versions"
          },
          "media_files": {
           "count": 0,
           "enabled": false,
           "entries": {},
           "order": [],
           "total_bytes": 0
          },
          "metadata": {
           "creators": [
            {
             "person_or_org": {
              "family_name": "tamdiu",
              "name": "tamdiu",
              "type": "personal"
             }
            }
           ],
           "publication_date": "2025-07-11",
           "publisher": "CERN",
           "resource_type": {
            "id": "video",
            "title": {
             "de": "Video",
             "en": "Video",
             "sv": "Video"
            }
           },
           "rights": [
            {
             "description": {
              "en": "The Creative Commons Attribution license allows re-distribution and re-use of a licensed work on the condition that the creator is appropriately credited."
             },
             "icon": "cc-by-icon",
             "id": "cc-by-4.0",
             "props": {
              "scheme": "spdx",
              "url": "https://creativecommons.org/licenses/by/4.0/"
             },
             "title": {
              "en": "Creative Commons Attribution 4.0 International"
             }
            }
           ],
           "title": "Asporto theatrum defleo votum adulatio auxilium atrocitas venia curis conqueror."
          },
          "parent": {
           "access": {
            "owned_by": {
             "user": "122"
            },
            "settings": {
             "accept_conditions_text": null,
             "allow_guest_requests": false,
             "allow_user_requests": false,
             "secret_link_expiration": 0
            }
           },
           "communities": {},
           "id": "t9d1g-rrx45",
           "pids": {
            "doi": {
             "client": "datacite",
             "identifier": "10.81088/t9d1g-rrx45",
             "provider": "datacite"
            }
           }
          },
          "pids": {
           "doi": {
            "client": "datacite",
            "identifier": "10.81088/p8fyf-5wg47",
            "provider": "datacite"
           },
           "oai": {
            "identifier": "oai:inveniordm.web.cern.ch:p8fyf-5wg47",
            "provider": "oai"
           }
          },
          "revision_id": 4,
          "stats": {
           "all_versions": {
            "data_volume": 0,
            "downloads": 0,
            "unique_downloads": 0,
            "unique_views": 0,
            "views": 0
           },
           "this_version": {
            "data_volume": 0,
            "downloads": 0,
            "unique_downloads": 0,
            "unique_views": 0,
            "views": 0
           }
          },
          "status": "published",
          "updated": "2025-07-11T12:51:48.295737+00:00",
          "versions": {
           "index": 1,
           "is_latest": true
          }
         },
         {
          "access": {
           "embargo": {
            "active": false,
            "reason": null
           },
           "files": "public",
           "record": "public",
           "status": "open"
          },
          "created": "2025-07-11T12:49:46.940495+00:00",
          "custom_fields": {},
          "deletion_status": {
           "is_deleted": false,
           "status": "P"
          },
          "files": {
           "count": 1,
           "enabled": true,
           "entries": {
            "Anon3.jpg": {
             "access": {
              "hidden": false
             },
             "checksum": "md5:27d09e71282af9261a9307ee69e8f3ba",
             "ext": "jpg",
             "id": "500e2847-af4e-4b31-afc5-f31def7c332c",
             "key": "Anon3.jpg",
             "metadata": {},
             "mimetype": "image/jpeg",
             "size": 34260
            }
           },
           "order": [],
           "total_bytes": 34260
          },
          "id": "2cevn-nav18",
          "is_draft": false,
          "is_published": true,
          "links": {
           "access": "https://inveniordm.web.cern.ch/api/records/2cevn-nav18/access",
           "access_grants": "https://inveniordm.web.cern.ch/api/records/2cevn-nav18/access/grants",
           "access_groups": "https://inveniordm.web.cern.ch/api/records/2cevn-nav18/access/groups",
           "access_links": "https://inveniordm.web.cern.ch/api/records/2cevn-nav18/access/links",
           "access_request": "https://inveniordm.web.cern.ch/api/records/2cevn-nav18/access/request",
           "access_users": "https://inveniordm.web.cern.ch/api/records/2cevn-nav18/access/users",
           "archive": "https://inveniordm.web.cern.ch/api/records/2cevn-nav18/files-archive",
           "archive_media": "https://inveniordm.web.cern.ch/api/records/2cevn-nav18/media-files-archive",
           "communities": "https://inveniordm.web.cern.ch/api/records/2cevn-nav18/communities",
           "communities-suggestions": "https://inveniordm.web.cern.ch/api/records/2cevn-nav18/communities-suggestions",
           "doi": "https://handle.stage.datacite.org/10.81088/2cevn-nav18",
           "draft": "https://inveniordm.web.cern.ch/api/records/2cevn-nav18/draft",
           "files": "https://inveniordm.web.cern.ch/api/records/2cevn-nav18/files",
           "latest": "https://inveniordm.web.cern.ch/api/records/2cevn-nav18/versions/latest",
           "latest_html": "https://inveniordm.web.cern.ch/records/2cevn-nav18/latest",
           "media_files": "https://inveniordm.web.cern.ch/api/records/2cevn-nav18/media-files",
           "parent": "https://inveniordm.web.cern.ch/api/records/rr2av-fgk49",
           "parent_doi": "https://inveniordm.web.cern.ch/doi/10.81088/rr2av-fgk49",
           "parent_html": "https://inveniordm.web.cern.ch/records/rr2av-fgk49",
           "requests": "https://inveniordm.web.cern.ch/api/records/2cevn-nav18/requests",
           "reserve_doi": "https://inveniordm.web.cern.ch/api/records/2cevn-nav18/draft/pids/doi",
           "self": "https://inveniordm.web.cern.ch/api/records/2cevn-nav18",
           "self_doi": "https://inveniordm.web.cern.ch/doi/10.81088/2cevn-nav18",
           "self_html": "https://inveniordm.web.cern.ch/records/2cevn-nav18",
           "self_iiif_manifest": "https://inveniordm.web.cern.ch/api/iiif/record:2cevn-nav18/manifest",
           "self_iiif_sequence": "https://inveniordm.web.cern.ch/api/iiif/record:2cevn-nav18/sequence/default",
           "versions": "https://inveniordm.web.cern.ch/api/records/2cevn-nav18/versions"
          },
          "media_files": {
           "count": 0,
           "enabled": false,
           "entries": {},
           "order": [],
           "total_bytes": 0
          },
          "metadata": {
           "creators": [
            {
             "person_or_org": {
              "family_name": "cervus",
              "name": "cervus",
              "type": "personal"
             }
            }
           ],
           "publication_date": "2025-07-11",
           "publisher": "CERN",
           "resource_type": {
            "id": "software",
            "title": {
             "de": "Software",
             "en": "Software",
             "sv": "Mjukvara"
            }
           },
           "rights": [
            {
             "description": {
              "en": "The Creative Commons Attribution license allows re-distribution and re-use of a licensed work on the condition that the creator is appropriately credited."
             },
             "icon": "cc-by-icon",
             "id": "cc-by-4.0",
             "props": {
              "scheme": "spdx",
              "url": "https://creativecommons.org/licenses/by/4.0/"
             },
             "title": {
              "en": "Creative Commons Attribution 4.0 International"
             }
            }
           ],
           "title": "Adulatio antiquus deripio curso delinquo deprimo cibo."
          },
          "parent": {
           "access": {
            "owned_by": {
             "user": "122"
            },
            "settings": {
             "accept_conditions_text": null,
             "allow_guest_requests": false,
             "allow_user_requests": false,
             "secret_link_expiration": 0
            }
           },
           "communities": {},
           "id": "rr2av-fgk49",
           "pids": {
            "doi": {
             "client": "datacite",
             "identifier": "10.81088/rr2av-fgk49",
             "provider": "datacite"
            }
           }
          },
          "pids": {
           "doi": {
            "client": "datacite",
            "identifier": "10.81088/2cevn-nav18",
            "provider": "datacite"
           },
           "oai": {
            "identifier": "oai:inveniordm.web.cern.ch:2cevn-nav18",
            "provider": "oai"
           }
          },
          "revision_id": 4,
          "stats": {
           "all_versions": {
            "data_volume": 0,
            "downloads": 0,
            "unique_downloads": 0,
            "unique_views": 0,
            "views": 0
           },
           "this_version": {
            "data_volume": 0,
            "downloads": 0,
            "unique_downloads": 0,
            "unique_views": 0,
            "views": 0
           }
          },
          "status": "published",
          "updated": "2025-07-11T12:49:47.056882+00:00",
          "versions": {
           "index": 1,
           "is_latest": true
          }
         },
         {
          "access": {
           "embargo": {
            "active": false,
            "reason": null
           },
           "files": "public",
           "record": "public",
           "status": "open"
          },
          "created": "2025-07-11T12:31:16.515893+00:00",
          "custom_fields": {},
          "deletion_status": {
           "is_deleted": false,
           "status": "P"
          },
          "files": {
           "count": 1,
           "enabled": true,
           "entries": {
            "Anon.jpg": {
             "access": {
              "hidden": false
             },
             "checksum": "md5:71a117a38b56abe7e765a6705f146d34",
             "ext": "jpg",
             "id": "0f2246aa-bc8f-4aac-89e3-96ce5cd36551",
             "key": "Anon.jpg",
             "metadata": {},
             "mimetype": "image/jpeg",
             "size": 9080
            }
           },
           "order": [],
           "total_bytes": 9080
          },
          "id": "nf65d-ddh41",
          "is_draft": false,
          "is_published": true,
          "links": {
           "access": "https://inveniordm.web.cern.ch/api/records/nf65d-ddh41/access",
           "access_grants": "https://inveniordm.web.cern.ch/api/records/nf65d-ddh41/access/grants",
           "access_groups": "https://inveniordm.web.cern.ch/api/records/nf65d-ddh41/access/groups",
           "access_links": "https://inveniordm.web.cern.ch/api/records/nf65d-ddh41/access/links",
           "access_request": "https://inveniordm.web.cern.ch/api/records/nf65d-ddh41/access/request",
           "access_users": "https://inveniordm.web.cern.ch/api/records/nf65d-ddh41/access/users",
           "archive": "https://inveniordm.web.cern.ch/api/records/nf65d-ddh41/files-archive",
           "archive_media": "https://inveniordm.web.cern.ch/api/records/nf65d-ddh41/media-files-archive",
           "communities": "https://inveniordm.web.cern.ch/api/records/nf65d-ddh41/communities",
           "communities-suggestions": "https://inveniordm.web.cern.ch/api/records/nf65d-ddh41/communities-suggestions",
           "doi": "https://handle.stage.datacite.org/10.81088/nf65d-ddh41",
           "draft": "https://inveniordm.web.cern.ch/api/records/nf65d-ddh41/draft",
           "files": "https://inveniordm.web.cern.ch/api/records/nf65d-ddh41/files",
           "latest": "https://inveniordm.web.cern.ch/api/records/nf65d-ddh41/versions/latest",
           "latest_html": "https://inveniordm.web.cern.ch/records/nf65d-ddh41/latest",
           "media_files": "https://inveniordm.web.cern.ch/api/records/nf65d-ddh41/media-files",
           "parent": "https://inveniordm.web.cern.ch/api/records/p90s8-c2y17",
           "parent_doi": "https://inveniordm.web.cern.ch/doi/10.81088/p90s8-c2y17",
           "parent_html": "https://inveniordm.web.cern.ch/records/p90s8-c2y17",
           "requests": "https://inveniordm.web.cern.ch/api/records/nf65d-ddh41/requests",
           "reserve_doi": "https://inveniordm.web.cern.ch/api/records/nf65d-ddh41/draft/pids/doi",
           "self": "https://inveniordm.web.cern.ch/api/records/nf65d-ddh41",
           "self_doi": "https://inveniordm.web.cern.ch/doi/10.81088/nf65d-ddh41",
           "self_html": "https://inveniordm.web.cern.ch/records/nf65d-ddh41",
           "self_iiif_manifest": "https://inveniordm.web.cern.ch/api/iiif/record:nf65d-ddh41/manifest",
           "self_iiif_sequence": "https://inveniordm.web.cern.ch/api/iiif/record:nf65d-ddh41/sequence/default",
           "versions": "https://inveniordm.web.cern.ch/api/records/nf65d-ddh41/versions"
          },
          "media_files": {
           "count": 0,
           "enabled": false,
           "entries": {},
           "order": [],
           "total_bytes": 0
          },
          "metadata": {
           "creators": [
            {
             "person_or_org": {
              "family_name": "succedo",
              "name": "succedo",
              "type": "personal"
             }
            }
           ],
           "publication_date": "2025-07-11",
           "publisher": "CERN",
           "resource_type": {
            "id": "audio",
            "title": {
             "de": "Audio",
             "en": "Audio",
             "sv": "Audio"
            }
           },
           "rights": [
            {
             "description": {
              "en": "The Creative Commons Attribution license allows re-distribution and re-use of a licensed work on the condition that the creator is appropriately credited."
             },
             "icon": "cc-by-icon",
             "id": "cc-by-4.0",
             "props": {
              "scheme": "spdx",
              "url": "https://creativecommons.org/licenses/by/4.0/"
             },
             "title": {
              "en": "Creative Commons Attribution 4.0 International"
             }
            }
           ],
           "title": "Vulariter omnis amissio."
          },
          "parent": {
           "access": {
            "owned_by": {
             "user": "122"
            },
            "settings": {
             "accept_conditions_text": null,
             "allow_guest_requests": false,
             "allow_user_requests": false,
             "secret_link_expiration": 0
            }
           },
           "communities": {},
           "id": "p90s8-c2y17",
           "pids": {
            "doi": {
             "client": "datacite",
             "identifier": "10.81088/p90s8-c2y17",
             "provider": "datacite"
            }
           }
          },
          "pids": {
           "doi": {
            "client": "datacite",
            "identifier": "10.81088/nf65d-ddh41",
            "provider": "datacite"
           },
           "oai": {
            "identifier": "oai:inveniordm.web.cern.ch:nf65d-ddh41",
            "provider": "oai"
           }
          },
          "revision_id": 4,
          "stats": {
           "all_versions": {
            "data_volume": 0,
            "downloads": 0,
            "unique_downloads": 0,
            "unique_views": 0,
            "views": 0
           },
           "this_version": {
            "data_volume": 0,
            "downloads": 0,
            "unique_downloads": 0,
            "unique_views": 0,
            "views": 0
           }
          },
          "status": "published",
          "updated": "2025-07-11T12:31:16.634599+00:00",
          "versions": {
           "index": 1,
           "is_latest": true
          }
         },
         {
          "access": {
           "embargo": {
            "active": false,
            "reason": null
           },
           "files": "public",
           "record": "public",
           "status": "open"
          },
          "created": "2025-07-10T14:17:12.171491+00:00",
          "custom_fields": {},
          "deletion_status": {
           "is_deleted": false,
           "status": "P"
          },
          "files": {
           "count": 1,
           "default_preview": "jaycee-xie-unsplash-shiba.png",
           "enabled": true,
           "entries": {
            "jaycee-xie-unsplash-shiba.png": {
             "access": {
              "hidden": false
             },
             "checksum": "md5:b96a0e6d3fafd0c7961df26988f11cd9",
             "ext": "png",
             "id": "2c74d7cb-de54-4c15-a162-3d14dc15f2a9",
             "key": "jaycee-xie-unsplash-shiba.png",
             "metadata": {
              "height": 640,
              "width": 960
             },
             "mimetype": "image/png",
             "size": 914231
            }
           },
           "order": [],
           "total_bytes": 914231
          },
          "id": "etzwa-8rf92",
          "is_draft": false,
          "is_published": true,
          "links": {
           "access": "https://inveniordm.web.cern.ch/api/records/etzwa-8rf92/access",
           "access_grants": "https://inveniordm.web.cern.ch/api/records/etzwa-8rf92/access/grants",
           "access_groups": "https://inveniordm.web.cern.ch/api/records/etzwa-8rf92/access/groups",
           "access_links": "https://inveniordm.web.cern.ch/api/records/etzwa-8rf92/access/links",
           "access_request": "https://inveniordm.web.cern.ch/api/records/etzwa-8rf92/access/request",
           "access_users": "https://inveniordm.web.cern.ch/api/records/etzwa-8rf92/access/users",
           "archive": "https://inveniordm.web.cern.ch/api/records/etzwa-8rf92/files-archive",
           "archive_media": "https://inveniordm.web.cern.ch/api/records/etzwa-8rf92/media-files-archive",
           "communities": "https://inveniordm.web.cern.ch/api/records/etzwa-8rf92/communities",
           "communities-suggestions": "https://inveniordm.web.cern.ch/api/records/etzwa-8rf92/communities-suggestions",
           "doi": "https://handle.stage.datacite.org/10.81088/etzwa-8rf92",
           "draft": "https://inveniordm.web.cern.ch/api/records/etzwa-8rf92/draft",
           "files": "https://inveniordm.web.cern.ch/api/records/etzwa-8rf92/files",
           "latest": "https://inveniordm.web.cern.ch/api/records/etzwa-8rf92/versions/latest",
           "latest_html": "https://inveniordm.web.cern.ch/records/etzwa-8rf92/latest",
           "media_files": "https://inveniordm.web.cern.ch/api/records/etzwa-8rf92/media-files",
           "parent": "https://inveniordm.web.cern.ch/api/records/bpmtx-jfm32",
           "parent_doi": "https://inveniordm.web.cern.ch/doi/10.81088/bpmtx-jfm32",
           "parent_html": "https://inveniordm.web.cern.ch/records/bpmtx-jfm32",
           "requests": "https://inveniordm.web.cern.ch/api/records/etzwa-8rf92/requests",
           "reserve_doi": "https://inveniordm.web.cern.ch/api/records/etzwa-8rf92/draft/pids/doi",
           "self": "https://inveniordm.web.cern.ch/api/records/etzwa-8rf92",
           "self_doi": "https://inveniordm.web.cern.ch/doi/10.81088/etzwa-8rf92",
           "self_html": "https://inveniordm.web.cern.ch/records/etzwa-8rf92",
           "self_iiif_manifest": "https://inveniordm.web.cern.ch/api/iiif/record:etzwa-8rf92/manifest",
           "self_iiif_sequence": "https://inveniordm.web.cern.ch/api/iiif/record:etzwa-8rf92/sequence/default",
           "versions": "https://inveniordm.web.cern.ch/api/records/etzwa-8rf92/versions"
          },
          "media_files": {
           "count": 0,
           "enabled": false,
           "entries": {},
           "order": [],
           "total_bytes": 0
          },
          "metadata": {
           "creators": [
            {
             "person_or_org": {
              "family_name": "Hufnágl",
              "given_name": "Pišta",
              "name": "Hufnágl, Pišta",
              "type": "personal"
             },
             "role": {
              "id": "other",
              "title": {
               "de": "Andere",
               "en": "Other",
               "sv": "Övriga"
              }
             }
            }
           ],
           "description": "<p>fotočka</p>",
           "publication_date": "2025-07-10",
           "publisher": "DMiksik",
           "resource_type": {
            "id": "image-photo",
            "title": {
             "de": "Foto",
             "en": "Photo",
             "sv": "Foto"
            }
           },
           "title": "Pištův testovací záznam"
          },
          "parent": {
           "access": {
            "grants": [],
            "links": [],
            "owned_by": {
             "user": "492"
            },
            "settings": {
             "accept_conditions_text": null,
             "allow_guest_requests": false,
             "allow_user_requests": false,
             "secret_link_expiration": 0
            }
           },
           "communities": {},
           "id": "bpmtx-jfm32",
           "pids": {
            "doi": {
             "client": "datacite",
             "identifier": "10.81088/bpmtx-jfm32",
             "provider": "datacite"
            }
           }
          },
          "pids": {
           "doi": {
            "client": "datacite",
            "identifier": "10.81088/etzwa-8rf92",
            "provider": "datacite"
           },
           "oai": {
            "identifier": "oai:inveniordm.web.cern.ch:etzwa-8rf92",
            "provider": "oai"
           }
          },
          "revision_id": 4,
          "stats": {
           "all_versions": {
            "data_volume": 0,
            "downloads": 0,
            "unique_downloads": 0,
            "unique_views": 0,
            "views": 0
           },
           "this_version": {
            "data_volume": 0,
            "downloads": 0,
            "unique_downloads": 0,
            "unique_views": 0,
            "views": 0
           }
          },
          "status": "published",
          "updated": "2025-07-10T14:17:12.271642+00:00",
          "versions": {
           "index": 2,
           "is_latest": true,
           "is_latest_draft": true
          }
         },
         {
          "access": {
           "embargo": {
            "active": false,
            "reason": null
           },
           "files": "public",
           "record": "public",
           "status": "open"
          },
          "created": "2025-07-07T18:56:06.135517+00:00",
          "custom_fields": {},
          "deletion_status": {
           "is_deleted": false,
           "status": "P"
          },
          "files": {
           "count": 1,
           "enabled": true,
           "entries": {
            "Residents_SocioEconomic_Data_Eastern_Moravia.csv": {
             "access": {
              "hidden": false
             },
             "checksum": "md5:1f55ae694c29573b41b8a931b6262bb1",
             "ext": "csv",
             "id": "8224b616-53b6-4b3c-9cd1-137db1219eed",
             "key": "Residents_SocioEconomic_Data_Eastern_Moravia.csv",
             "metadata": {},
             "mimetype": "text/csv",
             "size": 523398
            }
           },
           "order": [],
           "total_bytes": 523398
          },
          "id": "r0wqf-w1120",
          "is_draft": false,
          "is_published": true,
          "links": {
           "access": "https://inveniordm.web.cern.ch/api/records/r0wqf-w1120/access",
           "access_grants": "https://inveniordm.web.cern.ch/api/records/r0wqf-w1120/access/grants",
           "access_groups": "https://inveniordm.web.cern.ch/api/records/r0wqf-w1120/access/groups",
           "access_links": "https://inveniordm.web.cern.ch/api/records/r0wqf-w1120/access/links",
           "access_request": "https://inveniordm.web.cern.ch/api/records/r0wqf-w1120/access/request",
           "access_users": "https://inveniordm.web.cern.ch/api/records/r0wqf-w1120/access/users",
           "archive": "https://inveniordm.web.cern.ch/api/records/r0wqf-w1120/files-archive",
           "archive_media": "https://inveniordm.web.cern.ch/api/records/r0wqf-w1120/media-files-archive",
           "communities": "https://inveniordm.web.cern.ch/api/records/r0wqf-w1120/communities",
           "communities-suggestions": "https://inveniordm.web.cern.ch/api/records/r0wqf-w1120/communities-suggestions",
           "doi": "https://handle.stage.datacite.org/10.81088/r0wqf-w1120",
           "draft": "https://inveniordm.web.cern.ch/api/records/r0wqf-w1120/draft",
           "files": "https://inveniordm.web.cern.ch/api/records/r0wqf-w1120/files",
           "latest": "https://inveniordm.web.cern.ch/api/records/r0wqf-w1120/versions/latest",
           "latest_html": "https://inveniordm.web.cern.ch/records/r0wqf-w1120/latest",
           "media_files": "https://inveniordm.web.cern.ch/api/records/r0wqf-w1120/media-files",
           "parent": "https://inveniordm.web.cern.ch/api/records/ppc00-vkx96",
           "parent_doi": "https://inveniordm.web.cern.ch/doi/10.81088/ppc00-vkx96",
           "parent_html": "https://inveniordm.web.cern.ch/records/ppc00-vkx96",
           "requests": "https://inveniordm.web.cern.ch/api/records/r0wqf-w1120/requests",
           "reserve_doi": "https://inveniordm.web.cern.ch/api/records/r0wqf-w1120/draft/pids/doi",
           "self": "https://inveniordm.web.cern.ch/api/records/r0wqf-w1120",
           "self_doi": "https://inveniordm.web.cern.ch/doi/10.81088/r0wqf-w1120",
           "self_html": "https://inveniordm.web.cern.ch/records/r0wqf-w1120",
           "self_iiif_manifest": "https://inveniordm.web.cern.ch/api/iiif/record:r0wqf-w1120/manifest",
           "self_iiif_sequence": "https://inveniordm.web.cern.ch/api/iiif/record:r0wqf-w1120/sequence/default",
           "versions": "https://inveniordm.web.cern.ch/api/records/r0wqf-w1120/versions"
          },
          "media_files": {
           "count": 0,
           "enabled": false,
           "entries": {},
           "order": [],
           "total_bytes": 0
          },
          "metadata": {
           "additional_titles": [
            {
             "lang": {
              "id": "eng",
              "title": {
               "en": "English"
              }
             },
             "title": "DMx dataset",
             "type": {
              "id": "alternative-title",
              "title": {
               "de": "Alternativer Titel",
               "en": "Alternative title",
               "sv": "Alternativ titel"
              }
             }
            }
           ],
           "creators": [
            {
             "affiliations": [
              {
               "name": "Masaryk University"
              }
             ],
             "person_or_org": {
              "family_name": "Daniel",
              "given_name": "Miksik",
              "identifiers": [
               {
                "identifier": "0009-0008-6214-4356",
                "scheme": "orcid"
               }
              ],
              "name": "Daniel, Miksik",
              "type": "personal"
             },
             "role": {
              "id": "producer",
              "title": {
               "de": "ProduzentIn",
               "en": "Producer",
               "sv": "Producent"
              }
             }
            }
           ],
           "dates": [
            {
             "date": "2021-06-01/2025-06-01",
             "type": {
              "id": "collected",
              "title": {
               "de": "Gesammelt",
               "en": "Collected",
               "sv": "Samlade"
              }
             }
            }
           ],
           "publication_date": "2021-06-01/2025-06-01",
           "publisher": "Masaryk University",
           "resource_type": {
            "id": "dataset",
            "title": {
             "de": "Datensatz",
             "en": "Dataset",
             "sv": "Dataset"
            }
           },
           "rights": [
            {
             "description": {
              "en": "The Creative Commons Attribution license allows re-distribution and re-use of a licensed work on the condition that the creator is appropriately credited."
             },
             "icon": "cc-by-icon",
             "id": "cc-by-4.0",
             "props": {
              "scheme": "spdx",
              "url": "https://creativecommons.org/licenses/by/4.0/"
             },
             "title": {
              "en": "Creative Commons Attribution 4.0 International"
             }
            }
           ],
           "subjects": [
            {
             "id": "http://www.oecd.org/science/inno/38235147.pdf?5.4",
             "scheme": "FOS",
             "subject": "Sociology"
            }
           ],
           "title": "Socio Economic Diversity in Eastern Moravia"
          },
          "parent": {
           "access": {
            "grants": [],
            "links": [],
            "owned_by": {
             "user": "492"
            },
            "settings": {
             "accept_conditions_text": null,
             "allow_guest_requests": false,
             "allow_user_requests": false,
             "secret_link_expiration": 0
            }
           },
           "communities": {
            "default": "0c61b61c-4300-4b4b-b8ac-12a2c783845e",
            "entries": [
             {
              "access": {
               "member_policy": "open",
               "members_visibility": "public",
               "record_policy": "open",
               "review_policy": "closed",
               "visibility": "public"
              },
              "children": {
               "allow": false
              },
              "created": "2025-07-07T18:38:27.352149+00:00",
              "deletion_status": {
               "is_deleted": false,
               "status": "P"
              },
              "id": "0c61b61c-4300-4b4b-b8ac-12a2c783845e",
              "links": {},
              "metadata": {
               "title": "EOSC CZ Demo Repo Community"
              },
              "revision_id": 2,
              "slug": "eosc-cz-demo-repo",
              "updated": "2025-07-07T18:38:27.491428+00:00"
             }
            ],
            "ids": [
             "0c61b61c-4300-4b4b-b8ac-12a2c783845e"
            ]
           },
           "id": "ppc00-vkx96",
           "pids": {
            "doi": {
             "client": "datacite",
             "identifier": "10.81088/ppc00-vkx96",
             "provider": "datacite"
            }
           }
          },
          "pids": {
           "doi": {
            "client": "datacite",
            "identifier": "10.81088/r0wqf-w1120",
            "provider": "datacite"
           },
           "oai": {
            "identifier": "oai:inveniordm.web.cern.ch:r0wqf-w1120",
            "provider": "oai"
           }
          },
          "revision_id": 4,
          "stats": {
           "all_versions": {
            "data_volume": 0,
            "downloads": 0,
            "unique_downloads": 0,
            "unique_views": 0,
            "views": 0
           },
           "this_version": {
            "data_volume": 0,
            "downloads": 0,
            "unique_downloads": 0,
            "unique_views": 0,
            "views": 0
           }
          },
          "status": "published",
          "updated": "2025-07-07T18:56:06.224606+00:00",
          "versions": {
           "index": 2,
           "is_latest": true,
           "is_latest_draft": true
          }
         },
         {
          "access": {
           "embargo": {
            "active": false,
            "reason": null
           },
           "files": "public",
           "record": "public",
           "status": "open"
          },
          "created": "2025-07-07T07:02:27.517172+00:00",
          "custom_fields": {},
          "deletion_status": {
           "is_deleted": false,
           "status": "P"
          },
          "files": {
           "count": 1,
           "enabled": true,
           "entries": {
            "glucdict.pdf": {
             "access": {
              "hidden": false
             },
             "checksum": "md5:1a95cc406c53ac87f7c6653c30f96a60",
             "ext": "pdf",
             "id": "98836115-35a5-4894-9dad-1e76ceb893c2",
             "key": "glucdict.pdf",
             "metadata": {},
             "mimetype": "application/pdf",
             "size": 2615303
            }
           },
           "order": [],
           "total_bytes": 2615303
          },
          "id": "68gcd-a2990",
          "is_draft": false,
          "is_published": true,
          "links": {
           "access": "https://inveniordm.web.cern.ch/api/records/68gcd-a2990/access",
           "access_grants": "https://inveniordm.web.cern.ch/api/records/68gcd-a2990/access/grants",
           "access_groups": "https://inveniordm.web.cern.ch/api/records/68gcd-a2990/access/groups",
           "access_links": "https://inveniordm.web.cern.ch/api/records/68gcd-a2990/access/links",
           "access_request": "https://inveniordm.web.cern.ch/api/records/68gcd-a2990/access/request",
           "access_users": "https://inveniordm.web.cern.ch/api/records/68gcd-a2990/access/users",
           "archive": "https://inveniordm.web.cern.ch/api/records/68gcd-a2990/files-archive",
           "archive_media": "https://inveniordm.web.cern.ch/api/records/68gcd-a2990/media-files-archive",
           "communities": "https://inveniordm.web.cern.ch/api/records/68gcd-a2990/communities",
           "communities-suggestions": "https://inveniordm.web.cern.ch/api/records/68gcd-a2990/communities-suggestions",
           "doi": "https://handle.stage.datacite.org/10.6084/m9.%20figshare.25939312.v1",
           "draft": "https://inveniordm.web.cern.ch/api/records/68gcd-a2990/draft",
           "files": "https://inveniordm.web.cern.ch/api/records/68gcd-a2990/files",
           "latest": "https://inveniordm.web.cern.ch/api/records/68gcd-a2990/versions/latest",
           "latest_html": "https://inveniordm.web.cern.ch/records/68gcd-a2990/latest",
           "media_files": "https://inveniordm.web.cern.ch/api/records/68gcd-a2990/media-files",
           "parent": "https://inveniordm.web.cern.ch/api/records/kgscd-08949",
           "parent_html": "https://inveniordm.web.cern.ch/records/kgscd-08949",
           "requests": "https://inveniordm.web.cern.ch/api/records/68gcd-a2990/requests",
           "reserve_doi": "https://inveniordm.web.cern.ch/api/records/68gcd-a2990/draft/pids/doi",
           "self": "https://inveniordm.web.cern.ch/api/records/68gcd-a2990",
           "self_doi": "https://inveniordm.web.cern.ch/doi/10.6084/m9.%20figshare.25939312.v1",
           "self_html": "https://inveniordm.web.cern.ch/records/68gcd-a2990",
           "self_iiif_manifest": "https://inveniordm.web.cern.ch/api/iiif/record:68gcd-a2990/manifest",
           "self_iiif_sequence": "https://inveniordm.web.cern.ch/api/iiif/record:68gcd-a2990/sequence/default",
           "versions": "https://inveniordm.web.cern.ch/api/records/68gcd-a2990/versions"
          },
          "media_files": {
           "count": 0,
           "enabled": false,
           "entries": {},
           "order": [],
           "total_bytes": 0
          },
          "metadata": {
           "creators": [
            {
             "person_or_org": {
              "family_name": "Sean Pikulin",
              "name": "Sean Pikulin",
              "type": "personal"
             }
            },
            {
             "person_or_org": {
              "family_name": "Irad Yehezkel",
              "name": "Irad Yehezkel",
              "type": "personal"
             }
            }
           ],
           "publication_date": "2024-07-18",
           "publisher": "CERN",
           "resource_type": {
            "id": "publication-report",
            "title": {
             "de": "Bericht",
             "en": "Report",
             "sv": "Rapport"
            }
           },
           "rights": [
            {
             "description": {
              "en": "The Creative Commons Attribution license allows re-distribution and re-use of a licensed work on the condition that the creator is appropriately credited."
             },
             "icon": "cc-by-icon",
             "id": "cc-by-4.0",
             "props": {
              "scheme": "spdx",
              "url": "https://creativecommons.org/licenses/by/4.0/"
             },
             "title": {
              "en": "Creative Commons Attribution 4.0 International"
             }
            }
           ],
           "title": "Glucdict"
          },
          "parent": {
           "access": {
            "owned_by": {
             "user": "491"
            },
            "settings": {
             "accept_conditions_text": null,
             "allow_guest_requests": false,
             "allow_user_requests": false,
             "secret_link_expiration": 0
            }
           },
           "communities": {},
           "id": "kgscd-08949",
           "pids": {}
          },
          "pids": {
           "doi": {
            "identifier": "10.6084/m9. figshare.25939312.v1",
            "provider": "external"
           },
           "oai": {
            "identifier": "oai:inveniordm.web.cern.ch:68gcd-a2990",
            "provider": "oai"
           }
          },
          "revision_id": 6,
          "stats": {
           "all_versions": {
            "data_volume": 0,
            "downloads": 0,
            "unique_downloads": 0,
            "unique_views": 0,
            "views": 0
           },
           "this_version": {
            "data_volume": 0,
            "downloads": 0,
            "unique_downloads": 0,
            "unique_views": 0,
            "views": 0
           }
          },
          "status": "published",
          "updated": "2025-07-07T07:06:57.055388+00:00",
          "versions": {
           "index": 2,
           "is_latest": true
          }
         },
         {
          "access": {
           "embargo": {
            "active": false,
            "reason": null
           },
           "files": "public",
           "record": "public",
           "status": "open"
          },
          "created": "2025-07-03T15:52:26.840871+00:00",
          "custom_fields": {},
          "deletion_status": {
           "is_deleted": false,
           "status": "P"
          },
          "files": {
           "count": 1,
           "enabled": true,
           "entries": {
            "Anon8.jpg": {
             "access": {
              "hidden": false
             },
             "checksum": "md5:23fe3c3d417a4bbd110fc25a2e7220bc",
             "ext": "jpg",
             "id": "56b02ea1-328d-4d02-a1aa-eb0ed0d62b68",
             "key": "Anon8.jpg",
             "metadata": {},
             "mimetype": "image/jpeg",
             "size": 32316
            }
           },
           "order": [],
           "total_bytes": 32316
          },
          "id": "a39v8-mn404",
          "is_draft": false,
          "is_published": true,
          "links": {
           "access": "https://inveniordm.web.cern.ch/api/records/a39v8-mn404/access",
           "access_grants": "https://inveniordm.web.cern.ch/api/records/a39v8-mn404/access/grants",
           "access_groups": "https://inveniordm.web.cern.ch/api/records/a39v8-mn404/access/groups",
           "access_links": "https://inveniordm.web.cern.ch/api/records/a39v8-mn404/access/links",
           "access_request": "https://inveniordm.web.cern.ch/api/records/a39v8-mn404/access/request",
           "access_users": "https://inveniordm.web.cern.ch/api/records/a39v8-mn404/access/users",
           "archive": "https://inveniordm.web.cern.ch/api/records/a39v8-mn404/files-archive",
           "archive_media": "https://inveniordm.web.cern.ch/api/records/a39v8-mn404/media-files-archive",
           "communities": "https://inveniordm.web.cern.ch/api/records/a39v8-mn404/communities",
           "communities-suggestions": "https://inveniordm.web.cern.ch/api/records/a39v8-mn404/communities-suggestions",
           "doi": "https://handle.stage.datacite.org/10.81088/a39v8-mn404",
           "draft": "https://inveniordm.web.cern.ch/api/records/a39v8-mn404/draft",
           "files": "https://inveniordm.web.cern.ch/api/records/a39v8-mn404/files",
           "latest": "https://inveniordm.web.cern.ch/api/records/a39v8-mn404/versions/latest",
           "latest_html": "https://inveniordm.web.cern.ch/records/a39v8-mn404/latest",
           "media_files": "https://inveniordm.web.cern.ch/api/records/a39v8-mn404/media-files",
           "parent": "https://inveniordm.web.cern.ch/api/records/5nbxc-7r661",
           "parent_doi": "https://inveniordm.web.cern.ch/doi/10.81088/5nbxc-7r661",
           "parent_html": "https://inveniordm.web.cern.ch/records/5nbxc-7r661",
           "requests": "https://inveniordm.web.cern.ch/api/records/a39v8-mn404/requests",
           "reserve_doi": "https://inveniordm.web.cern.ch/api/records/a39v8-mn404/draft/pids/doi",
           "self": "https://inveniordm.web.cern.ch/api/records/a39v8-mn404",
           "self_doi": "https://inveniordm.web.cern.ch/doi/10.81088/a39v8-mn404",
           "self_html": "https://inveniordm.web.cern.ch/records/a39v8-mn404",
           "self_iiif_manifest": "https://inveniordm.web.cern.ch/api/iiif/record:a39v8-mn404/manifest",
           "self_iiif_sequence": "https://inveniordm.web.cern.ch/api/iiif/record:a39v8-mn404/sequence/default",
           "versions": "https://inveniordm.web.cern.ch/api/records/a39v8-mn404/versions"
          },
          "media_files": {
           "count": 0,
           "enabled": false,
           "entries": {},
           "order": [],
           "total_bytes": 0
          },
          "metadata": {
           "creators": [
            {
             "person_or_org": {
              "family_name": "adsuesco",
              "name": "adsuesco",
              "type": "personal"
             }
            }
           ],
           "publication_date": "2025-07-03",
           "publisher": "CERN",
           "resource_type": {
            "id": "audio",
            "title": {
             "de": "Audio",
             "en": "Audio",
             "sv": "Audio"
            }
           },
           "rights": [
            {
             "description": {
              "en": "The Creative Commons Attribution license allows re-distribution and re-use of a licensed work on the condition that the creator is appropriately credited."
             },
             "icon": "cc-by-icon",
             "id": "cc-by-4.0",
             "props": {
              "scheme": "spdx",
              "url": "https://creativecommons.org/licenses/by/4.0/"
             },
             "title": {
              "en": "Creative Commons Attribution 4.0 International"
             }
            }
           ],
           "title": "Cornu vergo adipisci vinculum callide amissio."
          },
          "parent": {
           "access": {
            "owned_by": {
             "user": "122"
            },
            "settings": {
             "accept_conditions_text": null,
             "allow_guest_requests": false,
             "allow_user_requests": false,
             "secret_link_expiration": 0
            }
           },
           "communities": {},
           "id": "5nbxc-7r661",
           "pids": {
            "doi": {
             "client": "datacite",
             "identifier": "10.81088/5nbxc-7r661",
             "provider": "datacite"
            }
           }
          },
          "pids": {
           "doi": {
            "client": "datacite",
            "identifier": "10.81088/a39v8-mn404",
            "provider": "datacite"
           },
           "oai": {
            "identifier": "oai:inveniordm.web.cern.ch:a39v8-mn404",
            "provider": "oai"
           }
          },
          "revision_id": 4,
          "stats": {
           "all_versions": {
            "data_volume": 0,
            "downloads": 0,
            "unique_downloads": 0,
            "unique_views": 0,
            "views": 0
           },
           "this_version": {
            "data_volume": 0,
            "downloads": 0,
            "unique_downloads": 0,
            "unique_views": 0,
            "views": 0
           }
          },
          "status": "published",
          "updated": "2025-07-03T15:52:26.920370+00:00",
          "versions": {
           "index": 1,
           "is_latest": true
          }
         },
         {
          "access": {
           "embargo": {
            "active": false,
            "reason": null
           },
           "files": "public",
           "record": "public",
           "status": "open"
          },
          "created": "2025-07-03T15:51:42.864332+00:00",
          "custom_fields": {},
          "deletion_status": {
           "is_deleted": false,
           "status": "P"
          },
          "files": {
           "count": 1,
           "enabled": true,
           "entries": {
            "Anon6.jpg": {
             "access": {
              "hidden": false
             },
             "checksum": "md5:7e41b92644f0a69caf5ad13b780a141c",
             "ext": "jpg",
             "id": "dad25a5d-0b25-4002-8f1d-436d687571bb",
             "key": "Anon6.jpg",
             "metadata": {
              "height": 240,
              "width": 427
             },
             "mimetype": "image/jpeg",
             "size": 105042
            }
           },
           "order": [],
           "total_bytes": 105042
          },
          "id": "5gkpb-nen02",
          "is_draft": false,
          "is_published": true,
          "links": {
           "access": "https://inveniordm.web.cern.ch/api/records/5gkpb-nen02/access",
           "access_grants": "https://inveniordm.web.cern.ch/api/records/5gkpb-nen02/access/grants",
           "access_groups": "https://inveniordm.web.cern.ch/api/records/5gkpb-nen02/access/groups",
           "access_links": "https://inveniordm.web.cern.ch/api/records/5gkpb-nen02/access/links",
           "access_request": "https://inveniordm.web.cern.ch/api/records/5gkpb-nen02/access/request",
           "access_users": "https://inveniordm.web.cern.ch/api/records/5gkpb-nen02/access/users",
           "archive": "https://inveniordm.web.cern.ch/api/records/5gkpb-nen02/files-archive",
           "archive_media": "https://inveniordm.web.cern.ch/api/records/5gkpb-nen02/media-files-archive",
           "communities": "https://inveniordm.web.cern.ch/api/records/5gkpb-nen02/communities",
           "communities-suggestions": "https://inveniordm.web.cern.ch/api/records/5gkpb-nen02/communities-suggestions",
           "doi": "https://handle.stage.datacite.org/10.81088/5gkpb-nen02",
           "draft": "https://inveniordm.web.cern.ch/api/records/5gkpb-nen02/draft",
           "files": "https://inveniordm.web.cern.ch/api/records/5gkpb-nen02/files",
           "latest": "https://inveniordm.web.cern.ch/api/records/5gkpb-nen02/versions/latest",
           "latest_html": "https://inveniordm.web.cern.ch/records/5gkpb-nen02/latest",
           "media_files": "https://inveniordm.web.cern.ch/api/records/5gkpb-nen02/media-files",
           "parent": "https://inveniordm.web.cern.ch/api/records/4sr0v-hxz31",
           "parent_doi": "https://inveniordm.web.cern.ch/doi/10.81088/4sr0v-hxz31",
           "parent_html": "https://inveniordm.web.cern.ch/records/4sr0v-hxz31",
           "requests": "https://inveniordm.web.cern.ch/api/records/5gkpb-nen02/requests",
           "reserve_doi": "https://inveniordm.web.cern.ch/api/records/5gkpb-nen02/draft/pids/doi",
           "self": "https://inveniordm.web.cern.ch/api/records/5gkpb-nen02",
           "self_doi": "https://inveniordm.web.cern.ch/doi/10.81088/5gkpb-nen02",
           "self_html": "https://inveniordm.web.cern.ch/records/5gkpb-nen02",
           "self_iiif_manifest": "https://inveniordm.web.cern.ch/api/iiif/record:5gkpb-nen02/manifest",
           "self_iiif_sequence": "https://inveniordm.web.cern.ch/api/iiif/record:5gkpb-nen02/sequence/default",
           "versions": "https://inveniordm.web.cern.ch/api/records/5gkpb-nen02/versions"
          },
          "media_files": {
           "count": 0,
           "enabled": false,
           "entries": {},
           "order": [],
           "total_bytes": 0
          },
          "metadata": {
           "creators": [
            {
             "person_or_org": {
              "family_name": "vitiosus",
              "name": "vitiosus",
              "type": "personal"
             }
            }
           ],
           "description": "<p>Alo a quis aperio ventosus cohaero dens attonbitus cresco celo. Arbor tandem compono eos desipio ambitus caelum. Cruentus ciminatio depereo delibero thesaurus apostolus tribuo.</p>",
           "publication_date": "2025-07-03",
           "publisher": "CERN",
           "resource_type": {
            "id": "audio",
            "title": {
             "de": "Audio",
             "en": "Audio",
             "sv": "Audio"
            }
           },
           "rights": [
            {
             "description": {
              "en": "The Creative Commons Attribution license allows re-distribution and re-use of a licensed work on the condition that the creator is appropriately credited."
             },
             "icon": "cc-by-icon",
             "id": "cc-by-4.0",
             "props": {
              "scheme": "spdx",
              "url": "https://creativecommons.org/licenses/by/4.0/"
             },
             "title": {
              "en": "Creative Commons Attribution 4.0 International"
             }
            }
           ],
           "title": "Quae depopulo iusto exercitationem aurum sufficio."
          },
          "parent": {
           "access": {
            "owned_by": {
             "user": "122"
            },
            "settings": {
             "accept_conditions_text": null,
             "allow_guest_requests": false,
             "allow_user_requests": false,
             "secret_link_expiration": 0
            }
           },
           "communities": {},
           "id": "4sr0v-hxz31",
           "pids": {
            "doi": {
             "client": "datacite",
             "identifier": "10.81088/4sr0v-hxz31",
             "provider": "datacite"
            }
           }
          },
          "pids": {
           "doi": {
            "client": "datacite",
            "identifier": "10.81088/5gkpb-nen02",
            "provider": "datacite"
           },
           "oai": {
            "identifier": "oai:inveniordm.web.cern.ch:5gkpb-nen02",
            "provider": "oai"
           }
          },
          "revision_id": 6,
          "stats": {
           "all_versions": {
            "data_volume": 0,
            "downloads": 0,
            "unique_downloads": 0,
            "unique_views": 0,
            "views": 0
           },
           "this_version": {
            "data_volume": 0,
            "downloads": 0,
            "unique_downloads": 0,
            "unique_views": 0,
            "views": 0
           }
          },
          "status": "published",
          "updated": "2025-07-03T15:51:57.753707+00:00",
          "versions": {
           "index": 1,
           "is_latest": true
          }
         },
         {
          "access": {
           "embargo": {
            "active": false,
            "reason": null
           },
           "files": "public",
           "record": "public",
           "status": "open"
          },
          "created": "2025-07-03T15:51:12.850283+00:00",
          "custom_fields": {},
          "deletion_status": {
           "is_deleted": false,
           "status": "P"
          },
          "files": {
           "count": 1,
           "enabled": true,
           "entries": {
            "Anon4.jpg": {
             "access": {
              "hidden": false
             },
             "checksum": "md5:cbc1e72173faf56f8bea2276db0c636a",
             "ext": "jpg",
             "id": "fe16d60b-edf0-4520-a8ea-1398522642c9",
             "key": "Anon4.jpg",
             "metadata": {
              "height": 240,
              "width": 360
             },
             "mimetype": "image/jpeg",
             "size": 23940
            }
           },
           "order": [],
           "total_bytes": 23940
          },
          "id": "4kemv-dd057",
          "is_draft": false,
          "is_published": true,
          "links": {
           "access": "https://inveniordm.web.cern.ch/api/records/4kemv-dd057/access",
           "access_grants": "https://inveniordm.web.cern.ch/api/records/4kemv-dd057/access/grants",
           "access_groups": "https://inveniordm.web.cern.ch/api/records/4kemv-dd057/access/groups",
           "access_links": "https://inveniordm.web.cern.ch/api/records/4kemv-dd057/access/links",
           "access_request": "https://inveniordm.web.cern.ch/api/records/4kemv-dd057/access/request",
           "access_users": "https://inveniordm.web.cern.ch/api/records/4kemv-dd057/access/users",
           "archive": "https://inveniordm.web.cern.ch/api/records/4kemv-dd057/files-archive",
           "archive_media": "https://inveniordm.web.cern.ch/api/records/4kemv-dd057/media-files-archive",
           "communities": "https://inveniordm.web.cern.ch/api/records/4kemv-dd057/communities",
           "communities-suggestions": "https://inveniordm.web.cern.ch/api/records/4kemv-dd057/communities-suggestions",
           "doi": "https://handle.stage.datacite.org/10.81088/4kemv-dd057",
           "draft": "https://inveniordm.web.cern.ch/api/records/4kemv-dd057/draft",
           "files": "https://inveniordm.web.cern.ch/api/records/4kemv-dd057/files",
           "latest": "https://inveniordm.web.cern.ch/api/records/4kemv-dd057/versions/latest",
           "latest_html": "https://inveniordm.web.cern.ch/records/4kemv-dd057/latest",
           "media_files": "https://inveniordm.web.cern.ch/api/records/4kemv-dd057/media-files",
           "parent": "https://inveniordm.web.cern.ch/api/records/0a3bx-b0f25",
           "parent_doi": "https://inveniordm.web.cern.ch/doi/10.81088/0a3bx-b0f25",
           "parent_html": "https://inveniordm.web.cern.ch/records/0a3bx-b0f25",
           "requests": "https://inveniordm.web.cern.ch/api/records/4kemv-dd057/requests",
           "reserve_doi": "https://inveniordm.web.cern.ch/api/records/4kemv-dd057/draft/pids/doi",
           "self": "https://inveniordm.web.cern.ch/api/records/4kemv-dd057",
           "self_doi": "https://inveniordm.web.cern.ch/doi/10.81088/4kemv-dd057",
           "self_html": "https://inveniordm.web.cern.ch/records/4kemv-dd057",
           "self_iiif_manifest": "https://inveniordm.web.cern.ch/api/iiif/record:4kemv-dd057/manifest",
           "self_iiif_sequence": "https://inveniordm.web.cern.ch/api/iiif/record:4kemv-dd057/sequence/default",
           "versions": "https://inveniordm.web.cern.ch/api/records/4kemv-dd057/versions"
          },
          "media_files": {
           "count": 0,
           "enabled": false,
           "entries": {},
           "order": [],
           "total_bytes": 0
          },
          "metadata": {
           "creators": [
            {
             "person_or_org": {
              "family_name": "mollitia",
              "name": "mollitia",
              "type": "personal"
             }
            }
           ],
           "publication_date": "2025-07-03",
           "publisher": "CERN",
           "resource_type": {
            "id": "workflow",
            "title": {
             "de": "Workflow",
             "en": "Workflow",
             "sv": "Workflow"
            }
           },
           "rights": [
            {
             "description": {
              "en": "The Creative Commons Attribution license allows re-distribution and re-use of a licensed work on the condition that the creator is appropriately credited."
             },
             "icon": "cc-by-icon",
             "id": "cc-by-4.0",
             "props": {
              "scheme": "spdx",
              "url": "https://creativecommons.org/licenses/by/4.0/"
             },
             "title": {
              "en": "Creative Commons Attribution 4.0 International"
             }
            }
           ],
           "title": "Cultura creta vere."
          },
          "parent": {
           "access": {
            "owned_by": {
             "user": "122"
            },
            "settings": {
             "accept_conditions_text": null,
             "allow_guest_requests": false,
             "allow_user_requests": false,
             "secret_link_expiration": 0
            }
           },
           "communities": {},
           "id": "0a3bx-b0f25",
           "pids": {
            "doi": {
             "client": "datacite",
             "identifier": "10.81088/0a3bx-b0f25",
             "provider": "datacite"
            }
           }
          },
          "pids": {
           "doi": {
            "client": "datacite",
            "identifier": "10.81088/4kemv-dd057",
            "provider": "datacite"
           },
           "oai": {
            "identifier": "oai:inveniordm.web.cern.ch:4kemv-dd057",
            "provider": "oai"
           }
          },
          "revision_id": 4,
          "stats": {
           "all_versions": {
            "data_volume": 0,
            "downloads": 0,
            "unique_downloads": 0,
            "unique_views": 0,
            "views": 0
           },
           "this_version": {
            "data_volume": 0,
            "downloads": 0,
            "unique_downloads": 0,
            "unique_views": 0,
            "views": 0
           }
          },
          "status": "published",
          "updated": "2025-07-03T15:51:12.939807+00:00",
          "versions": {
           "index": 1,
           "is_latest": true
          }
         },
         {
          "access": {
           "embargo": {
            "active": false,
            "reason": null
           },
           "files": "public",
           "record": "public",
           "status": "open"
          },
          "created": "2025-07-03T15:50:38.171914+00:00",
          "custom_fields": {},
          "deletion_status": {
           "is_deleted": false,
           "status": "P"
          },
          "files": {
           "count": 1,
           "enabled": true,
           "entries": {
            "Anon2.jpg": {
             "access": {
              "hidden": false
             },
             "checksum": "md5:ffa2a7b9c71c139aacc781d158fffa8b",
             "ext": "jpg",
             "id": "397a6af7-b42e-4748-8275-a2b0e98612db",
             "key": "Anon2.jpg",
             "metadata": {
              "height": 240,
              "width": 445
             },
             "mimetype": "image/jpeg",
             "size": 51227
            }
           },
           "order": [],
           "total_bytes": 51227
          },
          "id": "0ra7c-m2p44",
          "is_draft": false,
          "is_published": true,
          "links": {
           "access": "https://inveniordm.web.cern.ch/api/records/0ra7c-m2p44/access",
           "access_grants": "https://inveniordm.web.cern.ch/api/records/0ra7c-m2p44/access/grants",
           "access_groups": "https://inveniordm.web.cern.ch/api/records/0ra7c-m2p44/access/groups",
           "access_links": "https://inveniordm.web.cern.ch/api/records/0ra7c-m2p44/access/links",
           "access_request": "https://inveniordm.web.cern.ch/api/records/0ra7c-m2p44/access/request",
           "access_users": "https://inveniordm.web.cern.ch/api/records/0ra7c-m2p44/access/users",
           "archive": "https://inveniordm.web.cern.ch/api/records/0ra7c-m2p44/files-archive",
           "archive_media": "https://inveniordm.web.cern.ch/api/records/0ra7c-m2p44/media-files-archive",
           "communities": "https://inveniordm.web.cern.ch/api/records/0ra7c-m2p44/communities",
           "communities-suggestions": "https://inveniordm.web.cern.ch/api/records/0ra7c-m2p44/communities-suggestions",
           "doi": "https://handle.stage.datacite.org/10.81088/0ra7c-m2p44",
           "draft": "https://inveniordm.web.cern.ch/api/records/0ra7c-m2p44/draft",
           "files": "https://inveniordm.web.cern.ch/api/records/0ra7c-m2p44/files",
           "latest": "https://inveniordm.web.cern.ch/api/records/0ra7c-m2p44/versions/latest",
           "latest_html": "https://inveniordm.web.cern.ch/records/0ra7c-m2p44/latest",
           "media_files": "https://inveniordm.web.cern.ch/api/records/0ra7c-m2p44/media-files",
           "parent": "https://inveniordm.web.cern.ch/api/records/51b00-0js76",
           "parent_doi": "https://inveniordm.web.cern.ch/doi/10.81088/51b00-0js76",
           "parent_html": "https://inveniordm.web.cern.ch/records/51b00-0js76",
           "requests": "https://inveniordm.web.cern.ch/api/records/0ra7c-m2p44/requests",
           "reserve_doi": "https://inveniordm.web.cern.ch/api/records/0ra7c-m2p44/draft/pids/doi",
           "self": "https://inveniordm.web.cern.ch/api/records/0ra7c-m2p44",
           "self_doi": "https://inveniordm.web.cern.ch/doi/10.81088/0ra7c-m2p44",
           "self_html": "https://inveniordm.web.cern.ch/records/0ra7c-m2p44",
           "self_iiif_manifest": "https://inveniordm.web.cern.ch/api/iiif/record:0ra7c-m2p44/manifest",
           "self_iiif_sequence": "https://inveniordm.web.cern.ch/api/iiif/record:0ra7c-m2p44/sequence/default",
           "versions": "https://inveniordm.web.cern.ch/api/records/0ra7c-m2p44/versions"
          },
          "media_files": {
           "count": 0,
           "enabled": false,
           "entries": {},
           "order": [],
           "total_bytes": 0
          },
          "metadata": {
           "creators": [
            {
             "person_or_org": {
              "family_name": "perspiciatis",
              "name": "perspiciatis",
              "type": "personal"
             }
            }
           ],
           "publication_date": "2025-07-03",
           "publisher": "CERN",
           "resource_type": {
            "id": "other",
            "title": {
             "de": "Sonstige",
             "en": "Other",
             "sv": "Övrig"
            }
           },
           "rights": [
            {
             "description": {
              "en": "The Creative Commons Attribution license allows re-distribution and re-use of a licensed work on the condition that the creator is appropriately credited."
             },
             "icon": "cc-by-icon",
             "id": "cc-by-4.0",
             "props": {
              "scheme": "spdx",
              "url": "https://creativecommons.org/licenses/by/4.0/"
             },
             "title": {
              "en": "Creative Commons Attribution 4.0 International"
             }
            }
           ],
           "title": "Caterva stultus vado ait valeo libero arcus fugiat ulciscor."
          },
          "parent": {
           "access": {
            "owned_by": {
             "user": "122"
            },
            "settings": {
             "accept_conditions_text": null,
             "allow_guest_requests": false,
             "allow_user_requests": false,
             "secret_link_expiration": 0
            }
           },
           "communities": {},
           "id": "51b00-0js76",
           "pids": {
            "doi": {
             "client": "datacite",
             "identifier": "10.81088/51b00-0js76",
             "provider": "datacite"
            }
           }
          },
          "pids": {
           "doi": {
            "client": "datacite",
            "identifier": "10.81088/0ra7c-m2p44",
            "provider": "datacite"
           },
           "oai": {
            "identifier": "oai:inveniordm.web.cern.ch:0ra7c-m2p44",
            "provider": "oai"
           }
          },
          "revision_id": 4,
          "stats": {
           "all_versions": {
            "data_volume": 0,
            "downloads": 0,
            "unique_downloads": 0,
            "unique_views": 0,
            "views": 0
           },
           "this_version": {
            "data_volume": 0,
            "downloads": 0,
            "unique_downloads": 0,
            "unique_views": 0,
            "views": 0
           }
          },
          "status": "published",
          "updated": "2025-07-03T15:50:38.280768+00:00",
          "versions": {
           "index": 1,
           "is_latest": true
          }
         },
         {
          "access": {
           "embargo": {
            "active": false,
            "reason": null
           },
           "files": "public",
           "record": "public",
           "status": "open"
          },
          "created": "2025-07-02T10:32:31.201476+00:00",
          "custom_fields": {},
          "deletion_status": {
           "is_deleted": false,
           "status": "P"
          },
          "files": {
           "count": 1,
           "enabled": true,
           "entries": {
            "Anon7.jpg": {
             "access": {
              "hidden": false
             },
             "checksum": "md5:0e90e1b1d9afeef09e0bc4937f21e3f3",
             "ext": "jpg",
             "id": "db274fba-ff7b-4076-8f7e-02ef654c9854",
             "key": "Anon7.jpg",
             "metadata": {
              "height": 240,
              "width": 361
             },
             "mimetype": "image/jpeg",
             "size": 22908
            }
           },
           "order": [],
           "total_bytes": 22908
          },
          "id": "9hk6z-feb77",
          "is_draft": false,
          "is_published": true,
          "links": {
           "access": "https://inveniordm.web.cern.ch/api/records/9hk6z-feb77/access",
           "access_grants": "https://inveniordm.web.cern.ch/api/records/9hk6z-feb77/access/grants",
           "access_groups": "https://inveniordm.web.cern.ch/api/records/9hk6z-feb77/access/groups",
           "access_links": "https://inveniordm.web.cern.ch/api/records/9hk6z-feb77/access/links",
           "access_request": "https://inveniordm.web.cern.ch/api/records/9hk6z-feb77/access/request",
           "access_users": "https://inveniordm.web.cern.ch/api/records/9hk6z-feb77/access/users",
           "archive": "https://inveniordm.web.cern.ch/api/records/9hk6z-feb77/files-archive",
           "archive_media": "https://inveniordm.web.cern.ch/api/records/9hk6z-feb77/media-files-archive",
           "communities": "https://inveniordm.web.cern.ch/api/records/9hk6z-feb77/communities",
           "communities-suggestions": "https://inveniordm.web.cern.ch/api/records/9hk6z-feb77/communities-suggestions",
           "doi": "https://handle.stage.datacite.org/10.81088/9hk6z-feb77",
           "draft": "https://inveniordm.web.cern.ch/api/records/9hk6z-feb77/draft",
           "files": "https://inveniordm.web.cern.ch/api/records/9hk6z-feb77/files",
           "latest": "https://inveniordm.web.cern.ch/api/records/9hk6z-feb77/versions/latest",
           "latest_html": "https://inveniordm.web.cern.ch/records/9hk6z-feb77/latest",
           "media_files": "https://inveniordm.web.cern.ch/api/records/9hk6z-feb77/media-files",
           "parent": "https://inveniordm.web.cern.ch/api/records/vvdsv-0bm32",
           "parent_doi": "https://inveniordm.web.cern.ch/doi/10.81088/vvdsv-0bm32",
           "parent_html": "https://inveniordm.web.cern.ch/records/vvdsv-0bm32",
           "requests": "https://inveniordm.web.cern.ch/api/records/9hk6z-feb77/requests",
           "reserve_doi": "https://inveniordm.web.cern.ch/api/records/9hk6z-feb77/draft/pids/doi",
           "self": "https://inveniordm.web.cern.ch/api/records/9hk6z-feb77",
           "self_doi": "https://inveniordm.web.cern.ch/doi/10.81088/9hk6z-feb77",
           "self_html": "https://inveniordm.web.cern.ch/records/9hk6z-feb77",
           "self_iiif_manifest": "https://inveniordm.web.cern.ch/api/iiif/record:9hk6z-feb77/manifest",
           "self_iiif_sequence": "https://inveniordm.web.cern.ch/api/iiif/record:9hk6z-feb77/sequence/default",
           "versions": "https://inveniordm.web.cern.ch/api/records/9hk6z-feb77/versions"
          },
          "media_files": {
           "count": 0,
           "enabled": false,
           "entries": {},
           "order": [],
           "total_bytes": 0
          },
          "metadata": {
           "creators": [
            {
             "person_or_org": {
              "family_name": "virga",
              "name": "virga",
              "type": "personal"
             }
            }
           ],
           "publication_date": "2025-07-02",
           "publisher": "CERN",
           "resource_type": {
            "id": "software",
            "title": {
             "de": "Software",
             "en": "Software",
             "sv": "Mjukvara"
            }
           },
           "rights": [
            {
             "description": {
              "en": "The Creative Commons Attribution license allows re-distribution and re-use of a licensed work on the condition that the creator is appropriately credited."
             },
             "icon": "cc-by-icon",
             "id": "cc-by-4.0",
             "props": {
              "scheme": "spdx",
              "url": "https://creativecommons.org/licenses/by/4.0/"
             },
             "title": {
              "en": "Creative Commons Attribution 4.0 International"
             }
            }
           ],
           "title": "Aequus tripudio valeo comparo terminatio aptus charisma voluptate angustus."
          },
          "parent": {
           "access": {
            "owned_by": {
             "user": "122"
            },
            "settings": {
             "accept_conditions_text": null,
             "allow_guest_requests": false,
             "allow_user_requests": false,
             "secret_link_expiration": 0
            }
           },
           "communities": {},
           "id": "vvdsv-0bm32",
           "pids": {
            "doi": {
             "client": "datacite",
             "identifier": "10.81088/vvdsv-0bm32",
             "provider": "datacite"
            }
           }
          },
          "pids": {
           "doi": {
            "client": "datacite",
            "identifier": "10.81088/9hk6z-feb77",
            "provider": "datacite"
           },
           "oai": {
            "identifier": "oai:inveniordm.web.cern.ch:9hk6z-feb77",
            "provider": "oai"
           }
          },
          "revision_id": 4,
          "stats": {
           "all_versions": {
            "data_volume": 0,
            "downloads": 0,
            "unique_downloads": 0,
            "unique_views": 0,
            "views": 0
           },
           "this_version": {
            "data_volume": 0,
            "downloads": 0,
            "unique_downloads": 0,
            "unique_views": 0,
            "views": 0
           }
          },
          "status": "published",
          "updated": "2025-07-02T10:32:31.266512+00:00",
          "versions": {
           "index": 2,
           "is_latest": true
          }
         },
         {
          "access": {
           "embargo": {
            "active": false,
            "reason": null
           },
           "files": "public",
           "record": "public",
           "status": "open"
          },
          "created": "2025-07-02T10:32:06.762172+00:00",
          "custom_fields": {},
          "deletion_status": {
           "is_deleted": false,
           "status": "P"
          },
          "files": {
           "count": 1,
           "enabled": true,
           "entries": {
            "Anon5.jpg": {
             "access": {
              "hidden": false
             },
             "checksum": "md5:2bf1bb14f205b6dde6de8553e0270a57",
             "ext": "jpg",
             "id": "75e7f540-1b09-4893-93c3-7df0e9939595",
             "key": "Anon5.jpg",
             "metadata": {},
             "mimetype": "image/jpeg",
             "size": 18465
            }
           },
           "order": [],
           "total_bytes": 18465
          },
          "id": "791wv-wnk94",
          "is_draft": false,
          "is_published": true,
          "links": {
           "access": "https://inveniordm.web.cern.ch/api/records/791wv-wnk94/access",
           "access_grants": "https://inveniordm.web.cern.ch/api/records/791wv-wnk94/access/grants",
           "access_groups": "https://inveniordm.web.cern.ch/api/records/791wv-wnk94/access/groups",
           "access_links": "https://inveniordm.web.cern.ch/api/records/791wv-wnk94/access/links",
           "access_request": "https://inveniordm.web.cern.ch/api/records/791wv-wnk94/access/request",
           "access_users": "https://inveniordm.web.cern.ch/api/records/791wv-wnk94/access/users",
           "archive": "https://inveniordm.web.cern.ch/api/records/791wv-wnk94/files-archive",
           "archive_media": "https://inveniordm.web.cern.ch/api/records/791wv-wnk94/media-files-archive",
           "communities": "https://inveniordm.web.cern.ch/api/records/791wv-wnk94/communities",
           "communities-suggestions": "https://inveniordm.web.cern.ch/api/records/791wv-wnk94/communities-suggestions",
           "doi": "https://handle.stage.datacite.org/10.81088/791wv-wnk94",
           "draft": "https://inveniordm.web.cern.ch/api/records/791wv-wnk94/draft",
           "files": "https://inveniordm.web.cern.ch/api/records/791wv-wnk94/files",
           "latest": "https://inveniordm.web.cern.ch/api/records/791wv-wnk94/versions/latest",
           "latest_html": "https://inveniordm.web.cern.ch/records/791wv-wnk94/latest",
           "media_files": "https://inveniordm.web.cern.ch/api/records/791wv-wnk94/media-files",
           "parent": "https://inveniordm.web.cern.ch/api/records/pj5xm-gfw73",
           "parent_doi": "https://inveniordm.web.cern.ch/doi/10.81088/pj5xm-gfw73",
           "parent_html": "https://inveniordm.web.cern.ch/records/pj5xm-gfw73",
           "requests": "https://inveniordm.web.cern.ch/api/records/791wv-wnk94/requests",
           "reserve_doi": "https://inveniordm.web.cern.ch/api/records/791wv-wnk94/draft/pids/doi",
           "self": "https://inveniordm.web.cern.ch/api/records/791wv-wnk94",
           "self_doi": "https://inveniordm.web.cern.ch/doi/10.81088/791wv-wnk94",
           "self_html": "https://inveniordm.web.cern.ch/records/791wv-wnk94",
           "self_iiif_manifest": "https://inveniordm.web.cern.ch/api/iiif/record:791wv-wnk94/manifest",
           "self_iiif_sequence": "https://inveniordm.web.cern.ch/api/iiif/record:791wv-wnk94/sequence/default",
           "versions": "https://inveniordm.web.cern.ch/api/records/791wv-wnk94/versions"
          },
          "media_files": {
           "count": 0,
           "enabled": false,
           "entries": {},
           "order": [],
           "total_bytes": 0
          },
          "metadata": {
           "creators": [
            {
             "person_or_org": {
              "family_name": "cariosus",
              "name": "cariosus",
              "type": "personal"
             }
            }
           ],
           "publication_date": "2025-07-02",
           "publisher": "CERN",
           "resource_type": {
            "id": "poster",
            "title": {
             "de": "Poster",
             "en": "Poster",
             "sv": "Poster"
            }
           },
           "rights": [
            {
             "description": {
              "en": "The Creative Commons Attribution license allows re-distribution and re-use of a licensed work on the condition that the creator is appropriately credited."
             },
             "icon": "cc-by-icon",
             "id": "cc-by-4.0",
             "props": {
              "scheme": "spdx",
              "url": "https://creativecommons.org/licenses/by/4.0/"
             },
             "title": {
              "en": "Creative Commons Attribution 4.0 International"
             }
            }
           ],
           "title": "Pauci cultura clementia accedo artificiose adulescens confido velut viduo avarus."
          },
          "parent": {
           "access": {
            "owned_by": {
             "user": "122"
            },
            "settings": {
             "accept_conditions_text": null,
             "allow_guest_requests": false,
             "allow_user_requests": false,
             "secret_link_expiration": 0
            }
           },
           "communities": {},
           "id": "pj5xm-gfw73",
           "pids": {
            "doi": {
             "client": "datacite",
             "identifier": "10.81088/pj5xm-gfw73",
             "provider": "datacite"
            }
           }
          },
          "pids": {
           "doi": {
            "client": "datacite",
            "identifier": "10.81088/791wv-wnk94",
            "provider": "datacite"
           },
           "oai": {
            "identifier": "oai:inveniordm.web.cern.ch:791wv-wnk94",
            "provider": "oai"
           }
          },
          "revision_id": 4,
          "stats": {
           "all_versions": {
            "data_volume": 0,
            "downloads": 0,
            "unique_downloads": 0,
            "unique_views": 0,
            "views": 0
           },
           "this_version": {
            "data_volume": 0,
            "downloads": 0,
            "unique_downloads": 0,
            "unique_views": 0,
            "views": 0
           }
          },
          "status": "published",
          "updated": "2025-07-02T10:32:06.838708+00:00",
          "versions": {
           "index": 1,
           "is_latest": true
          }
         },
         {
          "access": {
           "embargo": {
            "active": false,
            "reason": null
           },
           "files": "public",
           "record": "public",
           "status": "open"
          },
          "created": "2025-07-02T10:31:29.432126+00:00",
          "custom_fields": {},
          "deletion_status": {
           "is_deleted": false,
           "status": "P"
          },
          "files": {
           "count": 1,
           "enabled": true,
           "entries": {
            "Anon6.jpg": {
             "access": {
              "hidden": false
             },
             "checksum": "md5:7e41b92644f0a69caf5ad13b780a141c",
             "ext": "jpg",
             "id": "1ea070d0-0ab5-489a-8eff-3335050ad40a",
             "key": "Anon6.jpg",
             "metadata": {
              "height": 240,
              "width": 427
             },
             "mimetype": "image/jpeg",
             "size": 105042
            }
           },
           "order": [],
           "total_bytes": 105042
          },
          "id": "vyykv-17227",
          "is_draft": false,
          "is_published": true,
          "links": {
           "access": "https://inveniordm.web.cern.ch/api/records/vyykv-17227/access",
           "access_grants": "https://inveniordm.web.cern.ch/api/records/vyykv-17227/access/grants",
           "access_groups": "https://inveniordm.web.cern.ch/api/records/vyykv-17227/access/groups",
           "access_links": "https://inveniordm.web.cern.ch/api/records/vyykv-17227/access/links",
           "access_request": "https://inveniordm.web.cern.ch/api/records/vyykv-17227/access/request",
           "access_users": "https://inveniordm.web.cern.ch/api/records/vyykv-17227/access/users",
           "archive": "https://inveniordm.web.cern.ch/api/records/vyykv-17227/files-archive",
           "archive_media": "https://inveniordm.web.cern.ch/api/records/vyykv-17227/media-files-archive",
           "communities": "https://inveniordm.web.cern.ch/api/records/vyykv-17227/communities",
           "communities-suggestions": "https://inveniordm.web.cern.ch/api/records/vyykv-17227/communities-suggestions",
           "doi": "https://handle.stage.datacite.org/10.81088/vyykv-17227",
           "draft": "https://inveniordm.web.cern.ch/api/records/vyykv-17227/draft",
           "files": "https://inveniordm.web.cern.ch/api/records/vyykv-17227/files",
           "latest": "https://inveniordm.web.cern.ch/api/records/vyykv-17227/versions/latest",
           "latest_html": "https://inveniordm.web.cern.ch/records/vyykv-17227/latest",
           "media_files": "https://inveniordm.web.cern.ch/api/records/vyykv-17227/media-files",
           "parent": "https://inveniordm.web.cern.ch/api/records/1qsyt-kkz81",
           "parent_doi": "https://inveniordm.web.cern.ch/doi/10.81088/1qsyt-kkz81",
           "parent_html": "https://inveniordm.web.cern.ch/records/1qsyt-kkz81",
           "requests": "https://inveniordm.web.cern.ch/api/records/vyykv-17227/requests",
           "reserve_doi": "https://inveniordm.web.cern.ch/api/records/vyykv-17227/draft/pids/doi",
           "self": "https://inveniordm.web.cern.ch/api/records/vyykv-17227",
           "self_doi": "https://inveniordm.web.cern.ch/doi/10.81088/vyykv-17227",
           "self_html": "https://inveniordm.web.cern.ch/records/vyykv-17227",
           "self_iiif_manifest": "https://inveniordm.web.cern.ch/api/iiif/record:vyykv-17227/manifest",
           "self_iiif_sequence": "https://inveniordm.web.cern.ch/api/iiif/record:vyykv-17227/sequence/default",
           "versions": "https://inveniordm.web.cern.ch/api/records/vyykv-17227/versions"
          },
          "media_files": {
           "count": 0,
           "enabled": false,
           "entries": {},
           "order": [],
           "total_bytes": 0
          },
          "metadata": {
           "creators": [
            {
             "person_or_org": {
              "family_name": "defero",
              "name": "defero",
              "type": "personal"
             }
            }
           ],
           "publication_date": "2025-07-02",
           "publisher": "CERN",
           "resource_type": {
            "id": "audio",
            "title": {
             "de": "Audio",
             "en": "Audio",
             "sv": "Audio"
            }
           },
           "rights": [
            {
             "description": {
              "en": "The Creative Commons Attribution license allows re-distribution and re-use of a licensed work on the condition that the creator is appropriately credited."
             },
             "icon": "cc-by-icon",
             "id": "cc-by-4.0",
             "props": {
              "scheme": "spdx",
              "url": "https://creativecommons.org/licenses/by/4.0/"
             },
             "title": {
              "en": "Creative Commons Attribution 4.0 International"
             }
            }
           ],
           "title": "Adopto maxime temperantia vilicus."
          },
          "parent": {
           "access": {
            "owned_by": {
             "user": "122"
            },
            "settings": {
             "accept_conditions_text": null,
             "allow_guest_requests": false,
             "allow_user_requests": false,
             "secret_link_expiration": 0
            }
           },
           "communities": {
            "default": "dff5c0fc-f8c3-4677-a99f-1e9912a44552",
            "entries": [
             {
              "access": {
               "member_policy": "open",
               "members_visibility": "public",
               "record_policy": "open",
               "review_policy": "closed",
               "visibility": "public"
              },
              "children": {
               "allow": false
              },
              "created": "2025-07-02T10:31:11.889296+00:00",
              "deletion_status": {
               "is_deleted": false,
               "status": "P"
              },
              "id": "dff5c0fc-f8c3-4677-a99f-1e9912a44552",
              "links": {},
              "metadata": {
               "title": "solium"
              },
              "revision_id": 2,
              "slug": "utilis_60185",
              "updated": "2025-07-02T10:31:12.103132+00:00"
             }
            ],
            "ids": [
             "dff5c0fc-f8c3-4677-a99f-1e9912a44552"
            ]
           },
           "id": "1qsyt-kkz81",
           "pids": {
            "doi": {
             "client": "datacite",
             "identifier": "10.81088/1qsyt-kkz81",
             "provider": "datacite"
            }
           }
          },
          "pids": {
           "doi": {
            "client": "datacite",
            "identifier": "10.81088/vyykv-17227",
            "provider": "datacite"
           },
           "oai": {
            "identifier": "oai:inveniordm.web.cern.ch:vyykv-17227",
            "provider": "oai"
           }
          },
          "revision_id": 4,
          "stats": {
           "all_versions": {
            "data_volume": 0,
            "downloads": 0,
            "unique_downloads": 0,
            "unique_views": 0,
            "views": 0
           },
           "this_version": {
            "data_volume": 0,
            "downloads": 0,
            "unique_downloads": 0,
            "unique_views": 0,
            "views": 0
           }
          },
          "status": "published",
          "updated": "2025-07-02T10:31:29.513839+00:00",
          "versions": {
           "index": 1,
           "is_latest": true
          }
         },
         {
          "access": {
           "embargo": {
            "active": false,
            "reason": "Nemo sui sumo vallum.",
            "until": "2025-07-03"
           },
           "files": "public",
           "record": "public",
           "status": "open"
          },
          "created": "2025-07-02T10:30:42.843563+00:00",
          "custom_fields": {},
          "deletion_status": {
           "is_deleted": false,
           "status": "P"
          },
          "files": {
           "count": 1,
           "enabled": true,
           "entries": {
            "Anon.jpg": {
             "access": {
              "hidden": false
             },
             "checksum": "md5:71a117a38b56abe7e765a6705f146d34",
             "ext": "jpg",
             "id": "4a437f0b-b4ed-4da2-9468-9b46df1cf8d5",
             "key": "Anon.jpg",
             "metadata": {
              "height": 240,
              "width": 360
             },
             "mimetype": "image/jpeg",
             "size": 9080
            }
           },
           "order": [],
           "total_bytes": 9080
          },
          "id": "ycyz2-et492",
          "is_draft": false,
          "is_published": true,
          "links": {
           "access": "https://inveniordm.web.cern.ch/api/records/ycyz2-et492/access",
           "access_grants": "https://inveniordm.web.cern.ch/api/records/ycyz2-et492/access/grants",
           "access_groups": "https://inveniordm.web.cern.ch/api/records/ycyz2-et492/access/groups",
           "access_links": "https://inveniordm.web.cern.ch/api/records/ycyz2-et492/access/links",
           "access_request": "https://inveniordm.web.cern.ch/api/records/ycyz2-et492/access/request",
           "access_users": "https://inveniordm.web.cern.ch/api/records/ycyz2-et492/access/users",
           "archive": "https://inveniordm.web.cern.ch/api/records/ycyz2-et492/files-archive",
           "archive_media": "https://inveniordm.web.cern.ch/api/records/ycyz2-et492/media-files-archive",
           "communities": "https://inveniordm.web.cern.ch/api/records/ycyz2-et492/communities",
           "communities-suggestions": "https://inveniordm.web.cern.ch/api/records/ycyz2-et492/communities-suggestions",
           "doi": "https://handle.stage.datacite.org/10.81088/ycyz2-et492",
           "draft": "https://inveniordm.web.cern.ch/api/records/ycyz2-et492/draft",
           "files": "https://inveniordm.web.cern.ch/api/records/ycyz2-et492/files",
           "latest": "https://inveniordm.web.cern.ch/api/records/ycyz2-et492/versions/latest",
           "latest_html": "https://inveniordm.web.cern.ch/records/ycyz2-et492/latest",
           "media_files": "https://inveniordm.web.cern.ch/api/records/ycyz2-et492/media-files",
           "parent": "https://inveniordm.web.cern.ch/api/records/m67d1-nyt68",
           "parent_doi": "https://inveniordm.web.cern.ch/doi/10.81088/m67d1-nyt68",
           "parent_html": "https://inveniordm.web.cern.ch/records/m67d1-nyt68",
           "requests": "https://inveniordm.web.cern.ch/api/records/ycyz2-et492/requests",
           "reserve_doi": "https://inveniordm.web.cern.ch/api/records/ycyz2-et492/draft/pids/doi",
           "self": "https://inveniordm.web.cern.ch/api/records/ycyz2-et492",
           "self_doi": "https://inveniordm.web.cern.ch/doi/10.81088/ycyz2-et492",
           "self_html": "https://inveniordm.web.cern.ch/records/ycyz2-et492",
           "self_iiif_manifest": "https://inveniordm.web.cern.ch/api/iiif/record:ycyz2-et492/manifest",
           "self_iiif_sequence": "https://inveniordm.web.cern.ch/api/iiif/record:ycyz2-et492/sequence/default",
           "versions": "https://inveniordm.web.cern.ch/api/records/ycyz2-et492/versions"
          },
          "media_files": {
           "count": 0,
           "enabled": false,
           "entries": {},
           "order": [],
           "total_bytes": 0
          },
          "metadata": {
           "creators": [
            {
             "person_or_org": {
              "family_name": "deinde",
              "name": "deinde",
              "type": "personal"
             }
            }
           ],
           "publication_date": "2025-07-02",
           "publisher": "CERN",
           "resource_type": {
            "id": "image",
            "title": {
             "de": "Bild",
             "en": "Image",
             "sv": "Bild"
            }
           },
           "rights": [
            {
             "description": {
              "en": "The Creative Commons Attribution license allows re-distribution and re-use of a licensed work on the condition that the creator is appropriately credited."
             },
             "icon": "cc-by-icon",
             "id": "cc-by-4.0",
             "props": {
              "scheme": "spdx",
              "url": "https://creativecommons.org/licenses/by/4.0/"
             },
             "title": {
              "en": "Creative Commons Attribution 4.0 International"
             }
            }
           ],
           "title": "Cibus voro cunabula supplanto curia."
          },
          "parent": {
           "access": {
            "owned_by": {
             "user": "122"
            },
            "settings": {
             "accept_conditions_text": null,
             "allow_guest_requests": false,
             "allow_user_requests": false,
             "secret_link_expiration": 0
            }
           },
           "communities": {
            "default": "fa25b11e-4310-4176-82f9-1f12002a67db",
            "entries": [
             {
              "access": {
               "member_policy": "open",
               "members_visibility": "public",
               "record_policy": "open",
               "review_policy": "closed",
               "visibility": "public"
              },
              "children": {
               "allow": false
              },
              "created": "2025-07-02T10:29:53.806431+00:00",
              "deletion_status": {
               "is_deleted": false,
               "status": "P"
              },
              "id": "fa25b11e-4310-4176-82f9-1f12002a67db",
              "links": {},
              "metadata": {
               "title": "constans"
              },
              "revision_id": 2,
              "slug": "vulticulus_163783",
              "updated": "2025-07-02T10:29:53.952935+00:00"
             }
            ],
            "ids": [
             "fa25b11e-4310-4176-82f9-1f12002a67db"
            ]
           },
           "id": "m67d1-nyt68",
           "pids": {
            "doi": {
             "client": "datacite",
             "identifier": "10.81088/m67d1-nyt68",
             "provider": "datacite"
            }
           }
          },
          "pids": {
           "doi": {
            "client": "datacite",
            "identifier": "10.81088/ycyz2-et492",
            "provider": "datacite"
           }
          },
          "revision_id": 6,
          "stats": {
           "all_versions": {
            "data_volume": 0,
            "downloads": 0,
            "unique_downloads": 0,
            "unique_views": 0,
            "views": 0
           },
           "this_version": {
            "data_volume": 0,
            "downloads": 0,
            "unique_downloads": 0,
            "unique_views": 0,
            "views": 0
           }
          },
          "status": "published",
          "updated": "2025-07-03T00:02:01.279601+00:00",
          "versions": {
           "index": 1,
           "is_latest": true
          }
         },
         {
          "access": {
           "embargo": {
            "active": false,
            "reason": null
           },
           "files": "public",
           "record": "public",
           "status": "metadata-only"
          },
          "created": "2025-07-02T10:30:26.583436+00:00",
          "custom_fields": {},
          "deletion_status": {
           "is_deleted": false,
           "status": "P"
          },
          "files": {
           "count": 0,
           "enabled": false,
           "entries": {},
           "order": [],
           "total_bytes": 0
          },
          "id": "7w1rx-0rr07",
          "is_draft": false,
          "is_published": true,
          "links": {
           "access": "https://inveniordm.web.cern.ch/api/records/7w1rx-0rr07/access",
           "access_grants": "https://inveniordm.web.cern.ch/api/records/7w1rx-0rr07/access/grants",
           "access_groups": "https://inveniordm.web.cern.ch/api/records/7w1rx-0rr07/access/groups",
           "access_links": "https://inveniordm.web.cern.ch/api/records/7w1rx-0rr07/access/links",
           "access_request": "https://inveniordm.web.cern.ch/api/records/7w1rx-0rr07/access/request",
           "access_users": "https://inveniordm.web.cern.ch/api/records/7w1rx-0rr07/access/users",
           "archive": "https://inveniordm.web.cern.ch/api/records/7w1rx-0rr07/files-archive",
           "archive_media": "https://inveniordm.web.cern.ch/api/records/7w1rx-0rr07/media-files-archive",
           "communities": "https://inveniordm.web.cern.ch/api/records/7w1rx-0rr07/communities",
           "communities-suggestions": "https://inveniordm.web.cern.ch/api/records/7w1rx-0rr07/communities-suggestions",
           "doi": "https://handle.stage.datacite.org/10.81088/7w1rx-0rr07",
           "draft": "https://inveniordm.web.cern.ch/api/records/7w1rx-0rr07/draft",
           "files": "https://inveniordm.web.cern.ch/api/records/7w1rx-0rr07/files",
           "latest": "https://inveniordm.web.cern.ch/api/records/7w1rx-0rr07/versions/latest",
           "latest_html": "https://inveniordm.web.cern.ch/records/7w1rx-0rr07/latest",
           "media_files": "https://inveniordm.web.cern.ch/api/records/7w1rx-0rr07/media-files",
           "parent": "https://inveniordm.web.cern.ch/api/records/v75np-xwv71",
           "parent_doi": "https://inveniordm.web.cern.ch/doi/10.81088/v75np-xwv71",
           "parent_html": "https://inveniordm.web.cern.ch/records/v75np-xwv71",
           "requests": "https://inveniordm.web.cern.ch/api/records/7w1rx-0rr07/requests",
           "reserve_doi": "https://inveniordm.web.cern.ch/api/records/7w1rx-0rr07/draft/pids/doi",
           "self": "https://inveniordm.web.cern.ch/api/records/7w1rx-0rr07",
           "self_doi": "https://inveniordm.web.cern.ch/doi/10.81088/7w1rx-0rr07",
           "self_html": "https://inveniordm.web.cern.ch/records/7w1rx-0rr07",
           "self_iiif_manifest": "https://inveniordm.web.cern.ch/api/iiif/record:7w1rx-0rr07/manifest",
           "self_iiif_sequence": "https://inveniordm.web.cern.ch/api/iiif/record:7w1rx-0rr07/sequence/default",
           "versions": "https://inveniordm.web.cern.ch/api/records/7w1rx-0rr07/versions"
          },
          "media_files": {
           "count": 0,
           "enabled": false,
           "entries": {},
           "order": [],
           "total_bytes": 0
          },
          "metadata": {
           "creators": [
            {
             "person_or_org": {
              "family_name": "concedo",
              "name": "concedo",
              "type": "personal"
             }
            }
           ],
           "publication_date": "2025-07-02",
           "publisher": "CERN",
           "resource_type": {
            "id": "image",
            "title": {
             "de": "Bild",
             "en": "Image",
             "sv": "Bild"
            }
           },
           "rights": [
            {
             "description": {
              "en": "The Creative Commons Attribution license allows re-distribution and re-use of a licensed work on the condition that the creator is appropriately credited."
             },
             "icon": "cc-by-icon",
             "id": "cc-by-4.0",
             "props": {
              "scheme": "spdx",
              "url": "https://creativecommons.org/licenses/by/4.0/"
             },
             "title": {
              "en": "Creative Commons Attribution 4.0 International"
             }
            }
           ],
           "title": "Antepono vilitas adstringo amiculum debilito."
          },
          "parent": {
           "access": {
            "owned_by": {
             "user": "122"
            },
            "settings": {
             "accept_conditions_text": null,
             "allow_guest_requests": false,
             "allow_user_requests": false,
             "secret_link_expiration": 0
            }
           },
           "communities": {
            "default": "fa25b11e-4310-4176-82f9-1f12002a67db",
            "entries": [
             {
              "access": {
               "member_policy": "open",
               "members_visibility": "public",
               "record_policy": "open",
               "review_policy": "closed",
               "visibility": "public"
              },
              "children": {
               "allow": false
              },
              "created": "2025-07-02T10:29:53.806431+00:00",
              "deletion_status": {
               "is_deleted": false,
               "status": "P"
              },
              "id": "fa25b11e-4310-4176-82f9-1f12002a67db",
              "links": {},
              "metadata": {
               "title": "constans"
              },
              "revision_id": 2,
              "slug": "vulticulus_163783",
              "updated": "2025-07-02T10:29:53.952935+00:00"
             }
            ],
            "ids": [
             "fa25b11e-4310-4176-82f9-1f12002a67db"
            ]
           },
           "id": "v75np-xwv71",
           "pids": {
            "doi": {
             "client": "datacite",
             "identifier": "10.81088/v75np-xwv71",
             "provider": "datacite"
            }
           }
          },
          "pids": {
           "doi": {
            "client": "datacite",
            "identifier": "10.81088/7w1rx-0rr07",
            "provider": "datacite"
           },
           "oai": {
            "identifier": "oai:inveniordm.web.cern.ch:7w1rx-0rr07",
            "provider": "oai"
           }
          },
          "revision_id": 3,
          "stats": {
           "all_versions": {
            "data_volume": 0,
            "downloads": 0,
            "unique_downloads": 0,
            "unique_views": 0,
            "views": 0
           },
           "this_version": {
            "data_volume": 0,
            "downloads": 0,
            "unique_downloads": 0,
            "unique_views": 0,
            "views": 0
           }
          },
          "status": "published",
          "updated": "2025-07-02T10:30:26.636417+00:00",
          "versions": {
           "index": 1,
           "is_latest": true
          }
         },
         {
          "access": {
           "embargo": {
            "active": false,
            "reason": null
           },
           "files": "public",
           "record": "public",
           "status": "open"
          },
          "created": "2025-07-02T10:30:12.381188+00:00",
          "custom_fields": {},
          "deletion_status": {
           "is_deleted": false,
           "status": "P"
          },
          "files": {
           "count": 1,
           "enabled": true,
           "entries": {
            "Anon5.jpg": {
             "access": {
              "hidden": false
             },
             "checksum": "md5:2bf1bb14f205b6dde6de8553e0270a57",
             "ext": "jpg",
             "id": "4059549a-d245-4ab2-b1b0-f0d17507fff7",
             "key": "Anon5.jpg",
             "metadata": {
              "height": 240,
              "width": 429
             },
             "mimetype": "image/jpeg",
             "size": 18465
            }
           },
           "order": [],
           "total_bytes": 18465
          },
          "id": "bzn1v-hq980",
          "is_draft": false,
          "is_published": true,
          "links": {
           "access": "https://inveniordm.web.cern.ch/api/records/bzn1v-hq980/access",
           "access_grants": "https://inveniordm.web.cern.ch/api/records/bzn1v-hq980/access/grants",
           "access_groups": "https://inveniordm.web.cern.ch/api/records/bzn1v-hq980/access/groups",
           "access_links": "https://inveniordm.web.cern.ch/api/records/bzn1v-hq980/access/links",
           "access_request": "https://inveniordm.web.cern.ch/api/records/bzn1v-hq980/access/request",
           "access_users": "https://inveniordm.web.cern.ch/api/records/bzn1v-hq980/access/users",
           "archive": "https://inveniordm.web.cern.ch/api/records/bzn1v-hq980/files-archive",
           "archive_media": "https://inveniordm.web.cern.ch/api/records/bzn1v-hq980/media-files-archive",
           "communities": "https://inveniordm.web.cern.ch/api/records/bzn1v-hq980/communities",
           "communities-suggestions": "https://inveniordm.web.cern.ch/api/records/bzn1v-hq980/communities-suggestions",
           "doi": "https://handle.stage.datacite.org/10.81088/bzn1v-hq980",
           "draft": "https://inveniordm.web.cern.ch/api/records/bzn1v-hq980/draft",
           "files": "https://inveniordm.web.cern.ch/api/records/bzn1v-hq980/files",
           "latest": "https://inveniordm.web.cern.ch/api/records/bzn1v-hq980/versions/latest",
           "latest_html": "https://inveniordm.web.cern.ch/records/bzn1v-hq980/latest",
           "media_files": "https://inveniordm.web.cern.ch/api/records/bzn1v-hq980/media-files",
           "parent": "https://inveniordm.web.cern.ch/api/records/8m8ba-7fd39",
           "parent_doi": "https://inveniordm.web.cern.ch/doi/10.81088/8m8ba-7fd39",
           "parent_html": "https://inveniordm.web.cern.ch/records/8m8ba-7fd39",
           "requests": "https://inveniordm.web.cern.ch/api/records/bzn1v-hq980/requests",
           "reserve_doi": "https://inveniordm.web.cern.ch/api/records/bzn1v-hq980/draft/pids/doi",
           "self": "https://inveniordm.web.cern.ch/api/records/bzn1v-hq980",
           "self_doi": "https://inveniordm.web.cern.ch/doi/10.81088/bzn1v-hq980",
           "self_html": "https://inveniordm.web.cern.ch/records/bzn1v-hq980",
           "self_iiif_manifest": "https://inveniordm.web.cern.ch/api/iiif/record:bzn1v-hq980/manifest",
           "self_iiif_sequence": "https://inveniordm.web.cern.ch/api/iiif/record:bzn1v-hq980/sequence/default",
           "versions": "https://inveniordm.web.cern.ch/api/records/bzn1v-hq980/versions"
          },
          "media_files": {
           "count": 0,
           "enabled": false,
           "entries": {},
           "order": [],
           "total_bytes": 0
          },
          "metadata": {
           "creators": [
            {
             "person_or_org": {
              "family_name": "caste",
              "name": "caste",
              "type": "personal"
             }
            }
           ],
           "publication_date": "2025-07-02",
           "publisher": "CERN",
           "resource_type": {
            "id": "image",
            "title": {
             "de": "Bild",
             "en": "Image",
             "sv": "Bild"
            }
           },
           "rights": [
            {
             "description": {
              "en": "The Creative Commons Attribution license allows re-distribution and re-use of a licensed work on the condition that the creator is appropriately credited."
             },
             "icon": "cc-by-icon",
             "id": "cc-by-4.0",
             "props": {
              "scheme": "spdx",
              "url": "https://creativecommons.org/licenses/by/4.0/"
             },
             "title": {
              "en": "Creative Commons Attribution 4.0 International"
             }
            }
           ],
           "title": "Depraedor curis cuppedia abbas deleniti ullam."
          },
          "parent": {
           "access": {
            "owned_by": {
             "user": "122"
            },
            "settings": {
             "accept_conditions_text": null,
             "allow_guest_requests": false,
             "allow_user_requests": false,
             "secret_link_expiration": 0
            }
           },
           "communities": {
            "default": "fa25b11e-4310-4176-82f9-1f12002a67db",
            "entries": [
             {
              "access": {
               "member_policy": "open",
               "members_visibility": "public",
               "record_policy": "open",
               "review_policy": "closed",
               "visibility": "public"
              },
              "children": {
               "allow": false
              },
              "created": "2025-07-02T10:29:53.806431+00:00",
              "deletion_status": {
               "is_deleted": false,
               "status": "P"
              },
              "id": "fa25b11e-4310-4176-82f9-1f12002a67db",
              "links": {},
              "metadata": {
               "title": "constans"
              },
              "revision_id": 2,
              "slug": "vulticulus_163783",
              "updated": "2025-07-02T10:29:53.952935+00:00"
             }
            ],
            "ids": [
             "fa25b11e-4310-4176-82f9-1f12002a67db"
            ]
           },
           "id": "8m8ba-7fd39",
           "pids": {
            "doi": {
             "client": "datacite",
             "identifier": "10.81088/8m8ba-7fd39",
             "provider": "datacite"
            }
           }
          },
          "pids": {
           "doi": {
            "client": "datacite",
            "identifier": "10.81088/bzn1v-hq980",
            "provider": "datacite"
           },
           "oai": {
            "identifier": "oai:inveniordm.web.cern.ch:bzn1v-hq980",
            "provider": "oai"
           }
          },
          "revision_id": 4,
          "stats": {
           "all_versions": {
            "data_volume": 0,
            "downloads": 0,
            "unique_downloads": 0,
            "unique_views": 0,
            "views": 0
           },
           "this_version": {
            "data_volume": 0,
            "downloads": 0,
            "unique_downloads": 0,
            "unique_views": 0,
            "views": 0
           }
          },
          "status": "published",
          "updated": "2025-07-02T10:30:12.465816+00:00",
          "versions": {
           "index": 1,
           "is_latest": true
          }
         },
         {
          "access": {
           "embargo": {
            "active": false,
            "reason": null
           },
           "files": "public",
           "record": "public",
           "status": "open"
          },
          "created": "2025-07-02T10:29:18.937189+00:00",
          "custom_fields": {},
          "deletion_status": {
           "is_deleted": false,
           "status": "P"
          },
          "files": {
           "count": 1,
           "enabled": true,
           "entries": {
            "Anon6.jpg": {
             "access": {
              "hidden": false
             },
             "checksum": "md5:7e41b92644f0a69caf5ad13b780a141c",
             "ext": "jpg",
             "id": "a6dcdff0-025c-4cae-a44a-747c11e9f1d6",
             "key": "Anon6.jpg",
             "metadata": {
              "height": 240,
              "width": 427
             },
             "mimetype": "image/jpeg",
             "size": 105042
            }
           },
           "order": [],
           "total_bytes": 105042
          },
          "id": "d774v-xfs93",
          "is_draft": false,
          "is_published": true,
          "links": {
           "access": "https://inveniordm.web.cern.ch/api/records/d774v-xfs93/access",
           "access_grants": "https://inveniordm.web.cern.ch/api/records/d774v-xfs93/access/grants",
           "access_groups": "https://inveniordm.web.cern.ch/api/records/d774v-xfs93/access/groups",
           "access_links": "https://inveniordm.web.cern.ch/api/records/d774v-xfs93/access/links",
           "access_request": "https://inveniordm.web.cern.ch/api/records/d774v-xfs93/access/request",
           "access_users": "https://inveniordm.web.cern.ch/api/records/d774v-xfs93/access/users",
           "archive": "https://inveniordm.web.cern.ch/api/records/d774v-xfs93/files-archive",
           "archive_media": "https://inveniordm.web.cern.ch/api/records/d774v-xfs93/media-files-archive",
           "communities": "https://inveniordm.web.cern.ch/api/records/d774v-xfs93/communities",
           "communities-suggestions": "https://inveniordm.web.cern.ch/api/records/d774v-xfs93/communities-suggestions",
           "doi": "https://handle.stage.datacite.org/10.81088/d774v-xfs93",
           "draft": "https://inveniordm.web.cern.ch/api/records/d774v-xfs93/draft",
           "files": "https://inveniordm.web.cern.ch/api/records/d774v-xfs93/files",
           "latest": "https://inveniordm.web.cern.ch/api/records/d774v-xfs93/versions/latest",
           "latest_html": "https://inveniordm.web.cern.ch/records/d774v-xfs93/latest",
           "media_files": "https://inveniordm.web.cern.ch/api/records/d774v-xfs93/media-files",
           "parent": "https://inveniordm.web.cern.ch/api/records/b0pqj-vgq22",
           "parent_doi": "https://inveniordm.web.cern.ch/doi/10.81088/b0pqj-vgq22",
           "parent_html": "https://inveniordm.web.cern.ch/records/b0pqj-vgq22",
           "requests": "https://inveniordm.web.cern.ch/api/records/d774v-xfs93/requests",
           "reserve_doi": "https://inveniordm.web.cern.ch/api/records/d774v-xfs93/draft/pids/doi",
           "self": "https://inveniordm.web.cern.ch/api/records/d774v-xfs93",
           "self_doi": "https://inveniordm.web.cern.ch/doi/10.81088/d774v-xfs93",
           "self_html": "https://inveniordm.web.cern.ch/records/d774v-xfs93",
           "self_iiif_manifest": "https://inveniordm.web.cern.ch/api/iiif/record:d774v-xfs93/manifest",
           "self_iiif_sequence": "https://inveniordm.web.cern.ch/api/iiif/record:d774v-xfs93/sequence/default",
           "versions": "https://inveniordm.web.cern.ch/api/records/d774v-xfs93/versions"
          },
          "media_files": {
           "count": 0,
           "enabled": false,
           "entries": {},
           "order": [],
           "total_bytes": 0
          },
          "metadata": {
           "creators": [
            {
             "person_or_org": {
              "family_name": "vilitas",
              "name": "vilitas",
              "type": "personal"
             }
            }
           ],
           "publication_date": "2025-07-02",
           "publisher": "CERN",
           "resource_type": {
            "id": "poster",
            "title": {
             "de": "Poster",
             "en": "Poster",
             "sv": "Poster"
            }
           },
           "rights": [
            {
             "description": {
              "en": "The Creative Commons Attribution license allows re-distribution and re-use of a licensed work on the condition that the creator is appropriately credited."
             },
             "icon": "cc-by-icon",
             "id": "cc-by-4.0",
             "props": {
              "scheme": "spdx",
              "url": "https://creativecommons.org/licenses/by/4.0/"
             },
             "title": {
              "en": "Creative Commons Attribution 4.0 International"
             }
            }
           ],
           "title": "Tumultus tersus alter carmen alii tempore verecundia coadunatio dolores culpa."
          },
          "parent": {
           "access": {
            "owned_by": {
             "user": "122"
            },
            "settings": {
             "accept_conditions_text": null,
             "allow_guest_requests": false,
             "allow_user_requests": false,
             "secret_link_expiration": 0
            }
           },
           "communities": {
            "default": "d26d0ec2-c52a-41cd-b163-3eaef936f5cc",
            "entries": [
             {
              "access": {
               "member_policy": "open",
               "members_visibility": "public",
               "record_policy": "open",
               "review_policy": "closed",
               "visibility": "public"
              },
              "children": {
               "allow": false
              },
              "created": "2025-07-02T10:29:01.675509+00:00",
              "deletion_status": {
               "is_deleted": false,
               "status": "P"
              },
              "id": "d26d0ec2-c52a-41cd-b163-3eaef936f5cc",
              "links": {},
              "metadata": {
               "title": "ex"
              },
              "revision_id": 2,
              "slug": "repellat_803843",
              "updated": "2025-07-02T10:29:01.782152+00:00"
             }
            ],
            "ids": [
             "d26d0ec2-c52a-41cd-b163-3eaef936f5cc"
            ]
           },
           "id": "b0pqj-vgq22",
           "pids": {
            "doi": {
             "client": "datacite",
             "identifier": "10.81088/b0pqj-vgq22",
             "provider": "datacite"
            }
           }
          },
          "pids": {
           "doi": {
            "client": "datacite",
            "identifier": "10.81088/d774v-xfs93",
            "provider": "datacite"
           },
           "oai": {
            "identifier": "oai:inveniordm.web.cern.ch:d774v-xfs93",
            "provider": "oai"
           }
          },
          "revision_id": 4,
          "stats": {
           "all_versions": {
            "data_volume": 0,
            "downloads": 0,
            "unique_downloads": 0,
            "unique_views": 0,
            "views": 0
           },
           "this_version": {
            "data_volume": 0,
            "downloads": 0,
            "unique_downloads": 0,
            "unique_views": 0,
            "views": 0
           }
          },
          "status": "published",
          "updated": "2025-07-02T10:29:19.013279+00:00",
          "versions": {
           "index": 1,
           "is_latest": true
          }
         },
         {
          "access": {
           "embargo": {
            "active": false,
            "reason": null
           },
           "files": "public",
           "record": "public",
           "status": "open"
          },
          "created": "2025-07-02T10:28:39.105032+00:00",
          "custom_fields": {},
          "deletion_status": {
           "is_deleted": false,
           "status": "P"
          },
          "files": {
           "count": 1,
           "enabled": true,
           "entries": {
            "Anon.jpg": {
             "access": {
              "hidden": false
             },
             "checksum": "md5:71a117a38b56abe7e765a6705f146d34",
             "ext": "jpg",
             "id": "62959117-0024-46d0-a476-1263cef019fe",
             "key": "Anon.jpg",
             "metadata": {
              "height": 240,
              "width": 360
             },
             "mimetype": "image/jpeg",
             "size": 9080
            }
           },
           "order": [],
           "total_bytes": 9080
          },
          "id": "pyfyd-vdv66",
          "is_draft": false,
          "is_published": true,
          "links": {
           "access": "https://inveniordm.web.cern.ch/api/records/pyfyd-vdv66/access",
           "access_grants": "https://inveniordm.web.cern.ch/api/records/pyfyd-vdv66/access/grants",
           "access_groups": "https://inveniordm.web.cern.ch/api/records/pyfyd-vdv66/access/groups",
           "access_links": "https://inveniordm.web.cern.ch/api/records/pyfyd-vdv66/access/links",
           "access_request": "https://inveniordm.web.cern.ch/api/records/pyfyd-vdv66/access/request",
           "access_users": "https://inveniordm.web.cern.ch/api/records/pyfyd-vdv66/access/users",
           "archive": "https://inveniordm.web.cern.ch/api/records/pyfyd-vdv66/files-archive",
           "archive_media": "https://inveniordm.web.cern.ch/api/records/pyfyd-vdv66/media-files-archive",
           "communities": "https://inveniordm.web.cern.ch/api/records/pyfyd-vdv66/communities",
           "communities-suggestions": "https://inveniordm.web.cern.ch/api/records/pyfyd-vdv66/communities-suggestions",
           "doi": "https://handle.stage.datacite.org/10.81088/pyfyd-vdv66",
           "draft": "https://inveniordm.web.cern.ch/api/records/pyfyd-vdv66/draft",
           "files": "https://inveniordm.web.cern.ch/api/records/pyfyd-vdv66/files",
           "latest": "https://inveniordm.web.cern.ch/api/records/pyfyd-vdv66/versions/latest",
           "latest_html": "https://inveniordm.web.cern.ch/records/pyfyd-vdv66/latest",
           "media_files": "https://inveniordm.web.cern.ch/api/records/pyfyd-vdv66/media-files",
           "parent": "https://inveniordm.web.cern.ch/api/records/40dbd-r9134",
           "parent_doi": "https://inveniordm.web.cern.ch/doi/10.81088/40dbd-r9134",
           "parent_html": "https://inveniordm.web.cern.ch/records/40dbd-r9134",
           "requests": "https://inveniordm.web.cern.ch/api/records/pyfyd-vdv66/requests",
           "reserve_doi": "https://inveniordm.web.cern.ch/api/records/pyfyd-vdv66/draft/pids/doi",
           "self": "https://inveniordm.web.cern.ch/api/records/pyfyd-vdv66",
           "self_doi": "https://inveniordm.web.cern.ch/doi/10.81088/pyfyd-vdv66",
           "self_html": "https://inveniordm.web.cern.ch/records/pyfyd-vdv66",
           "self_iiif_manifest": "https://inveniordm.web.cern.ch/api/iiif/record:pyfyd-vdv66/manifest",
           "self_iiif_sequence": "https://inveniordm.web.cern.ch/api/iiif/record:pyfyd-vdv66/sequence/default",
           "versions": "https://inveniordm.web.cern.ch/api/records/pyfyd-vdv66/versions"
          },
          "media_files": {
           "count": 0,
           "enabled": false,
           "entries": {},
           "order": [],
           "total_bytes": 0
          },
          "metadata": {
           "creators": [
            {
             "person_or_org": {
              "family_name": "arca",
              "name": "arca",
              "type": "personal"
             }
            }
           ],
           "publication_date": "2025-07-02",
           "publisher": "CERN",
           "resource_type": {
            "id": "poster",
            "title": {
             "de": "Poster",
             "en": "Poster",
             "sv": "Poster"
            }
           },
           "rights": [
            {
             "description": {
              "en": "The Creative Commons Attribution license allows re-distribution and re-use of a licensed work on the condition that the creator is appropriately credited."
             },
             "icon": "cc-by-icon",
             "id": "cc-by-4.0",
             "props": {
              "scheme": "spdx",
              "url": "https://creativecommons.org/licenses/by/4.0/"
             },
             "title": {
              "en": "Creative Commons Attribution 4.0 International"
             }
            }
           ],
           "title": "Spoliatio tersus exercitationem aeneus conitor claro repudiandae correptius cohaero."
          },
          "parent": {
           "access": {
            "owned_by": {
             "user": "122"
            },
            "settings": {
             "accept_conditions_text": null,
             "allow_guest_requests": false,
             "allow_user_requests": false,
             "secret_link_expiration": 0
            }
           },
           "communities": {
            "default": "60cc06bf-9114-42c7-a04f-639fbf36f65f",
            "entries": [
             {
              "access": {
               "member_policy": "open",
               "members_visibility": "public",
               "record_policy": "open",
               "review_policy": "closed",
               "visibility": "public"
              },
              "children": {
               "allow": false
              },
              "created": "2025-07-02T10:28:21.114465+00:00",
              "deletion_status": {
               "is_deleted": false,
               "status": "P"
              },
              "id": "60cc06bf-9114-42c7-a04f-639fbf36f65f",
              "links": {},
              "metadata": {
               "title": "strues"
              },
              "revision_id": 2,
              "slug": "vulgo_235080",
              "updated": "2025-07-02T10:28:21.230657+00:00"
             }
            ],
            "ids": [
             "60cc06bf-9114-42c7-a04f-639fbf36f65f"
            ]
           },
           "id": "40dbd-r9134",
           "pids": {
            "doi": {
             "client": "datacite",
             "identifier": "10.81088/40dbd-r9134",
             "provider": "datacite"
            }
           }
          },
          "pids": {
           "doi": {
            "client": "datacite",
            "identifier": "10.81088/pyfyd-vdv66",
            "provider": "datacite"
           },
           "oai": {
            "identifier": "oai:inveniordm.web.cern.ch:pyfyd-vdv66",
            "provider": "oai"
           }
          },
          "revision_id": 4,
          "stats": {
           "all_versions": {
            "data_volume": 0,
            "downloads": 0,
            "unique_downloads": 0,
            "unique_views": 0,
            "views": 0
           },
           "this_version": {
            "data_volume": 0,
            "downloads": 0,
            "unique_downloads": 0,
            "unique_views": 0,
            "views": 0
           }
          },
          "status": "published",
          "updated": "2025-07-02T10:28:39.187217+00:00",
          "versions": {
           "index": 1,
           "is_latest": true
          }
         },
         {
          "access": {
           "embargo": {
            "active": false,
            "reason": null
           },
           "files": "public",
           "record": "public",
           "status": "open"
          },
          "created": "2025-07-02T10:28:00.700171+00:00",
          "custom_fields": {},
          "deletion_status": {
           "is_deleted": false,
           "status": "P"
          },
          "files": {
           "count": 1,
           "enabled": true,
           "entries": {
            "Anon7.jpg": {
             "access": {
              "hidden": false
             },
             "checksum": "md5:0e90e1b1d9afeef09e0bc4937f21e3f3",
             "ext": "jpg",
             "id": "bd92746c-f35a-4ca0-ade8-16df656c69b8",
             "key": "Anon7.jpg",
             "metadata": {
              "height": 240,
              "width": 361
             },
             "mimetype": "image/jpeg",
             "size": 22908
            }
           },
           "order": [],
           "total_bytes": 22908
          },
          "id": "mwgxm-4t637",
          "is_draft": false,
          "is_published": true,
          "links": {
           "access": "https://inveniordm.web.cern.ch/api/records/mwgxm-4t637/access",
           "access_grants": "https://inveniordm.web.cern.ch/api/records/mwgxm-4t637/access/grants",
           "access_groups": "https://inveniordm.web.cern.ch/api/records/mwgxm-4t637/access/groups",
           "access_links": "https://inveniordm.web.cern.ch/api/records/mwgxm-4t637/access/links",
           "access_request": "https://inveniordm.web.cern.ch/api/records/mwgxm-4t637/access/request",
           "access_users": "https://inveniordm.web.cern.ch/api/records/mwgxm-4t637/access/users",
           "archive": "https://inveniordm.web.cern.ch/api/records/mwgxm-4t637/files-archive",
           "archive_media": "https://inveniordm.web.cern.ch/api/records/mwgxm-4t637/media-files-archive",
           "communities": "https://inveniordm.web.cern.ch/api/records/mwgxm-4t637/communities",
           "communities-suggestions": "https://inveniordm.web.cern.ch/api/records/mwgxm-4t637/communities-suggestions",
           "doi": "https://handle.stage.datacite.org/10.81088/mwgxm-4t637",
           "draft": "https://inveniordm.web.cern.ch/api/records/mwgxm-4t637/draft",
           "files": "https://inveniordm.web.cern.ch/api/records/mwgxm-4t637/files",
           "latest": "https://inveniordm.web.cern.ch/api/records/mwgxm-4t637/versions/latest",
           "latest_html": "https://inveniordm.web.cern.ch/records/mwgxm-4t637/latest",
           "media_files": "https://inveniordm.web.cern.ch/api/records/mwgxm-4t637/media-files",
           "parent": "https://inveniordm.web.cern.ch/api/records/mkrh0-c3h21",
           "parent_doi": "https://inveniordm.web.cern.ch/doi/10.81088/mkrh0-c3h21",
           "parent_html": "https://inveniordm.web.cern.ch/records/mkrh0-c3h21",
           "requests": "https://inveniordm.web.cern.ch/api/records/mwgxm-4t637/requests",
           "reserve_doi": "https://inveniordm.web.cern.ch/api/records/mwgxm-4t637/draft/pids/doi",
           "self": "https://inveniordm.web.cern.ch/api/records/mwgxm-4t637",
           "self_doi": "https://inveniordm.web.cern.ch/doi/10.81088/mwgxm-4t637",
           "self_html": "https://inveniordm.web.cern.ch/records/mwgxm-4t637",
           "self_iiif_manifest": "https://inveniordm.web.cern.ch/api/iiif/record:mwgxm-4t637/manifest",
           "self_iiif_sequence": "https://inveniordm.web.cern.ch/api/iiif/record:mwgxm-4t637/sequence/default",
           "versions": "https://inveniordm.web.cern.ch/api/records/mwgxm-4t637/versions"
          },
          "media_files": {
           "count": 0,
           "enabled": false,
           "entries": {},
           "order": [],
           "total_bytes": 0
          },
          "metadata": {
           "creators": [
            {
             "person_or_org": {
              "family_name": "cerno",
              "name": "cerno",
              "type": "personal"
             }
            }
           ],
           "publication_date": "2025-07-02",
           "publisher": "CERN",
           "resource_type": {
            "id": "video",
            "title": {
             "de": "Video",
             "en": "Video",
             "sv": "Video"
            }
           },
           "rights": [
            {
             "description": {
              "en": "The Creative Commons Attribution license allows re-distribution and re-use of a licensed work on the condition that the creator is appropriately credited."
             },
             "icon": "cc-by-icon",
             "id": "cc-by-4.0",
             "props": {
              "scheme": "spdx",
              "url": "https://creativecommons.org/licenses/by/4.0/"
             },
             "title": {
              "en": "Creative Commons Attribution 4.0 International"
             }
            }
           ],
           "title": "Undique cariosus ago suffoco conqueror spiritus quaerat curriculum calcar suggero."
          },
          "parent": {
           "access": {
            "owned_by": {
             "user": "122"
            },
            "settings": {
             "accept_conditions_text": null,
             "allow_guest_requests": false,
             "allow_user_requests": false,
             "secret_link_expiration": 0
            }
           },
           "communities": {
            "default": "0591562a-5064-4d53-8f46-15477c96bcbe",
            "entries": [
             {
              "access": {
               "member_policy": "open",
               "members_visibility": "public",
               "record_policy": "open",
               "review_policy": "closed",
               "visibility": "public"
              },
              "children": {
               "allow": false
              },
              "created": "2025-07-02T10:27:43.511503+00:00",
              "deletion_status": {
               "is_deleted": false,
               "status": "P"
              },
              "id": "0591562a-5064-4d53-8f46-15477c96bcbe",
              "links": {},
              "metadata": {
               "title": "crustulum"
              },
              "revision_id": 2,
              "slug": "suscipit_848686",
              "updated": "2025-07-02T10:27:43.612206+00:00"
             }
            ],
            "ids": [
             "0591562a-5064-4d53-8f46-15477c96bcbe"
            ]
           },
           "id": "mkrh0-c3h21",
           "pids": {
            "doi": {
             "client": "datacite",
             "identifier": "10.81088/mkrh0-c3h21",
             "provider": "datacite"
            }
           }
          },
          "pids": {
           "doi": {
            "client": "datacite",
            "identifier": "10.81088/mwgxm-4t637",
            "provider": "datacite"
           },
           "oai": {
            "identifier": "oai:inveniordm.web.cern.ch:mwgxm-4t637",
            "provider": "oai"
           }
          },
          "revision_id": 4,
          "stats": {
           "all_versions": {
            "data_volume": 0,
            "downloads": 0,
            "unique_downloads": 0,
            "unique_views": 0,
            "views": 0
           },
           "this_version": {
            "data_volume": 0,
            "downloads": 0,
            "unique_downloads": 0,
            "unique_views": 0,
            "views": 0
           }
          },
          "status": "published",
          "updated": "2025-07-02T10:28:00.779538+00:00",
          "versions": {
           "index": 1,
           "is_latest": true
          }
         },
         {
          "access": {
           "embargo": {
            "active": false,
            "reason": null
           },
           "files": "public",
           "record": "public",
           "status": "open"
          },
          "created": "2025-07-02T10:27:22.329722+00:00",
          "custom_fields": {},
          "deletion_status": {
           "is_deleted": false,
           "status": "P"
          },
          "files": {
           "count": 1,
           "enabled": true,
           "entries": {
            "Anon3.jpg": {
             "access": {
              "hidden": false
             },
             "checksum": "md5:27d09e71282af9261a9307ee69e8f3ba",
             "ext": "jpg",
             "id": "bf09cc6c-2fe6-4516-a6ab-0a5030f069cd",
             "key": "Anon3.jpg",
             "metadata": {
              "height": 240,
              "width": 360
             },
             "mimetype": "image/jpeg",
             "size": 34260
            }
           },
           "order": [],
           "total_bytes": 34260
          },
          "id": "zv8fc-fa916",
          "is_draft": false,
          "is_published": true,
          "links": {
           "access": "https://inveniordm.web.cern.ch/api/records/zv8fc-fa916/access",
           "access_grants": "https://inveniordm.web.cern.ch/api/records/zv8fc-fa916/access/grants",
           "access_groups": "https://inveniordm.web.cern.ch/api/records/zv8fc-fa916/access/groups",
           "access_links": "https://inveniordm.web.cern.ch/api/records/zv8fc-fa916/access/links",
           "access_request": "https://inveniordm.web.cern.ch/api/records/zv8fc-fa916/access/request",
           "access_users": "https://inveniordm.web.cern.ch/api/records/zv8fc-fa916/access/users",
           "archive": "https://inveniordm.web.cern.ch/api/records/zv8fc-fa916/files-archive",
           "archive_media": "https://inveniordm.web.cern.ch/api/records/zv8fc-fa916/media-files-archive",
           "communities": "https://inveniordm.web.cern.ch/api/records/zv8fc-fa916/communities",
           "communities-suggestions": "https://inveniordm.web.cern.ch/api/records/zv8fc-fa916/communities-suggestions",
           "doi": "https://handle.stage.datacite.org/10.81088/zv8fc-fa916",
           "draft": "https://inveniordm.web.cern.ch/api/records/zv8fc-fa916/draft",
           "files": "https://inveniordm.web.cern.ch/api/records/zv8fc-fa916/files",
           "latest": "https://inveniordm.web.cern.ch/api/records/zv8fc-fa916/versions/latest",
           "latest_html": "https://inveniordm.web.cern.ch/records/zv8fc-fa916/latest",
           "media_files": "https://inveniordm.web.cern.ch/api/records/zv8fc-fa916/media-files",
           "parent": "https://inveniordm.web.cern.ch/api/records/39nxk-nz736",
           "parent_doi": "https://inveniordm.web.cern.ch/doi/10.81088/39nxk-nz736",
           "parent_html": "https://inveniordm.web.cern.ch/records/39nxk-nz736",
           "requests": "https://inveniordm.web.cern.ch/api/records/zv8fc-fa916/requests",
           "reserve_doi": "https://inveniordm.web.cern.ch/api/records/zv8fc-fa916/draft/pids/doi",
           "self": "https://inveniordm.web.cern.ch/api/records/zv8fc-fa916",
           "self_doi": "https://inveniordm.web.cern.ch/doi/10.81088/zv8fc-fa916",
           "self_html": "https://inveniordm.web.cern.ch/records/zv8fc-fa916",
           "self_iiif_manifest": "https://inveniordm.web.cern.ch/api/iiif/record:zv8fc-fa916/manifest",
           "self_iiif_sequence": "https://inveniordm.web.cern.ch/api/iiif/record:zv8fc-fa916/sequence/default",
           "versions": "https://inveniordm.web.cern.ch/api/records/zv8fc-fa916/versions"
          },
          "media_files": {
           "count": 0,
           "enabled": false,
           "entries": {},
           "order": [],
           "total_bytes": 0
          },
          "metadata": {
           "creators": [
            {
             "person_or_org": {
              "family_name": "degusto",
              "name": "degusto",
              "type": "personal"
             }
            }
           ],
           "publication_date": "2025-07-02",
           "publisher": "CERN",
           "resource_type": {
            "id": "video",
            "title": {
             "de": "Video",
             "en": "Video",
             "sv": "Video"
            }
           },
           "rights": [
            {
             "description": {
              "en": "The Creative Commons Attribution license allows re-distribution and re-use of a licensed work on the condition that the creator is appropriately credited."
             },
             "icon": "cc-by-icon",
             "id": "cc-by-4.0",
             "props": {
              "scheme": "spdx",
              "url": "https://creativecommons.org/licenses/by/4.0/"
             },
             "title": {
              "en": "Creative Commons Attribution 4.0 International"
             }
            }
           ],
           "title": "Vallum adipisci votum ascit voco tenax."
          },
          "parent": {
           "access": {
            "owned_by": {
             "user": "122"
            },
            "settings": {
             "accept_conditions_text": null,
             "allow_guest_requests": false,
             "allow_user_requests": false,
             "secret_link_expiration": 0
            }
           },
           "communities": {
            "default": "5eeee3e0-013b-4d32-99d2-811399835bff",
            "entries": [
             {
              "access": {
               "member_policy": "open",
               "members_visibility": "public",
               "record_policy": "open",
               "review_policy": "closed",
               "visibility": "public"
              },
              "children": {
               "allow": false
              },
              "created": "2025-07-02T10:27:03.247101+00:00",
              "deletion_status": {
               "is_deleted": false,
               "status": "P"
              },
              "id": "5eeee3e0-013b-4d32-99d2-811399835bff",
              "links": {},
              "metadata": {
               "title": "sodalitas"
              },
              "revision_id": 2,
              "slug": "dolor_456166",
              "updated": "2025-07-02T10:27:03.380594+00:00"
             }
            ],
            "ids": [
             "5eeee3e0-013b-4d32-99d2-811399835bff"
            ]
           },
           "id": "39nxk-nz736",
           "pids": {
            "doi": {
             "client": "datacite",
             "identifier": "10.81088/39nxk-nz736",
             "provider": "datacite"
            }
           }
          },
          "pids": {
           "doi": {
            "client": "datacite",
            "identifier": "10.81088/zv8fc-fa916",
            "provider": "datacite"
           },
           "oai": {
            "identifier": "oai:inveniordm.web.cern.ch:zv8fc-fa916",
            "provider": "oai"
           }
          },
          "revision_id": 4,
          "stats": {
           "all_versions": {
            "data_volume": 0,
            "downloads": 0,
            "unique_downloads": 0,
            "unique_views": 0,
            "views": 0
           },
           "this_version": {
            "data_volume": 0,
            "downloads": 0,
            "unique_downloads": 0,
            "unique_views": 0,
            "views": 0
           }
          },
          "status": "published",
          "updated": "2025-07-02T10:27:22.408488+00:00",
          "versions": {
           "index": 1,
           "is_latest": true
          }
         },
         {
          "access": {
           "embargo": {
            "active": false,
            "reason": null
           },
           "files": "public",
           "record": "public",
           "status": "open"
          },
          "created": "2025-07-02T10:25:51.281928+00:00",
          "custom_fields": {},
          "deletion_status": {
           "is_deleted": false,
           "status": "P"
          },
          "files": {
           "count": 1,
           "enabled": true,
           "entries": {
            "Anon7.jpg": {
             "access": {
              "hidden": false
             },
             "checksum": "md5:0e90e1b1d9afeef09e0bc4937f21e3f3",
             "ext": "jpg",
             "id": "7bddc862-485a-425e-b7d9-87ad5e17dac2",
             "key": "Anon7.jpg",
             "metadata": {
              "height": 240,
              "width": 361
             },
             "mimetype": "image/jpeg",
             "size": 22908
            }
           },
           "order": [],
           "total_bytes": 22908
          },
          "id": "0njjv-j0g80",
          "is_draft": false,
          "is_published": true,
          "links": {
           "access": "https://inveniordm.web.cern.ch/api/records/0njjv-j0g80/access",
           "access_grants": "https://inveniordm.web.cern.ch/api/records/0njjv-j0g80/access/grants",
           "access_groups": "https://inveniordm.web.cern.ch/api/records/0njjv-j0g80/access/groups",
           "access_links": "https://inveniordm.web.cern.ch/api/records/0njjv-j0g80/access/links",
           "access_request": "https://inveniordm.web.cern.ch/api/records/0njjv-j0g80/access/request",
           "access_users": "https://inveniordm.web.cern.ch/api/records/0njjv-j0g80/access/users",
           "archive": "https://inveniordm.web.cern.ch/api/records/0njjv-j0g80/files-archive",
           "archive_media": "https://inveniordm.web.cern.ch/api/records/0njjv-j0g80/media-files-archive",
           "communities": "https://inveniordm.web.cern.ch/api/records/0njjv-j0g80/communities",
           "communities-suggestions": "https://inveniordm.web.cern.ch/api/records/0njjv-j0g80/communities-suggestions",
           "doi": "https://handle.stage.datacite.org/10.81088/0njjv-j0g80",
           "draft": "https://inveniordm.web.cern.ch/api/records/0njjv-j0g80/draft",
           "files": "https://inveniordm.web.cern.ch/api/records/0njjv-j0g80/files",
           "latest": "https://inveniordm.web.cern.ch/api/records/0njjv-j0g80/versions/latest",
           "latest_html": "https://inveniordm.web.cern.ch/records/0njjv-j0g80/latest",
           "media_files": "https://inveniordm.web.cern.ch/api/records/0njjv-j0g80/media-files",
           "parent": "https://inveniordm.web.cern.ch/api/records/55yx1-zgm40",
           "parent_doi": "https://inveniordm.web.cern.ch/doi/10.81088/55yx1-zgm40",
           "parent_html": "https://inveniordm.web.cern.ch/records/55yx1-zgm40",
           "requests": "https://inveniordm.web.cern.ch/api/records/0njjv-j0g80/requests",
           "reserve_doi": "https://inveniordm.web.cern.ch/api/records/0njjv-j0g80/draft/pids/doi",
           "self": "https://inveniordm.web.cern.ch/api/records/0njjv-j0g80",
           "self_doi": "https://inveniordm.web.cern.ch/doi/10.81088/0njjv-j0g80",
           "self_html": "https://inveniordm.web.cern.ch/records/0njjv-j0g80",
           "self_iiif_manifest": "https://inveniordm.web.cern.ch/api/iiif/record:0njjv-j0g80/manifest",
           "self_iiif_sequence": "https://inveniordm.web.cern.ch/api/iiif/record:0njjv-j0g80/sequence/default",
           "versions": "https://inveniordm.web.cern.ch/api/records/0njjv-j0g80/versions"
          },
          "media_files": {
           "count": 0,
           "enabled": false,
           "entries": {},
           "order": [],
           "total_bytes": 0
          },
          "metadata": {
           "creators": [
            {
             "person_or_org": {
              "family_name": "cattus",
              "name": "cattus",
              "type": "personal"
             }
            }
           ],
           "publication_date": "2025-07-02",
           "publisher": "CERN",
           "resource_type": {
            "id": "event",
            "title": {
             "de": "Veranstaltung",
             "en": "Event",
             "sv": "Evenemang"
            }
           },
           "rights": [
            {
             "description": {
              "en": "The Creative Commons Attribution license allows re-distribution and re-use of a licensed work on the condition that the creator is appropriately credited."
             },
             "icon": "cc-by-icon",
             "id": "cc-by-4.0",
             "props": {
              "scheme": "spdx",
              "url": "https://creativecommons.org/licenses/by/4.0/"
             },
             "title": {
              "en": "Creative Commons Attribution 4.0 International"
             }
            }
           ],
           "title": "Compello complectus deprimo thesis demergo."
          },
          "parent": {
           "access": {
            "owned_by": {
             "user": "122"
            },
            "settings": {
             "accept_conditions_text": null,
             "allow_guest_requests": false,
             "allow_user_requests": false,
             "secret_link_expiration": 0
            }
           },
           "communities": {
            "default": "3b9003ed-b6ef-4ea0-8405-1bb51aa85be9",
            "entries": [
             {
              "access": {
               "member_policy": "open",
               "members_visibility": "public",
               "record_policy": "open",
               "review_policy": "closed",
               "visibility": "public"
              },
              "children": {
               "allow": false
              },
              "created": "2025-07-02T10:25:31.702709+00:00",
              "deletion_status": {
               "is_deleted": false,
               "status": "P"
              },
              "id": "3b9003ed-b6ef-4ea0-8405-1bb51aa85be9",
              "links": {},
              "metadata": {
               "title": "bardus"
              },
              "revision_id": 2,
              "slug": "cena_515559",
              "updated": "2025-07-02T10:25:31.886456+00:00"
             }
            ],
            "ids": [
             "3b9003ed-b6ef-4ea0-8405-1bb51aa85be9"
            ]
           },
           "id": "55yx1-zgm40",
           "pids": {
            "doi": {
             "client": "datacite",
             "identifier": "10.81088/55yx1-zgm40",
             "provider": "datacite"
            }
           }
          },
          "pids": {
           "doi": {
            "client": "datacite",
            "identifier": "10.81088/0njjv-j0g80",
            "provider": "datacite"
           },
           "oai": {
            "identifier": "oai:inveniordm.web.cern.ch:0njjv-j0g80",
            "provider": "oai"
           }
          },
          "revision_id": 4,
          "stats": {
           "all_versions": {
            "data_volume": 0,
            "downloads": 0,
            "unique_downloads": 0,
            "unique_views": 0,
            "views": 0
           },
           "this_version": {
            "data_volume": 0,
            "downloads": 0,
            "unique_downloads": 0,
            "unique_views": 0,
            "views": 0
           }
          },
          "status": "published",
          "updated": "2025-07-02T10:25:51.373061+00:00",
          "versions": {
           "index": 1,
           "is_latest": true
          }
         }
        ],
        "total": 2329
       },
       "links": {
        "next": "https://inveniordm.web.cern.ch/api/records?page=2&size=25&sort=newest",
        "self": "https://inveniordm.web.cern.ch/api/records?page=1&size=25&sort=newest"
       },
       "sortBy": "newest"
      },
      "text/plain": [
       "<IPython.core.display.JSON object>"
      ]
     },
     "execution_count": 4,
     "metadata": {
      "application/json": {
       "expanded": false,
       "root": "root"
      }
     },
     "output_type": "execute_result"
    }
   ],
   "source": [
    "# 2) GET – načtení seznamu záznamů\n",
    "import json\n",
    "from IPython.display import JSON\n",
    "resp = requests.get(API_BASE, headers=headers)\n",
    "print(\"GET /records →\", resp.status_code)\n",
    "JSON(resp.json())"
   ]
  },
  {
   "cell_type": "code",
   "execution_count": null,
   "id": "16fa601e-3e17-40c2-a15f-1d6eebce8520",
   "metadata": {
    "editable": true,
    "panel-layout": {
     "height": 0,
     "visible": true,
     "width": 100
    },
    "slideshow": {
     "slide_type": ""
    },
    "tags": []
   },
   "outputs": [],
   "source": [
    "# 3) POST – vytvoření nového záznamu\n",
    "new_record = {\n",
    "    \"metadata\": {\n",
    "        \"title\": \"Demo z Jupyteru\",\n",
    "        \"publication_date\": \"2025-07-10\",\n",
    "        \"creators\": [\n",
    "            {\n",
    "                \"person_or_org\": {\"type\": \"personal\", \"given_name\": \"Jana\", \"family_name\": \"Novák\"},\n",
    "                \"role\": {\"id\": \"other\"}\n",
    "            }\n",
    "        ],\n",
    "        \"resource_type\": {\"id\": \"dataset\"}\n",
    "    }\n",
    "}\n",
    "resp = requests.post(API_BASE, json=new_record, headers=headers)\n",
    "print(\"POST /records →\", resp.status_code)\n",
    "record_id = resp.json().get(\"id\")\n",
    "print(\"Vytvořen record ID:\", record_id)"
   ]
  },
  {
   "cell_type": "code",
   "execution_count": null,
   "id": "b080f4de-6059-4bf0-98fa-7feb24367a79",
   "metadata": {
    "panel-layout": {
     "height": 0,
     "visible": true,
     "width": 100
    }
   },
   "outputs": [],
   "source": [
    "# 4) PUT – aktualizace existujícího záznamu (např. přejmenování)\n",
    "update_data = {\n",
    "    \"metadata\": {\n",
    "        \"title\": \"Demo z Jupyteru – upravený název\"\n",
    "    }\n",
    "}\n",
    "url = f\"{API_BASE}/{record_id}/draft\"\n",
    "resp = requests.put(url, json=update_data, headers=headers)\n",
    "print(\"PUT /records/{id}/draft →\", resp.status_code)"
   ]
  },
  {
   "cell_type": "code",
   "execution_count": null,
   "id": "eea621ce-1391-4642-bd88-9a9be22ffd60",
   "metadata": {
    "panel-layout": {
     "height": 0,
     "visible": true,
     "width": 100
    }
   },
   "outputs": [],
   "source": [
    "# 5) DELETE – smazání záznamu\n",
    "url = f\"{API_BASE}/{record_id}\"\n",
    "resp = requests.delete(url, headers=headers)\n",
    "print(\"DELETE /records/{id} →\", resp.status_code)"
   ]
  }
 ],
 "metadata": {
  "kernelspec": {
   "display_name": "Python 3 (ipykernel)",
   "language": "python",
   "name": "python3"
  },
  "language_info": {
   "codemirror_mode": {
    "name": "ipython",
    "version": 3
   },
   "file_extension": ".py",
   "mimetype": "text/x-python",
   "name": "python",
   "nbconvert_exporter": "python",
   "pygments_lexer": "ipython3",
   "version": "3.10.12"
  },
  "panel-cell-order": [
   "63423309-9f9b-4769-9ef6-ac0783223f47",
   "e01575a0-6876-49da-9e57-535b0ad6aadb",
   "9709de59-bb7b-42fa-814c-f2bab5a0b71b",
   "2b4f2ca2-63af-48ac-8571-4a0b4a6b45e5",
   "22cad6b8-6be1-4b7c-b9e8-d34f2eecf06c",
   "16fa601e-3e17-40c2-a15f-1d6eebce8520",
   "b080f4de-6059-4bf0-98fa-7feb24367a79",
   "eea621ce-1391-4642-bd88-9a9be22ffd60"
  ]
 },
 "nbformat": 4,
 "nbformat_minor": 5
}
